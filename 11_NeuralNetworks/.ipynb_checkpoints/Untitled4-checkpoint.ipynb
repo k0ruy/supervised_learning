{
 "cells": [
  {
   "cell_type": "code",
   "execution_count": 1,
   "metadata": {
    "id": "N5XgAxru_UY2"
   },
   "outputs": [],
   "source": [
    "import numpy as np"
   ]
  },
  {
   "cell_type": "code",
   "execution_count": 2,
   "metadata": {
    "id": "bBNWgnR1_IKc"
   },
   "outputs": [],
   "source": [
    "def sigmoid(z):\n",
    "    \"\"\"The sigmoid function.\"\"\"\n",
    "    return 1.0/(1.0+np.exp(-z))"
   ]
  },
  {
   "cell_type": "code",
   "execution_count": 3,
   "metadata": {
    "id": "3BkOS2QQ_KPW"
   },
   "outputs": [],
   "source": [
    "def forward_pass(weights, input_values, bias_weight, bias):\n",
    "    input = np.dot(weights, input_values) + np.dot(bias_weight, bias)\n",
    "    output = sigmoid(input)\n",
    "    return (input, output)"
   ]
  },
  {
   "cell_type": "code",
   "execution_count": 4,
   "metadata": {
    "id": "0nk83RpY_wxv"
   },
   "outputs": [],
   "source": [
    "def calculate_new_layer(weights, input_values, bias_weight, bias):\n",
    "    fp = forward_pass(weights, input_values, bias_weight, bias)\n",
    "    neurons = []\n",
    "    for i in range(len(fp)):\n",
    "        neuron = (fp[0][i], fp[1][i])\n",
    "        neurons.append(neuron)\n",
    "    return neurons"
   ]
  },
  {
   "cell_type": "code",
   "execution_count": 5,
   "metadata": {
    "id": "Jo3_E6rgFL0a"
   },
   "outputs": [],
   "source": [
    "def get_output_as_list(neurons):\n",
    "    outputs = []\n",
    "    for i in range(len(neurons)):\n",
    "        outputs.append(neurons[i][1])\n",
    "    return np.array(outputs)"
   ]
  },
  {
   "cell_type": "code",
   "execution_count": 6,
   "metadata": {
    "id": "C8PbGugvN9Fk"
   },
   "outputs": [],
   "source": [
    "def calculate_error(target, inputs):\n",
    "    return ((target-inputs)**2)/2\n"
   ]
  },
  {
   "cell_type": "code",
   "execution_count": 7,
   "metadata": {
    "id": "qD_oxnt0Qhcn"
   },
   "outputs": [],
   "source": [
    "def delta(targets, o_out, o_hidden):\n",
    "    return -(targets - o_out)*o_out*(1-o_out)*o_hidden"
   ]
  },
  {
   "cell_type": "code",
   "execution_count": 8,
   "metadata": {
    "colab": {
     "base_uri": "https://localhost:8080/"
    },
    "id": "QDNYw2LF_L_X",
    "outputId": "24f3884e-a18f-4069-c171-d4cce3ed9841"
   },
   "outputs": [
    {
     "name": "stdout",
     "output_type": "stream",
     "text": [
      "[(0.3775, 0.5932699921071872), (0.39249999999999996, 0.596884378259767)]\n",
      "[(1.10590596705977, 0.7513650695523157), (1.2249214040964653, 0.7729284653214625)]\n"
     ]
    }
   ],
   "source": [
    "weights = [[.15, .20], [.25, .30]]\n",
    "input_layer = [0.05, .10]\n",
    "\n",
    "second_layer = calculate_new_layer(weights, input_layer, .35, 1)\n",
    "print(second_layer)\n",
    "\n",
    "new_weights = [[.40, .45], [.5, .55]]\n",
    "second_layer_out = get_output_as_list(second_layer)\n",
    "\n",
    "o_layer = calculate_new_layer(new_weights, second_layer_out, .60, 1)\n",
    "print(o_layer)\n",
    "\n",
    "o_layer_out = get_output_as_list(o_layer)\n"
   ]
  },
  {
   "cell_type": "code",
   "execution_count": 9,
   "metadata": {
    "colab": {
     "base_uri": "https://localhost:8080/"
    },
    "id": "prM2K_T-N36g",
    "outputId": "98bc9372-e5b7-4a79-9f86-923714a8c2b8"
   },
   "outputs": [
    {
     "name": "stdout",
     "output_type": "stream",
     "text": [
      "[ 0.08216704 -0.02274024]\n"
     ]
    }
   ],
   "source": [
    "target = [.01, .99]\n",
    "error = calculate_error(target, o_layer_out)\n",
    "\n",
    "#print(sum(error))\n",
    "\n",
    "print(delta(target, o_layer_out, second_layer_out))"
   ]
  }
 ],
 "metadata": {
  "colab": {
   "collapsed_sections": [],
   "name": "Untitled4.ipynb",
   "provenance": []
  },
  "kernelspec": {
   "display_name": "Python 3 (ipykernel)",
   "language": "python",
   "name": "python3"
  },
  "language_info": {
   "codemirror_mode": {
    "name": "ipython",
    "version": 3
   },
   "file_extension": ".py",
   "mimetype": "text/x-python",
   "name": "python",
   "nbconvert_exporter": "python",
   "pygments_lexer": "ipython3",
   "version": "3.9.7"
  }
 },
 "nbformat": 4,
 "nbformat_minor": 1
}
