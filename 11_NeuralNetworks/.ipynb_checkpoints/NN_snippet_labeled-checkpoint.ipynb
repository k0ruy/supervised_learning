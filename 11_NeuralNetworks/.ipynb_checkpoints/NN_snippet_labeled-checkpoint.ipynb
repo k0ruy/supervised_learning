{
 "cells": [
  {
   "cell_type": "code",
   "execution_count": 1,
   "metadata": {
    "id": "N5XgAxru_UY2"
   },
   "outputs": [],
   "source": [
    "import numpy as np"
   ]
  },
  {
   "cell_type": "code",
   "execution_count": 2,
   "metadata": {
    "id": "bBNWgnR1_IKc"
   },
   "outputs": [],
   "source": [
    "def sigmoid(z):\n",
    "    \"\"\"The sigmoid function.\"\"\"\n",
    "    return 1.0/(1.0+np.exp(-z))"
   ]
  },
  {
   "cell_type": "code",
   "execution_count": 3,
   "metadata": {
    "id": "3BkOS2QQ_KPW"
   },
   "outputs": [],
   "source": [
    "def forward_pass(weights, input_values, bias_weight, bias):\n",
    "    input = np.dot(weights, input_values) + np.dot(bias_weight, bias)\n",
    "    output = sigmoid(input)\n",
    "    return (input, output)"
   ]
  },
  {
   "cell_type": "code",
   "execution_count": 4,
   "metadata": {
    "id": "0nk83RpY_wxv"
   },
   "outputs": [],
   "source": [
    "def calculate_new_layer(weights, input_values, bias_weight, bias):\n",
    "    fp = forward_pass(weights, input_values, bias_weight, bias)\n",
    "    neurons = []\n",
    "    for i in range(len(fp)):\n",
    "        neuron = (fp[0][i], fp[1][i])\n",
    "        neurons.append(neuron)\n",
    "    return neurons"
   ]
  },
  {
   "cell_type": "code",
   "execution_count": 5,
   "metadata": {
    "id": "Jo3_E6rgFL0a"
   },
   "outputs": [],
   "source": [
    "def get_output_as_list(neurons):\n",
    "    outputs = []\n",
    "    for i in range(len(neurons)):\n",
    "        outputs.append(neurons[i][1])\n",
    "    return np.array(outputs)"
   ]
  },
  {
   "cell_type": "code",
   "execution_count": 6,
   "metadata": {
    "id": "C8PbGugvN9Fk"
   },
   "outputs": [],
   "source": [
    "def calculate_error(target, inputs):\n",
    "    return ((target-inputs)**2)/2\n"
   ]
  },
  {
   "cell_type": "code",
   "execution_count": 7,
   "metadata": {
    "id": "qD_oxnt0Qhcn"
   },
   "outputs": [],
   "source": [
    "def delta(targets, o_out, o_hidden):\n",
    "    return -(targets - o_out)*o_out*(1-o_out)*o_hidden"
   ]
  },
  {
   "cell_type": "code",
   "execution_count": 8,
   "metadata": {
    "id": "92TvM3UWXWeT"
   },
   "outputs": [],
   "source": [
    "def back_propagation(targets, out_neurons, out_hidden, old_weights, learning_rate):\n",
    "    deltas = []\n",
    "    old_weights = [item for sublist in old_weights for item in sublist]\n",
    "    for i in range(len(out_neurons)):\n",
    "        for h in range(len(out_hidden)):\n",
    "            deltas.append(delta(targets[i], out_neurons[i], out_hidden[h]))\n",
    "    new_weights = old_weights - 0.5 * np.array(deltas)\n",
    "    return new_weights\n"
   ]
  },
  {
   "cell_type": "code",
   "execution_count": 9,
   "metadata": {
    "id": "_TpW07-Vo3Gz"
   },
   "outputs": [],
   "source": [
    "def back_propagation_hidden(targets, out_neurons, out_hidden, first_weights, old_weights, learning_rate, i_layer):\n",
    "    deltas = []\n",
    "    deltas = delta_hidden(targets, out_neurons, out_hidden, old_weights, i_layer)\n",
    "    new_weights = first_weights - learning_rate * np.array(deltas)\n",
    "    return new_weights\n"
   ]
  },
  {
   "cell_type": "code",
   "execution_count": 10,
   "metadata": {
    "id": "l0ops4a-o9yp"
   },
   "outputs": [],
   "source": [
    "def delta_hidden(targets, o_out, o_hidden, weights, i_layer):\n",
    "    e_total = []\n",
    "    for i in range(len(o_out)):\n",
    "        e = ((-(targets[i] - o_out[i])*o_out[i]*(1-o_out[i]))*weights[i])\n",
    "        e_total.append(e)\n",
    "  \n",
    "    sum = []\n",
    "    for i in range(len(e_total)):\n",
    "        sum.append(e_total[0][i] + e_total[1][i])\n",
    "\n",
    "    e_total_on_weight = sum*o_hidden*(1-o_hidden) * i_layer\n",
    "    return e_total_on_weight\n"
   ]
  },
  {
   "cell_type": "markdown",
   "metadata": {
    "id": "MyoELETVbHwa"
   },
   "source": [
    "Define the weights and the input layer like in the following example:\n",
    "\n",
    "\n",
    "*   The weights should be defined as a list of lists. Each sublist refers to the weights applied to a single neuron\n",
    "*   Each input neuron is simply defined as a single value in the list \"input_layer\"\n",
    "\n"
   ]
  },
  {
   "cell_type": "code",
   "execution_count": 11,
   "metadata": {
    "id": "QC8Q-BfIbPNN"
   },
   "outputs": [],
   "source": [
    "weights = [[1, 1], [1, 1]]\n",
    "input_layer = [0.9, .3]"
   ]
  },
  {
   "cell_type": "markdown",
   "metadata": {
    "id": "-fm1KR5Fb268"
   },
   "source": [
    "In order to calculate the values of the next layer, we call the function \"calculate_new_layer\" using as parameters the previously defined weights and input layer. We also add a weight for the bias and the value of the bias.\n",
    "\n",
    "The layer is returned as a list of tuples, each tuple representing a neuron. Each tuple contains the input and the output of the neuron in the following format (input_value, output_value)"
   ]
  },
  {
   "cell_type": "code",
   "execution_count": 12,
   "metadata": {
    "colab": {
     "base_uri": "https://localhost:8080/"
    },
    "id": "KoWJW23JcHIl",
    "outputId": "3ab6e9c5-adc7-4844-8f33-9820272b350d"
   },
   "outputs": [
    {
     "name": "stdout",
     "output_type": "stream",
     "text": [
      "Hidden layer:\n",
      "net_h1: -0.30000000000000004, out_h1: 0.425557483188341\n",
      "net_h2: 0.7, out_h2: 0.6681877721681662\n"
     ]
    }
   ],
   "source": [
    "second_layer = calculate_new_layer(weights, input_layer, [-1.5, -.5], 1)\n",
    "print(\"Hidden layer:\\nnet_h1: {0}, out_h1: {1}\\nnet_h2: {2}, out_h2: {3}\".format(second_layer[0][0],second_layer[0][1],second_layer[1][0],second_layer[1][1]))"
   ]
  },
  {
   "cell_type": "markdown",
   "metadata": {
    "id": "dRizok3zcLVq"
   },
   "source": [
    "We repeat the process to calculate the last layer, aka the \"output\" layer\n",
    "In order to just get the output values of the previously obtained list of neurons, we use the function \"get_output_as_list\""
   ]
  },
  {
   "cell_type": "code",
   "execution_count": 13,
   "metadata": {
    "colab": {
     "base_uri": "https://localhost:8080/"
    },
    "id": "QDNYw2LF_L_X",
    "outputId": "81d70552-7151-43d6-ac56-a9aea6466de2"
   },
   "outputs": [
    {
     "name": "stdout",
     "output_type": "stream",
     "text": [
      "(array([0.25736971]), array([0.5639896]))\n"
     ]
    }
   ],
   "source": [
    "second_weights = [[1,-1]]\n",
    "second_layer_out = get_output_as_list(second_layer)\n",
    "\n",
    "print(forward_pass(second_weights, second_layer_out, 0.5, 1))\n",
    "# o_layer = calculate_new_layer(second_weights, second_layer_out, .5, 1)\n",
    "# print(\"Output layer:\\nnet_o1: {0}, out_o1: {1}\\nnet_o2: {2}, out_o2: {3}\".format(o_layer[0][0],o_layer[0][1],o_layer[1][0],o_layer[1][1]))"
   ]
  },
  {
   "cell_type": "code",
   "execution_count": 14,
   "metadata": {
    "colab": {
     "base_uri": "https://localhost:8080/"
    },
    "id": "prM2K_T-N36g",
    "outputId": "b4669b12-0921-48bb-cd3e-6bb47e8e1ef5",
    "scrolled": true
   },
   "outputs": [
    {
     "ename": "NameError",
     "evalue": "name 'o_layer' is not defined",
     "output_type": "error",
     "traceback": [
      "\u001b[1;31m---------------------------------------------------------------------------\u001b[0m",
      "\u001b[1;31mNameError\u001b[0m                                 Traceback (most recent call last)",
      "\u001b[1;32m~\\AppData\\Local\\Temp/ipykernel_15408/1706972516.py\u001b[0m in \u001b[0;36m<module>\u001b[1;34m\u001b[0m\n\u001b[0;32m      1\u001b[0m \u001b[0mtarget\u001b[0m \u001b[1;33m=\u001b[0m \u001b[1;33m[\u001b[0m\u001b[1;36m0.01\u001b[0m\u001b[1;33m,\u001b[0m \u001b[1;36m0.99\u001b[0m\u001b[1;33m]\u001b[0m\u001b[1;33m\u001b[0m\u001b[1;33m\u001b[0m\u001b[0m\n\u001b[1;32m----> 2\u001b[1;33m \u001b[0mo_layer_out\u001b[0m \u001b[1;33m=\u001b[0m \u001b[0mget_output_as_list\u001b[0m\u001b[1;33m(\u001b[0m\u001b[0mo_layer\u001b[0m\u001b[1;33m)\u001b[0m\u001b[1;33m\u001b[0m\u001b[1;33m\u001b[0m\u001b[0m\n\u001b[0m\u001b[0;32m      3\u001b[0m \u001b[1;33m\u001b[0m\u001b[0m\n\u001b[0;32m      4\u001b[0m \u001b[0merror\u001b[0m \u001b[1;33m=\u001b[0m \u001b[0mcalculate_error\u001b[0m\u001b[1;33m(\u001b[0m\u001b[0mtarget\u001b[0m\u001b[1;33m,\u001b[0m \u001b[0mo_layer_out\u001b[0m\u001b[1;33m)\u001b[0m\u001b[1;33m\u001b[0m\u001b[1;33m\u001b[0m\u001b[0m\n\u001b[0;32m      5\u001b[0m \u001b[1;33m\u001b[0m\u001b[0m\n",
      "\u001b[1;31mNameError\u001b[0m: name 'o_layer' is not defined"
     ]
    }
   ],
   "source": [
    "target = [0.01, 0.99]\n",
    "o_layer_out = get_output_as_list(o_layer)\n",
    "\n",
    "error = calculate_error(target, o_layer_out)\n",
    "\n",
    "print(\"Error for each output neuron:\\nE_o1: {0}\\nE_o2: {1}\".format(error[0], error[1]))\n",
    "print(\"Total error:\", sum(error))"
   ]
  },
  {
   "cell_type": "code",
   "execution_count": null,
   "metadata": {
    "colab": {
     "base_uri": "https://localhost:8080/"
    },
    "id": "HPPPRbz_ekCx",
    "outputId": "8a6001d4-bfef-42ac-8574-2c0b3d32246a"
   },
   "outputs": [],
   "source": [
    "learning_rate = 0.5\n",
    "deltas = back_propagation(target, o_layer_out, second_layer_out, second_weights, learning_rate)\n",
    "print('w5+: {0}\\nw6+: {1}\\nw7+: {2}\\nw8+: {3}'.format(deltas[0],deltas[1],deltas[2],deltas[3]))"
   ]
  },
  {
   "cell_type": "markdown",
   "metadata": {
    "id": "Rx0vWHmd7IF2"
   },
   "source": [
    "Just make sure the weights are np arrays"
   ]
  },
  {
   "cell_type": "code",
   "execution_count": null,
   "metadata": {
    "colab": {
     "base_uri": "https://localhost:8080/"
    },
    "id": "vmcxU2ZugjYo",
    "outputId": "5e8442cd-1c64-4d48-c067-1f2883a5d0de"
   },
   "outputs": [],
   "source": [
    "learning_rate = 0.5\n",
    "deltas = back_propagation_hidden(target, o_layer_out, second_layer_out, np.array(weights), np.array(second_weights), learning_rate, input_layer)\n",
    "print('w1+: {0}\\nw2+: {1}\\nw3+: {2}\\nw4+: {3}'.format(deltas[0][0],deltas[0][1],deltas[1][0],deltas[1][1]))"
   ]
  }
 ],
 "metadata": {
  "colab": {
   "collapsed_sections": [],
   "name": "NN_snippet.ipynb",
   "provenance": []
  },
  "kernelspec": {
   "display_name": "Python 3 (ipykernel)",
   "language": "python",
   "name": "python3"
  },
  "language_info": {
   "codemirror_mode": {
    "name": "ipython",
    "version": 3
   },
   "file_extension": ".py",
   "mimetype": "text/x-python",
   "name": "python",
   "nbconvert_exporter": "python",
   "pygments_lexer": "ipython3",
   "version": "3.9.7"
  }
 },
 "nbformat": 4,
 "nbformat_minor": 1
}
