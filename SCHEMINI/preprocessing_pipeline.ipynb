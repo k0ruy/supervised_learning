{
 "cells": [
  {
   "cell_type": "markdown",
   "metadata": {
    "collapsed": true,
    "pycharm": {
     "name": "#%% md\n"
    }
   },
   "source": [
    "# Standard libraries"
   ]
  },
  {
   "cell_type": "code",
   "execution_count": null,
   "outputs": [],
   "source": [
    "import pandas as pd\n",
    "import numpy as np\n",
    "import matplotlib.pyplot as plt\n",
    "plt.style.use('dark_background')\n",
    "import seaborn as sns"
   ],
   "metadata": {
    "collapsed": false,
    "pycharm": {
     "name": "#%%\n"
    }
   }
  },
  {
   "cell_type": "code",
   "execution_count": null,
   "outputs": [],
   "source": [
    "## dataset exploration\n",
    "df = pd.read_csv('carseats.csv')"
   ],
   "metadata": {
    "collapsed": false,
    "pycharm": {
     "name": "#%%\n"
    }
   }
  },
  {
   "cell_type": "code",
   "execution_count": null,
   "outputs": [],
   "source": [],
   "metadata": {
    "collapsed": false,
    "pycharm": {
     "name": "#%%\n"
    }
   }
  },
  {
   "cell_type": "code",
   "execution_count": null,
   "outputs": [],
   "source": [
    "df.head( )"
   ],
   "metadata": {
    "collapsed": false,
    "pycharm": {
     "name": "#%%\n"
    }
   }
  },
  {
   "cell_type": "code",
   "execution_count": null,
   "outputs": [],
   "source": [
    "df.shape"
   ],
   "metadata": {
    "collapsed": false,
    "pycharm": {
     "name": "#%%\n"
    }
   }
  },
  {
   "cell_type": "code",
   "execution_count": null,
   "outputs": [],
   "source": [
    "df.describe()"
   ],
   "metadata": {
    "collapsed": false,
    "pycharm": {
     "name": "#%%\n"
    }
   }
  },
  {
   "cell_type": "code",
   "execution_count": null,
   "outputs": [],
   "source": [
    "df.info()"
   ],
   "metadata": {
    "collapsed": false,
    "pycharm": {
     "name": "#%%\n"
    }
   }
  },
  {
   "cell_type": "code",
   "execution_count": null,
   "outputs": [],
   "source": [
    "df_numerical = df.select_dtypes(exclude=[\"object\"])\n",
    "df_categorical = df.select_dtypes(include=[\"object\"])\n",
    "print(df_categorical.head())\n",
    "\n",
    "for i, col in enumerate(list(df_numerical.columns)):\n",
    "    sns.displot(df[col], color = 'b', kde= True, label = df[col].name)\n",
    "    plt.grid()\n",
    "    plt.legend(loc=\"upper right\")\n",
    "    plt.tight_layout()"
   ],
   "metadata": {
    "collapsed": false,
    "pycharm": {
     "name": "#%%\n"
    }
   }
  },
  {
   "cell_type": "code",
   "execution_count": null,
   "outputs": [],
   "source": [
    "from sklearn.pipeline import Pipeline\n",
    "from sklearn.impute import SimpleImputer\n",
    "from sklearn.preprocessing import OneHotEncoder, RobustScaler\n",
    "from sklearn.compose import ColumnTransformer\n",
    "\n",
    "print(df.isnull().sum())\n",
    "\n",
    "df.drop_duplicates(inplace = True)\n",
    "df.dropna(inplace = True)\n",
    "\n",
    "outliers_array = []\n",
    "for name in df_numerical.columns.to_list():\n",
    "    Q1 = df[name].quantile(0.05)\n",
    "    Q3 = df[name].quantile(0.95)\n",
    "    IQR = Q3 - Q1\n",
    "    print(f'{name} IQR = {IQR}')\n",
    "    logical_index_outliers = (df[name] < (Q1 - 1.5 * IQR)) |(df[name] > (Q3 + 1.5 * IQR))\n",
    "    positives = np.where(logical_index_outliers == True)[0]\n",
    "    print(f'{name} Outlier indexes: {positives}')\n",
    "\n",
    "to_be_removed = ['Sales']\n",
    "\n",
    "# log transform:\n",
    "df['Advertising'] = np.log(df['Advertising'] + 1)\n",
    "\n",
    "# ordinal encoding:\n",
    "dictionary={\"ShelveLoc\": {\"Bad\":0, \"Medium\":1, \"Good\":2}}\n",
    "df.replace(dictionary, inplace=True)\n",
    "\n",
    "df['ShelveLoc'].isnull().sum()"
   ],
   "metadata": {
    "collapsed": false,
    "pycharm": {
     "name": "#%%\n"
    }
   }
  },
  {
   "cell_type": "code",
   "execution_count": null,
   "outputs": [],
   "source": [
    "numeric_features = ['CompPrice', 'Income', 'Advertising',\n",
    "                    'Population','Price','Age','Education']\n",
    "numeric_transformer = Pipeline(steps=[\n",
    "    ('imputer', SimpleImputer(strategy='median')),\n",
    "    ('scaler', RobustScaler())])\n",
    "\n",
    "categorical_features = ['Urban', 'US']\n",
    "categorical_transformer = Pipeline(steps=[\n",
    "    ('imputer', SimpleImputer(strategy='most_frequent')),\n",
    "    ('categorical', OneHotEncoder())])\n",
    "\n",
    "preprocessor = ColumnTransformer(\n",
    "    remainder = 'passthrough',\n",
    "    transformers=[\n",
    "        ('numeric', numeric_transformer, numeric_features),\n",
    "        ('categorical', categorical_transformer, categorical_features),\n",
    "        ('remove', 'drop', to_be_removed)\n",
    "])\n",
    "X = preprocessor.fit_transform(df)\n",
    "y = df['Sales']\n",
    "# start training models.\n",
    "\n",
    "\n"
   ],
   "metadata": {
    "collapsed": false,
    "pycharm": {
     "name": "#%%%\n"
    }
   }
  }
 ],
 "metadata": {
  "kernelspec": {
   "display_name": "Python 3",
   "language": "python",
   "name": "python3"
  },
  "language_info": {
   "codemirror_mode": {
    "name": "ipython",
    "version": 2
   },
   "file_extension": ".py",
   "mimetype": "text/x-python",
   "name": "python",
   "nbconvert_exporter": "python",
   "pygments_lexer": "ipython2",
   "version": "2.7.6"
  }
 },
 "nbformat": 4,
 "nbformat_minor": 0
}