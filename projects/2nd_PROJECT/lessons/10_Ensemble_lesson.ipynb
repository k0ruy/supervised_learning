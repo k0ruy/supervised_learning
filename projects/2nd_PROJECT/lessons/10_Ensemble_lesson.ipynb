{
  "nbformat": 4,
  "nbformat_minor": 0,
  "metadata": {
    "colab": {
      "name": "10_Ensemble_lesson.ipynb",
      "provenance": [],
      "toc_visible": true,
      "collapsed_sections": []
    },
    "kernelspec": {
      "name": "python3",
      "display_name": "Python 3"
    },
    "language_info": {
      "name": "python"
    }
  },
  "cells": [
    {
      "cell_type": "markdown",
      "source": [
        "# Voting Classifiers\n",
        "In the following we create and train a voting classifier in Scikit-Learn, composed of three diverse classifiers (the training set is the moons dataset: this is a toy dataset for binary classification in which the data points are shaped as two interleaving half circles)"
      ],
      "metadata": {
        "id": "Wg5-CCy_g-3e"
      }
    },
    {
      "cell_type": "code",
      "source": [
        "from sklearn.datasets import make_moons\n",
        "from sklearn.model_selection import train_test_split\n",
        "\n",
        "data=make_moons(n_samples=1000)\n",
        "X=data[0]\n",
        "y=data[1]\n",
        "X_train, X_test, y_train, y_test = train_test_split(X, y) "
      ],
      "metadata": {
        "id": "HTEnCK1jiUA0"
      },
      "execution_count": null,
      "outputs": []
    },
    {
      "cell_type": "markdown",
      "source": [
        "## Hard Voting"
      ],
      "metadata": {
        "id": "_l5p3VW1m_5Z"
      }
    },
    {
      "cell_type": "code",
      "execution_count": null,
      "metadata": {
        "id": "XSj5MB29g51U",
        "colab": {
          "base_uri": "https://localhost:8080/"
        },
        "outputId": "06016e2d-f229-4779-b5ef-0ef5b23f1294"
      },
      "outputs": [
        {
          "output_type": "stream",
          "name": "stdout",
          "text": [
            "LogisticRegression 0.896\n",
            "RandomForestClassifier 0.992\n",
            "SVC 1.0\n",
            "VotingClassifier 0.992\n"
          ]
        }
      ],
      "source": [
        "from sklearn.linear_model import LogisticRegression \n",
        "from sklearn.ensemble import RandomForestClassifier \n",
        "from sklearn.svm import SVC\n",
        "from sklearn.ensemble import VotingClassifier\n",
        "from sklearn.metrics import accuracy_score\n",
        "\n",
        "# instantiate classifiers\n",
        "log_clf = LogisticRegression()\n",
        "rnd_clf = RandomForestClassifier()\n",
        "svm_clf = SVC()\n",
        "#ensemble hard voting\n",
        "voting_clf = VotingClassifier(estimators=[('lr', log_clf), ('rf', rnd_clf), ('svc', svm_clf)], voting='hard')\n",
        "\n",
        "#evaluate on the test set\n",
        "for clf in (log_clf, rnd_clf, svm_clf, voting_clf):\n",
        "  clf.fit(X_train, y_train)\n",
        "  y_pred = clf.predict(X_test)\n",
        "  print(clf.__class__.__name__, accuracy_score(y_test, y_pred))"
      ]
    },
    {
      "cell_type": "markdown",
      "source": [
        "The voting classifier might slightly outperforms all the individual classifiers."
      ],
      "metadata": {
        "id": "sPeESsEUj_7H"
      }
    },
    {
      "cell_type": "markdown",
      "source": [
        "## Soft voting"
      ],
      "metadata": {
        "id": "HCI9pTFXnCio"
      }
    },
    {
      "cell_type": "code",
      "source": [
        "log_clf = LogisticRegression()\n",
        "rnd_clf = RandomForestClassifier()\n",
        "svm_clf = SVC(probability=True) ## by nature does not provide probabilities\n",
        "\n",
        "voting_clf = VotingClassifier(estimators=[('lr', log_clf), ('rf', rnd_clf), ('svc', svm_clf)], voting='soft') ## we specify SOFT voting\n",
        "\n",
        "for clf in (log_clf, rnd_clf, svm_clf, voting_clf):\n",
        "  clf.fit(X_train, y_train)\n",
        "  y_pred = clf.predict(X_test)\n",
        "  print(clf.__class__.__name__, accuracy_score(y_test, y_pred))"
      ],
      "metadata": {
        "id": "bM9Imxl5kDKF",
        "colab": {
          "base_uri": "https://localhost:8080/"
        },
        "outputId": "b22979d8-b957-46b1-ebf8-994df1b4c601"
      },
      "execution_count": null,
      "outputs": [
        {
          "output_type": "stream",
          "name": "stdout",
          "text": [
            "LogisticRegression 0.896\n",
            "RandomForestClassifier 0.992\n",
            "SVC 1.0\n",
            "VotingClassifier 1.0\n"
          ]
        }
      ]
    },
    {
      "cell_type": "markdown",
      "source": [
        "#Bagging and Pasting\n",
        "The following code trains an ensemble of 500 Decision Tree classifiers, each trained on 100 training instances randomly sampled from the training set with replacement (this is an example of **bagging**, but if you want to use **pasting** instead, just set `bootstrap=False`). The `n_jobs` parameter tells Scikit-Learn the number of CPU cores to use for training and predictions (–1 tells Scikit-Learn to use all available cores)."
      ],
      "metadata": {
        "id": "2ar74FUSxbvI"
      }
    },
    {
      "cell_type": "code",
      "source": [
        "from sklearn.ensemble import BaggingClassifier \n",
        "from sklearn.tree import DecisionTreeClassifier\n",
        "\n",
        "bag_clf = BaggingClassifier(DecisionTreeClassifier(), n_estimators=500, max_samples=100, bootstrap=True, n_jobs=-1)\n",
        "\n",
        "bag_clf.fit(X_train, y_train)\n",
        "\n",
        "y_pred = bag_clf.predict(X_test)"
      ],
      "metadata": {
        "id": "tGQIUEvInHF6"
      },
      "execution_count": null,
      "outputs": []
    },
    {
      "cell_type": "markdown",
      "source": [
        "The `BaggingClassifier` automatically performs **soft voting** instead of hard voting if the base classifier can estimate class probabilities (i.e., if it has a predict_proba() method), which is the case with Decision Trees classifiers."
      ],
      "metadata": {
        "id": "TVro_U6VyqIM"
      }
    },
    {
      "cell_type": "markdown",
      "source": [
        "## Out-of-bag Evaluation\n",
        "In Scikit-Learn, you can set `oob_score=True` when creating a BaggingClassifier to request an automatic oob evaluation after training."
      ],
      "metadata": {
        "id": "oPfhEQny1vfZ"
      }
    },
    {
      "cell_type": "code",
      "source": [
        "bag_clf = BaggingClassifier(DecisionTreeClassifier(), n_estimators=500, bootstrap=True, n_jobs=-1, oob_score=True)\n",
        "bag_clf.fit(X_train, y_train)\n",
        "bag_clf.oob_score_"
      ],
      "metadata": {
        "id": "Ln8vxiwu1uh3",
        "colab": {
          "base_uri": "https://localhost:8080/"
        },
        "outputId": "e39da32b-4ad5-4b86-e178-b1fad14a6db5"
      },
      "execution_count": null,
      "outputs": [
        {
          "output_type": "execute_result",
          "data": {
            "text/plain": [
              "0.9973333333333333"
            ]
          },
          "metadata": {},
          "execution_count": 5
        }
      ]
    },
    {
      "cell_type": "markdown",
      "source": [
        "According to this oob evaluation, this `BaggingClassifier` is likely to achieve about 99.7% accuracy on the test set."
      ],
      "metadata": {
        "id": "RRkGPpDd2Y0G"
      }
    },
    {
      "cell_type": "code",
      "source": [
        "from sklearn.metrics import accuracy_score\n",
        "y_pred = bag_clf.predict(X_test)\n",
        "accuracy_score(y_test, y_pred)"
      ],
      "metadata": {
        "id": "tRITrxfhyE3T",
        "colab": {
          "base_uri": "https://localhost:8080/"
        },
        "outputId": "ad255dac-28af-4433-8a8f-55325291bc5f"
      },
      "execution_count": null,
      "outputs": [
        {
          "output_type": "execute_result",
          "data": {
            "text/plain": [
              "0.988"
            ]
          },
          "metadata": {},
          "execution_count": 6
        }
      ]
    },
    {
      "cell_type": "markdown",
      "source": [
        "Calculating the accuracy directly on the test set, the score is quite close 98%"
      ],
      "metadata": {
        "id": "vEcXXW402jis"
      }
    },
    {
      "cell_type": "code",
      "source": [
        "bag_clf.oob_decision_function_"
      ],
      "metadata": {
        "id": "hZvF2nRg2UNh",
        "colab": {
          "base_uri": "https://localhost:8080/"
        },
        "outputId": "a6503d9d-f65a-4651-bdf4-d5a17ab8e534"
      },
      "execution_count": null,
      "outputs": [
        {
          "output_type": "execute_result",
          "data": {
            "text/plain": [
              "array([[0.        , 1.        ],\n",
              "       [1.        , 0.        ],\n",
              "       [0.06122449, 0.93877551],\n",
              "       ...,\n",
              "       [0.        , 1.        ],\n",
              "       [0.01156069, 0.98843931],\n",
              "       [0.        , 1.        ]])"
            ]
          },
          "metadata": {},
          "execution_count": 7
        }
      ]
    },
    {
      "cell_type": "markdown",
      "source": [
        "The oob decision function for each training instance is also available through the `oob_decision_function_` variable. In this case (since the base estimator has a `predict_proba()` method) the decision function returns the class probabilities for each training instance. For example, the oob evaluation estimates that the second training instance has a 83.88% probability of belonging to the positive class (and 16.11% of belonging to the negative class)."
      ],
      "metadata": {
        "id": "_VqDqDAW27Qi"
      }
    },
    {
      "cell_type": "markdown",
      "source": [
        "# Random Forest\n",
        "Instead of building a `BaggingClassifier` and passing it a `DecisionTreeClassifier`, we can instead use the `RandomForestClassifier` class, which is more convenient and optimized for Decision Trees (similarly, there is a `RandomForestRegressor` class for regression tasks)."
      ],
      "metadata": {
        "id": "7iXoc02p8MMW"
      }
    },
    {
      "cell_type": "markdown",
      "source": [
        "The following code trains a Random Forest classifier with 500 trees (each limited to maximum 16 nodes), using all available CPU cores"
      ],
      "metadata": {
        "id": "3D2mPm9t8YAh"
      }
    },
    {
      "cell_type": "code",
      "source": [
        "from sklearn.ensemble import RandomForestClassifier\n",
        "\n",
        "rnd_clf = RandomForestClassifier(n_estimators=500, max_leaf_nodes=16, n_jobs=-1)\n",
        "\n",
        "rnd_clf.fit(X_train, y_train)\n",
        "\n",
        "y_pred_rf = rnd_clf.predict(X_test)"
      ],
      "metadata": {
        "id": "9ljujU2823gw"
      },
      "execution_count": null,
      "outputs": []
    },
    {
      "cell_type": "markdown",
      "source": [
        "A `RandomForestClassifier` has almost all the hyperparameters of a `DecisionTreeClassifier` (to control how trees are grown), plus all the hyperparameters of a `BaggingClassifier` to control the ensemble itself."
      ],
      "metadata": {
        "id": "9_CKsuHx8soG"
      }
    },
    {
      "cell_type": "code",
      "source": [
        "# equivalent Bagging classifier\n",
        "bag_clf = BaggingClassifier( DecisionTreeClassifier(splitter=\"random\", max_leaf_nodes=16), n_estimators=500, max_samples=1.0, bootstrap=True, n_jobs=-1)"
      ],
      "metadata": {
        "id": "a3zfLhrS9SN2"
      },
      "execution_count": null,
      "outputs": []
    },
    {
      "cell_type": "markdown",
      "source": [
        "## ExtraTreeClassifiers"
      ],
      "metadata": {
        "id": "CH7ouFie_E1A"
      }
    },
    {
      "cell_type": "code",
      "source": [
        "#ExtraTreesClassifier (trained as RandomForestClassifier)\n",
        "#ExtraTreesRegressor (trained as RandomForestRegressor)"
      ],
      "metadata": {
        "id": "amE2H0y18Th3"
      },
      "execution_count": null,
      "outputs": []
    },
    {
      "cell_type": "markdown",
      "source": [
        "## Features Importance"
      ],
      "metadata": {
        "id": "XDWeLYolA3Gx"
      }
    },
    {
      "cell_type": "code",
      "source": [
        "from sklearn.datasets import load_iris\n",
        "\n",
        "iris = load_iris()\n",
        "rnd_clf = RandomForestClassifier(n_estimators=500, n_jobs=-1)\n",
        "rnd_clf.fit(iris[\"data\"], iris[\"target\"])\n",
        "\n",
        "for name, score in zip(iris[\"feature_names\"], rnd_clf.feature_importances_):\n",
        "  print(name, score)"
      ],
      "metadata": {
        "id": "0HBPh3Zd_VdJ"
      },
      "execution_count": null,
      "outputs": []
    },
    {
      "cell_type": "markdown",
      "source": [
        "# Boosting"
      ],
      "metadata": {
        "id": "G8xQYc7TqWq2"
      }
    },
    {
      "cell_type": "markdown",
      "source": [
        "## AdaBoost\n",
        "The following code trains an `AdaBoost` classifier based on 200 *Decision Stumps* using Scikit-Learn’s `AdaBoostClassifier` class (there exist also an `AdaBoostRegressor` class). \n",
        "\n",
        "A **Decision Stump** is a Decision Tree with `max_depth=1` —in other words, a tree composed of a single decision node plus two leaf nodes. This is the default base estimator for the `AdaBoostClassifier` class."
      ],
      "metadata": {
        "id": "Tu09RsdmqaUh"
      }
    },
    {
      "cell_type": "code",
      "source": [
        "from sklearn.ensemble import AdaBoostClassifier\n",
        "\n",
        "ada_clf = AdaBoostClassifier(\n",
        "    DecisionTreeClassifier(max_depth=1), \n",
        "    n_estimators=200,\n",
        "    algorithm=\"SAMME.R\", \n",
        "    learning_rate=0.5)\n",
        "\n",
        "ada_clf.fit(X_train, y_train)\n"
      ],
      "metadata": {
        "id": "063mbf0WBDl0"
      },
      "execution_count": null,
      "outputs": []
    },
    {
      "cell_type": "markdown",
      "source": [
        "Scikit-Learn uses a multiclass version of AdaBoost called `SAMME` (which stands for *Stagewise Additive Modeling using a Multiclass Exponential loss function*). When there are just two classes, SAMME is equivalent to AdaBoost. Moreover, if the predictors can estimate class probabilities (i.e., if they have a `predict_proba()` method), Scikit-Learn can use a variant of SAMME called `SAMME.R` (the R stands for *“Real”*), which relies on class probabilities rather than predictions and generally performs better."
      ],
      "metadata": {
        "id": "jwXi6Jk7rEa5"
      }
    },
    {
      "cell_type": "markdown",
      "source": [
        "## Gradient Boosting"
      ],
      "metadata": {
        "id": "TniYYBYpwagX"
      }
    },
    {
      "cell_type": "markdown",
      "source": [
        "### Gradient Boosted Regression Trees (GBRT) - manual\n",
        "(or `Gadient Tree Boosting`)\n",
        "\n",
        "First, let’s fit a DecisionTreeRegressor to the training set"
      ],
      "metadata": {
        "id": "5OZBvl0PwdQO"
      }
    },
    {
      "cell_type": "code",
      "source": [
        "from sklearn.tree import DecisionTreeRegressor \n",
        "\n",
        "tree_reg1 = DecisionTreeRegressor(max_depth=2)\n",
        "tree_reg1.fit(X, y)\n",
        "# noisy quadratic training set"
      ],
      "metadata": {
        "id": "XUVfDJnwq_vy"
      },
      "execution_count": null,
      "outputs": []
    },
    {
      "cell_type": "markdown",
      "source": [
        "Train a second `DecisionTreeRegressor` on the residual errors made by the first\n",
        "predictor"
      ],
      "metadata": {
        "id": "wr1jEYpfw-r8"
      }
    },
    {
      "cell_type": "code",
      "source": [
        "#residual calculation\n",
        "y2 = y - tree_reg1.predict(X)\n",
        "\n",
        "# train DT on residuals\n",
        "tree_reg2 = DecisionTreeRegressor(max_depth=2)\n",
        "tree_reg2.fit(X, y2)"
      ],
      "metadata": {
        "id": "8lbfSqLJwxf5"
      },
      "execution_count": null,
      "outputs": []
    },
    {
      "cell_type": "markdown",
      "source": [
        "Then train a third regressor on the residual errors made by the second predictor"
      ],
      "metadata": {
        "id": "CDL0KElYxTqi"
      }
    },
    {
      "cell_type": "code",
      "source": [
        "y3 = y2 - tree_reg2.predict(X)\n",
        "tree_reg3 = DecisionTreeRegressor(max_depth=2)\n",
        "tree_reg3.fit(X, y3)"
      ],
      "metadata": {
        "id": "NN32SuQ9xW7t"
      },
      "execution_count": null,
      "outputs": []
    },
    {
      "cell_type": "markdown",
      "source": [
        "Now we have an ensemble containing three trees. It can make predictions on a new instance simply by adding up the predictions of all the trees"
      ],
      "metadata": {
        "id": "uDQH0EZFxnR2"
      }
    },
    {
      "cell_type": "code",
      "source": [
        "y_pred = sum(tree.predict(X_new) for tree in (tree_reg1, tree_reg2, tree_reg3))"
      ],
      "metadata": {
        "id": "_CVbDamjxoNK"
      },
      "execution_count": null,
      "outputs": []
    },
    {
      "cell_type": "markdown",
      "source": [
        "### Gradient Boosted Regression Trees (GBRT) - sklearn\n",
        "Here we create the same ensamble as the previous one, but we use sklearn libraries"
      ],
      "metadata": {
        "id": "rqpSGkiBzu_S"
      }
    },
    {
      "cell_type": "code",
      "source": [
        "from sklearn.ensemble import GradientBoostingRegressor\n",
        "gbrt = GradientBoostingRegressor(max_depth=2, n_estimators=3, learning_rate=1.0)\n",
        "gbrt.fit(X, y)"
      ],
      "metadata": {
        "id": "oFstlIQrzuBd"
      },
      "execution_count": null,
      "outputs": []
    },
    {
      "cell_type": "markdown",
      "source": [
        "#### Optimal number of trees\n",
        "In order to find the optimal number of trees, we can use **early stopping**. \n",
        "\n",
        "A simple way to implement this is to use the `staged_predict()` method: it returns an iterator over the predictions made by the ensemble at each stage of training (with one tree, two trees, etc.). \n",
        "\n",
        "The following code trains a GBRT ensemble with 120 trees, then measures the validation error at each stage of training to find the optimal number of trees, and finally trains another GBRT ensemble using the optimal number of trees"
      ],
      "metadata": {
        "id": "fBUCAR0AuDD9"
      }
    },
    {
      "cell_type": "code",
      "source": [
        "import numpy as np\n",
        "from sklearn.model_selection import train_test_split \n",
        "from sklearn.metrics import mean_squared_error\n",
        "\n",
        "X_train, X_val, y_train, y_val = train_test_split(X, y)\n",
        "gbrt = GradientBoostingRegressor(max_depth=2, n_estimators=120)\n",
        "gbrt.fit(X_train, y_train)\n",
        "\n",
        "errors = [mean_squared_error(y_val, y_pred) for y_pred in gbrt.staged_predict(X_val)]\n",
        "\n",
        "bst_n_estimators = np.argmin(errors)\n",
        "\n",
        "gbrt_best = GradientBoostingRegressor(max_depth=2,n_estimators=bst_n_estimators)\n",
        "gbrt_best.fit(X_train, y_train)"
      ],
      "metadata": {
        "id": "b5KRYTsiuFAQ"
      },
      "execution_count": null,
      "outputs": []
    },
    {
      "cell_type": "markdown",
      "source": [
        "It is also possible to implement early stopping by actually stopping training early (instead of training a large number of trees first and then looking back to find the optimal number). \n",
        "\n",
        "We can do so by setting `warm_start=True`, which makes Scikit-Learn keep existing trees when the `fit()` method is called, allowing **incremental training**. \n",
        "\n",
        "The following code stops training when the validation error does not improve for five iterations in a row."
      ],
      "metadata": {
        "id": "acxPw5z-w7Vu"
      }
    },
    {
      "cell_type": "code",
      "source": [
        "gbrt = GradientBoostingRegressor(max_depth=2, warm_start=True)\n",
        "min_val_error = float(\"inf\") \n",
        "error_going_up = 0\n",
        "\n",
        "for n_estimators in range(1, 120):\n",
        "  gbrt.n_estimators = n_estimators \n",
        "  gbrt.fit(X_train, y_train)\n",
        "  y_pred = gbrt.predict(X_val)\n",
        "  val_error = mean_squared_error(y_val, y_pred) \n",
        "  if val_error < min_val_error:\n",
        "    min_val_error = val_error\n",
        "    error_going_up = 0 \n",
        "  else:\n",
        "    error_going_up += 1\n",
        "    if error_going_up == 5:\n",
        "      break # early stopping"
      ],
      "metadata": {
        "id": "o5QEoLZ1wI9n"
      },
      "execution_count": null,
      "outputs": []
    },
    {
      "cell_type": "markdown",
      "source": [
        "### XGBoost\n",
        "**Extreme Gradient Boosting** aims at being extremely fast, scalable and portable."
      ],
      "metadata": {
        "id": "Is--X8SCycPh"
      }
    },
    {
      "cell_type": "code",
      "source": [
        "import xgboost\n",
        "\n",
        "xgb_reg = xgboost.XGBRegressor()\n",
        "xgb_reg.fit(X_train, y_train)\n",
        "y_pred = xgb_reg.predict(X_val)"
      ],
      "metadata": {
        "id": "eDmW55l3yf04"
      },
      "execution_count": null,
      "outputs": []
    },
    {
      "cell_type": "code",
      "source": [
        "# automatic early stopping\n",
        "xgb_reg.fit(X_train, y_train, eval_set=[(X_val, y_val)], early_stopping_rounds=2)\n",
        "y_pred = xgb_reg.predict(X_val)"
      ],
      "metadata": {
        "id": "4tDqAX8cy1Co"
      },
      "execution_count": null,
      "outputs": []
    },
    {
      "cell_type": "code",
      "source": [
        ""
      ],
      "metadata": {
        "id": "5inmu0pYzBaj"
      },
      "execution_count": null,
      "outputs": []
    }
  ]
}