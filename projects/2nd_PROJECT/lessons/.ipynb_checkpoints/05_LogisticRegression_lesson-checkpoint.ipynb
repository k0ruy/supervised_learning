{
 "cells": [
  {
   "cell_type": "markdown",
   "metadata": {
    "id": "NFLjfAhyT35g"
   },
   "source": [
    "# Logistic Regression"
   ]
  },
  {
   "cell_type": "markdown",
   "metadata": {
    "id": "pbtgpVtLT0Mn"
   },
   "source": [
    "Let’s use the iris dataset, containing the sepal and petal length and width of 150 iris flowers of three different species: Iris-Setosa, Iris-Versicolor, and Iris-Virginica.\n",
    "\n",
    "**Let’s try to build a classifier to detect the Iris-Virginica type based only on the petal width feature.**"
   ]
  },
  {
   "cell_type": "code",
   "execution_count": 1,
   "metadata": {
    "id": "Ao_4NeNTU6XQ"
   },
   "outputs": [],
   "source": [
    "import numpy as np\n",
    "import matplotlib.pyplot as plt\n"
   ]
  },
  {
   "cell_type": "code",
   "execution_count": 2,
   "metadata": {
    "id": "0WrjLVQKTt4K"
   },
   "outputs": [],
   "source": [
    "from sklearn import datasets\n",
    "\n",
    "# load the datset\n",
    "iris = datasets.load_iris()\n",
    "X = iris[\"data\"][:, 3:] # petal width\n",
    "y = (iris[\"target\"] == 2).astype(np.int) # 1 if Iris-Virginica, else 0"
   ]
  },
  {
   "cell_type": "code",
   "execution_count": 3,
   "metadata": {
    "colab": {
     "base_uri": "https://localhost:8080/"
    },
    "id": "p0hpk3h1Uhyj",
    "outputId": "cc29c29e-7a26-4a75-b3a3-6ae94e9e2b9e"
   },
   "outputs": [
    {
     "data": {
      "text/plain": [
       "LogisticRegression()"
      ]
     },
     "execution_count": 3,
     "metadata": {},
     "output_type": "execute_result"
    }
   ],
   "source": [
    "from sklearn.linear_model import LogisticRegression \n",
    "\n",
    "#train a logistic regression model\n",
    "log_reg = LogisticRegression()\n",
    "log_reg.fit(X, y)"
   ]
  },
  {
   "cell_type": "markdown",
   "metadata": {
    "id": "dcZ4CHshUtoz"
   },
   "source": [
    "Let’s look at the model’s estimated probabilities for flowers with petal widths varying from 0 to 3 cm"
   ]
  },
  {
   "cell_type": "code",
   "execution_count": 4,
   "metadata": {
    "colab": {
     "base_uri": "https://localhost:8080/",
     "height": 296
    },
    "id": "3lDJO2SzUqA3",
    "outputId": "32cc0f38-ea81-47ae-8ab2-c7955c441d28"
   },
   "outputs": [
    {
     "data": {
      "text/plain": [
       "Text(0, 0.5, 'Probability')"
      ]
     },
     "execution_count": 4,
     "metadata": {},
     "output_type": "execute_result"
    },
    {
     "data": {
      "image/png": "[encoded data removed]",
      "text/plain": [
       "<Figure size 432x288 with 1 Axes>"
      ]
     },
     "metadata": {
      "needs_background": "light"
     },
     "output_type": "display_data"
    }
   ],
   "source": [
    "X_new = np.linspace(0, 3, 1000).reshape(-1, 1)\n",
    "y_proba = log_reg.predict_proba(X_new)\n",
    "plt.plot(X_new, y_proba[:, 1], \"g-\", label=\"Iris-Virginica\")\n",
    "plt.plot(X_new, y_proba[:, 0], \"b--\", label=\"Not Iris-Virginica\")\n",
    "plt.legend()\n",
    "plt.xlabel(\"Petal width (cm)\")\n",
    "plt.ylabel(\"Probability\")"
   ]
  },
  {
   "cell_type": "code",
   "execution_count": 5,
   "metadata": {
    "colab": {
     "base_uri": "https://localhost:8080/"
    },
    "id": "ukkx3nwoU3VV",
    "outputId": "a6ba4994-b29d-40b1-a19b-c11664a955ec"
   },
   "outputs": [
    {
     "name": "stdout",
     "output_type": "stream",
     "text": [
      "Class prediction = [1]\n",
      "Probability prediction for all classes = [[0.45722097 0.54277903]]\n"
     ]
    }
   ],
   "source": [
    "#prediction\n",
    "print(\"Class prediction = {}\".format(log_reg.predict([[1.7]])))\n",
    "print(\"Probability prediction for all classes = {}\".format(log_reg.predict_proba([[1.7]])))"
   ]
  },
  {
   "cell_type": "markdown",
   "metadata": {
    "id": "Qd_Yf-0ena-M"
   },
   "source": [
    "The hyperparameter controlling the regularization strength of a Scikit-Learn LogisticRegression model is not $\\alpha$ (as in other linear models), but its inverse: **C**. \n",
    "\n",
    "The higher the value of `C`, the less the model is regularized."
   ]
  },
  {
   "cell_type": "markdown",
   "metadata": {
    "id": "jZxPYg1e7nRh"
   },
   "source": [
    "# Softmax Regression"
   ]
  },
  {
   "cell_type": "markdown",
   "metadata": {
    "id": "DxKhJB7w7wpc"
   },
   "source": [
    "Let’s use Softmax Regression to classify the iris flowers into all three classes. \n",
    "\n",
    "Scikit- Learn’s LogisticRegression uses *one-versus-all* by default when you train it on more than two classes, but you can set the `multi_class` hyperparameter to \"`multinomial`\" to switch it to **Softmax Regression** instead. \n",
    "\n",
    "You must also specify a *solver* that supports Softmax Regression, such as the \"`lbfgs`\" solver. It also applies $\\ell_2$ regularization by default, which you can control using the hyperparameter `C`."
   ]
  },
  {
   "cell_type": "code",
   "execution_count": 6,
   "metadata": {
    "id": "h74tmjNG7tg3"
   },
   "outputs": [],
   "source": [
    "X = iris[\"data\"][:, (2, 3)] # petal length, petal width \n",
    "y = iris[\"target\"]"
   ]
  },
  {
   "cell_type": "code",
   "execution_count": 7,
   "metadata": {
    "colab": {
     "base_uri": "https://localhost:8080/"
    },
    "id": "mkOJ_InP8FPA",
    "outputId": "7dc6f5fd-1927-4024-ce35-cd330d53e28d"
   },
   "outputs": [
    {
     "data": {
      "text/plain": [
       "LogisticRegression(C=10, multi_class='multinomial')"
      ]
     },
     "execution_count": 7,
     "metadata": {},
     "output_type": "execute_result"
    }
   ],
   "source": [
    "softmax_reg = LogisticRegression(multi_class=\"multinomial\",solver=\"lbfgs\", C=10)\n",
    "softmax_reg.fit(X, y)"
   ]
  },
  {
   "cell_type": "markdown",
   "metadata": {
    "id": "qeVv1S7Q8UP6"
   },
   "source": [
    "So the next time you find an iris with 5 cm long and 2 cm wide petals, you can ask your model to tell you what type of iris it is."
   ]
  },
  {
   "cell_type": "code",
   "execution_count": 8,
   "metadata": {
    "colab": {
     "base_uri": "https://localhost:8080/"
    },
    "id": "Mz5fc1pi8NPo",
    "outputId": "a5e7b1a8-5424-4f5d-ce9f-ea79bf3c79ad"
   },
   "outputs": [
    {
     "data": {
      "text/plain": [
       "array([2])"
      ]
     },
     "execution_count": 8,
     "metadata": {},
     "output_type": "execute_result"
    }
   ],
   "source": [
    "softmax_reg.predict([[5, 2]])"
   ]
  },
  {
   "cell_type": "code",
   "execution_count": 9,
   "metadata": {
    "colab": {
     "base_uri": "https://localhost:8080/"
    },
    "id": "VW_Gqh5jGpDK",
    "outputId": "14a8d4d8-b3e4-4e43-991c-3c3a7fe866cd"
   },
   "outputs": [
    {
     "data": {
      "text/plain": [
       "array([[6.38014896e-07, 5.74929995e-02, 9.42506362e-01]])"
      ]
     },
     "execution_count": 9,
     "metadata": {},
     "output_type": "execute_result"
    }
   ],
   "source": [
    "softmax_reg.predict_proba([[5, 2]])"
   ]
  },
  {
   "cell_type": "markdown",
   "metadata": {
    "id": "UjX7aocO8mBX"
   },
   "source": [
    "The model answer Iris-Virginica (class 2) with 94.2% probability (or Iris-Versicolor with 5.7% probability)"
   ]
  },
  {
   "cell_type": "code",
   "execution_count": 9,
   "metadata": {
    "id": "6Bs2DEnQ8g_-"
   },
   "outputs": [],
   "source": []
  }
 ],
 "metadata": {
  "colab": {
   "collapsed_sections": [],
   "name": "05_LogisticRegression_lesson.ipynb",
   "provenance": [],
   "toc_visible": true
  },
  "kernelspec": {
   "display_name": "Python 3 (ipykernel)",
   "language": "python",
   "name": "python3"
  },
  "language_info": {
   "codemirror_mode": {
    "name": "ipython",
    "version": 3
   },
   "file_extension": ".py",
   "mimetype": "text/x-python",
   "name": "python",
   "nbconvert_exporter": "python",
   "pygments_lexer": "ipython3",
   "version": "3.9.7"
  }
 },
 "nbformat": 4,
 "nbformat_minor": 1
}
