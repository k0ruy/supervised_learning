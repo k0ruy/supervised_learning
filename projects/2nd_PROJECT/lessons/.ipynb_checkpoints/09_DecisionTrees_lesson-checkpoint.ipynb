{
 "cells": [
  {
   "cell_type": "code",
   "execution_count": 1,
   "metadata": {
    "colab": {
     "base_uri": "https://localhost:8080/"
    },
    "id": "BFxBZ5WKT_iB",
    "outputId": "8ea4ba81-2b35-4da9-a263-a17574756f03"
   },
   "outputs": [
    {
     "name": "stdout",
     "output_type": "stream",
     "text": [
      "Mounted at /content/gdrive\n"
     ]
    }
   ],
   "source": [
    "from google.colab import drive\n",
    "drive.mount('/content/gdrive')\n",
    "path = '/content/gdrive/MyDrive/SupervisedLearning/09_DecisionTrees'"
   ]
  },
  {
   "cell_type": "markdown",
   "metadata": {
    "id": "rZSSsL-qSuK4"
   },
   "source": [
    "# Decision Trees"
   ]
  },
  {
   "cell_type": "markdown",
   "metadata": {
    "id": "jE7NRmAjS6NW"
   },
   "source": [
    "We build a Decision Tree model and take a look at how it makes predictions. The following code trains a DecisionTreeClassifier on the iris dataset."
   ]
  },
  {
   "cell_type": "code",
   "execution_count": 2,
   "metadata": {
    "colab": {
     "base_uri": "https://localhost:8080/"
    },
    "id": "Ya3cgHR1Rxtd",
    "outputId": "30aec9ea-f97a-439a-a4fa-90ea2e3e7660"
   },
   "outputs": [
    {
     "data": {
      "text/plain": [
       "DecisionTreeClassifier(max_depth=2)"
      ]
     },
     "execution_count": 2,
     "metadata": {},
     "output_type": "execute_result"
    }
   ],
   "source": [
    "from sklearn.datasets import load_iris\n",
    "from sklearn.tree import DecisionTreeClassifier\n",
    "\n",
    "iris = load_iris()\n",
    "X = iris.data[:, 2:] # petal length and width \n",
    "y = iris.target\n",
    "\n",
    "tree_clf = DecisionTreeClassifier(max_depth=2)\n",
    "tree_clf.fit(X, y)"
   ]
  },
  {
   "cell_type": "markdown",
   "metadata": {
    "id": "Vk2XqIeNTDbS"
   },
   "source": [
    "We can visualize the trained Decision Tree by first using the `export_graphviz()` method to output a graph definition file called `iris_tree.dot`"
   ]
  },
  {
   "cell_type": "code",
   "execution_count": 3,
   "metadata": {
    "id": "hBMVn1qfSAy6"
   },
   "outputs": [],
   "source": [
    "from sklearn.tree import export_graphviz\n",
    "\n",
    "export_graphviz(\n",
    "        tree_clf,\n",
    "        out_file=path+\"/iris_tree.dot\",\n",
    "        feature_names=iris.feature_names[2:],\n",
    "        class_names=iris.target_names,\n",
    "        rounded=True,\n",
    "        filled=True\n",
    "    )"
   ]
  },
  {
   "cell_type": "markdown",
   "metadata": {
    "id": "f_V_ji2KTM4h"
   },
   "source": [
    "Then you can convert this .dot file to a variety of formats such as PDF or PNG using the dot command-line tool from the graphviz package. \n",
    "\n",
    "This command line converts the .dot file to a .png image file"
   ]
  },
  {
   "cell_type": "code",
   "execution_count": 4,
   "metadata": {
    "id": "AfrwRCFcSoPB"
   },
   "outputs": [],
   "source": [
    "!dot -Tpng /content/gdrive/MyDrive/SupervisedLearning/09_DecisionTrees/iris_tree.dot -o /content/gdrive/MyDrive/SupervisedLearning/09_DecisionTrees/iris_tree.png"
   ]
  },
  {
   "cell_type": "markdown",
   "metadata": {
    "id": "KVMMHFv7kWvI"
   },
   "source": [
    "Suppose you have found a flower whose petals are 5 cm long and 1.5 cm wide."
   ]
  },
  {
   "cell_type": "code",
   "execution_count": null,
   "metadata": {
    "colab": {
     "base_uri": "https://localhost:8080/"
    },
    "id": "cvIxtt3fTP-F",
    "outputId": "a7628e19-5961-4a44-df6a-deb1d7b86bf9"
   },
   "outputs": [
    {
     "data": {
      "text/plain": [
       "array([[0.        , 0.90740741, 0.09259259]])"
      ]
     },
     "execution_count": 17,
     "metadata": {},
     "output_type": "execute_result"
    }
   ],
   "source": [
    "tree_clf.predict_proba([[5, 1.5]])"
   ]
  },
  {
   "cell_type": "markdown",
   "metadata": {
    "id": "_ZcdxmEnkcUe"
   },
   "source": [
    "the Decision Tree should output the following probabilities: 0% for Iris-Setosa (0/54), 90.7% for Iris-Versicolor (49/54), and 9.3% for Iris-Virginica (5/54).\n",
    "\n",
    "Notice that the estimated probabilities would be identical for all predicitons made by this leaf, for example, if the petals were 6 cm long and 1.5 cm wide"
   ]
  },
  {
   "cell_type": "code",
   "execution_count": null,
   "metadata": {
    "colab": {
     "base_uri": "https://localhost:8080/"
    },
    "id": "PBiRjNiVkSsv",
    "outputId": "6be56307-93e9-4034-e070-452ac72b960d"
   },
   "outputs": [
    {
     "data": {
      "text/plain": [
       "array([1])"
      ]
     },
     "execution_count": 18,
     "metadata": {},
     "output_type": "execute_result"
    }
   ],
   "source": [
    "tree_clf.predict([[5, 1.5]])"
   ]
  },
  {
   "cell_type": "markdown",
   "metadata": {
    "id": "NlVcUm6WkzKe"
   },
   "source": [
    "The model predicts the class with the highest probability"
   ]
  },
  {
   "cell_type": "markdown",
   "metadata": {
    "id": "jKLAygr84QDF"
   },
   "source": [
    "# Decision Trees for Regression Tasks"
   ]
  },
  {
   "cell_type": "code",
   "execution_count": null,
   "metadata": {
    "id": "6UriiIC2kwbJ"
   },
   "outputs": [],
   "source": [
    "from sklearn.tree import DecisionTreeRegressor\n",
    "\n",
    "tree_reg = DecisionTreeRegressor(max_depth=2)\n",
    "tree_reg.fit(X, y)"
   ]
  }
 ],
 "metadata": {
  "colab": {
   "collapsed_sections": [],
   "name": "08_DecisionTrees_lesson.ipynb",
   "provenance": [],
   "toc_visible": true
  },
  "kernelspec": {
   "display_name": "Python 3 (ipykernel)",
   "language": "python",
   "name": "python3"
  },
  "language_info": {
   "codemirror_mode": {
    "name": "ipython",
    "version": 3
   },
   "file_extension": ".py",
   "mimetype": "text/x-python",
   "name": "python",
   "nbconvert_exporter": "python",
   "pygments_lexer": "ipython3",
   "version": "3.9.7"
  }
 },
 "nbformat": 4,
 "nbformat_minor": 1
}
