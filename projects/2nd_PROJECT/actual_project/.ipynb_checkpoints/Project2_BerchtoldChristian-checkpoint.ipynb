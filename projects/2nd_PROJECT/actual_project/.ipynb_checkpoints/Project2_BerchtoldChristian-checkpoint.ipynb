{
 "cells": [
  {
   "cell_type": "markdown",
   "metadata": {
    "id": "0eUCbc-0D3ga"
   },
   "source": [
    "# **Final Project**\n",
    "*Supervised Learning - AY 2021-2022 - January 12th 2022*\n",
    "\n",
    "The goal of this project is to analyze a dataset representing potential audience people for an advertising campaign. We want to build a model which is able to classify all people (potential audience) into 4 segments (A, B, C, D), in order to perform personalized advertising. The provided dataset includes the following information: \n",
    "\n",
    "* ID: Unique ID\n",
    "* Gender: Gender of the customer\n",
    "* Ever_Married: Marital status of the customer\n",
    "* Age: Age of the customer\n",
    "* Graduated: Is the customer a graduate?\n",
    "* Profession: Profession of the customer\n",
    "* Work_Experience: Work Experience in years\n",
    "* Spending_Score: Spending score of the customer\n",
    "* Family_Size: Number of family members for the customer (including the cus- tomer)\n",
    "* Var_1: Anonymised Category for the customer\n",
    "* Segmentation: Customer Segment of the customer *(target feature)*\n",
    "\n",
    "In order to build the desired predictive model, develop the following tasks and answer the following questions."
   ]
  },
  {
   "cell_type": "markdown",
   "metadata": {
    "id": "9iHcvzrrEz0d"
   },
   "source": [
    "## (1) Load and explore the dataset. Eventually perform data engineering (handlying missing values, encode cathegorical values)."
   ]
  },
  {
   "cell_type": "code",
   "execution_count": 1,
   "metadata": {},
   "outputs": [],
   "source": [
    "import pandas as pd\n",
    "import matplotlib.pyplot as plt\n",
    "import seaborn as sns\n",
    "import numpy as np"
   ]
  },
  {
   "cell_type": "code",
   "execution_count": 2,
   "metadata": {
    "id": "3yr0UGEeEqrv"
   },
   "outputs": [],
   "source": [
    "df_train = pd.read_csv('train.csv')\n",
    "df_test = pd.read_csv('test.csv')"
   ]
  },
  {
   "cell_type": "markdown",
   "metadata": {},
   "source": [
    "preprocessing:"
   ]
  },
  {
   "cell_type": "code",
   "execution_count": 3,
   "metadata": {},
   "outputs": [
    {
     "name": "stdout",
     "output_type": "stream",
     "text": [
      "TEST\n",
      "A    822\n",
      "D    743\n",
      "B    536\n",
      "C    456\n",
      "Name: Segmentation, dtype: int64\n",
      "TRAIN\n",
      "D    2196\n",
      "C    1932\n",
      "A    1920\n",
      "B    1823\n",
      "Name: Segmentation, dtype: int64\n"
     ]
    }
   ],
   "source": [
    "print(\"TEST\")\n",
    "print(df_test['Segmentation'].value_counts())\n",
    "print(\"TRAIN\")\n",
    "print(df_train['Segmentation'].value_counts())"
   ]
  },
  {
   "cell_type": "code",
   "execution_count": 4,
   "metadata": {},
   "outputs": [
    {
     "data": {
      "text/html": [
       "<div>\n",
       "<style scoped>\n",
       "    .dataframe tbody tr th:only-of-type {\n",
       "        vertical-align: middle;\n",
       "    }\n",
       "\n",
       "    .dataframe tbody tr th {\n",
       "        vertical-align: top;\n",
       "    }\n",
       "\n",
       "    .dataframe thead th {\n",
       "        text-align: right;\n",
       "    }\n",
       "</style>\n",
       "<table border=\"1\" class=\"dataframe\">\n",
       "  <thead>\n",
       "    <tr style=\"text-align: right;\">\n",
       "      <th></th>\n",
       "      <th>count</th>\n",
       "      <th>unique</th>\n",
       "      <th>top</th>\n",
       "      <th>freq</th>\n",
       "      <th>mean</th>\n",
       "      <th>std</th>\n",
       "      <th>min</th>\n",
       "      <th>25%</th>\n",
       "      <th>50%</th>\n",
       "      <th>75%</th>\n",
       "      <th>max</th>\n",
       "    </tr>\n",
       "  </thead>\n",
       "  <tbody>\n",
       "    <tr>\n",
       "      <th>ID</th>\n",
       "      <td>7871.0</td>\n",
       "      <td>NaN</td>\n",
       "      <td>NaN</td>\n",
       "      <td>NaN</td>\n",
       "      <td>463486.271884</td>\n",
       "      <td>2592.251989</td>\n",
       "      <td>458982.0</td>\n",
       "      <td>461258.5</td>\n",
       "      <td>463479.0</td>\n",
       "      <td>465740.5</td>\n",
       "      <td>467974.0</td>\n",
       "    </tr>\n",
       "    <tr>\n",
       "      <th>Gender</th>\n",
       "      <td>7871</td>\n",
       "      <td>2</td>\n",
       "      <td>Male</td>\n",
       "      <td>4318</td>\n",
       "      <td>NaN</td>\n",
       "      <td>NaN</td>\n",
       "      <td>NaN</td>\n",
       "      <td>NaN</td>\n",
       "      <td>NaN</td>\n",
       "      <td>NaN</td>\n",
       "      <td>NaN</td>\n",
       "    </tr>\n",
       "    <tr>\n",
       "      <th>Ever_Married</th>\n",
       "      <td>7736</td>\n",
       "      <td>2</td>\n",
       "      <td>Yes</td>\n",
       "      <td>4530</td>\n",
       "      <td>NaN</td>\n",
       "      <td>NaN</td>\n",
       "      <td>NaN</td>\n",
       "      <td>NaN</td>\n",
       "      <td>NaN</td>\n",
       "      <td>NaN</td>\n",
       "      <td>NaN</td>\n",
       "    </tr>\n",
       "    <tr>\n",
       "      <th>Age</th>\n",
       "      <td>7871.0</td>\n",
       "      <td>NaN</td>\n",
       "      <td>NaN</td>\n",
       "      <td>NaN</td>\n",
       "      <td>43.483039</td>\n",
       "      <td>16.714082</td>\n",
       "      <td>18.0</td>\n",
       "      <td>30.0</td>\n",
       "      <td>40.0</td>\n",
       "      <td>53.0</td>\n",
       "      <td>89.0</td>\n",
       "    </tr>\n",
       "    <tr>\n",
       "      <th>Graduated</th>\n",
       "      <td>7800</td>\n",
       "      <td>2</td>\n",
       "      <td>Yes</td>\n",
       "      <td>4877</td>\n",
       "      <td>NaN</td>\n",
       "      <td>NaN</td>\n",
       "      <td>NaN</td>\n",
       "      <td>NaN</td>\n",
       "      <td>NaN</td>\n",
       "      <td>NaN</td>\n",
       "      <td>NaN</td>\n",
       "    </tr>\n",
       "    <tr>\n",
       "      <th>Profession</th>\n",
       "      <td>7871</td>\n",
       "      <td>9</td>\n",
       "      <td>Artist</td>\n",
       "      <td>2491</td>\n",
       "      <td>NaN</td>\n",
       "      <td>NaN</td>\n",
       "      <td>NaN</td>\n",
       "      <td>NaN</td>\n",
       "      <td>NaN</td>\n",
       "      <td>NaN</td>\n",
       "      <td>NaN</td>\n",
       "    </tr>\n",
       "    <tr>\n",
       "      <th>Work_Experience</th>\n",
       "      <td>7077.0</td>\n",
       "      <td>NaN</td>\n",
       "      <td>NaN</td>\n",
       "      <td>NaN</td>\n",
       "      <td>2.645189</td>\n",
       "      <td>3.410282</td>\n",
       "      <td>0.0</td>\n",
       "      <td>0.0</td>\n",
       "      <td>1.0</td>\n",
       "      <td>4.0</td>\n",
       "      <td>14.0</td>\n",
       "    </tr>\n",
       "    <tr>\n",
       "      <th>Spending_Score</th>\n",
       "      <td>7871</td>\n",
       "      <td>3</td>\n",
       "      <td>Low</td>\n",
       "      <td>4752</td>\n",
       "      <td>NaN</td>\n",
       "      <td>NaN</td>\n",
       "      <td>NaN</td>\n",
       "      <td>NaN</td>\n",
       "      <td>NaN</td>\n",
       "      <td>NaN</td>\n",
       "      <td>NaN</td>\n",
       "    </tr>\n",
       "    <tr>\n",
       "      <th>Family_Size</th>\n",
       "      <td>7871.0</td>\n",
       "      <td>NaN</td>\n",
       "      <td>NaN</td>\n",
       "      <td>NaN</td>\n",
       "      <td>2.857451</td>\n",
       "      <td>1.501632</td>\n",
       "      <td>1.0</td>\n",
       "      <td>2.0</td>\n",
       "      <td>3.0</td>\n",
       "      <td>4.0</td>\n",
       "      <td>9.0</td>\n",
       "    </tr>\n",
       "    <tr>\n",
       "      <th>Var_1</th>\n",
       "      <td>7871</td>\n",
       "      <td>7</td>\n",
       "      <td>Cat_6</td>\n",
       "      <td>5179</td>\n",
       "      <td>NaN</td>\n",
       "      <td>NaN</td>\n",
       "      <td>NaN</td>\n",
       "      <td>NaN</td>\n",
       "      <td>NaN</td>\n",
       "      <td>NaN</td>\n",
       "      <td>NaN</td>\n",
       "    </tr>\n",
       "    <tr>\n",
       "      <th>Segmentation</th>\n",
       "      <td>7871</td>\n",
       "      <td>4</td>\n",
       "      <td>D</td>\n",
       "      <td>2196</td>\n",
       "      <td>NaN</td>\n",
       "      <td>NaN</td>\n",
       "      <td>NaN</td>\n",
       "      <td>NaN</td>\n",
       "      <td>NaN</td>\n",
       "      <td>NaN</td>\n",
       "      <td>NaN</td>\n",
       "    </tr>\n",
       "  </tbody>\n",
       "</table>\n",
       "</div>"
      ],
      "text/plain": [
       "                  count unique     top  freq           mean          std  \\\n",
       "ID               7871.0    NaN     NaN   NaN  463486.271884  2592.251989   \n",
       "Gender             7871      2    Male  4318            NaN          NaN   \n",
       "Ever_Married       7736      2     Yes  4530            NaN          NaN   \n",
       "Age              7871.0    NaN     NaN   NaN      43.483039    16.714082   \n",
       "Graduated          7800      2     Yes  4877            NaN          NaN   \n",
       "Profession         7871      9  Artist  2491            NaN          NaN   \n",
       "Work_Experience  7077.0    NaN     NaN   NaN       2.645189     3.410282   \n",
       "Spending_Score     7871      3     Low  4752            NaN          NaN   \n",
       "Family_Size      7871.0    NaN     NaN   NaN       2.857451     1.501632   \n",
       "Var_1              7871      7   Cat_6  5179            NaN          NaN   \n",
       "Segmentation       7871      4       D  2196            NaN          NaN   \n",
       "\n",
       "                      min       25%       50%       75%       max  \n",
       "ID               458982.0  461258.5  463479.0  465740.5  467974.0  \n",
       "Gender                NaN       NaN       NaN       NaN       NaN  \n",
       "Ever_Married          NaN       NaN       NaN       NaN       NaN  \n",
       "Age                  18.0      30.0      40.0      53.0      89.0  \n",
       "Graduated             NaN       NaN       NaN       NaN       NaN  \n",
       "Profession            NaN       NaN       NaN       NaN       NaN  \n",
       "Work_Experience       0.0       0.0       1.0       4.0      14.0  \n",
       "Spending_Score        NaN       NaN       NaN       NaN       NaN  \n",
       "Family_Size           1.0       2.0       3.0       4.0       9.0  \n",
       "Var_1                 NaN       NaN       NaN       NaN       NaN  \n",
       "Segmentation          NaN       NaN       NaN       NaN       NaN  "
      ]
     },
     "execution_count": 4,
     "metadata": {},
     "output_type": "execute_result"
    }
   ],
   "source": [
    "df_train.describe(include='all').T"
   ]
  },
  {
   "cell_type": "code",
   "execution_count": 5,
   "metadata": {},
   "outputs": [
    {
     "name": "stdout",
     "output_type": "stream",
     "text": [
      "train: (7871, 11)\n"
     ]
    }
   ],
   "source": [
    "print('train:', df_train.shape)"
   ]
  },
  {
   "cell_type": "code",
   "execution_count": 6,
   "metadata": {},
   "outputs": [
    {
     "name": "stdout",
     "output_type": "stream",
     "text": [
      "<class 'pandas.core.frame.DataFrame'>\n",
      "RangeIndex: 7871 entries, 0 to 7870\n",
      "Data columns (total 11 columns):\n",
      " #   Column           Non-Null Count  Dtype  \n",
      "---  ------           --------------  -----  \n",
      " 0   ID               7871 non-null   int64  \n",
      " 1   Gender           7871 non-null   object \n",
      " 2   Ever_Married     7736 non-null   object \n",
      " 3   Age              7871 non-null   int64  \n",
      " 4   Graduated        7800 non-null   object \n",
      " 5   Profession       7871 non-null   object \n",
      " 6   Work_Experience  7077 non-null   float64\n",
      " 7   Spending_Score   7871 non-null   object \n",
      " 8   Family_Size      7871 non-null   float64\n",
      " 9   Var_1            7871 non-null   object \n",
      " 10  Segmentation     7871 non-null   object \n",
      "dtypes: float64(2), int64(2), object(7)\n",
      "memory usage: 676.5+ KB\n"
     ]
    }
   ],
   "source": [
    "df_train.info()"
   ]
  },
  {
   "cell_type": "code",
   "execution_count": 7,
   "metadata": {},
   "outputs": [
    {
     "data": {
      "image/png": "[encoded data removed]",
      "text/plain": [
       "<Figure size 432x432 with 1 Axes>"
      ]
     },
     "metadata": {
      "needs_background": "light"
     },
     "output_type": "display_data"
    }
   ],
   "source": [
    "plt.figure(figsize=(6,6))\n",
    "ax = sns.boxplot(data=df_train, orient=\"h\", palette=\"Set2\")"
   ]
  },
  {
   "cell_type": "code",
   "execution_count": 8,
   "metadata": {},
   "outputs": [
    {
     "name": "stdout",
     "output_type": "stream",
     "text": [
      "train:\n",
      " ID                   0\n",
      "Gender               0\n",
      "Ever_Married       135\n",
      "Age                  0\n",
      "Graduated           71\n",
      "Profession           0\n",
      "Work_Experience    794\n",
      "Spending_Score       0\n",
      "Family_Size          0\n",
      "Var_1                0\n",
      "Segmentation         0\n",
      "dtype: int64\n",
      "\n",
      "test:\n",
      " ID                   0\n",
      "Gender               0\n",
      "Ever_Married        47\n",
      "Age                  0\n",
      "Graduated           23\n",
      "Profession           0\n",
      "Work_Experience    257\n",
      "Spending_Score       0\n",
      "Family_Size          0\n",
      "Var_1                0\n",
      "Segmentation         0\n",
      "dtype: int64\n"
     ]
    }
   ],
   "source": [
    "print('train:\\n', df_train.isnull().sum())\n",
    "print('\\ntest:\\n', df_test.isnull().sum())"
   ]
  },
  {
   "cell_type": "markdown",
   "metadata": {},
   "source": [
    "I will drop the missing values because there are not so many compared to the size of the dataset"
   ]
  },
  {
   "cell_type": "code",
   "execution_count": 9,
   "metadata": {},
   "outputs": [],
   "source": [
    "df_train.drop_duplicates(inplace = True)\n",
    "df_train.dropna(inplace = True)\n",
    "\n",
    "df_test.drop_duplicates(inplace = True)\n",
    "df_test.dropna(inplace = True)"
   ]
  },
  {
   "cell_type": "code",
   "execution_count": 10,
   "metadata": {},
   "outputs": [],
   "source": [
    "X_train = df_train.drop(['Segmentation'], axis=1)\n",
    "y_train = df_train['Segmentation']\n",
    "\n",
    "X_test = df_test.drop(['Segmentation'], axis=1)\n",
    "y_test = df_test['Segmentation']"
   ]
  },
  {
   "cell_type": "code",
   "execution_count": 11,
   "metadata": {},
   "outputs": [],
   "source": [
    "df_test_numerical = df_test.select_dtypes(exclude=[\"object\"])\n",
    "df_test_categorical = df_test.select_dtypes(include=[\"object\"])"
   ]
  },
  {
   "cell_type": "code",
   "execution_count": 12,
   "metadata": {},
   "outputs": [
    {
     "name": "stdout",
     "output_type": "stream",
     "text": [
      "   Gender Ever_Married Graduated  Profession Spending_Score  Var_1  \\\n",
      "0    Male           No        No  Healthcare            Low  Cat_4   \n",
      "2  Female          Yes       Yes    Engineer            Low  Cat_6   \n",
      "3    Male          Yes       Yes      Lawyer           High  Cat_6   \n",
      "5    Male          Yes        No      Artist        Average  Cat_6   \n",
      "6    Male           No       Yes  Healthcare            Low  Cat_6   \n",
      "\n",
      "  Segmentation  \n",
      "0            D  \n",
      "2            B  \n",
      "3            B  \n",
      "5            C  \n",
      "6            C  \n"
     ]
    },
    {
     "data": {
      "image/png": "[encoded data removed]",
      "text/plain": [
       "<Figure size 360x360 with 1 Axes>"
      ]
     },
     "metadata": {
      "needs_background": "light"
     },
     "output_type": "display_data"
    },
    {
     "data": {
      "image/png": "[encoded data removed]",
      "text/plain": [
       "<Figure size 360x360 with 1 Axes>"
      ]
     },
     "metadata": {
      "needs_background": "light"
     },
     "output_type": "display_data"
    },
    {
     "data": {
      "image/png": "[encoded data removed]",
      "text/plain": [
       "<Figure size 360x360 with 1 Axes>"
      ]
     },
     "metadata": {
      "needs_background": "light"
     },
     "output_type": "display_data"
    },
    {
     "data": {
      "image/png": "[encoded data removed]",
      "text/plain": [
       "<Figure size 360x360 with 1 Axes>"
      ]
     },
     "metadata": {
      "needs_background": "light"
     },
     "output_type": "display_data"
    }
   ],
   "source": [
    "df_train_numerical = df_train.select_dtypes(exclude=[\"object\"])\n",
    "df_train_categorical = df_train.select_dtypes(include=[\"object\"])\n",
    "print(df_train_categorical.head())\n",
    "\n",
    "for i, col in enumerate(list(df_train_numerical.columns)):\n",
    "    sns.displot(df_train[col], kde= True, label = df_train[col].name)\n",
    "    plt.grid()\n",
    "    plt.legend(loc=\"upper right\")\n",
    "    plt.tight_layout()"
   ]
  },
  {
   "cell_type": "markdown",
   "metadata": {},
   "source": [
    "I will `log transform` the feature `Work_Experience` because it's unbalanced"
   ]
  },
  {
   "cell_type": "code",
   "execution_count": 13,
   "metadata": {},
   "outputs": [],
   "source": [
    "df_train['Work_Experience'] = np.log(df_train['Work_Experience'] + 1)\n",
    "df_test['Work_Experience'] = np.log(df_test['Work_Experience'] + 1)"
   ]
  },
  {
   "cell_type": "code",
   "execution_count": 14,
   "metadata": {},
   "outputs": [
    {
     "name": "stdout",
     "output_type": "stream",
     "text": [
      "ISNULL SUM PER COLUMN:\n",
      "ID                 0\n",
      "Gender             0\n",
      "Ever_Married       0\n",
      "Age                0\n",
      "Graduated          0\n",
      "Profession         0\n",
      "Work_Experience    0\n",
      "Spending_Score     0\n",
      "Family_Size        0\n",
      "Var_1              0\n",
      "Segmentation       0\n",
      "dtype: int64\n",
      "\n",
      "OUTLIER INDEXES PER COLUMN:\n",
      "ID IQR = 8066.200000000012\n",
      "ID Outlier indexes: []\n",
      "Age IQR = 55.0\n",
      "Age Outlier indexes: []\n",
      "Work_Experience IQR = 2.302585092994046\n",
      "Work_Experience Outlier indexes: []\n",
      "Family_Size IQR = 4.0\n",
      "Family_Size Outlier indexes: []\n",
      "\n",
      "ISNULL SUM ON SEL. COL.: 0\n"
     ]
    }
   ],
   "source": [
    "from sklearn.pipeline import Pipeline\n",
    "from sklearn.impute import SimpleImputer\n",
    "from sklearn.preprocessing import OneHotEncoder, RobustScaler\n",
    "from sklearn.compose import ColumnTransformer\n",
    "\n",
    "\n",
    "print('ISNULL SUM PER COLUMN:')\n",
    "print(df_train.isnull().sum())\n",
    "\n",
    "\n",
    "print('\\nOUTLIER INDEXES PER COLUMN:')\n",
    "outliers_array = []\n",
    "for name in df_train_numerical.columns.to_list():\n",
    "    Q1 = df_train[name].quantile(0.05)\n",
    "    Q3 = df_train[name].quantile(0.95)\n",
    "    IQR = Q3 - Q1\n",
    "    print(f'{name} IQR = {IQR}')\n",
    "    logical_index_outliers = (df_train[name] < (Q1 - 1.5 * IQR)) |(df_train[name] > (Q3 + 1.5 * IQR))\n",
    "    positives = np.where(logical_index_outliers == True)[0]\n",
    "    print(f'{name} Outlier indexes: {positives}')\n",
    "\n",
    "to_be_removed = ['Segmentation']\n",
    "\n",
    "# ordinal encoding:\n",
    "dictionary={\"Spending_Score\": {\"Low\":0, \"Average\":1, \"High\":2}}\n",
    "df_train.replace(dictionary, inplace=True)\n",
    "\n",
    "print('\\nISNULL SUM ON SEL. COL.:', df_train['Spending_Score'].isnull().sum())"
   ]
  },
  {
   "cell_type": "code",
   "execution_count": 15,
   "metadata": {},
   "outputs": [],
   "source": [
    "numeric_features = ['ID', 'Age', 'Work_Experience','Family_Size','Age', 'Spending_Score']\n",
    "# numeric transformer\n",
    "numeric_transformer = Pipeline(steps=[\n",
    "    ('imputer', SimpleImputer(strategy='median')),\n",
    "    ('scaler', RobustScaler())])\n",
    "\n",
    "# categorical transformer\n",
    "categorical_features = ['Gender', 'Ever_Married', 'Graduated', 'Profession', 'Var_1', 'Segmentation']\n",
    "categorical_transformer = Pipeline(steps=[\n",
    "    ('imputer', SimpleImputer(strategy='most_frequent')),\n",
    "    ('categorical', OneHotEncoder())])\n",
    "\n",
    "preprocessor = ColumnTransformer(\n",
    "    remainder = 'passthrough',\n",
    "    transformers=[\n",
    "        ('numeric', numeric_transformer, numeric_features),\n",
    "        ('categorical', categorical_transformer, categorical_features),\n",
    "        ('remove', 'drop', to_be_removed)])"
   ]
  },
  {
   "cell_type": "code",
   "execution_count": 16,
   "metadata": {},
   "outputs": [],
   "source": [
    "X_train = preprocessor.fit_transform(df_train)\n",
    "y_train = df_train['Segmentation']"
   ]
  },
  {
   "cell_type": "markdown",
   "metadata": {},
   "source": [
    "transforming in numerical columns"
   ]
  },
  {
   "cell_type": "code",
   "execution_count": 17,
   "metadata": {},
   "outputs": [
    {
     "name": "stdout",
     "output_type": "stream",
     "text": [
      "ISNULL SUM PER COLUMN:\n",
      "ID                 0\n",
      "Gender             0\n",
      "Ever_Married       0\n",
      "Age                0\n",
      "Graduated          0\n",
      "Profession         0\n",
      "Work_Experience    0\n",
      "Spending_Score     0\n",
      "Family_Size        0\n",
      "Var_1              0\n",
      "Segmentation       0\n",
      "dtype: int64\n",
      "\n",
      "OUTLIER INDEXES PER COLUMN:\n",
      "ID IQR = 8134.900000000023\n",
      "ID Outlier indexes: []\n",
      "Age IQR = 57.0\n",
      "Age Outlier indexes: []\n",
      "Work_Experience IQR = 2.302585092994046\n",
      "Work_Experience Outlier indexes: []\n",
      "Family_Size IQR = 5.0\n",
      "Family_Size Outlier indexes: []\n",
      "\n",
      "ISNULL SUM ON SEL. COL.: 0\n"
     ]
    }
   ],
   "source": [
    "print('ISNULL SUM PER COLUMN:')\n",
    "print(df_test.isnull().sum())\n",
    "\n",
    "print('\\nOUTLIER INDEXES PER COLUMN:')\n",
    "outliers_array = []\n",
    "for name in df_test_numerical.columns.to_list():\n",
    "    Q1 = df_test[name].quantile(0.05)\n",
    "    Q3 = df_test[name].quantile(0.95)\n",
    "    IQR = Q3 - Q1\n",
    "    print(f'{name} IQR = {IQR}')\n",
    "    logical_index_outliers = (df_test[name] < (Q1 - 1.5 * IQR)) |(df_test[name] > (Q3 + 1.5 * IQR))\n",
    "    positives = np.where(logical_index_outliers == True)[0]\n",
    "    print(f'{name} Outlier indexes: {positives}')\n",
    "\n",
    "to_be_removed = ['Segmentation']\n",
    "\n",
    "# ordinal encoding:\n",
    "dictionary={\"Spending_Score\": {\"Low\":0, \"Average\":1, \"High\":2}}\n",
    "df_test.replace(dictionary, inplace=True)\n",
    "\n",
    "print('\\nISNULL SUM ON SEL. COL.:', df_test['Spending_Score'].isnull().sum())"
   ]
  },
  {
   "cell_type": "code",
   "execution_count": 18,
   "metadata": {},
   "outputs": [],
   "source": [
    "numeric_features = ['ID', 'Age', 'Work_Experience','Family_Size','Age', 'Spending_Score']\n",
    "\n",
    "# numeric transformer\n",
    "numeric_transformer = Pipeline(steps=[\n",
    "    ('imputer', SimpleImputer(strategy='median')),\n",
    "    ('scaler', RobustScaler())])\n",
    "\n",
    "# categorical transformer\n",
    "categorical_features = ['Gender', 'Ever_Married', 'Profession','Graduated', 'Var_1', 'Segmentation']\n",
    "categorical_transformer = Pipeline(steps=[\n",
    "    ('imputer', SimpleImputer(strategy='most_frequent')),\n",
    "    ('categorical', OneHotEncoder())])\n",
    "\n",
    "preprocessor = ColumnTransformer(\n",
    "    remainder = 'passthrough',\n",
    "    transformers=[\n",
    "        ('numeric', numeric_transformer, numeric_features),\n",
    "        ('categorical', categorical_transformer, categorical_features),\n",
    "        ('remove', 'drop', to_be_removed)])"
   ]
  },
  {
   "cell_type": "code",
   "execution_count": 19,
   "metadata": {},
   "outputs": [],
   "source": [
    "X_test = preprocessor.fit_transform(df_test)\n",
    "y_test = df_test['Segmentation']"
   ]
  },
  {
   "cell_type": "markdown",
   "metadata": {},
   "source": [
    "No outliers to drop"
   ]
  },
  {
   "cell_type": "markdown",
   "metadata": {},
   "source": [
    "scaling the data"
   ]
  },
  {
   "cell_type": "markdown",
   "metadata": {},
   "source": [
    "before robust scaler but already done in pipeline"
   ]
  },
  {
   "cell_type": "code",
   "execution_count": 20,
   "metadata": {},
   "outputs": [
    {
     "data": {
      "image/png": "[encoded data removed]",
      "text/plain": [
       "<Figure size 432x432 with 1 Axes>"
      ]
     },
     "metadata": {
      "needs_background": "light"
     },
     "output_type": "display_data"
    }
   ],
   "source": [
    "plt.figure(figsize=(6,6))\n",
    "ax = sns.boxplot(data=X_train, orient=\"h\", palette=\"Set2\")"
   ]
  },
  {
   "cell_type": "code",
   "execution_count": 21,
   "metadata": {},
   "outputs": [],
   "source": [
    "# from sklearn.preprocessing import RobustScaler\n",
    "\n",
    "# transformer = RobustScaler().fit(X_train)\n",
    "# X_train = transformer.transform(X_train)"
   ]
  },
  {
   "cell_type": "code",
   "execution_count": 22,
   "metadata": {},
   "outputs": [],
   "source": [
    "# transformer = RobustScaler().fit(X_test)\n",
    "# X_test = transformer.transform(X_test)"
   ]
  },
  {
   "cell_type": "markdown",
   "metadata": {},
   "source": [
    "before robust scaler AFTER SCALING IT AGAIN"
   ]
  },
  {
   "cell_type": "markdown",
   "metadata": {
    "id": "j2R2qnGnE4tk"
   },
   "source": [
    "## (2) Train a **Softmax Regression** model able to predict the Segmentation class.\n",
    "* **(a)** Perform features pre-processing if necessary. Discuss your choices and the performed actions.\n",
    "* **(b)** Train a regularized model by applying $\\ell_2$ regularization (default regularization when you perform multinominal LogisticRegression on sklearn): tune the hyperparameter $C$ in order to optimize the generalization performances of the model. What happens if you increase the value of $C$ ?\n",
    "* **(c)** Evaluate the trained model on the provided test set: produce a confusion matrix comparing the true target test values to the predicted target values; calculate Precision, Recall and f-score for each class. Discuss the obtained results.\n"
   ]
  },
  {
   "cell_type": "code",
   "execution_count": 23,
   "metadata": {},
   "outputs": [],
   "source": [
    "from sklearn.linear_model import LogisticRegression"
   ]
  },
  {
   "cell_type": "code",
   "execution_count": 24,
   "metadata": {
    "id": "A4lQ5F23Dlw2"
   },
   "outputs": [
    {
     "data": {
      "text/plain": [
       "LogisticRegression(C=10, multi_class='multinomial')"
      ]
     },
     "execution_count": 24,
     "metadata": {},
     "output_type": "execute_result"
    }
   ],
   "source": [
    "softmax_reg = LogisticRegression(multi_class=\"multinomial\",solver=\"lbfgs\", C=10)\n",
    "softmax_reg.fit(X_train, y_train)"
   ]
  },
  {
   "cell_type": "code",
   "execution_count": 25,
   "metadata": {},
   "outputs": [],
   "source": [
    "y_pred = softmax_reg.predict(X_test)"
   ]
  },
  {
   "cell_type": "code",
   "execution_count": 26,
   "metadata": {},
   "outputs": [
    {
     "name": "stdout",
     "output_type": "stream",
     "text": [
      "              precision    recall  f1-score   support\n",
      "\n",
      "           A       1.00      1.00      1.00       716\n",
      "           B       1.00      1.00      1.00       471\n",
      "           C       1.00      1.00      1.00       396\n",
      "           D       1.00      1.00      1.00       656\n",
      "\n",
      "    accuracy                           1.00      2239\n",
      "   macro avg       1.00      1.00      1.00      2239\n",
      "weighted avg       1.00      1.00      1.00      2239\n",
      "\n"
     ]
    }
   ],
   "source": [
    "from sklearn.metrics import classification_report \n",
    "\n",
    "print(classification_report(y_test, y_pred))"
   ]
  },
  {
   "cell_type": "code",
   "execution_count": 27,
   "metadata": {},
   "outputs": [
    {
     "name": "stdout",
     "output_type": "stream",
     "text": [
      "test:\n",
      " 0       B\n",
      "1       A\n",
      "2       B\n",
      "4       C\n",
      "5       D\n",
      "       ..\n",
      "2551    D\n",
      "2552    B\n",
      "2553    A\n",
      "2555    C\n",
      "2556    A\n",
      "Name: Segmentation, Length: 2239, dtype: object \n",
      "pred: ['B' 'A' 'B' ... 'A' 'C' 'A']\n"
     ]
    }
   ],
   "source": [
    "print('test:\\n', y_test, '\\npred:', y_pred)"
   ]
  },
  {
   "cell_type": "code",
   "execution_count": 28,
   "metadata": {},
   "outputs": [
    {
     "name": "stdout",
     "output_type": "stream",
     "text": [
      "[[716   0   0   0]\n",
      " [  0 471   0   0]\n",
      " [  0   0 396   0]\n",
      " [  0   0   0 656]]\n"
     ]
    }
   ],
   "source": [
    "import seaborn as sns\n",
    "from sklearn.metrics import confusion_matrix\n",
    "\n",
    "print(confusion_matrix(y_test, y_pred))"
   ]
  },
  {
   "cell_type": "code",
   "execution_count": 29,
   "metadata": {},
   "outputs": [
    {
     "data": {
      "text/plain": [
       "Text(33.0, 0.5, 'Real')"
      ]
     },
     "execution_count": 29,
     "metadata": {},
     "output_type": "execute_result"
    },
    {
     "data": {
      "image/png": "[encoded data removed]",
      "text/plain": [
       "<Figure size 432x288 with 2 Axes>"
      ]
     },
     "metadata": {
      "needs_background": "light"
     },
     "output_type": "display_data"
    }
   ],
   "source": [
    "import seaborn as sns\n",
    "from sklearn.metrics import confusion_matrix\n",
    "\n",
    "ax = sns.heatmap(confusion_matrix(y_test, y_pred), annot=True, cmap='Blues')\n",
    "\n",
    "ax.set_title('Confusion Matrix Decision Tree classifier\\n')\n",
    "ax.set_xlabel('\\nPredicted')\n",
    "ax.set_ylabel('Real')"
   ]
  },
  {
   "cell_type": "markdown",
   "metadata": {
    "id": "ELCVreO3FY1n"
   },
   "source": [
    "## (3) Train a **kNearestNeighbor** model able to predict the Segmentation class.\n",
    "* **(a)** Perform features pre-processing if necessary. Discuss your choices and the\n",
    "performed actions.\n",
    "* **(b)** Train a k-Nearest Neighbour classifier on the training set, eventually tuning the model’s hyperparameters. Specify which hyperparameter requires a tuning procedure, and how does the model performs with different hyperpa- rameter values.\n",
    "* **(c)** Evaluate the trained model on the provided test set: produce a confusion matrix comparing the true target test values to the predicted target values; calculate Precision, Recall and f-score for each class. Discuss the obtained results."
   ]
  },
  {
   "cell_type": "code",
   "execution_count": 30,
   "metadata": {
    "id": "bBv93x8hFmAa"
   },
   "outputs": [
    {
     "data": {
      "text/plain": [
       "<matplotlib.legend.Legend at 0x186cdbe1ca0>"
      ]
     },
     "execution_count": 30,
     "metadata": {},
     "output_type": "execute_result"
    },
    {
     "data": {
      "image/png": "[encoded data removed]",
      "text/plain": [
       "<Figure size 432x288 with 1 Axes>"
      ]
     },
     "metadata": {
      "needs_background": "light"
     },
     "output_type": "display_data"
    }
   ],
   "source": [
    "from sklearn.neighbors import KNeighborsClassifier \n",
    "\n",
    "training_accuracy = [] \n",
    "test_accuracy = []\n",
    "\n",
    "# try n_neighbors from 1 to 10 \n",
    "neighbors_settings = range(1, 10)\n",
    "\n",
    "for n_neighbors in neighbors_settings:\n",
    "\n",
    "    clf = KNeighborsClassifier(n_neighbors=n_neighbors) \n",
    "    clf.fit(X_train, y_train)\n",
    "\n",
    "    training_accuracy.append(clf.score(X_train, y_train)) \n",
    "    test_accuracy.append(clf.score(X_test, y_test))\n",
    "    \n",
    "plt.plot(neighbors_settings, training_accuracy, label=\"training accuracy\")\n",
    "plt.plot(neighbors_settings, test_accuracy, label=\"test accuracy\")\n",
    "plt.ylabel(\"Accuracy\")\n",
    "plt.xlabel(\"n_neighbors\")\n",
    "plt.legend()"
   ]
  },
  {
   "cell_type": "markdown",
   "metadata": {},
   "source": [
    "with 8 neighbours we have the best generalization model"
   ]
  },
  {
   "cell_type": "code",
   "execution_count": 31,
   "metadata": {},
   "outputs": [],
   "source": [
    "clf = KNeighborsClassifier(n_neighbors=8)\n",
    "clf.fit(X_train, y_train)\n",
    "y_pred = clf.predict(X_test)"
   ]
  },
  {
   "cell_type": "code",
   "execution_count": 32,
   "metadata": {},
   "outputs": [
    {
     "name": "stdout",
     "output_type": "stream",
     "text": [
      "              precision    recall  f1-score   support\n",
      "\n",
      "           A       0.99      1.00      1.00       716\n",
      "           B       0.99      0.99      0.99       471\n",
      "           C       0.98      0.96      0.97       396\n",
      "           D       0.98      0.98      0.98       656\n",
      "\n",
      "    accuracy                           0.99      2239\n",
      "   macro avg       0.99      0.98      0.98      2239\n",
      "weighted avg       0.99      0.99      0.99      2239\n",
      "\n"
     ]
    }
   ],
   "source": [
    "from sklearn.metrics import classification_report \n",
    "\n",
    "print(classification_report(y_test, y_pred))"
   ]
  },
  {
   "cell_type": "code",
   "execution_count": 33,
   "metadata": {},
   "outputs": [
    {
     "data": {
      "image/png": "[encoded data removed]",
      "text/plain": [
       "<Figure size 432x288 with 2 Axes>"
      ]
     },
     "metadata": {
      "needs_background": "light"
     },
     "output_type": "display_data"
    }
   ],
   "source": [
    "import seaborn as sns\n",
    "import matplotlib.pyplot as plt\n",
    "\n",
    "ax = sns.heatmap(confusion_matrix(y_test, y_pred), annot=True, cmap='Blues')\n",
    "\n",
    "ax.set_title('Confusion Matrix k-NearestNeighbour classifier (k=3)\\n');\n",
    "ax.set_xlabel('\\nPredicted')\n",
    "ax.set_ylabel('Real');\n",
    "\n",
    "## Ticket labels - List must be in alphabetical order\n",
    "ax.xaxis.set_ticklabels(y_train.drop_duplicates().sort_values())\n",
    "ax.yaxis.set_ticklabels(y_train.drop_duplicates().sort_values())\n",
    "\n",
    "## Display the visualization of the Confusion Matrix.\n",
    "plt.show()"
   ]
  },
  {
   "cell_type": "code",
   "execution_count": 34,
   "metadata": {},
   "outputs": [
    {
     "name": "stdout",
     "output_type": "stream",
     "text": [
      "[[716   0   0   0]\n",
      " [  1 468   0   2]\n",
      " [  5   1 380  10]\n",
      " [  0   5   7 644]]\n"
     ]
    }
   ],
   "source": [
    "import seaborn as sns\n",
    "from sklearn.metrics import confusion_matrix\n",
    "\n",
    "print(confusion_matrix(y_test, y_pred))"
   ]
  },
  {
   "cell_type": "markdown",
   "metadata": {},
   "source": [
    "we see that classes C and D are not very well predicted, knn makes some errors"
   ]
  },
  {
   "cell_type": "markdown",
   "metadata": {
    "id": "kMGMG5-0Fuve"
   },
   "source": [
    "## (4) Train a **DecisionTree** model able to predict the Segmentation class.\n",
    "* **(a)** Perform features pre-processing if necessary. Discuss your choices and the\n",
    "performed actions.\n",
    "* **(b)** Use grid search with cross-validation (with the help of the GridSearchCV class) to find good hyperparameter values for the DecisionTreeClassifier: make a choice on the hyperparameters you might tune and provide com- ments on you choice. Specify which hyperparameter might require a tuning procedure, and which is the effect of the tuning procedure on the final model.\n",
    "* **(c)** Evaluate the trained model on the provided test set: produce a confusion matrix comparing the true target test values to the predicted target values; calculate Precision, Recall and f-score for each class. Discuss the obtained results.\n"
   ]
  },
  {
   "cell_type": "code",
   "execution_count": 35,
   "metadata": {
    "id": "-Iyi3aYJF5M3"
   },
   "outputs": [
    {
     "name": "stdout",
     "output_type": "stream",
     "text": [
      "Fitting 3 folds for each of 294 candidates, totalling 882 fits\n"
     ]
    },
    {
     "data": {
      "text/plain": [
       "GridSearchCV(cv=3, estimator=DecisionTreeClassifier(random_state=42), n_jobs=-1,\n",
       "             param_grid={'max_leaf_nodes': [2, 3, 4, 5, 6, 7, 8, 9, 10, 11, 12,\n",
       "                                            13, 14, 15, 16, 17, 18, 19, 20, 21,\n",
       "                                            22, 23, 24, 25, 26, 27, 28, 29, 30,\n",
       "                                            31, ...],\n",
       "                         'min_samples_split': [2, 3, 4]},\n",
       "             verbose=1)"
      ]
     },
     "execution_count": 35,
     "metadata": {},
     "output_type": "execute_result"
    }
   ],
   "source": [
    "from sklearn.model_selection import GridSearchCV\n",
    "from sklearn.tree import DecisionTreeClassifier\n",
    "\n",
    "\n",
    "params = {'max_leaf_nodes': list(range(2, 100)), 'min_samples_split': [2, 3, 4]}\n",
    "grid_search_cv = GridSearchCV(DecisionTreeClassifier(random_state=42), params, n_jobs=-1, verbose=1, cv=3)\n",
    "\n",
    "grid_search_cv.fit(X_train, y_train)"
   ]
  },
  {
   "cell_type": "code",
   "execution_count": 36,
   "metadata": {},
   "outputs": [
    {
     "data": {
      "text/plain": [
       "{'max_leaf_nodes': 4, 'min_samples_split': 2}"
      ]
     },
     "execution_count": 36,
     "metadata": {},
     "output_type": "execute_result"
    }
   ],
   "source": [
    "grid_search_cv.best_params_"
   ]
  },
  {
   "cell_type": "code",
   "execution_count": 37,
   "metadata": {},
   "outputs": [
    {
     "name": "stdout",
     "output_type": "stream",
     "text": [
      "              precision    recall  f1-score   support\n",
      "\n",
      "           A       1.00      1.00      1.00       716\n",
      "           B       1.00      1.00      1.00       471\n",
      "           C       1.00      1.00      1.00       396\n",
      "           D       1.00      1.00      1.00       656\n",
      "\n",
      "    accuracy                           1.00      2239\n",
      "   macro avg       1.00      1.00      1.00      2239\n",
      "weighted avg       1.00      1.00      1.00      2239\n",
      "\n"
     ]
    }
   ],
   "source": [
    "from sklearn.metrics import classification_report \n",
    "\n",
    "y_pred = grid_search_cv.predict(X_test)\n",
    "print(classification_report(y_test, y_pred))"
   ]
  },
  {
   "cell_type": "markdown",
   "metadata": {},
   "source": [
    "By default, `GridSearchCV` trains the best model found on the whole training set. "
   ]
  },
  {
   "cell_type": "code",
   "execution_count": 38,
   "metadata": {},
   "outputs": [
    {
     "data": {
      "image/png": "[encoded data removed]",
      "text/plain": [
       "<Figure size 432x288 with 2 Axes>"
      ]
     },
     "metadata": {
      "needs_background": "light"
     },
     "output_type": "display_data"
    }
   ],
   "source": [
    "import seaborn as sns\n",
    "import matplotlib.pyplot as plt\n",
    "from sklearn.metrics import confusion_matrix \n",
    "\n",
    "ax = sns.heatmap(confusion_matrix(y_test, y_pred), annot=True, cmap='Blues')\n",
    "\n",
    "ax.set_title('Confusion Matrix Decision Tree classifier\\n');\n",
    "ax.set_xlabel('\\nPredicted')\n",
    "ax.set_ylabel('Real');\n",
    "\n",
    "## Display the visualization of the Confusion Matrix.\n",
    "plt.show()"
   ]
  },
  {
   "cell_type": "markdown",
   "metadata": {
    "id": "yj4-b8R5F7xo"
   },
   "source": [
    "## (5) Train a **Random Forest** model able to predict the Segmentation class.\n",
    "* **(a)** Perform features pre-processing if necessary. Discuss your choices and the\n",
    "performed actions.\n",
    "* **(b)** Use grid search with cross-validation (with the help of the GridSearchCV class) to find good hyperparameter values for the RandomForestClassifier: make a choice on the hyperparameters you might tune and provide com- ments on you choice. Specify which hyper-parameter might require a tuning procedure (concentrate on the hyperparameters related to the ensemble, and skip the ones discussed above and related to the DecisionTree).\n",
    "* **(c)** Which are the 2 most important features for the trained model?\n",
    "* **(d)** Evaluate the trained ensemble model on the provided test set: produce a confusion matrix comparing the true target test values to the predicted target values; calculate Precision, Recall and f-score for each class. Discuss the obtained results."
   ]
  },
  {
   "cell_type": "code",
   "execution_count": 39,
   "metadata": {
    "id": "Spc-QC4sGGUW"
   },
   "outputs": [],
   "source": [
    "from sklearn.ensemble import RandomForestClassifier\n",
    "\n",
    "rnd_clf = RandomForestClassifier(n_estimators=1000, max_leaf_nodes=17, min_samples_split=2 , n_jobs=-1)\n",
    "\n",
    "rnd_clf.fit(X_train, y_train)\n",
    "\n",
    "y_pred = rnd_clf.predict(X_test)"
   ]
  },
  {
   "cell_type": "code",
   "execution_count": 40,
   "metadata": {},
   "outputs": [
    {
     "name": "stdout",
     "output_type": "stream",
     "text": [
      "              precision    recall  f1-score   support\n",
      "\n",
      "           A       1.00      1.00      1.00       716\n",
      "           B       1.00      1.00      1.00       471\n",
      "           C       1.00      1.00      1.00       396\n",
      "           D       1.00      1.00      1.00       656\n",
      "\n",
      "    accuracy                           1.00      2239\n",
      "   macro avg       1.00      1.00      1.00      2239\n",
      "weighted avg       1.00      1.00      1.00      2239\n",
      "\n"
     ]
    }
   ],
   "source": [
    "print(classification_report(y_test, y_pred))"
   ]
  },
  {
   "cell_type": "code",
   "execution_count": 41,
   "metadata": {},
   "outputs": [
    {
     "data": {
      "image/png": "[encoded data removed]",
      "text/plain": [
       "<Figure size 432x288 with 2 Axes>"
      ]
     },
     "metadata": {
      "needs_background": "light"
     },
     "output_type": "display_data"
    }
   ],
   "source": [
    "ax = sns.heatmap(confusion_matrix(y_test, y_pred), annot=True, cmap='Blues')\n",
    "\n",
    "ax.set_title('Confusion Matrix: Forest of Decision Trees\\n');\n",
    "ax.set_xlabel('\\nPredicted')\n",
    "ax.set_ylabel('Real');\n",
    "\n",
    "## Display the visualization of the Confusion Matrix.\n",
    "plt.show()"
   ]
  },
  {
   "cell_type": "markdown",
   "metadata": {
    "id": "4acIRfqsNQHE"
   },
   "source": [
    "## (6) Compare the performances of the previously trained classifiers and discuss the results."
   ]
  },
  {
   "cell_type": "markdown",
   "metadata": {
    "id": "KNlgBh0HNVvU"
   },
   "source": [
    "RF, DT and softmax regression seems the best ones at predicting the classes"
   ]
  },
  {
   "cell_type": "markdown",
   "metadata": {
    "id": "ANHOuPtZGI4N"
   },
   "source": [
    "## (7) **OPTIONAL**. Train a **Voting Classifier** model able to predict the Segmentation class.\n",
    "* **(a)** Combine the models trained above into an ensemble, using a soft or hard\n",
    "voting classifier.\n",
    "* **(b)** Evaluate the trained model on the provided test set: produce a confusion matrix comparing the true target test values to the predicted target values; calculate Precision, Recall and f-score for each class. Discuss the obtained results.\n",
    "* **(c)** How much better does the voting classifier perform compared to the individual classifiers?"
   ]
  },
  {
   "cell_type": "code",
   "execution_count": null,
   "metadata": {
    "id": "1Ltb0rt_GWI2"
   },
   "outputs": [],
   "source": []
  },
  {
   "cell_type": "markdown",
   "metadata": {
    "id": "bM9ptixQGXCB"
   },
   "source": [
    "## (8) **OPTIONAL**. Train various classifiers and include them in the Voting Classifier.\n",
    "Train various classifiers (different from the ones trained above): such as Naive Bayes classifier, Extra-Trees classifier, AdaBoost classifier, GradientBoost classifier, XGBoost classifier. Include the trained models in the Voting Classifier trained above and evaluate again the model."
   ]
  },
  {
   "cell_type": "code",
   "execution_count": null,
   "metadata": {
    "id": "VI9i1rGQGgeN"
   },
   "outputs": [],
   "source": []
  }
 ],
 "metadata": {
  "colab": {
   "name": "Project2_template.ipynb",
   "provenance": [],
   "toc_visible": true
  },
  "kernelspec": {
   "display_name": "Python 3 (ipykernel)",
   "language": "python",
   "name": "python3"
  },
  "language_info": {
   "codemirror_mode": {
    "name": "ipython",
    "version": 3
   },
   "file_extension": ".py",
   "mimetype": "text/x-python",
   "name": "python",
   "nbconvert_exporter": "python",
   "pygments_lexer": "ipython3",
   "version": "3.9.7"
  }
 },
 "nbformat": 4,
 "nbformat_minor": 1
}
