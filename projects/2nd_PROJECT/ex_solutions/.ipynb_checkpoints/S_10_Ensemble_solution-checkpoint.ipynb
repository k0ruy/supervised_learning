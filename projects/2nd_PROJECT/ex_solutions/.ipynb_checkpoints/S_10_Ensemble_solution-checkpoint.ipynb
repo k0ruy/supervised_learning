{
 "cells": [
  {
   "cell_type": "markdown",
   "metadata": {
    "id": "6OGxFsRzedAs"
   },
   "source": [
    "# Practice 10A: Ensemble Learning\n",
    "Ref: Aurélien Géron. \"Hands-on Machine Learning with Scikit-Learn, Keras, and TensorFlow\""
   ]
  },
  {
   "cell_type": "code",
   "execution_count": 12,
   "metadata": {
    "id": "bQepejx2fFTX"
   },
   "outputs": [],
   "source": [
    "import numpy as np\n",
    "from sklearn.model_selection import train_test_split\n",
    "from sklearn.ensemble import RandomForestClassifier\n",
    "from sklearn.ensemble import ExtraTreesClassifier\n",
    "from sklearn.linear_model import LogisticRegression \n",
    "from sklearn.svm import LinearSVC\n",
    "from sklearn.neural_network import MLPClassifier"
   ]
  },
  {
   "cell_type": "markdown",
   "metadata": {
    "id": "X_sJMlvZembn"
   },
   "source": [
    "# (1) Voting Classifier."
   ]
  },
  {
   "cell_type": "markdown",
   "metadata": {
    "id": "j83eJ9rFfczJ"
   },
   "source": [
    "### (a) Load the MNIST dataset, \n",
    "which is a set of 70,000 small images (28x28 pixels) of digits handwritten. Each image is labeled with the digit it represents."
   ]
  },
  {
   "cell_type": "code",
   "execution_count": 2,
   "metadata": {
    "id": "zwRGdJ57evos"
   },
   "outputs": [],
   "source": [
    "from sklearn.datasets import fetch_openml\n",
    "mnist = fetch_openml('mnist_784', version=1)\n",
    "X, y = mnist[\"data\"], mnist[\"target\"]\n",
    "y = y.astype(np.uint8)"
   ]
  },
  {
   "cell_type": "markdown",
   "metadata": {
    "id": "R8-WPsQEfQxa"
   },
   "source": [
    "### (b) Split the dataset into a training set, a validation set, and a test set \n",
    "(e.g., use first 50,000 instances for training, subsequent 10,000 for validation, and last 10,000 for testing)."
   ]
  },
  {
   "cell_type": "code",
   "execution_count": 3,
   "metadata": {
    "id": "DQrfY7RvfJK9"
   },
   "outputs": [],
   "source": [
    "X_train_val, X_test, y_train_val, y_test = X[:60000], X[60000:], y[:60000], y[60000:]"
   ]
  },
  {
   "cell_type": "code",
   "execution_count": 4,
   "metadata": {
    "id": "mPATepESfjTz"
   },
   "outputs": [],
   "source": [
    "X_train, X_val, y_train, y_val = train_test_split(X_train_val, y_train_val, test_size=10000, random_state=42) "
   ]
  },
  {
   "cell_type": "markdown",
   "metadata": {
    "id": "O9KPxl7GiqxS"
   },
   "source": [
    "### (c) Then train various classifiers, such as a Random Forest classifier, an Extra- Trees classifier, a Softmax Regression."
   ]
  },
  {
   "cell_type": "code",
   "execution_count": 6,
   "metadata": {
    "colab": {
     "base_uri": "https://localhost:8080/"
    },
    "id": "xWVEMgHKisz9",
    "outputId": "a289124a-aeae-491b-f6c7-1acd1afa17d4"
   },
   "outputs": [
    {
     "data": {
      "text/plain": [
       "RandomForestClassifier(n_estimators=10, random_state=42)"
      ]
     },
     "execution_count": 6,
     "metadata": {},
     "output_type": "execute_result"
    }
   ],
   "source": [
    "#Random forest\n",
    "rnd_forest_clf = RandomForestClassifier(n_estimators=10, random_state=42)\n",
    "rnd_forest_clf.fit(X_train, y_train)"
   ]
  },
  {
   "cell_type": "code",
   "execution_count": 7,
   "metadata": {
    "colab": {
     "base_uri": "https://localhost:8080/"
    },
    "id": "rQl0GOjvjbL7",
    "outputId": "697365d7-8313-48e2-84cd-48e36964846f"
   },
   "outputs": [
    {
     "data": {
      "text/plain": [
       "ExtraTreesClassifier(n_estimators=10, random_state=42)"
      ]
     },
     "execution_count": 7,
     "metadata": {},
     "output_type": "execute_result"
    }
   ],
   "source": [
    "#Extra Tree\n",
    "# we might increase the number of trees\n",
    "ext_clf = ExtraTreesClassifier(n_estimators=10, random_state=42)\n",
    "ext_clf.fit(X_train, y_train)\n"
   ]
  },
  {
   "cell_type": "code",
   "execution_count": 8,
   "metadata": {
    "colab": {
     "base_uri": "https://localhost:8080/"
    },
    "id": "ld1BynGjjvI-",
    "outputId": "9d49e4f3-cd82-4959-cb99-7bf803787173"
   },
   "outputs": [
    {
     "name": "stderr",
     "output_type": "stream",
     "text": [
      "/usr/local/lib/python3.7/dist-packages/sklearn/linear_model/_logistic.py:818: ConvergenceWarning: lbfgs failed to converge (status=1):\n",
      "STOP: TOTAL NO. of ITERATIONS REACHED LIMIT.\n",
      "\n",
      "Increase the number of iterations (max_iter) or scale the data as shown in:\n",
      "    https://scikit-learn.org/stable/modules/preprocessing.html\n",
      "Please also refer to the documentation for alternative solver options:\n",
      "    https://scikit-learn.org/stable/modules/linear_model.html#logistic-regression\n",
      "  extra_warning_msg=_LOGISTIC_SOLVER_CONVERGENCE_MSG,\n"
     ]
    },
    {
     "data": {
      "text/plain": [
       "LogisticRegression(C=10, multi_class='multinomial')"
      ]
     },
     "execution_count": 8,
     "metadata": {},
     "output_type": "execute_result"
    }
   ],
   "source": [
    "## SoftMax\n",
    "## consider scaling the features\n",
    "softmax_clf = LogisticRegression(multi_class=\"multinomial\",solver=\"lbfgs\", C=10)\n",
    "softmax_clf.fit(X_train, y_train)"
   ]
  },
  {
   "cell_type": "code",
   "execution_count": 13,
   "metadata": {
    "colab": {
     "base_uri": "https://localhost:8080/"
    },
    "id": "DRtSb5xYu8w5",
    "outputId": "d2feff33-4a65-4646-9a8f-d9539f353c49"
   },
   "outputs": [
    {
     "name": "stderr",
     "output_type": "stream",
     "text": [
      "/usr/local/lib/python3.7/dist-packages/sklearn/svm/_base.py:1208: ConvergenceWarning: Liblinear failed to converge, increase the number of iterations.\n",
      "  ConvergenceWarning,\n"
     ]
    },
    {
     "data": {
      "text/plain": [
       "LinearSVC(random_state=42)"
      ]
     },
     "execution_count": 13,
     "metadata": {},
     "output_type": "execute_result"
    }
   ],
   "source": [
    "# Support Vector Classifier\n",
    "svm_clf = LinearSVC(random_state=42)\n",
    "svm_clf.fit(X_train, y_train)"
   ]
  },
  {
   "cell_type": "code",
   "execution_count": 14,
   "metadata": {
    "colab": {
     "base_uri": "https://localhost:8080/"
    },
    "id": "z3S8s-W-vGZo",
    "outputId": "12318192-36ee-44f0-dbba-45ee667fadf4"
   },
   "outputs": [
    {
     "data": {
      "text/plain": [
       "MLPClassifier(random_state=42)"
      ]
     },
     "execution_count": 14,
     "metadata": {},
     "output_type": "execute_result"
    }
   ],
   "source": [
    "mlp_clf = MLPClassifier(random_state=42)\n",
    "mlp_clf.fit(X_train, y_train)"
   ]
  },
  {
   "cell_type": "code",
   "execution_count": 15,
   "metadata": {
    "colab": {
     "base_uri": "https://localhost:8080/"
    },
    "id": "N03BDuCEuWjh",
    "outputId": "bdefd308-9941-4db4-ec02-a384a929ebb5"
   },
   "outputs": [
    {
     "name": "stdout",
     "output_type": "stream",
     "text": [
      "0.9446\n",
      "0.9507\n",
      "0.9219\n",
      "0.8639\n",
      "0.9621\n"
     ]
    }
   ],
   "source": [
    "estimators = [rnd_forest_clf, ext_clf, softmax_clf, svm_clf, mlp_clf]\n",
    "for estimator in estimators:\n",
    "  print(estimator.score(X_val, y_val))"
   ]
  },
  {
   "cell_type": "markdown",
   "metadata": {
    "id": "eNFoft6vw2JW"
   },
   "source": [
    "The linear SVM is far outperformed by the other classifiers. However, let's keep it for now since it may improve the voting classifier's performance."
   ]
  },
  {
   "cell_type": "markdown",
   "metadata": {
    "id": "0d5FqAOBuUkH"
   },
   "source": [
    "### (d) Next, try to combine them into an ensemble that outperforms them all on the validation set, using a soft or hard voting classifier."
   ]
  },
  {
   "cell_type": "code",
   "execution_count": 16,
   "metadata": {
    "id": "I5FpmnJjvnUt"
   },
   "outputs": [],
   "source": [
    "from sklearn.ensemble import VotingClassifier\n",
    "\n",
    "named_estimators = [\n",
    "    (\"random_forest_clf\", rnd_forest_clf),\n",
    "    (\"extra_trees_clf\", ext_clf),\n",
    "    (\"softmax_clf\", softmax_clf),\n",
    "    (\"svm_clf\", svm_clf),\n",
    "    (\"mlp_clf\", mlp_clf),\n",
    "]"
   ]
  },
  {
   "cell_type": "code",
   "execution_count": 17,
   "metadata": {
    "id": "vqGd_ME7wOSq"
   },
   "outputs": [],
   "source": [
    "voting_clf = VotingClassifier(named_estimators)"
   ]
  },
  {
   "cell_type": "code",
   "execution_count": 18,
   "metadata": {
    "colab": {
     "base_uri": "https://localhost:8080/"
    },
    "id": "erONbta4wPl4",
    "outputId": "fdbdc462-a195-4b0c-beb4-594e785a80eb"
   },
   "outputs": [
    {
     "name": "stderr",
     "output_type": "stream",
     "text": [
      "/usr/local/lib/python3.7/dist-packages/sklearn/linear_model/_logistic.py:818: ConvergenceWarning: lbfgs failed to converge (status=1):\n",
      "STOP: TOTAL NO. of ITERATIONS REACHED LIMIT.\n",
      "\n",
      "Increase the number of iterations (max_iter) or scale the data as shown in:\n",
      "    https://scikit-learn.org/stable/modules/preprocessing.html\n",
      "Please also refer to the documentation for alternative solver options:\n",
      "    https://scikit-learn.org/stable/modules/linear_model.html#logistic-regression\n",
      "  extra_warning_msg=_LOGISTIC_SOLVER_CONVERGENCE_MSG,\n",
      "/usr/local/lib/python3.7/dist-packages/sklearn/svm/_base.py:1208: ConvergenceWarning: Liblinear failed to converge, increase the number of iterations.\n",
      "  ConvergenceWarning,\n"
     ]
    },
    {
     "data": {
      "text/plain": [
       "VotingClassifier(estimators=[('random_forest_clf',\n",
       "                              RandomForestClassifier(n_estimators=10,\n",
       "                                                     random_state=42)),\n",
       "                             ('extra_trees_clf',\n",
       "                              ExtraTreesClassifier(n_estimators=10,\n",
       "                                                   random_state=42)),\n",
       "                             ('softmax_clf',\n",
       "                              LogisticRegression(C=10,\n",
       "                                                 multi_class='multinomial')),\n",
       "                             ('svm_clf', LinearSVC(random_state=42)),\n",
       "                             ('mlp_clf', MLPClassifier(random_state=42))])"
      ]
     },
     "execution_count": 18,
     "metadata": {},
     "output_type": "execute_result"
    }
   ],
   "source": [
    "voting_clf.fit(X_train, y_train)"
   ]
  },
  {
   "cell_type": "code",
   "execution_count": 19,
   "metadata": {
    "colab": {
     "base_uri": "https://localhost:8080/"
    },
    "id": "4Rd94FeYwxDa",
    "outputId": "466c60d7-864f-4c8a-bc30-76aef16f2165"
   },
   "outputs": [
    {
     "data": {
      "text/plain": [
       "0.9608"
      ]
     },
     "execution_count": 19,
     "metadata": {},
     "output_type": "execute_result"
    }
   ],
   "source": [
    "voting_clf.score(X_val, y_val)"
   ]
  },
  {
   "cell_type": "markdown",
   "metadata": {
    "id": "euz_buT60uJ1"
   },
   "source": [
    "The Hard Voting classifier is performing as the best classifier in the ensamble. "
   ]
  },
  {
   "cell_type": "code",
   "execution_count": 20,
   "metadata": {
    "colab": {
     "base_uri": "https://localhost:8080/"
    },
    "id": "45mCc-iJ0aiw",
    "outputId": "0c537722-1688-403a-e970-21ad38e895b4"
   },
   "outputs": [
    {
     "data": {
      "text/plain": [
       "0.9608"
      ]
     },
     "execution_count": 20,
     "metadata": {},
     "output_type": "execute_result"
    }
   ],
   "source": [
    "voting_clf.set_params(svm_clf=None)\n",
    "voting_clf.score(X_val, y_val)"
   ]
  },
  {
   "cell_type": "markdown",
   "metadata": {
    "id": "48rRmADp0rk2"
   },
   "source": [
    "Excluding the SVM for the Ensamble, does not change the performances of the model."
   ]
  },
  {
   "cell_type": "code",
   "execution_count": 25,
   "metadata": {
    "colab": {
     "base_uri": "https://localhost:8080/"
    },
    "id": "nkZgbYIZ1F7s",
    "outputId": "19c9e96d-3bc6-415f-9050-f5700074549f"
   },
   "outputs": [
    {
     "data": {
      "text/plain": [
       "[('random_forest_clf',\n",
       "  RandomForestClassifier(n_estimators=10, random_state=42)),\n",
       " ('extra_trees_clf', ExtraTreesClassifier(n_estimators=10, random_state=42)),\n",
       " ('softmax_clf', None),\n",
       " ('svm_clf', None),\n",
       " ('mlp_clf', MLPClassifier(random_state=42))]"
      ]
     },
     "execution_count": 25,
     "metadata": {},
     "output_type": "execute_result"
    }
   ],
   "source": [
    "voting_clf.set_params(softmax_clf=None)\n",
    "voting_clf.set_params(svm_clf=None)\n",
    "voting_clf.estimators_"
   ]
  },
  {
   "cell_type": "code",
   "execution_count": 28,
   "metadata": {
    "colab": {
     "base_uri": "https://localhost:8080/"
    },
    "id": "-5RJAcn82xbT",
    "outputId": "2aa11bed-e44a-426c-be1e-8a47fc154229"
   },
   "outputs": [
    {
     "data": {
      "text/plain": [
       "[RandomForestClassifier(n_estimators=10, random_state=42),\n",
       " ExtraTreesClassifier(n_estimators=10, random_state=42),\n",
       " MLPClassifier(random_state=42)]"
      ]
     },
     "execution_count": 28,
     "metadata": {},
     "output_type": "execute_result"
    }
   ],
   "source": [
    "del voting_clf.estimators_[2]\n",
    "del voting_clf.estimators_[3]\n",
    "voting_clf.estimators_"
   ]
  },
  {
   "cell_type": "code",
   "execution_count": 29,
   "metadata": {
    "colab": {
     "base_uri": "https://localhost:8080/"
    },
    "id": "pY7P11m42SNe",
    "outputId": "d985ace1-85cb-411b-a583-f924ba4787db"
   },
   "outputs": [
    {
     "data": {
      "text/plain": [
       "0.9718"
      ]
     },
     "execution_count": 29,
     "metadata": {},
     "output_type": "execute_result"
    }
   ],
   "source": [
    "voting_clf.voting = \"soft\"\n",
    "voting_clf.score(X_val, y_val)"
   ]
  },
  {
   "cell_type": "markdown",
   "metadata": {
    "id": "LCCgpIe83W1L"
   },
   "source": [
    "That's a significant improvement, and it's much better than each of the individual classifiers."
   ]
  },
  {
   "cell_type": "markdown",
   "metadata": {
    "id": "kl2zS--TxDKY"
   },
   "source": [
    "### (e) Once you have found one, try it on the test set. How much better does it perform compared to the individual classifiers?"
   ]
  },
  {
   "cell_type": "code",
   "execution_count": 30,
   "metadata": {
    "colab": {
     "base_uri": "https://localhost:8080/"
    },
    "id": "TfK5M7DryUzw",
    "outputId": "38fb97eb-ef38-4958-d2a7-cda6b731ed42"
   },
   "outputs": [
    {
     "data": {
      "text/plain": [
       "0.971"
      ]
     },
     "execution_count": 30,
     "metadata": {},
     "output_type": "execute_result"
    }
   ],
   "source": [
    "voting_clf.score(X_test, y_test)"
   ]
  },
  {
   "cell_type": "code",
   "execution_count": 33,
   "metadata": {
    "colab": {
     "base_uri": "https://localhost:8080/"
    },
    "id": "qHUsT9Ab3f1f",
    "outputId": "acc5fef9-87c9-48f5-b414-f93b335da30b"
   },
   "outputs": [
    {
     "name": "stdout",
     "output_type": "stream",
     "text": [
      "0.9432\n",
      "0.9467\n",
      "0.9626\n"
     ]
    }
   ],
   "source": [
    "for estimator in voting_clf.estimators_:\n",
    "  print(estimator.score(X_test, y_test))"
   ]
  },
  {
   "cell_type": "markdown",
   "metadata": {
    "id": "AuX642-k3q0q"
   },
   "source": [
    "The voting classifier reduced the error rate of each single model, and of the hard voting classifier. "
   ]
  },
  {
   "cell_type": "markdown",
   "metadata": {
    "id": "u7f4IO8QeY_n"
   },
   "source": [
    "# (2)Stacking."
   ]
  },
  {
   "cell_type": "markdown",
   "metadata": {
    "id": "-G54o9F_4S9c"
   },
   "source": [
    "### (a) Run the individual classifiers from the previous exercise to make predictions on the validation set, and create a new training set with the resulting predictions: each training instance is a vector containing the set of predictions from all your classifiers for an image, and the target is the image’s class.\n"
   ]
  },
  {
   "cell_type": "code",
   "execution_count": 34,
   "metadata": {
    "id": "al9iqvXk4lQy"
   },
   "outputs": [],
   "source": [
    "X_val_predictions = np.empty((len(X_val), len(estimators)), dtype=np.float32)\n",
    "\n",
    "for index, estimator in enumerate(estimators):\n",
    "    X_val_predictions[:, index] = estimator.predict(X_val)"
   ]
  },
  {
   "cell_type": "code",
   "execution_count": 35,
   "metadata": {
    "colab": {
     "base_uri": "https://localhost:8080/"
    },
    "id": "HXm6uq3o4u1Q",
    "outputId": "3957b68f-f310-4125-d87e-900121852413"
   },
   "outputs": [
    {
     "data": {
      "text/plain": [
       "array([[7., 7., 7., 7., 7.],\n",
       "       [3., 3., 3., 3., 3.],\n",
       "       [8., 8., 8., 8., 8.],\n",
       "       ...,\n",
       "       [9., 9., 9., 9., 9.],\n",
       "       [8., 8., 8., 8., 8.],\n",
       "       [2., 3., 3., 8., 1.]], dtype=float32)"
      ]
     },
     "execution_count": 35,
     "metadata": {},
     "output_type": "execute_result"
    }
   ],
   "source": [
    "X_val_predictions"
   ]
  },
  {
   "cell_type": "markdown",
   "metadata": {
    "id": "7FLbs8Ir4YAW"
   },
   "source": [
    "### (b) Train a classifier on this new training set. You have just trained a blender, and together with the classifiers they form a stacking ensemble!"
   ]
  },
  {
   "cell_type": "code",
   "execution_count": 36,
   "metadata": {
    "colab": {
     "base_uri": "https://localhost:8080/"
    },
    "id": "wgdlkn9b45TA",
    "outputId": "0fe8ca4c-6a03-4fa4-9cfe-03d99699d8e9"
   },
   "outputs": [
    {
     "data": {
      "text/plain": [
       "RandomForestClassifier(n_estimators=200, oob_score=True, random_state=42)"
      ]
     },
     "execution_count": 36,
     "metadata": {},
     "output_type": "execute_result"
    }
   ],
   "source": [
    "rnd_forest_blender = RandomForestClassifier(n_estimators=200, oob_score=True, random_state=42)\n",
    "rnd_forest_blender.fit(X_val_predictions, y_val)"
   ]
  },
  {
   "cell_type": "code",
   "execution_count": 37,
   "metadata": {
    "colab": {
     "base_uri": "https://localhost:8080/"
    },
    "id": "SsOrLgzn5ADP",
    "outputId": "3f30fe7f-e525-4589-9446-9f16304f167f"
   },
   "outputs": [
    {
     "data": {
      "text/plain": [
       "0.963"
      ]
     },
     "execution_count": 37,
     "metadata": {},
     "output_type": "execute_result"
    }
   ],
   "source": [
    "rnd_forest_blender.oob_score_"
   ]
  },
  {
   "cell_type": "markdown",
   "metadata": {
    "id": "V_lTlRtn5PkW"
   },
   "source": [
    "We might fine-tune this blender or try other types of blenders, then select the best one using cross-validation, as always."
   ]
  },
  {
   "cell_type": "markdown",
   "metadata": {
    "id": "v-U7XbLZ4cEo"
   },
   "source": [
    "### (c) Now let’s evaluate the ensemble on the test set. For each image in the test set, make predictions with all your classifiers, then feed the predictions to the blender to get the ensemble’s predictions. How does it compare to the voting classifier you trained earlier?"
   ]
  },
  {
   "cell_type": "code",
   "execution_count": 38,
   "metadata": {
    "id": "VdRcKJgIeUsD"
   },
   "outputs": [],
   "source": [
    "X_test_predictions = np.empty((len(X_test), len(estimators)), dtype=np.float32)\n",
    "\n",
    "for index, estimator in enumerate(estimators):\n",
    "    X_test_predictions[:, index] = estimator.predict(X_test)"
   ]
  },
  {
   "cell_type": "code",
   "execution_count": 39,
   "metadata": {
    "id": "va7vp9BQ5Zle"
   },
   "outputs": [],
   "source": [
    "y_pred = rnd_forest_blender.predict(X_test_predictions)"
   ]
  },
  {
   "cell_type": "code",
   "execution_count": 40,
   "metadata": {
    "colab": {
     "base_uri": "https://localhost:8080/"
    },
    "id": "CS_sGcXB5cMH",
    "outputId": "3f34b082-04c1-4754-a036-3a3f4f2f0010"
   },
   "outputs": [
    {
     "data": {
      "text/plain": [
       "0.9607"
      ]
     },
     "execution_count": 40,
     "metadata": {},
     "output_type": "execute_result"
    }
   ],
   "source": [
    "from sklearn.metrics import accuracy_score\n",
    "accuracy_score(y_test, y_pred)"
   ]
  },
  {
   "cell_type": "markdown",
   "metadata": {
    "id": "7DMGdMBm5n87"
   },
   "source": [
    "This stacking ensemble does not perform as well as the soft voting classifier we trained earlier, it's just as good as the best individual classifier."
   ]
  }
 ],
 "metadata": {
  "colab": {
   "name": "S_10_Ensemble_solution.ipynb",
   "provenance": [],
   "toc_visible": true
  },
  "kernelspec": {
   "display_name": "Python 3 (ipykernel)",
   "language": "python",
   "name": "python3"
  },
  "language_info": {
   "codemirror_mode": {
    "name": "ipython",
    "version": 3
   },
   "file_extension": ".py",
   "mimetype": "text/x-python",
   "name": "python",
   "nbconvert_exporter": "python",
   "pygments_lexer": "ipython3",
   "version": "3.9.7"
  }
 },
 "nbformat": 4,
 "nbformat_minor": 1
}
