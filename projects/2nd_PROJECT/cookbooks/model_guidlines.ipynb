{
 "cells": [
  {
   "cell_type": "markdown",
   "metadata": {
    "collapsed": true,
    "pycharm": {
     "name": "#%% md\n"
    }
   },
   "source": [
    "## Classification\n",
    "### Linear classifiers\n",
    "- Ridge classifier\n",
    "- Lasso classifier\n",
    "- logistic classifiers (target class = 2 outcomes)\n",
    "- softmax classifier (target class + 2 outcomes)\n",
    "- naive bayes classifier:\n",
    "    - bernoulli (binary data)\n",
    "    - multinomial (discrete data)\n",
    "    - gaussian (continuous data)\n",
    "\n",
    "### Non-linear classifiers\n",
    "- K-nearest neighbor classifier\n",
    "- Decision trees\n",
    "#### Preprocessing steps:\n",
    "- Drop / Impute Missing values\n",
    "\n",
    "# Non linear\n",
    "### Evaluation metrics\n",
    "- Accuracy score\n",
    "- Confusion Matrix\n",
    "- Classification Report\n",
    "- ROC\n",
    "- ROC-AUC\n",
    "- Multilabel Confusion Matrix\n",
    "\n",
    "\n",
    "### Ensembles\n",
    "- Random forests\n",
    "- Voting classifiers\n",
    "- Extra forests\n",
    "- Baggers / Boosters / Pasters\n",
    "\n",
    "#### Evaluation metrics\n",
    "- Depends on which models are used for the ensemble\n",
    "\n",
    "\n",
    "\n",
    "## Regression\n",
    "### Linear Models:\n",
    "- Linear regression\n",
    "    - OLS\n",
    "    - Ridge / Lasso (few features or strong multi collinearity, aka the features are related with each other).\n",
    "#### Preprocessing steps:\n",
    "- Drop / Impute Missing values\n",
    "- Scaling required.\n",
    "### Non parametric regression\n",
    "- piecewise:\n",
    "    - linear step function\n",
    "    - polynomial\n",
    "    - spline\n",
    "#### Evaluation metrics\n",
    "- R^2\n",
    "- MSE\n",
    "\n",
    "### Non linear models\n",
    "- decision tree regressor\n",
    "#### Evaluation metrics\n",
    "- Accuracy"
   ]
  }
 ],
 "metadata": {
  "kernelspec": {
   "display_name": "Python 3 (ipykernel)",
   "language": "python",
   "name": "python3"
  },
  "language_info": {
   "codemirror_mode": {
    "name": "ipython",
    "version": 3
   },
   "file_extension": ".py",
   "mimetype": "text/x-python",
   "name": "python",
   "nbconvert_exporter": "python",
   "pygments_lexer": "ipython3",
   "version": "3.9.7"
  }
 },
 "nbformat": 4,
 "nbformat_minor": 1
}
