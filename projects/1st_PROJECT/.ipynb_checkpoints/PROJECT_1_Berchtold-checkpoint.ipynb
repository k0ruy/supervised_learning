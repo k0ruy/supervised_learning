{
 "cells": [
  {
   "cell_type": "markdown",
   "metadata": {
    "id": "bD3hxk5MYCYH"
   },
   "source": [
    "# Project 1\n",
    "*Supervised Learning - AY 2021-2022 - November 17th 2021*\n",
    "\n",
    "The goal of this project is to analyse a dataset representing carseat seals for a company. We want to build a model which will be able to predict the company carseat sales movements for the company’s store locations. The provided dataset includes the following information:\n",
    "* Sales: unit sales at each store location (target feature)\n",
    "* CompPrice: price charged by the nearest competitor at each location\n",
    "* Income: community income level\n",
    "* Advertising: local advertising budget for the company at each location \n",
    "* Population: population size in the region (in thousands)\n",
    "* Price: price charged for a car seat at each site\n",
    "* ShelveLoc: quality of shelving location at site (Good | Bad | Medium) \n",
    "* Age: average age of the local population\n",
    "* Education: education level at each location\n",
    "* Urban: whether the store is in an urban or rural location\n",
    "* USA: whether the store is in the US or not\n",
    "\n",
    "In order to build the desired predictive model, develop the following tasks and answer the following questions."
   ]
  },
  {
   "cell_type": "markdown",
   "metadata": {
    "id": "-Ic0btgaSDxO"
   },
   "source": [
    "## (1.) Load and explore the dataset\n"
   ]
  },
  {
   "cell_type": "code",
   "execution_count": 105,
   "metadata": {
    "id": "0d_3CFbgYVPa"
   },
   "outputs": [],
   "source": [
    "## dataset exploration\n",
    "import pandas as pd\n",
    "data = pd.read_csv('carseats.csv')\n"
   ]
  },
  {
   "cell_type": "code",
   "execution_count": 106,
   "metadata": {},
   "outputs": [],
   "source": [
    "# y = data.Sales\n",
    "# print(y)"
   ]
  },
  {
   "cell_type": "code",
   "execution_count": 107,
   "metadata": {},
   "outputs": [],
   "source": [
    "# X = data.drop(['Sales'], axis=1)\n",
    "# print(X)"
   ]
  },
  {
   "cell_type": "code",
   "execution_count": 108,
   "metadata": {},
   "outputs": [],
   "source": [
    "# X.head()"
   ]
  },
  {
   "cell_type": "code",
   "execution_count": 109,
   "metadata": {},
   "outputs": [],
   "source": [
    "import numpy as np\n",
    "import seaborn as sns\n",
    "import matplotlib.pyplot as plt"
   ]
  },
  {
   "cell_type": "code",
   "execution_count": 110,
   "metadata": {},
   "outputs": [
    {
     "data": {
      "text/plain": [
       "(400, 11)"
      ]
     },
     "execution_count": 110,
     "metadata": {},
     "output_type": "execute_result"
    }
   ],
   "source": [
    "data.shape"
   ]
  },
  {
   "cell_type": "code",
   "execution_count": 111,
   "metadata": {},
   "outputs": [
    {
     "data": {
      "text/html": [
       "<div>\n",
       "<style scoped>\n",
       "    .dataframe tbody tr th:only-of-type {\n",
       "        vertical-align: middle;\n",
       "    }\n",
       "\n",
       "    .dataframe tbody tr th {\n",
       "        vertical-align: top;\n",
       "    }\n",
       "\n",
       "    .dataframe thead th {\n",
       "        text-align: right;\n",
       "    }\n",
       "</style>\n",
       "<table border=\"1\" class=\"dataframe\">\n",
       "  <thead>\n",
       "    <tr style=\"text-align: right;\">\n",
       "      <th></th>\n",
       "      <th>Sales</th>\n",
       "      <th>CompPrice</th>\n",
       "      <th>Income</th>\n",
       "      <th>Advertising</th>\n",
       "      <th>Population</th>\n",
       "      <th>Price</th>\n",
       "      <th>ShelveLoc</th>\n",
       "      <th>Age</th>\n",
       "      <th>Education</th>\n",
       "      <th>Urban</th>\n",
       "      <th>US</th>\n",
       "    </tr>\n",
       "  </thead>\n",
       "  <tbody>\n",
       "    <tr>\n",
       "      <th>0</th>\n",
       "      <td>9.50</td>\n",
       "      <td>138</td>\n",
       "      <td>73</td>\n",
       "      <td>11</td>\n",
       "      <td>276</td>\n",
       "      <td>120.0</td>\n",
       "      <td>Bad</td>\n",
       "      <td>42</td>\n",
       "      <td>17</td>\n",
       "      <td>Yes</td>\n",
       "      <td>Yes</td>\n",
       "    </tr>\n",
       "    <tr>\n",
       "      <th>1</th>\n",
       "      <td>11.22</td>\n",
       "      <td>111</td>\n",
       "      <td>48</td>\n",
       "      <td>16</td>\n",
       "      <td>260</td>\n",
       "      <td>83.0</td>\n",
       "      <td>Good</td>\n",
       "      <td>65</td>\n",
       "      <td>10</td>\n",
       "      <td>Yes</td>\n",
       "      <td>Yes</td>\n",
       "    </tr>\n",
       "    <tr>\n",
       "      <th>2</th>\n",
       "      <td>10.06</td>\n",
       "      <td>113</td>\n",
       "      <td>35</td>\n",
       "      <td>10</td>\n",
       "      <td>269</td>\n",
       "      <td>80.0</td>\n",
       "      <td>Medium</td>\n",
       "      <td>59</td>\n",
       "      <td>12</td>\n",
       "      <td>Yes</td>\n",
       "      <td>Yes</td>\n",
       "    </tr>\n",
       "    <tr>\n",
       "      <th>3</th>\n",
       "      <td>7.40</td>\n",
       "      <td>117</td>\n",
       "      <td>100</td>\n",
       "      <td>4</td>\n",
       "      <td>466</td>\n",
       "      <td>97.0</td>\n",
       "      <td>Medium</td>\n",
       "      <td>55</td>\n",
       "      <td>14</td>\n",
       "      <td>Yes</td>\n",
       "      <td>Yes</td>\n",
       "    </tr>\n",
       "    <tr>\n",
       "      <th>4</th>\n",
       "      <td>4.15</td>\n",
       "      <td>141</td>\n",
       "      <td>64</td>\n",
       "      <td>3</td>\n",
       "      <td>340</td>\n",
       "      <td>128.0</td>\n",
       "      <td>Bad</td>\n",
       "      <td>38</td>\n",
       "      <td>13</td>\n",
       "      <td>Yes</td>\n",
       "      <td>No</td>\n",
       "    </tr>\n",
       "    <tr>\n",
       "      <th>...</th>\n",
       "      <td>...</td>\n",
       "      <td>...</td>\n",
       "      <td>...</td>\n",
       "      <td>...</td>\n",
       "      <td>...</td>\n",
       "      <td>...</td>\n",
       "      <td>...</td>\n",
       "      <td>...</td>\n",
       "      <td>...</td>\n",
       "      <td>...</td>\n",
       "      <td>...</td>\n",
       "    </tr>\n",
       "    <tr>\n",
       "      <th>395</th>\n",
       "      <td>12.57</td>\n",
       "      <td>138</td>\n",
       "      <td>108</td>\n",
       "      <td>17</td>\n",
       "      <td>203</td>\n",
       "      <td>128.0</td>\n",
       "      <td>Good</td>\n",
       "      <td>33</td>\n",
       "      <td>14</td>\n",
       "      <td>Yes</td>\n",
       "      <td>Yes</td>\n",
       "    </tr>\n",
       "    <tr>\n",
       "      <th>396</th>\n",
       "      <td>6.14</td>\n",
       "      <td>139</td>\n",
       "      <td>23</td>\n",
       "      <td>3</td>\n",
       "      <td>37</td>\n",
       "      <td>120.0</td>\n",
       "      <td>NaN</td>\n",
       "      <td>55</td>\n",
       "      <td>11</td>\n",
       "      <td>No</td>\n",
       "      <td>Yes</td>\n",
       "    </tr>\n",
       "    <tr>\n",
       "      <th>397</th>\n",
       "      <td>7.41</td>\n",
       "      <td>162</td>\n",
       "      <td>26</td>\n",
       "      <td>12</td>\n",
       "      <td>368</td>\n",
       "      <td>159.0</td>\n",
       "      <td>Medium</td>\n",
       "      <td>40</td>\n",
       "      <td>18</td>\n",
       "      <td>Yes</td>\n",
       "      <td>Yes</td>\n",
       "    </tr>\n",
       "    <tr>\n",
       "      <th>398</th>\n",
       "      <td>5.94</td>\n",
       "      <td>100</td>\n",
       "      <td>79</td>\n",
       "      <td>7</td>\n",
       "      <td>284</td>\n",
       "      <td>95.0</td>\n",
       "      <td>Bad</td>\n",
       "      <td>50</td>\n",
       "      <td>12</td>\n",
       "      <td>Yes</td>\n",
       "      <td>Yes</td>\n",
       "    </tr>\n",
       "    <tr>\n",
       "      <th>399</th>\n",
       "      <td>9.71</td>\n",
       "      <td>134</td>\n",
       "      <td>37</td>\n",
       "      <td>0</td>\n",
       "      <td>27</td>\n",
       "      <td>NaN</td>\n",
       "      <td>Good</td>\n",
       "      <td>49</td>\n",
       "      <td>16</td>\n",
       "      <td>Yes</td>\n",
       "      <td>Yes</td>\n",
       "    </tr>\n",
       "  </tbody>\n",
       "</table>\n",
       "<p>400 rows × 11 columns</p>\n",
       "</div>"
      ],
      "text/plain": [
       "     Sales  CompPrice  Income  Advertising  Population  Price ShelveLoc  Age  \\\n",
       "0     9.50        138      73           11         276  120.0       Bad   42   \n",
       "1    11.22        111      48           16         260   83.0      Good   65   \n",
       "2    10.06        113      35           10         269   80.0    Medium   59   \n",
       "3     7.40        117     100            4         466   97.0    Medium   55   \n",
       "4     4.15        141      64            3         340  128.0       Bad   38   \n",
       "..     ...        ...     ...          ...         ...    ...       ...  ...   \n",
       "395  12.57        138     108           17         203  128.0      Good   33   \n",
       "396   6.14        139      23            3          37  120.0       NaN   55   \n",
       "397   7.41        162      26           12         368  159.0    Medium   40   \n",
       "398   5.94        100      79            7         284   95.0       Bad   50   \n",
       "399   9.71        134      37            0          27    NaN      Good   49   \n",
       "\n",
       "     Education Urban   US  \n",
       "0           17   Yes  Yes  \n",
       "1           10   Yes  Yes  \n",
       "2           12   Yes  Yes  \n",
       "3           14   Yes  Yes  \n",
       "4           13   Yes   No  \n",
       "..         ...   ...  ...  \n",
       "395         14   Yes  Yes  \n",
       "396         11    No  Yes  \n",
       "397         18   Yes  Yes  \n",
       "398         12   Yes  Yes  \n",
       "399         16   Yes  Yes  \n",
       "\n",
       "[400 rows x 11 columns]"
      ]
     },
     "metadata": {},
     "output_type": "display_data"
    }
   ],
   "source": [
    "display(data)"
   ]
  },
  {
   "cell_type": "markdown",
   "metadata": {
    "id": "gkWYVWmlX2p9"
   },
   "source": [
    "#### (1.a) How many numerical features are there? How many categorical features? "
   ]
  },
  {
   "cell_type": "markdown",
   "metadata": {
    "id": "kQQWYmvk9eMA"
   },
   "source": [
    "There are 8 numerical features and 3 categorical ones."
   ]
  },
  {
   "cell_type": "markdown",
   "metadata": {
    "id": "zYDCfn2FZUCt"
   },
   "source": [
    "#### (1.b) Verify if the dataset presents missing values and handle them"
   ]
  },
  {
   "cell_type": "code",
   "execution_count": 112,
   "metadata": {
    "id": "ie3HWF1Tb9me",
    "scrolled": true
   },
   "outputs": [
    {
     "name": "stdout",
     "output_type": "stream",
     "text": [
      "<class 'pandas.core.frame.DataFrame'>\n",
      "RangeIndex: 400 entries, 0 to 399\n",
      "Data columns (total 11 columns):\n",
      " #   Column       Non-Null Count  Dtype  \n",
      "---  ------       --------------  -----  \n",
      " 0   Sales        400 non-null    float64\n",
      " 1   CompPrice    400 non-null    int64  \n",
      " 2   Income       400 non-null    int64  \n",
      " 3   Advertising  400 non-null    int64  \n",
      " 4   Population   400 non-null    int64  \n",
      " 5   Price        397 non-null    float64\n",
      " 6   ShelveLoc    398 non-null    object \n",
      " 7   Age          400 non-null    int64  \n",
      " 8   Education    400 non-null    int64  \n",
      " 9   Urban        400 non-null    object \n",
      " 10  US           400 non-null    object \n",
      "dtypes: float64(2), int64(6), object(3)\n",
      "memory usage: 34.5+ KB\n"
     ]
    }
   ],
   "source": [
    "## check the presence and eventually handle missing values\n",
    "data.info()"
   ]
  },
  {
   "cell_type": "code",
   "execution_count": 113,
   "metadata": {},
   "outputs": [
    {
     "data": {
      "image/png": "[encoded data removed]",
      "text/plain": [
       "<Figure size 504x504 with 1 Axes>"
      ]
     },
     "metadata": {
      "needs_background": "light"
     },
     "output_type": "display_data"
    }
   ],
   "source": [
    "plt.figure(figsize=(7,7))\n",
    "ax = sns.boxplot(data=data, orient='h', palette='Set2')"
   ]
  },
  {
   "cell_type": "code",
   "execution_count": 114,
   "metadata": {},
   "outputs": [],
   "source": [
    "data['ShelveLoc'].fillna(data['ShelveLoc'].value_counts().idxmax(), inplace=True)"
   ]
  },
  {
   "cell_type": "code",
   "execution_count": 115,
   "metadata": {},
   "outputs": [],
   "source": [
    "data = data.fillna(data.mean())"
   ]
  },
  {
   "cell_type": "code",
   "execution_count": 116,
   "metadata": {},
   "outputs": [
    {
     "name": "stdout",
     "output_type": "stream",
     "text": [
      "<class 'pandas.core.frame.DataFrame'>\n",
      "RangeIndex: 400 entries, 0 to 399\n",
      "Data columns (total 11 columns):\n",
      " #   Column       Non-Null Count  Dtype  \n",
      "---  ------       --------------  -----  \n",
      " 0   Sales        400 non-null    float64\n",
      " 1   CompPrice    400 non-null    int64  \n",
      " 2   Income       400 non-null    int64  \n",
      " 3   Advertising  400 non-null    int64  \n",
      " 4   Population   400 non-null    int64  \n",
      " 5   Price        400 non-null    float64\n",
      " 6   ShelveLoc    400 non-null    object \n",
      " 7   Age          400 non-null    int64  \n",
      " 8   Education    400 non-null    int64  \n",
      " 9   Urban        400 non-null    object \n",
      " 10  US           400 non-null    object \n",
      "dtypes: float64(2), int64(6), object(3)\n",
      "memory usage: 34.5+ KB\n"
     ]
    }
   ],
   "source": [
    "data.info()"
   ]
  },
  {
   "cell_type": "markdown",
   "metadata": {
    "id": "XXX5tmAPdOZH"
   },
   "source": [
    "#### (1.c) Justify the choises you make for handling the missing values"
   ]
  },
  {
   "cell_type": "markdown",
   "metadata": {
    "id": "dvFvIotI9cn1"
   },
   "source": [
    "There are 5 Nan values in this dataset, looking at the `data.info()` function. Since there are not many outliers, I replace them with the most frequent value in the categorical column, and with the mean for the numerical column."
   ]
  },
  {
   "cell_type": "markdown",
   "metadata": {
    "id": "IJUx-fjVS74C"
   },
   "source": [
    "## (2.) Data Engineering: prepare the dataset for a Linear Regression task"
   ]
  },
  {
   "cell_type": "markdown",
   "metadata": {
    "id": "9969DO3eeHTb"
   },
   "source": [
    "#### (2.a) Verify the features values distribution of the numerical variables."
   ]
  },
  {
   "cell_type": "markdown",
   "metadata": {},
   "source": [
    "Checking for the categorical columns, and encoding them:"
   ]
  },
  {
   "cell_type": "code",
   "execution_count": 117,
   "metadata": {
    "id": "Q5M65JBkZAOX"
   },
   "outputs": [
    {
     "data": {
      "text/html": [
       "<div>\n",
       "<style scoped>\n",
       "    .dataframe tbody tr th:only-of-type {\n",
       "        vertical-align: middle;\n",
       "    }\n",
       "\n",
       "    .dataframe tbody tr th {\n",
       "        vertical-align: top;\n",
       "    }\n",
       "\n",
       "    .dataframe thead th {\n",
       "        text-align: right;\n",
       "    }\n",
       "</style>\n",
       "<table border=\"1\" class=\"dataframe\">\n",
       "  <thead>\n",
       "    <tr style=\"text-align: right;\">\n",
       "      <th></th>\n",
       "      <th>Sales</th>\n",
       "      <th>CompPrice</th>\n",
       "      <th>Income</th>\n",
       "      <th>Advertising</th>\n",
       "      <th>Population</th>\n",
       "      <th>Price</th>\n",
       "      <th>ShelveLoc</th>\n",
       "      <th>Age</th>\n",
       "      <th>Education</th>\n",
       "      <th>Urban</th>\n",
       "      <th>US</th>\n",
       "    </tr>\n",
       "  </thead>\n",
       "  <tbody>\n",
       "    <tr>\n",
       "      <th>0</th>\n",
       "      <td>9.50</td>\n",
       "      <td>138</td>\n",
       "      <td>73</td>\n",
       "      <td>11</td>\n",
       "      <td>276</td>\n",
       "      <td>120.000000</td>\n",
       "      <td>Bad</td>\n",
       "      <td>42</td>\n",
       "      <td>17</td>\n",
       "      <td>Yes</td>\n",
       "      <td>Yes</td>\n",
       "    </tr>\n",
       "    <tr>\n",
       "      <th>1</th>\n",
       "      <td>11.22</td>\n",
       "      <td>111</td>\n",
       "      <td>48</td>\n",
       "      <td>16</td>\n",
       "      <td>260</td>\n",
       "      <td>83.000000</td>\n",
       "      <td>Good</td>\n",
       "      <td>65</td>\n",
       "      <td>10</td>\n",
       "      <td>Yes</td>\n",
       "      <td>Yes</td>\n",
       "    </tr>\n",
       "    <tr>\n",
       "      <th>2</th>\n",
       "      <td>10.06</td>\n",
       "      <td>113</td>\n",
       "      <td>35</td>\n",
       "      <td>10</td>\n",
       "      <td>269</td>\n",
       "      <td>80.000000</td>\n",
       "      <td>Medium</td>\n",
       "      <td>59</td>\n",
       "      <td>12</td>\n",
       "      <td>Yes</td>\n",
       "      <td>Yes</td>\n",
       "    </tr>\n",
       "    <tr>\n",
       "      <th>3</th>\n",
       "      <td>7.40</td>\n",
       "      <td>117</td>\n",
       "      <td>100</td>\n",
       "      <td>4</td>\n",
       "      <td>466</td>\n",
       "      <td>97.000000</td>\n",
       "      <td>Medium</td>\n",
       "      <td>55</td>\n",
       "      <td>14</td>\n",
       "      <td>Yes</td>\n",
       "      <td>Yes</td>\n",
       "    </tr>\n",
       "    <tr>\n",
       "      <th>4</th>\n",
       "      <td>4.15</td>\n",
       "      <td>141</td>\n",
       "      <td>64</td>\n",
       "      <td>3</td>\n",
       "      <td>340</td>\n",
       "      <td>128.000000</td>\n",
       "      <td>Bad</td>\n",
       "      <td>38</td>\n",
       "      <td>13</td>\n",
       "      <td>Yes</td>\n",
       "      <td>No</td>\n",
       "    </tr>\n",
       "    <tr>\n",
       "      <th>...</th>\n",
       "      <td>...</td>\n",
       "      <td>...</td>\n",
       "      <td>...</td>\n",
       "      <td>...</td>\n",
       "      <td>...</td>\n",
       "      <td>...</td>\n",
       "      <td>...</td>\n",
       "      <td>...</td>\n",
       "      <td>...</td>\n",
       "      <td>...</td>\n",
       "      <td>...</td>\n",
       "    </tr>\n",
       "    <tr>\n",
       "      <th>395</th>\n",
       "      <td>12.57</td>\n",
       "      <td>138</td>\n",
       "      <td>108</td>\n",
       "      <td>17</td>\n",
       "      <td>203</td>\n",
       "      <td>128.000000</td>\n",
       "      <td>Good</td>\n",
       "      <td>33</td>\n",
       "      <td>14</td>\n",
       "      <td>Yes</td>\n",
       "      <td>Yes</td>\n",
       "    </tr>\n",
       "    <tr>\n",
       "      <th>396</th>\n",
       "      <td>6.14</td>\n",
       "      <td>139</td>\n",
       "      <td>23</td>\n",
       "      <td>3</td>\n",
       "      <td>37</td>\n",
       "      <td>120.000000</td>\n",
       "      <td>Medium</td>\n",
       "      <td>55</td>\n",
       "      <td>11</td>\n",
       "      <td>No</td>\n",
       "      <td>Yes</td>\n",
       "    </tr>\n",
       "    <tr>\n",
       "      <th>397</th>\n",
       "      <td>7.41</td>\n",
       "      <td>162</td>\n",
       "      <td>26</td>\n",
       "      <td>12</td>\n",
       "      <td>368</td>\n",
       "      <td>159.000000</td>\n",
       "      <td>Medium</td>\n",
       "      <td>40</td>\n",
       "      <td>18</td>\n",
       "      <td>Yes</td>\n",
       "      <td>Yes</td>\n",
       "    </tr>\n",
       "    <tr>\n",
       "      <th>398</th>\n",
       "      <td>5.94</td>\n",
       "      <td>100</td>\n",
       "      <td>79</td>\n",
       "      <td>7</td>\n",
       "      <td>284</td>\n",
       "      <td>95.000000</td>\n",
       "      <td>Bad</td>\n",
       "      <td>50</td>\n",
       "      <td>12</td>\n",
       "      <td>Yes</td>\n",
       "      <td>Yes</td>\n",
       "    </tr>\n",
       "    <tr>\n",
       "      <th>399</th>\n",
       "      <td>9.71</td>\n",
       "      <td>134</td>\n",
       "      <td>37</td>\n",
       "      <td>0</td>\n",
       "      <td>27</td>\n",
       "      <td>115.821159</td>\n",
       "      <td>Good</td>\n",
       "      <td>49</td>\n",
       "      <td>16</td>\n",
       "      <td>Yes</td>\n",
       "      <td>Yes</td>\n",
       "    </tr>\n",
       "  </tbody>\n",
       "</table>\n",
       "<p>400 rows × 11 columns</p>\n",
       "</div>"
      ],
      "text/plain": [
       "     Sales  CompPrice  Income  Advertising  Population       Price ShelveLoc  \\\n",
       "0     9.50        138      73           11         276  120.000000       Bad   \n",
       "1    11.22        111      48           16         260   83.000000      Good   \n",
       "2    10.06        113      35           10         269   80.000000    Medium   \n",
       "3     7.40        117     100            4         466   97.000000    Medium   \n",
       "4     4.15        141      64            3         340  128.000000       Bad   \n",
       "..     ...        ...     ...          ...         ...         ...       ...   \n",
       "395  12.57        138     108           17         203  128.000000      Good   \n",
       "396   6.14        139      23            3          37  120.000000    Medium   \n",
       "397   7.41        162      26           12         368  159.000000    Medium   \n",
       "398   5.94        100      79            7         284   95.000000       Bad   \n",
       "399   9.71        134      37            0          27  115.821159      Good   \n",
       "\n",
       "     Age  Education Urban   US  \n",
       "0     42         17   Yes  Yes  \n",
       "1     65         10   Yes  Yes  \n",
       "2     59         12   Yes  Yes  \n",
       "3     55         14   Yes  Yes  \n",
       "4     38         13   Yes   No  \n",
       "..   ...        ...   ...  ...  \n",
       "395   33         14   Yes  Yes  \n",
       "396   55         11    No  Yes  \n",
       "397   40         18   Yes  Yes  \n",
       "398   50         12   Yes  Yes  \n",
       "399   49         16   Yes  Yes  \n",
       "\n",
       "[400 rows x 11 columns]"
      ]
     },
     "metadata": {},
     "output_type": "display_data"
    }
   ],
   "source": [
    "## variables distribution visualization\n",
    "\n",
    "display(data)"
   ]
  },
  {
   "cell_type": "code",
   "execution_count": 118,
   "metadata": {},
   "outputs": [],
   "source": [
    "data_numerical = data[['Sales', 'CompPrice', 'Income', 'Population', 'Price', 'Age', 'Education']]"
   ]
  },
  {
   "cell_type": "code",
   "execution_count": 119,
   "metadata": {},
   "outputs": [
    {
     "data": {
      "image/png": "[encoded data removed]",
      "text/plain": [
       "<Figure size 432x288 with 1 Axes>"
      ]
     },
     "metadata": {
      "needs_background": "light"
     },
     "output_type": "display_data"
    },
    {
     "data": {
      "image/png": "[encoded data removed]",
      "text/plain": [
       "<Figure size 432x288 with 1 Axes>"
      ]
     },
     "metadata": {
      "needs_background": "light"
     },
     "output_type": "display_data"
    },
    {
     "data": {
      "image/png": "[encoded data removed]",
      "text/plain": [
       "<Figure size 432x288 with 1 Axes>"
      ]
     },
     "metadata": {
      "needs_background": "light"
     },
     "output_type": "display_data"
    },
    {
     "data": {
      "image/png": "[encoded data removed]",
      "text/plain": [
       "<Figure size 432x288 with 1 Axes>"
      ]
     },
     "metadata": {
      "needs_background": "light"
     },
     "output_type": "display_data"
    },
    {
     "data": {
      "image/png": "[encoded data removed]",
      "text/plain": [
       "<Figure size 432x288 with 1 Axes>"
      ]
     },
     "metadata": {
      "needs_background": "light"
     },
     "output_type": "display_data"
    },
    {
     "data": {
      "image/png": "[encoded data removed]",
      "text/plain": [
       "<Figure size 432x288 with 1 Axes>"
      ]
     },
     "metadata": {
      "needs_background": "light"
     },
     "output_type": "display_data"
    },
    {
     "data": {
      "image/png": "[encoded data removed]",
      "text/plain": [
       "<Figure size 432x288 with 1 Axes>"
      ]
     },
     "metadata": {
      "needs_background": "light"
     },
     "output_type": "display_data"
    }
   ],
   "source": [
    "for column in data_numerical.columns:\n",
    "    data_numerical.hist(column=column)"
   ]
  },
  {
   "cell_type": "markdown",
   "metadata": {
    "id": "aAQVuaNtZEr5"
   },
   "source": [
    "#### (2.b) Is features transformation necessary for the numerical variables? Let’s take into account we are preparing the dataset for a Linear Regression task, with the goal of building a \"Sales\" predictive model. If transformation is necessary, after justifying your choice, do proceed as described.\n"
   ]
  },
  {
   "cell_type": "code",
   "execution_count": 120,
   "metadata": {
    "id": "wsZlm6xWaeEJ"
   },
   "outputs": [
    {
     "data": {
      "image/png": "[encoded data removed]",
      "text/plain": [
       "<Figure size 504x504 with 1 Axes>"
      ]
     },
     "metadata": {
      "needs_background": "light"
     },
     "output_type": "display_data"
    }
   ],
   "source": [
    "## if necessary, perform numerical variables transformation here\n",
    "plt.figure(figsize=(7,7))\n",
    "ax = sns.boxplot(data=data_numerical, orient='h', palette='Set2')"
   ]
  },
  {
   "cell_type": "markdown",
   "metadata": {},
   "source": [
    "The dataset is not scaled, and since the `Sales` column seems to follow a normal distribution, I use the Robust scaler:"
   ]
  },
  {
   "cell_type": "code",
   "execution_count": 121,
   "metadata": {},
   "outputs": [],
   "source": [
    "from sklearn.preprocessing import RobustScaler\n",
    "\n",
    "transformer = RobustScaler().fit(data_numerical.values)\n",
    "scaled_data = transformer.transform(data_numerical.values)"
   ]
  },
  {
   "cell_type": "code",
   "execution_count": 122,
   "metadata": {},
   "outputs": [],
   "source": [
    "data_scaled=pd.DataFrame(data=scaled_data, columns=data_numerical.columns)"
   ]
  },
  {
   "cell_type": "markdown",
   "metadata": {
    "id": "Zv8HsfRbc6Lz"
   },
   "source": [
    "#### (2.c) Verify the presence of outliers and eventually handle them. Justify your choices."
   ]
  },
  {
   "cell_type": "code",
   "execution_count": 123,
   "metadata": {
    "id": "2FxORDyUdJWL"
   },
   "outputs": [
    {
     "data": {
      "image/png": "[encoded data removed]",
      "text/plain": [
       "<Figure size 504x504 with 1 Axes>"
      ]
     },
     "metadata": {
      "needs_background": "light"
     },
     "output_type": "display_data"
    }
   ],
   "source": [
    "## Check the presence and eventually handle outliers\n",
    "plt.figure(figsize=(7,7))\n",
    "ax = sns.boxplot(data=data_scaled, orient='h', palette='Set2')"
   ]
  },
  {
   "cell_type": "markdown",
   "metadata": {
    "id": "la1nG5kH9Zwe"
   },
   "source": [
    "There are outliers, but not enough to justify a drop or a cap."
   ]
  },
  {
   "cell_type": "markdown",
   "metadata": {
    "id": "Wc2c6fsya2o_"
   },
   "source": [
    "#### (2.d) Is encoding necessary for the categorical variables? If yes, which kind of encoding? Specify your choices, justify them and perform categorical data encoding, if necessary."
   ]
  },
  {
   "cell_type": "markdown",
   "metadata": {
    "id": "96UZ3Gin9YJZ"
   },
   "source": [
    "I use encoding with replace since one of the column contains ordinal values (`ShelveLoc`)"
   ]
  },
  {
   "cell_type": "code",
   "execution_count": 124,
   "metadata": {
    "id": "-uZ6k1jRbnTc"
   },
   "outputs": [],
   "source": [
    "## perform cathegorical variables encoding here"
   ]
  },
  {
   "cell_type": "code",
   "execution_count": 125,
   "metadata": {},
   "outputs": [
    {
     "data": {
      "text/html": [
       "<div>\n",
       "<style scoped>\n",
       "    .dataframe tbody tr th:only-of-type {\n",
       "        vertical-align: middle;\n",
       "    }\n",
       "\n",
       "    .dataframe tbody tr th {\n",
       "        vertical-align: top;\n",
       "    }\n",
       "\n",
       "    .dataframe thead th {\n",
       "        text-align: right;\n",
       "    }\n",
       "</style>\n",
       "<table border=\"1\" class=\"dataframe\">\n",
       "  <thead>\n",
       "    <tr style=\"text-align: right;\">\n",
       "      <th></th>\n",
       "      <th>Sales</th>\n",
       "      <th>CompPrice</th>\n",
       "      <th>Income</th>\n",
       "      <th>Advertising</th>\n",
       "      <th>Population</th>\n",
       "      <th>Price</th>\n",
       "      <th>ShelveLoc</th>\n",
       "      <th>Age</th>\n",
       "      <th>Education</th>\n",
       "      <th>Urban</th>\n",
       "      <th>US</th>\n",
       "    </tr>\n",
       "  </thead>\n",
       "  <tbody>\n",
       "    <tr>\n",
       "      <th>0</th>\n",
       "      <td>9.50</td>\n",
       "      <td>138</td>\n",
       "      <td>73</td>\n",
       "      <td>11</td>\n",
       "      <td>276</td>\n",
       "      <td>120.000000</td>\n",
       "      <td>0</td>\n",
       "      <td>42</td>\n",
       "      <td>17</td>\n",
       "      <td>1</td>\n",
       "      <td>1</td>\n",
       "    </tr>\n",
       "    <tr>\n",
       "      <th>1</th>\n",
       "      <td>11.22</td>\n",
       "      <td>111</td>\n",
       "      <td>48</td>\n",
       "      <td>16</td>\n",
       "      <td>260</td>\n",
       "      <td>83.000000</td>\n",
       "      <td>2</td>\n",
       "      <td>65</td>\n",
       "      <td>10</td>\n",
       "      <td>1</td>\n",
       "      <td>1</td>\n",
       "    </tr>\n",
       "    <tr>\n",
       "      <th>2</th>\n",
       "      <td>10.06</td>\n",
       "      <td>113</td>\n",
       "      <td>35</td>\n",
       "      <td>10</td>\n",
       "      <td>269</td>\n",
       "      <td>80.000000</td>\n",
       "      <td>1</td>\n",
       "      <td>59</td>\n",
       "      <td>12</td>\n",
       "      <td>1</td>\n",
       "      <td>1</td>\n",
       "    </tr>\n",
       "    <tr>\n",
       "      <th>3</th>\n",
       "      <td>7.40</td>\n",
       "      <td>117</td>\n",
       "      <td>100</td>\n",
       "      <td>4</td>\n",
       "      <td>466</td>\n",
       "      <td>97.000000</td>\n",
       "      <td>1</td>\n",
       "      <td>55</td>\n",
       "      <td>14</td>\n",
       "      <td>1</td>\n",
       "      <td>1</td>\n",
       "    </tr>\n",
       "    <tr>\n",
       "      <th>4</th>\n",
       "      <td>4.15</td>\n",
       "      <td>141</td>\n",
       "      <td>64</td>\n",
       "      <td>3</td>\n",
       "      <td>340</td>\n",
       "      <td>128.000000</td>\n",
       "      <td>0</td>\n",
       "      <td>38</td>\n",
       "      <td>13</td>\n",
       "      <td>1</td>\n",
       "      <td>0</td>\n",
       "    </tr>\n",
       "    <tr>\n",
       "      <th>...</th>\n",
       "      <td>...</td>\n",
       "      <td>...</td>\n",
       "      <td>...</td>\n",
       "      <td>...</td>\n",
       "      <td>...</td>\n",
       "      <td>...</td>\n",
       "      <td>...</td>\n",
       "      <td>...</td>\n",
       "      <td>...</td>\n",
       "      <td>...</td>\n",
       "      <td>...</td>\n",
       "    </tr>\n",
       "    <tr>\n",
       "      <th>395</th>\n",
       "      <td>12.57</td>\n",
       "      <td>138</td>\n",
       "      <td>108</td>\n",
       "      <td>17</td>\n",
       "      <td>203</td>\n",
       "      <td>128.000000</td>\n",
       "      <td>2</td>\n",
       "      <td>33</td>\n",
       "      <td>14</td>\n",
       "      <td>1</td>\n",
       "      <td>1</td>\n",
       "    </tr>\n",
       "    <tr>\n",
       "      <th>396</th>\n",
       "      <td>6.14</td>\n",
       "      <td>139</td>\n",
       "      <td>23</td>\n",
       "      <td>3</td>\n",
       "      <td>37</td>\n",
       "      <td>120.000000</td>\n",
       "      <td>1</td>\n",
       "      <td>55</td>\n",
       "      <td>11</td>\n",
       "      <td>0</td>\n",
       "      <td>1</td>\n",
       "    </tr>\n",
       "    <tr>\n",
       "      <th>397</th>\n",
       "      <td>7.41</td>\n",
       "      <td>162</td>\n",
       "      <td>26</td>\n",
       "      <td>12</td>\n",
       "      <td>368</td>\n",
       "      <td>159.000000</td>\n",
       "      <td>1</td>\n",
       "      <td>40</td>\n",
       "      <td>18</td>\n",
       "      <td>1</td>\n",
       "      <td>1</td>\n",
       "    </tr>\n",
       "    <tr>\n",
       "      <th>398</th>\n",
       "      <td>5.94</td>\n",
       "      <td>100</td>\n",
       "      <td>79</td>\n",
       "      <td>7</td>\n",
       "      <td>284</td>\n",
       "      <td>95.000000</td>\n",
       "      <td>0</td>\n",
       "      <td>50</td>\n",
       "      <td>12</td>\n",
       "      <td>1</td>\n",
       "      <td>1</td>\n",
       "    </tr>\n",
       "    <tr>\n",
       "      <th>399</th>\n",
       "      <td>9.71</td>\n",
       "      <td>134</td>\n",
       "      <td>37</td>\n",
       "      <td>0</td>\n",
       "      <td>27</td>\n",
       "      <td>115.821159</td>\n",
       "      <td>2</td>\n",
       "      <td>49</td>\n",
       "      <td>16</td>\n",
       "      <td>1</td>\n",
       "      <td>1</td>\n",
       "    </tr>\n",
       "  </tbody>\n",
       "</table>\n",
       "<p>400 rows × 11 columns</p>\n",
       "</div>"
      ],
      "text/plain": [
       "     Sales  CompPrice  Income  Advertising  Population       Price  ShelveLoc  \\\n",
       "0     9.50        138      73           11         276  120.000000          0   \n",
       "1    11.22        111      48           16         260   83.000000          2   \n",
       "2    10.06        113      35           10         269   80.000000          1   \n",
       "3     7.40        117     100            4         466   97.000000          1   \n",
       "4     4.15        141      64            3         340  128.000000          0   \n",
       "..     ...        ...     ...          ...         ...         ...        ...   \n",
       "395  12.57        138     108           17         203  128.000000          2   \n",
       "396   6.14        139      23            3          37  120.000000          1   \n",
       "397   7.41        162      26           12         368  159.000000          1   \n",
       "398   5.94        100      79            7         284   95.000000          0   \n",
       "399   9.71        134      37            0          27  115.821159          2   \n",
       "\n",
       "     Age  Education  Urban  US  \n",
       "0     42         17      1   1  \n",
       "1     65         10      1   1  \n",
       "2     59         12      1   1  \n",
       "3     55         14      1   1  \n",
       "4     38         13      1   0  \n",
       "..   ...        ...    ...  ..  \n",
       "395   33         14      1   1  \n",
       "396   55         11      0   1  \n",
       "397   40         18      1   1  \n",
       "398   50         12      1   1  \n",
       "399   49         16      1   1  \n",
       "\n",
       "[400 rows x 11 columns]"
      ]
     },
     "metadata": {},
     "output_type": "display_data"
    }
   ],
   "source": [
    "dictionary_shelveloc={\"ShelveLoc\": {\"Bad\":0, \"Medium\":1, \"Good\":2}}\n",
    "dictionary_urban={\"Urban\": {\"No\":0, \"Yes\":1}}\n",
    "dictionary_us={\"US\": {\"No\":0, \"Yes\":1}}\n",
    "data = data.replace(dictionary_shelveloc)\n",
    "data = data.replace(dictionary_urban)\n",
    "data = data.replace(dictionary_us)\n",
    "\n",
    "display(data)"
   ]
  },
  {
   "cell_type": "code",
   "execution_count": 126,
   "metadata": {},
   "outputs": [
    {
     "data": {
      "image/png": "[encoded data removed]",
      "text/plain": [
       "<Figure size 432x288 with 1 Axes>"
      ]
     },
     "metadata": {
      "needs_background": "light"
     },
     "output_type": "display_data"
    },
    {
     "data": {
      "image/png": "[encoded data removed]",
      "text/plain": [
       "<Figure size 432x288 with 1 Axes>"
      ]
     },
     "metadata": {
      "needs_background": "light"
     },
     "output_type": "display_data"
    },
    {
     "data": {
      "image/png": "[encoded data removed]",
      "text/plain": [
       "<Figure size 432x288 with 1 Axes>"
      ]
     },
     "metadata": {
      "needs_background": "light"
     },
     "output_type": "display_data"
    },
    {
     "data": {
      "image/png": "[encoded data removed]",
      "text/plain": [
       "<Figure size 432x288 with 1 Axes>"
      ]
     },
     "metadata": {
      "needs_background": "light"
     },
     "output_type": "display_data"
    },
    {
     "data": {
      "image/png": "[encoded data removed]",
      "text/plain": [
       "<Figure size 432x288 with 1 Axes>"
      ]
     },
     "metadata": {
      "needs_background": "light"
     },
     "output_type": "display_data"
    },
    {
     "data": {
      "image/png": "[encoded data removed]",
      "text/plain": [
       "<Figure size 432x288 with 1 Axes>"
      ]
     },
     "metadata": {
      "needs_background": "light"
     },
     "output_type": "display_data"
    },
    {
     "data": {
      "image/png": "[encoded data removed]",
      "text/plain": [
       "<Figure size 432x288 with 1 Axes>"
      ]
     },
     "metadata": {
      "needs_background": "light"
     },
     "output_type": "display_data"
    },
    {
     "data": {
      "image/png": "[encoded data removed]",
      "text/plain": [
       "<Figure size 432x288 with 1 Axes>"
      ]
     },
     "metadata": {
      "needs_background": "light"
     },
     "output_type": "display_data"
    },
    {
     "data": {
      "image/png": "[encoded data removed]",
      "text/plain": [
       "<Figure size 432x288 with 1 Axes>"
      ]
     },
     "metadata": {
      "needs_background": "light"
     },
     "output_type": "display_data"
    },
    {
     "data": {
      "image/png": "[encoded data removed]",
      "text/plain": [
       "<Figure size 432x288 with 1 Axes>"
      ]
     },
     "metadata": {
      "needs_background": "light"
     },
     "output_type": "display_data"
    },
    {
     "data": {
      "image/png": "[encoded data removed]",
      "text/plain": [
       "<Figure size 432x288 with 1 Axes>"
      ]
     },
     "metadata": {
      "needs_background": "light"
     },
     "output_type": "display_data"
    }
   ],
   "source": [
    "for column in data.columns:\n",
    "    data.hist(column=column)"
   ]
  },
  {
   "cell_type": "code",
   "execution_count": 127,
   "metadata": {},
   "outputs": [],
   "source": [
    "# scaling also dataset with categorical columns\n",
    "from sklearn.preprocessing import RobustScaler\n",
    "\n",
    "transformer = RobustScaler().fit(data.values)\n",
    "data = transformer.transform(data.values)"
   ]
  },
  {
   "cell_type": "code",
   "execution_count": 128,
   "metadata": {},
   "outputs": [
    {
     "data": {
      "image/png": "[encoded data removed]",
      "text/plain": [
       "<Figure size 504x504 with 1 Axes>"
      ]
     },
     "metadata": {
      "needs_background": "light"
     },
     "output_type": "display_data"
    }
   ],
   "source": [
    "plt.figure(figsize=(7,7))\n",
    "ax = sns.boxplot(data=data, orient='h', palette='Set2')"
   ]
  },
  {
   "cell_type": "markdown",
   "metadata": {
    "id": "2e0RajcPhEqt"
   },
   "source": [
    "#### (2.e) Increase the dimentionality of the dataset introducing Polynomial Features – degree = 3 (continuous variables)"
   ]
  },
  {
   "cell_type": "code",
   "execution_count": 129,
   "metadata": {
    "id": "JncEBB66hSAL"
   },
   "outputs": [],
   "source": [
    "## include polinomials degree = 3\n",
    "x = data"
   ]
  },
  {
   "cell_type": "code",
   "execution_count": 130,
   "metadata": {},
   "outputs": [],
   "source": [
    "from sklearn.preprocessing import PolynomialFeatures\n",
    "\n",
    "poly = PolynomialFeatures(degree=3, include_bias=False) \n",
    "poly.fit(x)\n",
    "X_poly = poly.transform(x)"
   ]
  },
  {
   "cell_type": "code",
   "execution_count": 131,
   "metadata": {},
   "outputs": [
    {
     "name": "stdout",
     "output_type": "stream",
     "text": [
      "X_poly.shape: (400, 363)\n"
     ]
    }
   ],
   "source": [
    "print(\"X_poly.shape: {}\".format(X_poly.shape))"
   ]
  },
  {
   "cell_type": "code",
   "execution_count": 132,
   "metadata": {},
   "outputs": [
    {
     "name": "stdout",
     "output_type": "stream",
     "text": [
      "Entries of x:\n",
      "[[ 0.51145038  0.65        0.08290155  0.5         0.01541426  0.09677419\n",
      "  -1.         -0.47619048  0.75        0.          0.        ]\n",
      " [ 0.94910941 -0.7        -0.43523316  0.91666667 -0.04624277 -1.09677419\n",
      "   1.          0.4        -1.          0.          0.        ]\n",
      " [ 0.65394402 -0.6        -0.70466321  0.41666667 -0.01156069 -1.19354839\n",
      "   0.          0.17142857 -0.5         0.          0.        ]\n",
      " [-0.02290076 -0.4         0.64248705 -0.08333333  0.74759152 -0.64516129\n",
      "   0.          0.01904762  0.          0.          0.        ]\n",
      " [-0.84987277  0.8        -0.10362694 -0.16666667  0.26204239  0.35483871\n",
      "  -1.         -0.62857143 -0.25        0.         -1.        ]]\n",
      "Entries of X_poly:\n",
      "[[ 0.51145038  0.65        0.08290155 ...  0.          0.\n",
      "   0.        ]\n",
      " [ 0.94910941 -0.7        -0.43523316 ...  0.          0.\n",
      "   0.        ]\n",
      " [ 0.65394402 -0.6        -0.70466321 ...  0.          0.\n",
      "   0.        ]\n",
      " [-0.02290076 -0.4         0.64248705 ...  0.          0.\n",
      "   0.        ]\n",
      " [-0.84987277  0.8        -0.10362694 ... -0.          0.\n",
      "  -1.        ]]\n"
     ]
    }
   ],
   "source": [
    "# Let’s compare the entries of X_poly to those of x\n",
    "print(\"Entries of x:\\n{}\".format(x[:5])) \n",
    "print(\"Entries of X_poly:\\n{}\".format(X_poly[:5]))"
   ]
  },
  {
   "cell_type": "markdown",
   "metadata": {
    "id": "C2cySPZhTbQc"
   },
   "source": [
    "## (3.) Features Selection"
   ]
  },
  {
   "cell_type": "markdown",
   "metadata": {
    "id": "JyzHWRZahqrs"
   },
   "source": [
    "#### (3.a) Perform Automatic Features Selection and visualize the Features which have been selected. Select one appropriate methodology for features selection and justify your choice.\n",
    "\n"
   ]
  },
  {
   "cell_type": "markdown",
   "metadata": {
    "id": "pSh6sxbu9Tpf"
   },
   "source": [
    "I will use Univariate Feature selection"
   ]
  },
  {
   "cell_type": "code",
   "execution_count": 133,
   "metadata": {},
   "outputs": [],
   "source": [
    "y = data[:,0]"
   ]
  },
  {
   "cell_type": "code",
   "execution_count": 134,
   "metadata": {},
   "outputs": [],
   "source": [
    "X = data[:,1:]"
   ]
  },
  {
   "cell_type": "code",
   "execution_count": 135,
   "metadata": {},
   "outputs": [],
   "source": [
    "from sklearn.feature_selection import SelectPercentile \n",
    "from sklearn.model_selection import train_test_split\n",
    "\n",
    "X_train_fs, X_test_fs, y_train_fs, y_test_fs = train_test_split(X, y, random_state=0, test_size=.5)"
   ]
  },
  {
   "cell_type": "code",
   "execution_count": 154,
   "metadata": {},
   "outputs": [
    {
     "name": "stdout",
     "output_type": "stream",
     "text": [
      "X_train.shape: (200, 10)\n",
      "X_test.shape: (200, 10)\n",
      "X_train_selected.shape: (200, 5)\n",
      "X_test_selected.shape: (200, 5)\n"
     ]
    }
   ],
   "source": [
    "# use f_classif (the default) and SelectPercentile to select 50% of features\n",
    "select = SelectPercentile(percentile=50) \n",
    "select.fit(X_train_fs, y_train_fs)\n",
    "\n",
    "# transform train set\n",
    "X_train_selected = select.transform(X_train_fs)\n",
    "X_test_selected = select.transform(X_test_fs)\n",
    "print(\"X_train.shape: {}\".format(X_train_fs.shape)) \n",
    "print(\"X_test.shape: {}\".format(X_test_fs.shape)) \n",
    "print(\"X_train_selected.shape: {}\".format(X_train_selected.shape))\n",
    "print(\"X_test_selected.shape: {}\".format(X_test_selected.shape))"
   ]
  },
  {
   "cell_type": "code",
   "execution_count": 155,
   "metadata": {},
   "outputs": [
    {
     "name": "stdout",
     "output_type": "stream",
     "text": [
      "[False False  True  True False  True  True False  True False]\n"
     ]
    },
    {
     "data": {
      "text/plain": [
       "([], [])"
      ]
     },
     "execution_count": 155,
     "metadata": {},
     "output_type": "execute_result"
    },
    {
     "data": {
      "image/png": "[encoded data removed]",
      "text/plain": [
       "<Figure size 1152x144 with 1 Axes>"
      ]
     },
     "metadata": {
      "needs_background": "light"
     },
     "output_type": "display_data"
    }
   ],
   "source": [
    "mask = select.get_support()\n",
    "\n",
    "print(mask)\n",
    "\n",
    "# visualize the mask -- black is True, white is False \n",
    "plt.matshow(mask.reshape(1, -1), cmap='gray_r') \n",
    "plt.xlabel(\"Sample index\")\n",
    "plt.yticks(())"
   ]
  },
  {
   "cell_type": "markdown",
   "metadata": {},
   "source": [
    "#### Selecting the k best"
   ]
  },
  {
   "cell_type": "code",
   "execution_count": 138,
   "metadata": {},
   "outputs": [
    {
     "name": "stdout",
     "output_type": "stream",
     "text": [
      "X_train.shape: (200, 10)\n",
      "X_test.shape: (200, 10)\n",
      "X_train_selected.shape: (200, 10)\n",
      "X_test_selected.shape: (200, 10)\n",
      "[1.64314116 1.3122983  1.23453552 1.22927928 1.04800173 0.97182433\n",
      " 0.8310786  0.72441681 0.66335409 0.66307564]\n"
     ]
    }
   ],
   "source": [
    "from sklearn.feature_selection import SelectKBest, f_classif\n",
    "\n",
    "# select the k best features based on ANOVA F-value between label/feature (classification tasks)\n",
    "# ANOVA F-value tells us if the tuple of variables (label-feature) are jointly significant.\n",
    "k_best = SelectKBest(score_func=f_classif, k='all') #Select features according to the k highest scores\n",
    "\n",
    "fit = k_best.fit(X_train_fs, y_train_fs)\n",
    "\n",
    "# transform training set\n",
    "X_train_selected = k_best.transform(X_train_fs)\n",
    "X_test_selected = k_best.transform(X_test_fs)\n",
    "print(\"X_train.shape: {}\".format(X_train_fs.shape)) \n",
    "print(\"X_test.shape: {}\".format(X_test_fs.shape)) \n",
    "print(\"X_train_selected.shape: {}\".format(X_train_selected.shape))\n",
    "print(\"X_test_selected.shape: {}\".format(X_test_selected.shape))\n",
    "\n",
    "scores = []\n",
    "for i in range(len(k_best.scores_)):\n",
    "    scores.append(k_best.scores_[i])\n",
    "#     print('Feature %d: %f' % (i, k_best.scores_[i]))\n",
    "    \n",
    "k_best.scores_.sort()\n",
    "k_best.scores_ = k_best.scores_[:-11:-1]\n",
    "print(k_best.scores_)"
   ]
  },
  {
   "cell_type": "code",
   "execution_count": 139,
   "metadata": {},
   "outputs": [
    {
     "name": "stdout",
     "output_type": "stream",
     "text": [
      "[ True  True  True  True  True  True  True  True  True  True]\n"
     ]
    },
    {
     "data": {
      "text/plain": [
       "([], [])"
      ]
     },
     "execution_count": 139,
     "metadata": {},
     "output_type": "execute_result"
    },
    {
     "data": {
      "image/png": "[encoded data removed]",
      "text/plain": [
       "<Figure size 1152x144 with 1 Axes>"
      ]
     },
     "metadata": {
      "needs_background": "light"
     },
     "output_type": "display_data"
    }
   ],
   "source": [
    "mask = k_best.get_support()\n",
    "print(mask)\n",
    "# visualize the mask -- black is True, white is False \n",
    "plt.matshow(mask.reshape(1, -1), cmap='gray_r') \n",
    "plt.xlabel(\"Sample index\")\n",
    "plt.yticks(())"
   ]
  },
  {
   "cell_type": "markdown",
   "metadata": {
    "id": "dBaBrlHLiaQK"
   },
   "source": [
    "## (4.) Linear Regression"
   ]
  },
  {
   "cell_type": "markdown",
   "metadata": {
    "id": "xxLjDdJAiigL"
   },
   "source": [
    "#### (4.a) *(OPTIONAL)* Train a Multiple Linear Regression model, using the Sklearn implementation of Linear Regression to find the best θ vector. Use all the transformed features, excluding the derived polynomial features. Evaluate the model. Justify your choices with respect to the evaluation metrics exploited and discuss the obtained performances values."
   ]
  },
  {
   "cell_type": "code",
   "execution_count": 140,
   "metadata": {},
   "outputs": [],
   "source": [
    "X_train, X_test, y_train, y_test = train_test_split(X, y, random_state=0)"
   ]
  },
  {
   "cell_type": "code",
   "execution_count": 141,
   "metadata": {
    "id": "QcXMB0G_SEts"
   },
   "outputs": [],
   "source": [
    "## Train a Multiple Linear Regression Model and evaluate it\n",
    "from sklearn.linear_model import LinearRegression\n",
    "\n",
    "lin_reg = LinearRegression()\n",
    "model = lin_reg.fit(X_train, y_train)"
   ]
  },
  {
   "cell_type": "code",
   "execution_count": 142,
   "metadata": {},
   "outputs": [
    {
     "data": {
      "text/plain": [
       "0.8095665310413585"
      ]
     },
     "execution_count": 142,
     "metadata": {},
     "output_type": "execute_result"
    }
   ],
   "source": [
    "model.score(X_test, y_test)"
   ]
  },
  {
   "cell_type": "code",
   "execution_count": 143,
   "metadata": {},
   "outputs": [
    {
     "data": {
      "text/plain": [
       "array([ 0.48841429,  0.18221802,  0.31221385,  0.02037237, -0.7758385 ,\n",
       "        0.61964519, -0.28790818, -0.04397413,  0.05990654,  0.05668722])"
      ]
     },
     "execution_count": 143,
     "metadata": {},
     "output_type": "execute_result"
    }
   ],
   "source": [
    "theta_best_svd, residuals, rank, s = np.linalg.lstsq(X_train, y_train, rcond=1e-6)\n",
    "theta_best_svd"
   ]
  },
  {
   "cell_type": "markdown",
   "metadata": {
    "id": "7YEICExQ9SE8"
   },
   "source": [
    "the model does not perform very well."
   ]
  },
  {
   "cell_type": "markdown",
   "metadata": {
    "id": "tPW4JR5VmCdW"
   },
   "source": [
    "#### (4.b) Use all the transformed features,excluding the derived polynomial features,to identify the best values of $\\boldsymbol{\\theta}$ by means of a Batch Gradient Descent Procedure. Identify the best values of $\\eta$ (starting with an initial value of $\\eta = 0.1$ ) and a fixed number of iterations $= 1000$. Evaluate the model. Justify your choices with respect to the evaluation metrics exploited. Discuss the obtained performances values."
   ]
  },
  {
   "cell_type": "code",
   "execution_count": 144,
   "metadata": {},
   "outputs": [],
   "source": [
    "X_b_train = np.c_[np.ones((len(X_train), 1)), X_train]\n",
    "X_test_b = np.c_[np.ones((len(X_test), 1)), X_test]"
   ]
  },
  {
   "cell_type": "code",
   "execution_count": 145,
   "metadata": {
    "id": "gyUJ0vdZmCdZ"
   },
   "outputs": [
    {
     "name": "stdout",
     "output_type": "stream",
     "text": [
      "eta = 0.001\n",
      "test RMSE=2.7927508065439786\n",
      "test R2=-15.498183660786573\n",
      "train RMSE=2.790791713217831\n",
      "train R2=-13.790668975636448\n",
      "\n",
      "eta = 0.1\n",
      "test RMSE=0.3501724147189579\n",
      "test R2=0.7406205147128959\n",
      "train RMSE=0.2878838869298379\n",
      "train R2=0.8426134253711242\n",
      "\n",
      "eta = 0.2\n",
      "test RMSE=0.2957594381456245\n",
      "test R2=0.8149670865075999\n",
      "train RMSE=0.2577271489909828\n",
      "train R2=0.8738598604762209\n",
      "\n",
      "eta = 0.5\n",
      "test RMSE=0.30045774578327983\n",
      "test R2=0.8090416861230187\n",
      "train RMSE=0.2564157046895818\n",
      "train R2=0.8751403222621784\n",
      "\n",
      "eta = 1\n",
      "test RMSE=0.3000422242534714\n",
      "test R2=0.8095694969363254\n",
      "train RMSE=0.2564300636668138\n",
      "train R2=0.8751263378810662\n",
      "\n",
      "\n",
      "Best score r2 on test: 0.8149671\n",
      "With parameter: 0.2\n"
     ]
    },
    {
     "data": {
      "text/plain": [
       "Text(0.5, 0, 'eta')"
      ]
     },
     "execution_count": 145,
     "metadata": {},
     "output_type": "execute_result"
    },
    {
     "data": {
      "image/png": "[encoded data removed]",
      "text/plain": [
       "<Figure size 432x288 with 1 Axes>"
      ]
     },
     "metadata": {
      "needs_background": "light"
     },
     "output_type": "display_data"
    }
   ],
   "source": [
    "## Train a Multiple Linear Regression Model and evaluate it\n",
    "from sklearn.metrics import r2_score\n",
    "from sklearn.metrics import mean_squared_error\n",
    "\n",
    "eta_values = [0.001, 0.1, 0.2, 0.5, 1] # learning rate \n",
    "n_iterations = 100 \n",
    "\n",
    "r2_scores = []\n",
    "rmse_scores = []\n",
    "best_score = 0\n",
    "best_parameter = 100000\n",
    "\n",
    "for eta in eta_values:\n",
    "    print(\"eta = {}\".format(eta))\n",
    "    theta = np.random.randn(X.shape[1]+1,1)  # coefficients random initialization\n",
    "    for iteration in range(n_iterations):\n",
    "        gradients = (2/X.shape[0]) * X_b_train.T.dot(X_b_train.dot(theta) - y_train.reshape(-1,1)) \n",
    "        theta = theta - eta * gradients\n",
    "    X_b_test = np.c_[np.ones((len(X_test), 1)), X_test] # add x0 = 1 to each instance \n",
    "    y_predict = X_b_test.dot(theta)\n",
    "\n",
    "    rmse_scores.append(np.sqrt(mean_squared_error(y_test, y_predict)))\n",
    "    r2_scores.append(r2_score(y_test, y_predict))\n",
    "\n",
    "    print(\"test RMSE={}\".format(np.sqrt(mean_squared_error(y_test, y_predict))))\n",
    "    print(\"test R2={}\".format(r2_score(y_test, y_predict))) \n",
    "    print(\"train RMSE={}\".format(np.sqrt(mean_squared_error(y_train, X_b_train.dot(theta)))))\n",
    "    print(\"train R2={}\\n\".format(r2_score(y_train, X_b_train.dot(theta))))\n",
    "\n",
    "\n",
    "for idx, value in enumerate(r2_scores):\n",
    "    new_score = value\n",
    "    if new_score > best_score:\n",
    "        best_score = new_score\n",
    "        best_parameter = eta_values[idx]\n",
    "print(\"\\nBest score r2 on test: {:.7f}\".format(best_score))\n",
    "print(\"With parameter: {}\".format(best_parameter))\n",
    "\n",
    "plt.plot(eta_values,rmse_scores)\n",
    "plt.title(\"RMSE VS eta\")\n",
    "plt.ylabel(\"RMSE\")\n",
    "plt.xlabel(\"eta\")"
   ]
  },
  {
   "cell_type": "markdown",
   "metadata": {
    "id": "aeq7Hs0w9QqP"
   },
   "source": [
    "Trying to get better with GridSearch does not go very far."
   ]
  },
  {
   "cell_type": "markdown",
   "metadata": {
    "id": "sv9UmtrwnTfq"
   },
   "source": [
    "#### (4.c) Use the complete set of features, including the derived polynomial features. Train a Multiple Linear Regression model, using the Sklearn implementation of Linear Regression to find the best $\\boldsymbol{\\theta}$ vector. Evaluate the model."
   ]
  },
  {
   "cell_type": "code",
   "execution_count": 146,
   "metadata": {
    "id": "wm8n1ZGRnTf3"
   },
   "outputs": [],
   "source": [
    "## Train a Multiple Linear Regression Model and evaluate it\n",
    "X_train, X_test, y_train, y_test = train_test_split(X_poly, y, random_state=0)"
   ]
  },
  {
   "cell_type": "code",
   "execution_count": 147,
   "metadata": {},
   "outputs": [],
   "source": [
    "model = lin_reg.fit(X_train, y_train)"
   ]
  },
  {
   "cell_type": "code",
   "execution_count": 148,
   "metadata": {},
   "outputs": [
    {
     "data": {
      "text/plain": [
       "0.9978217533206554"
      ]
     },
     "execution_count": 148,
     "metadata": {},
     "output_type": "execute_result"
    }
   ],
   "source": [
    "model.score(X_test, y_test)"
   ]
  },
  {
   "cell_type": "code",
   "execution_count": 149,
   "metadata": {},
   "outputs": [],
   "source": [
    "theta_best_svd, residuals, rank, s = np.linalg.lstsq(X_train, y_train, rcond=1e-6)\n",
    "# theta_best_svd"
   ]
  },
  {
   "cell_type": "markdown",
   "metadata": {
    "id": "gONwMmv0nkru"
   },
   "source": [
    "#### (4.d) Use the complete set of features, including the derived polynomial features. Train a Ridge Regression model identifying the best value of $\\alpha$ that allows the model to achieve the best generalization performances."
   ]
  },
  {
   "cell_type": "code",
   "execution_count": 150,
   "metadata": {
    "id": "5MF5yyrenkrw"
   },
   "outputs": [
    {
     "name": "stdout",
     "output_type": "stream",
     "text": [
      "Best value of alpha: 0.001\n",
      "Best score for this aplha: 0.9978510395043383\n"
     ]
    }
   ],
   "source": [
    "## Train a Multiple Linear Regression Model and evaluate it\n",
    "from sklearn.linear_model import Ridge\n",
    "\n",
    "best_alpha = 0\n",
    "best_score = 0\n",
    "\n",
    "for alpha in [0.0001, 0.001, 0.01, 0.1, 0.2, 0.3, 0.4, 0.5, 1]:\n",
    "    ridge_reg = Ridge(alpha=alpha)\n",
    "    reg_model = ridge_reg.fit(X_train, y_train)\n",
    "    new_score = reg_model.score(X_test, y_test)\n",
    "    \n",
    "    if new_score > best_score:\n",
    "        best_score = new_score\n",
    "        best_alpha = alpha\n",
    "        \n",
    "print('Best value of alpha: {}'.format(best_alpha))\n",
    "print('Best score for this aplha: {}'.format(best_score))"
   ]
  },
  {
   "cell_type": "markdown",
   "metadata": {
    "id": "qtZ1F9wMcX_h"
   },
   "source": [
    "#### (4.e) (*OPTIONAL*) Use the subset of features selected in the Feature Selection task set. Train a Multiple Linear Regression model using the Sklearn implementation of Linear Regression to find the best $\\boldsymbol{\\theta}$ vector. Evaluate the model and compare the results with the approach exploited in the previous task."
   ]
  },
  {
   "cell_type": "code",
   "execution_count": 151,
   "metadata": {
    "id": "KsGgDbxdcX_j"
   },
   "outputs": [],
   "source": [
    "## Train a Multiple Linear Regression Model with the selected features and evaluate it\n",
    "model = lin_reg.fit(X_train_selected, y_train_fs)"
   ]
  },
  {
   "cell_type": "code",
   "execution_count": 152,
   "metadata": {},
   "outputs": [
    {
     "data": {
      "text/plain": [
       "0.8333406100698315"
      ]
     },
     "execution_count": 152,
     "metadata": {},
     "output_type": "execute_result"
    }
   ],
   "source": [
    "model.score(X_test_selected, y_test_fs)"
   ]
  },
  {
   "cell_type": "code",
   "execution_count": 153,
   "metadata": {},
   "outputs": [
    {
     "data": {
      "text/plain": [
       "array([ 0.50572488,  0.1842164 ,  0.29274632,  0.02630168, -0.80712487,\n",
       "        0.60278493, -0.30701059, -0.0445284 ,  0.0387812 ,  0.05494815])"
      ]
     },
     "execution_count": 153,
     "metadata": {},
     "output_type": "execute_result"
    }
   ],
   "source": [
    "theta_best_svd, residuals, rank, s = np.linalg.lstsq(X_train_selected, y_train_fs, rcond=1e-6)\n",
    "theta_best_svd"
   ]
  },
  {
   "cell_type": "markdown",
   "metadata": {
    "id": "F2Qh3_gkcrwZ"
   },
   "source": [
    "DISCLAIMER: I don't really know if the feature selection part is correct.\\\n",
    "If it is correct, I can see that compared to the normal linear regression score, this with the selected features is a bit better, not by much though, just a couple of decimals."
   ]
  },
  {
   "cell_type": "markdown",
   "metadata": {
    "id": "uo_OOU9m84vt"
   },
   "source": [
    "#### (4.f) Compare and discuss the results obtained above."
   ]
  },
  {
   "cell_type": "markdown",
   "metadata": {
    "id": "6t3DlZ4Q9N-t"
   },
   "source": [
    "I see that the score for the linear regression is not too high, instead if I compare the score for the linear regression using the polynomial features I see that it really is near 1. Comparing the normal linear regression with the ridge regression, the scores are practically the same."
   ]
  }
 ],
 "metadata": {
  "colab": {
   "collapsed_sections": [],
   "name": "PROJECT_1.ipynb",
   "provenance": [],
   "toc_visible": true
  },
  "kernelspec": {
   "display_name": "Python 3",
   "language": "python",
   "name": "python3"
  },
  "language_info": {
   "codemirror_mode": {
    "name": "ipython",
    "version": 3
   },
   "file_extension": ".py",
   "mimetype": "text/x-python",
   "name": "python",
   "nbconvert_exporter": "python",
   "pygments_lexer": "ipython3",
   "version": "3.8.8"
  }
 },
 "nbformat": 4,
 "nbformat_minor": 1
}
