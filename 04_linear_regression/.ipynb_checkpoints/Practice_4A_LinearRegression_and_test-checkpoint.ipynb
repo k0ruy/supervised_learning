{
 "cells": [
  {
   "cell_type": "markdown",
   "id": "d6cb0880",
   "metadata": {},
   "source": [
    "# Load and preprocess the data"
   ]
  },
  {
   "cell_type": "code",
   "execution_count": 1,
   "id": "dfb51974",
   "metadata": {},
   "outputs": [],
   "source": [
    "from sklearn.datasets import load_diabetes\n",
    "data = load_diabetes()"
   ]
  },
  {
   "cell_type": "markdown",
   "id": "b976b41e",
   "metadata": {},
   "source": [
    "### Exploring the data"
   ]
  },
  {
   "cell_type": "code",
   "execution_count": 2,
   "id": "f6cf90b0",
   "metadata": {},
   "outputs": [],
   "source": [
    "import pandas as pd\n",
    "import seaborn as sns\n",
    "import matplotlib.pyplot as plt\n",
    "import numpy as np\n",
    "from math import sqrt"
   ]
  },
  {
   "cell_type": "code",
   "execution_count": 3,
   "id": "3a086fc0",
   "metadata": {},
   "outputs": [
    {
     "data": {
      "text/html": [
       "<div>\n",
       "<style scoped>\n",
       "    .dataframe tbody tr th:only-of-type {\n",
       "        vertical-align: middle;\n",
       "    }\n",
       "\n",
       "    .dataframe tbody tr th {\n",
       "        vertical-align: top;\n",
       "    }\n",
       "\n",
       "    .dataframe thead th {\n",
       "        text-align: right;\n",
       "    }\n",
       "</style>\n",
       "<table border=\"1\" class=\"dataframe\">\n",
       "  <thead>\n",
       "    <tr style=\"text-align: right;\">\n",
       "      <th></th>\n",
       "      <th>age</th>\n",
       "      <th>sex</th>\n",
       "      <th>bmi</th>\n",
       "      <th>bp</th>\n",
       "      <th>s1</th>\n",
       "      <th>s2</th>\n",
       "      <th>s3</th>\n",
       "      <th>s4</th>\n",
       "      <th>s5</th>\n",
       "      <th>s6</th>\n",
       "    </tr>\n",
       "  </thead>\n",
       "  <tbody>\n",
       "    <tr>\n",
       "      <th>count</th>\n",
       "      <td>4.420000e+02</td>\n",
       "      <td>4.420000e+02</td>\n",
       "      <td>4.420000e+02</td>\n",
       "      <td>4.420000e+02</td>\n",
       "      <td>4.420000e+02</td>\n",
       "      <td>4.420000e+02</td>\n",
       "      <td>4.420000e+02</td>\n",
       "      <td>4.420000e+02</td>\n",
       "      <td>4.420000e+02</td>\n",
       "      <td>4.420000e+02</td>\n",
       "    </tr>\n",
       "    <tr>\n",
       "      <th>mean</th>\n",
       "      <td>-3.634285e-16</td>\n",
       "      <td>1.308343e-16</td>\n",
       "      <td>-8.045349e-16</td>\n",
       "      <td>1.281655e-16</td>\n",
       "      <td>-8.835316e-17</td>\n",
       "      <td>1.327024e-16</td>\n",
       "      <td>-4.574646e-16</td>\n",
       "      <td>3.777301e-16</td>\n",
       "      <td>-3.830854e-16</td>\n",
       "      <td>-3.412882e-16</td>\n",
       "    </tr>\n",
       "    <tr>\n",
       "      <th>std</th>\n",
       "      <td>4.761905e-02</td>\n",
       "      <td>4.761905e-02</td>\n",
       "      <td>4.761905e-02</td>\n",
       "      <td>4.761905e-02</td>\n",
       "      <td>4.761905e-02</td>\n",
       "      <td>4.761905e-02</td>\n",
       "      <td>4.761905e-02</td>\n",
       "      <td>4.761905e-02</td>\n",
       "      <td>4.761905e-02</td>\n",
       "      <td>4.761905e-02</td>\n",
       "    </tr>\n",
       "    <tr>\n",
       "      <th>min</th>\n",
       "      <td>-1.072256e-01</td>\n",
       "      <td>-4.464164e-02</td>\n",
       "      <td>-9.027530e-02</td>\n",
       "      <td>-1.123996e-01</td>\n",
       "      <td>-1.267807e-01</td>\n",
       "      <td>-1.156131e-01</td>\n",
       "      <td>-1.023071e-01</td>\n",
       "      <td>-7.639450e-02</td>\n",
       "      <td>-1.260974e-01</td>\n",
       "      <td>-1.377672e-01</td>\n",
       "    </tr>\n",
       "    <tr>\n",
       "      <th>25%</th>\n",
       "      <td>-3.729927e-02</td>\n",
       "      <td>-4.464164e-02</td>\n",
       "      <td>-3.422907e-02</td>\n",
       "      <td>-3.665645e-02</td>\n",
       "      <td>-3.424784e-02</td>\n",
       "      <td>-3.035840e-02</td>\n",
       "      <td>-3.511716e-02</td>\n",
       "      <td>-3.949338e-02</td>\n",
       "      <td>-3.324879e-02</td>\n",
       "      <td>-3.317903e-02</td>\n",
       "    </tr>\n",
       "    <tr>\n",
       "      <th>50%</th>\n",
       "      <td>5.383060e-03</td>\n",
       "      <td>-4.464164e-02</td>\n",
       "      <td>-7.283766e-03</td>\n",
       "      <td>-5.670611e-03</td>\n",
       "      <td>-4.320866e-03</td>\n",
       "      <td>-3.819065e-03</td>\n",
       "      <td>-6.584468e-03</td>\n",
       "      <td>-2.592262e-03</td>\n",
       "      <td>-1.947634e-03</td>\n",
       "      <td>-1.077698e-03</td>\n",
       "    </tr>\n",
       "    <tr>\n",
       "      <th>75%</th>\n",
       "      <td>3.807591e-02</td>\n",
       "      <td>5.068012e-02</td>\n",
       "      <td>3.124802e-02</td>\n",
       "      <td>3.564384e-02</td>\n",
       "      <td>2.835801e-02</td>\n",
       "      <td>2.984439e-02</td>\n",
       "      <td>2.931150e-02</td>\n",
       "      <td>3.430886e-02</td>\n",
       "      <td>3.243323e-02</td>\n",
       "      <td>2.791705e-02</td>\n",
       "    </tr>\n",
       "    <tr>\n",
       "      <th>max</th>\n",
       "      <td>1.107267e-01</td>\n",
       "      <td>5.068012e-02</td>\n",
       "      <td>1.705552e-01</td>\n",
       "      <td>1.320442e-01</td>\n",
       "      <td>1.539137e-01</td>\n",
       "      <td>1.987880e-01</td>\n",
       "      <td>1.811791e-01</td>\n",
       "      <td>1.852344e-01</td>\n",
       "      <td>1.335990e-01</td>\n",
       "      <td>1.356118e-01</td>\n",
       "    </tr>\n",
       "  </tbody>\n",
       "</table>\n",
       "</div>"
      ],
      "text/plain": [
       "                age           sex           bmi            bp            s1  \\\n",
       "count  4.420000e+02  4.420000e+02  4.420000e+02  4.420000e+02  4.420000e+02   \n",
       "mean  -3.634285e-16  1.308343e-16 -8.045349e-16  1.281655e-16 -8.835316e-17   \n",
       "std    4.761905e-02  4.761905e-02  4.761905e-02  4.761905e-02  4.761905e-02   \n",
       "min   -1.072256e-01 -4.464164e-02 -9.027530e-02 -1.123996e-01 -1.267807e-01   \n",
       "25%   -3.729927e-02 -4.464164e-02 -3.422907e-02 -3.665645e-02 -3.424784e-02   \n",
       "50%    5.383060e-03 -4.464164e-02 -7.283766e-03 -5.670611e-03 -4.320866e-03   \n",
       "75%    3.807591e-02  5.068012e-02  3.124802e-02  3.564384e-02  2.835801e-02   \n",
       "max    1.107267e-01  5.068012e-02  1.705552e-01  1.320442e-01  1.539137e-01   \n",
       "\n",
       "                 s2            s3            s4            s5            s6  \n",
       "count  4.420000e+02  4.420000e+02  4.420000e+02  4.420000e+02  4.420000e+02  \n",
       "mean   1.327024e-16 -4.574646e-16  3.777301e-16 -3.830854e-16 -3.412882e-16  \n",
       "std    4.761905e-02  4.761905e-02  4.761905e-02  4.761905e-02  4.761905e-02  \n",
       "min   -1.156131e-01 -1.023071e-01 -7.639450e-02 -1.260974e-01 -1.377672e-01  \n",
       "25%   -3.035840e-02 -3.511716e-02 -3.949338e-02 -3.324879e-02 -3.317903e-02  \n",
       "50%   -3.819065e-03 -6.584468e-03 -2.592262e-03 -1.947634e-03 -1.077698e-03  \n",
       "75%    2.984439e-02  2.931150e-02  3.430886e-02  3.243323e-02  2.791705e-02  \n",
       "max    1.987880e-01  1.811791e-01  1.852344e-01  1.335990e-01  1.356118e-01  "
      ]
     },
     "execution_count": 3,
     "metadata": {},
     "output_type": "execute_result"
    }
   ],
   "source": [
    "df = pd.DataFrame(data=data.data, columns=data.feature_names)\n",
    "df.describe()"
   ]
  },
  {
   "cell_type": "code",
   "execution_count": 4,
   "id": "16f6e2e9",
   "metadata": {},
   "outputs": [
    {
     "data": {
      "image/png": "[encoded data removed]",
      "text/plain": [
       "<Figure size 504x504 with 1 Axes>"
      ]
     },
     "metadata": {
      "needs_background": "light"
     },
     "output_type": "display_data"
    }
   ],
   "source": [
    "plt.figure(figsize=(7,7))\n",
    "ax = sns.boxplot(data=df, orient='h', palette='Set2')"
   ]
  },
  {
   "cell_type": "markdown",
   "id": "0188e999",
   "metadata": {},
   "source": [
    "Looking at the plots, the data is aleady being transformed, so no need to scale it again. \n",
    "min max when the distribution is not normal. else Robust Scaler"
   ]
  },
  {
   "cell_type": "markdown",
   "id": "c6178f5f",
   "metadata": {},
   "source": [
    "#### Handliing outliers\n",
    "\n",
    "If there are `Nan` values, if the dataset is very big, we can drop them, if instead the dataset is not so big but there are a lot of outliers, we replace them with the median, in there are not so many outliers we replace them with the mean. \n",
    "**LOOK AT 02_A_FEATURE_PROCESSING FOR DETAILS**"
   ]
  },
  {
   "cell_type": "code",
   "execution_count": 5,
   "id": "9d7a9327",
   "metadata": {},
   "outputs": [],
   "source": [
    "# data = data.fillna(data.mean())\n",
    "# data = data.fillna(data.median())"
   ]
  },
  {
   "cell_type": "markdown",
   "id": "b24e7866",
   "metadata": {},
   "source": [
    "# 2) Split the data"
   ]
  },
  {
   "cell_type": "code",
   "execution_count": 6,
   "id": "f6396f70",
   "metadata": {},
   "outputs": [
    {
     "name": "stdout",
     "output_type": "stream",
     "text": [
      "331 111\n"
     ]
    }
   ],
   "source": [
    "from sklearn.model_selection import train_test_split\n",
    "\n",
    "X = df.values\n",
    "y = data.target\n",
    "\n",
    "X_train, X_test, y_train, y_test = train_test_split(X, y, random_state=0)\n",
    "\n",
    "\n",
    "print(len(X_train), len(X_test))"
   ]
  },
  {
   "cell_type": "markdown",
   "id": "10be7245",
   "metadata": {},
   "source": [
    "Normal equation"
   ]
  },
  {
   "cell_type": "code",
   "execution_count": 7,
   "id": "0a9c6d64",
   "metadata": {},
   "outputs": [],
   "source": [
    "X_b = np.c_[np.ones((len(X_train), 1)), X_train] # add x0 = 1 to each instance  <331x2>\n",
    "theta_best = np.linalg.inv(X_b.T.dot(X_b)).dot(X_b.T).dot(y_train) # NORMAL EQUATION"
   ]
  },
  {
   "cell_type": "code",
   "execution_count": 8,
   "id": "a112c50b",
   "metadata": {},
   "outputs": [
    {
     "name": "stdout",
     "output_type": "stream",
     "text": [
      "[ 153.06798218  -43.26774487 -208.67053951  593.39797213  302.89814903\n",
      " -560.27689824  261.47657106   -8.83343952  135.93715156  703.22658427\n",
      "   28.34844354]\n"
     ]
    }
   ],
   "source": [
    "print(theta_best)"
   ]
  },
  {
   "cell_type": "markdown",
   "id": "cbb462e7",
   "metadata": {},
   "source": [
    "Normal equation with ridge:"
   ]
  },
  {
   "cell_type": "code",
   "execution_count": 9,
   "id": "a525a33e",
   "metadata": {},
   "outputs": [],
   "source": [
    "X_b = np.c_[np.ones((len(X_train), 1)), X_train] # add x0 = 1 to each instance, shape 331 x 11\n",
    "\n",
    "def ridge_theta_best(alpha: float):\n",
    "    return np.linalg.inv(X_b.T.dot(X_b) + alpha * np.identity(X_b.shape[1])).dot(X_b.T).dot(y_train)\n",
    "\n",
    "theta_best = ridge_theta_best(0.1)"
   ]
  },
  {
   "cell_type": "code",
   "execution_count": 10,
   "id": "8879ed77",
   "metadata": {},
   "outputs": [],
   "source": [
    "X_test_b = np.c_[np.ones((len(X_test), 1)), X_test]"
   ]
  },
  {
   "cell_type": "code",
   "execution_count": 11,
   "id": "e90aec48",
   "metadata": {},
   "outputs": [
    {
     "name": "stdout",
     "output_type": "stream",
     "text": [
      "[ 152.81757257  -24.57549854 -176.83641954  542.0445565   278.66386169\n",
      "  -64.29718667 -106.40470489 -203.46068322  103.51570183  455.47841522\n",
      "   57.87535191]\n"
     ]
    }
   ],
   "source": [
    "print(theta_best)"
   ]
  },
  {
   "cell_type": "code",
   "execution_count": 12,
   "id": "107c01b7",
   "metadata": {},
   "outputs": [],
   "source": [
    "y_pred_norm = X_test_b.dot(theta_best)\n",
    "# print(y_pred)"
   ]
  },
  {
   "cell_type": "markdown",
   "id": "9f22af4a",
   "metadata": {},
   "source": [
    "Measuring the model"
   ]
  },
  {
   "cell_type": "code",
   "execution_count": 13,
   "id": "3d78fd8c",
   "metadata": {},
   "outputs": [
    {
     "name": "stdout",
     "output_type": "stream",
     "text": [
      "r2 score: 0.3690726419323702 (higher is better), root mean squared error: 55.96592140548164 (lower is better)\n"
     ]
    }
   ],
   "source": [
    "from sklearn.metrics import mean_squared_error\n",
    "from sklearn.metrics import r2_score\n",
    "\n",
    "r2_norm = r2_score(y_test, y_pred_norm)\n",
    "rmse_norm = sqrt(mean_squared_error(y_test, y_pred_norm))\n",
    "\n",
    "print('r2 score: {} (higher is better), root mean squared error: {} (lower is better)'.format(r2_norm, rmse_norm))"
   ]
  },
  {
   "cell_type": "markdown",
   "id": "4e06a0cb",
   "metadata": {},
   "source": [
    "# 3) Using `sklearn.linear_model` implementation"
   ]
  },
  {
   "cell_type": "code",
   "execution_count": 14,
   "id": "56af368a",
   "metadata": {},
   "outputs": [
    {
     "name": "stdout",
     "output_type": "stream",
     "text": [
      "Intercept=153.06798218266258, Slope=[ -43.26774487 -208.67053951  593.39797213  302.89814903 -560.27689824\n",
      "  261.47657106   -8.83343952  135.93715156  703.22658427   28.34844354]\n"
     ]
    }
   ],
   "source": [
    "from sklearn.linear_model import LinearRegression\n",
    "\n",
    "lin_reg = LinearRegression()\n",
    "model = lin_reg.fit(X_train, y_train)\n",
    "print(\"Intercept={}, Slope={}\".format(lin_reg.intercept_, lin_reg.coef_))"
   ]
  },
  {
   "cell_type": "markdown",
   "id": "c720e7c1",
   "metadata": {},
   "source": [
    "Comparing with `theta_best` values, they are the same"
   ]
  },
  {
   "cell_type": "code",
   "execution_count": 15,
   "id": "b3e33755",
   "metadata": {},
   "outputs": [
    {
     "data": {
      "text/plain": [
       "0.35940090989715534"
      ]
     },
     "execution_count": 15,
     "metadata": {},
     "output_type": "execute_result"
    }
   ],
   "source": [
    "model.score(X_test, y_test)"
   ]
  },
  {
   "cell_type": "markdown",
   "id": "425f016f",
   "metadata": {},
   "source": [
    "The `LinearRegression` class performs a `LeastSquare` optimization task, which can be called directly"
   ]
  },
  {
   "cell_type": "code",
   "execution_count": 16,
   "id": "d04dc4d9",
   "metadata": {},
   "outputs": [
    {
     "data": {
      "text/plain": [
       "array([  148.60939713,   122.84075063,  -328.53759576,   306.52890008,\n",
       "         342.13978386, -2054.22700228,  1626.27788372,   586.48941858,\n",
       "         262.9680206 ,  1082.70817482,   187.58052342])"
      ]
     },
     "execution_count": 16,
     "metadata": {},
     "output_type": "execute_result"
    }
   ],
   "source": [
    "theta_best_svd, residuals, rank, s = np.linalg.lstsq(X_test_b, y_test, rcond=1e-6)\n",
    "theta_best_svd"
   ]
  },
  {
   "cell_type": "markdown",
   "id": "5eb92a47",
   "metadata": {},
   "source": [
    "# 4) BatchGradiantDescent (not sklearn implementation)"
   ]
  },
  {
   "cell_type": "code",
   "execution_count": 17,
   "id": "eb51cd3d",
   "metadata": {},
   "outputs": [
    {
     "data": {
      "text/plain": [
       "(331, 10)"
      ]
     },
     "execution_count": 17,
     "metadata": {},
     "output_type": "execute_result"
    }
   ],
   "source": [
    "X_train.shape"
   ]
  },
  {
   "cell_type": "code",
   "execution_count": 18,
   "id": "dd40f830",
   "metadata": {},
   "outputs": [
    {
     "name": "stdout",
     "output_type": "stream",
     "text": [
      "[[152.00263261]\n",
      " [ 11.12898138]\n",
      " [  3.02657658]\n",
      " [ 44.97159716]\n",
      " [ 31.80833582]\n",
      " [ 13.04781967]\n",
      " [ 11.20414673]\n",
      " [-29.96655421]\n",
      " [ 29.77402589]\n",
      " [ 43.52299896]\n",
      " [ 28.93878501]]\n"
     ]
    }
   ],
   "source": [
    "eta = 0.1 # learning rate \n",
    "n_iterations = 100\n",
    "m=len(X_train) # number of samples on the training set\n",
    "\n",
    "theta_grad = np.random.randn(11,1) # random initialization <11x1>, 11 because the features are 10+theta column=11\n",
    "\n",
    "for iteration in range(n_iterations):\n",
    "    pred = np.array(X_b.dot(theta_grad))\n",
    "    diff = pred - y_train.reshape(-1,1)\n",
    "    gradients = 2/m * X_b.T.dot(diff) \n",
    "    theta_grad = theta_grad - eta * gradients\n",
    "    \n",
    "print(theta_grad)"
   ]
  },
  {
   "cell_type": "code",
   "execution_count": 19,
   "id": "51310b06",
   "metadata": {},
   "outputs": [],
   "source": [
    "y_pred_grad = X_test_b.dot(theta_grad)"
   ]
  },
  {
   "cell_type": "code",
   "execution_count": 20,
   "id": "878f2735",
   "metadata": {},
   "outputs": [
    {
     "name": "stdout",
     "output_type": "stream",
     "text": [
      "r2 score: 0.10666997372789522 (higher is better), root mean squared error: 66.59474254179345 (lower is better)\n"
     ]
    }
   ],
   "source": [
    "r2_grad = r2_score(y_test, y_pred_grad)\n",
    "rmse_grad = sqrt(mean_squared_error(y_test, y_pred_grad))\n",
    "\n",
    "print('r2 score: {} (higher is better), root mean squared error: {} (lower is better)'.format(r2_grad, rmse_grad))"
   ]
  },
  {
   "cell_type": "code",
   "execution_count": 21,
   "id": "62a9e414",
   "metadata": {},
   "outputs": [],
   "source": [
    "def gradient_descent_prediction(learning_rate: float) -> float:\n",
    "    eta = learning_rate\n",
    "    n_iterations = 100\n",
    "    m=len(y_train)\n",
    "\n",
    "    theta = np.random.randn(11,1) # random initialization <11x1>\n",
    "    y_pred = 0\n",
    "\n",
    "    for iteration in range(n_iterations):\n",
    "        predictions = np.array(X_b.dot(theta))\n",
    "        difference = np.subtract(predictions, y_train.reshape(-1,1))\n",
    "        gradients = 2/m * X_b.T.dot(difference)\n",
    "        theta = theta - eta * gradients\n",
    "        y_pred = X_test_b.dot(theta)\n",
    "    return y_pred"
   ]
  },
  {
   "cell_type": "code",
   "execution_count": 22,
   "id": "c25eecbe",
   "metadata": {},
   "outputs": [
    {
     "name": "stdout",
     "output_type": "stream",
     "text": [
      "Best score r2: 0.3573483\n",
      "Best parameters: 0.98\n"
     ]
    }
   ],
   "source": [
    "best_score = 0\n",
    "best_parameter = 100000\n",
    "# note the values have been tuned in the list starting from the\n",
    "# general [0.001, 0.01, 0.1, 1, 10, 100].\n",
    "for eta in [0.9, 0.92, 0.94, 0.96, 0.98, 1]:\n",
    "    # for each combination of parameters, evaluate the model\n",
    "    y_pred_grad = gradient_descent_prediction(eta)\n",
    "    new_score = r2_score(y_test,y_pred_grad)\n",
    "    if new_score > best_score:\n",
    "        best_score = new_score\n",
    "        best_parameter = eta\n",
    "\n",
    "print(\"Best score r2: {:.7f}\".format(best_score))\n",
    "print(\"Best parameters: {}\".format(best_parameter))"
   ]
  },
  {
   "cell_type": "markdown",
   "id": "fa84a8e7",
   "metadata": {},
   "source": [
    "# Stochastic gradiant descent (not sklearn implementation)"
   ]
  },
  {
   "cell_type": "code",
   "execution_count": 23,
   "id": "377accfc",
   "metadata": {},
   "outputs": [
    {
     "name": "stdout",
     "output_type": "stream",
     "text": [
      "[[130.61172445]\n",
      " [-17.8535517 ]\n",
      " [ -3.92347162]\n",
      " [-25.33249706]\n",
      " [-22.02162803]\n",
      " [  3.98896936]\n",
      " [  7.77591602]\n",
      " [ -0.83374206]\n",
      " [ -1.60418268]\n",
      " [ -8.3016588 ]\n",
      " [  6.71786812]]\n"
     ]
    }
   ],
   "source": [
    "n_epochs = 50\n",
    "t0, t1 = 5, 50 # learning schedule hyperparameters\n",
    "\n",
    "m=100 #number of samples on the training set\n",
    "\n",
    "def learning_schedule(t): \n",
    "      return t0/(t+t1)\n",
    "\n",
    "theta_stoc = np.random.randn(11,1) # random initialization\n",
    "\n",
    "for epoch in range(n_epochs): \n",
    "    for i in range(m):\n",
    "        random_index = np.random.randint(m)\n",
    "        xi = X_b[random_index:random_index+1]\n",
    "        yi = y[random_index:random_index+1]\n",
    "        gradients = 2 * xi.T.dot(xi.dot(theta_stoc) - yi)\n",
    "        eta = learning_schedule(epoch * m + i)\n",
    "        theta_stoc = theta_stoc - eta * gradients\n",
    "print(theta_stoc)"
   ]
  },
  {
   "cell_type": "markdown",
   "id": "237d4f94",
   "metadata": {},
   "source": [
    "By convention we iterate by rounds of `m` iterations; each round is called an `epoch`. \n",
    "\n",
    "* Batch Gradient Descent (above) iterated 1,000 times through the whole training set\n",
    "* Stochastic Gradient Descent goes through the training set only 50 times and reaches a fairly good solution"
   ]
  },
  {
   "cell_type": "markdown",
   "id": "84f52638",
   "metadata": {},
   "source": [
    "# Plotting learning curves"
   ]
  },
  {
   "cell_type": "code",
   "execution_count": 24,
   "id": "a12c149a",
   "metadata": {},
   "outputs": [
    {
     "name": "stderr",
     "output_type": "stream",
     "text": [
      "/home/christian/anaconda3/lib/python3.8/site-packages/sklearn/metrics/_regression.py:682: UndefinedMetricWarning: R^2 score is not well-defined with less than two samples.\n",
      "  warnings.warn(msg, UndefinedMetricWarning)\n",
      "<ipython-input-24-9c43bb48b177>:20: RuntimeWarning: invalid value encountered in sqrt\n",
      "  plt.plot(np.sqrt(val_errors), color+'-', linewidth=3, label=\"test_\"+model_type)\n",
      "/home/christian/anaconda3/lib/python3.8/site-packages/sklearn/metrics/_regression.py:682: UndefinedMetricWarning: R^2 score is not well-defined with less than two samples.\n",
      "  warnings.warn(msg, UndefinedMetricWarning)\n",
      "<ipython-input-24-9c43bb48b177>:20: RuntimeWarning: invalid value encountered in sqrt\n",
      "  plt.plot(np.sqrt(val_errors), color+'-', linewidth=3, label=\"test_\"+model_type)\n"
     ]
    },
    {
     "data": {
      "text/plain": [
       "<matplotlib.legend.Legend at 0x7f32e44de8e0>"
      ]
     },
     "execution_count": 24,
     "metadata": {},
     "output_type": "execute_result"
    },
    {
     "data": {
      "image/png": "[encoded data removed]",
      "text/plain": [
       "<Figure size 504x504 with 1 Axes>"
      ]
     },
     "metadata": {
      "needs_background": "light"
     },
     "output_type": "display_data"
    }
   ],
   "source": [
    "from sklearn.linear_model import Ridge\n",
    "\n",
    "plt.figure(figsize=(7,7))\n",
    "\n",
    "def plot_learning_curves(model, X, y, model_type, color):\n",
    "  \n",
    "    X_train, X_val, y_train, y_val = train_test_split(X, y, test_size=0.2, random_state=42) \n",
    "    train_errors, val_errors = [], []\n",
    "  \n",
    "    for m in range(1, len(X_train)):\n",
    "\n",
    "        model.fit(X_train[:m], y_train[:m])\n",
    "        y_train_predict = model.predict(X_train[:m])\n",
    "        y_val_predict = model.predict(X_val)\n",
    "\n",
    "        train_errors.append(r2_score(y_train[:m], y_train_predict))\n",
    "        val_errors.append(r2_score(y_val, y_val_predict))\n",
    "  \n",
    "    plt.plot(np.sqrt(train_errors), color+'-+', linewidth=2, label=\"train_\"+model_type)\n",
    "    plt.plot(np.sqrt(val_errors), color+'-', linewidth=3, label=\"test_\"+model_type)\n",
    "\n",
    "\n",
    "lin_reg = LinearRegression()\n",
    "plot_learning_curves(lin_reg, X, y, \"LinearRegression\", color='r')\n",
    "\n",
    "ridge_reg = Ridge(alpha=1)\n",
    "plot_learning_curves(ridge_reg, X, y, \"Ridge\", color='b')\n",
    "\n",
    "plt.xlabel('Training set size')\n",
    "plt.ylabel('R2')\n",
    "plt.legend()"
   ]
  }
 ],
 "metadata": {
  "kernelspec": {
   "display_name": "Python 3",
   "language": "python",
   "name": "python3"
  },
  "language_info": {
   "codemirror_mode": {
    "name": "ipython",
    "version": 3
   },
   "file_extension": ".py",
   "mimetype": "text/x-python",
   "name": "python",
   "nbconvert_exporter": "python",
   "pygments_lexer": "ipython3",
   "version": "3.8.8"
  }
 },
 "nbformat": 4,
 "nbformat_minor": 5
}
