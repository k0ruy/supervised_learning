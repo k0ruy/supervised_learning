{
 "cells": [
  {
   "cell_type": "markdown",
   "metadata": {
    "id": "aIyhquCF_tva"
   },
   "source": [
    "# Linear Regression"
   ]
  },
  {
   "cell_type": "code",
   "execution_count": 97,
   "metadata": {
    "id": "RngG-ZWYAYPK"
   },
   "outputs": [],
   "source": [
    "import numpy as np\n",
    "import matplotlib.pyplot as plt"
   ]
  },
  {
   "cell_type": "markdown",
   "metadata": {
    "id": "WenkyzkvAMcK"
   },
   "source": [
    "## The Normal Equation"
   ]
  },
  {
   "cell_type": "code",
   "execution_count": 98,
   "metadata": {
    "id": "bPJlmO8A_yUB"
   },
   "outputs": [],
   "source": [
    "# synthetic linear looking data\n",
    "X = 2 * np.random.rand(100, 1) #<100x1>\n",
    "y = 4 + 3 * X + np.random.randn(100, 1)"
   ]
  },
  {
   "cell_type": "markdown",
   "metadata": {
    "id": "UjZ5zx5bpXem"
   },
   "source": [
    "$y=3x+4$+noise"
   ]
  },
  {
   "cell_type": "code",
   "execution_count": 99,
   "metadata": {
    "id": "jOrN3Ru6AWzw"
   },
   "outputs": [
    {
     "data": {
      "text/plain": [
       "<matplotlib.collections.PathCollection at 0x2b024ea98b0>"
      ]
     },
     "execution_count": 99,
     "metadata": {},
     "output_type": "execute_result"
    },
    {
     "data": {
      "image/png": "[encoded data removed]",
      "text/plain": [
       "<Figure size 432x288 with 1 Axes>"
      ]
     },
     "metadata": {
      "needs_background": "light"
     },
     "output_type": "display_data"
    }
   ],
   "source": [
    "plt.scatter(X,y)"
   ]
  },
  {
   "cell_type": "code",
   "execution_count": 100,
   "metadata": {
    "id": "3sLWBkrXAVAb"
   },
   "outputs": [],
   "source": [
    "X_b = np.c_[np.ones((100, 1)), X] # add x0 = 1 to each instance  <100x2>\n",
    "theta_best = np.linalg.inv(X_b.T.dot(X_b)).dot(X_b.T).dot(y) # NORMAL EQUATION"
   ]
  },
  {
   "cell_type": "code",
   "execution_count": 101,
   "metadata": {
    "id": "BJ-q2rvsA61m"
   },
   "outputs": [
    {
     "data": {
      "text/plain": [
       "array([[3.89975173],\n",
       "       [3.05606756]])"
      ]
     },
     "execution_count": 101,
     "metadata": {},
     "output_type": "execute_result"
    }
   ],
   "source": [
    "theta_best"
   ]
  },
  {
   "cell_type": "markdown",
   "metadata": {
    "id": "Cdts26xyS5um"
   },
   "source": [
    "**TILL HERE (28/10/2021)**"
   ]
  },
  {
   "cell_type": "markdown",
   "metadata": {
    "id": "qAoIVrWWBWIf"
   },
   "source": [
    "The data was generated by means of `y=4+3x+<gaussian noise>`. \n",
    "The retrieved parameters for theta are close enought but the added noise made it impossible to recover the exact parameters of the original function.\n",
    "\n",
    "The the calculated theta values can be used to make predictions\n",
    "\n"
   ]
  },
  {
   "cell_type": "code",
   "execution_count": 102,
   "metadata": {
    "id": "7AWGrOTbCTQx"
   },
   "outputs": [
    {
     "data": {
      "text/plain": [
       "array([[ 3.89975173],\n",
       "       [10.01188686]])"
      ]
     },
     "execution_count": 102,
     "metadata": {},
     "output_type": "execute_result"
    }
   ],
   "source": [
    "X_new = np.array([[0], [2]])\n",
    "X_new_b = np.c_[np.ones((2, 1)), X_new] # add x0 = 1 to each instance\n",
    "\n",
    "y_predict = X_new_b.dot(theta_best)\n",
    "y_predict"
   ]
  },
  {
   "cell_type": "code",
   "execution_count": 103,
   "metadata": {
    "id": "rg3dHXUmCm1I"
   },
   "outputs": [
    {
     "data": {
      "image/png": "[encoded data removed]",
      "text/plain": [
       "<Figure size 432x288 with 1 Axes>"
      ]
     },
     "metadata": {
      "needs_background": "light"
     },
     "output_type": "display_data"
    }
   ],
   "source": [
    "#visualization of the model's prediction\n",
    "plt.plot(X_new, y_predict, \"r-\", label=\"predictions\")\n",
    "plt.plot(X, y, \"b.\")\n",
    "plt.axis([0, 2, 0, 15])\n",
    "plt.legend()\n",
    "plt.show()"
   ]
  },
  {
   "cell_type": "markdown",
   "metadata": {
    "id": "mAuvUpgSDOzw"
   },
   "source": [
    "### Linear Regression with sklearn"
   ]
  },
  {
   "cell_type": "code",
   "execution_count": 104,
   "metadata": {
    "id": "PD5An2jlDSrc"
   },
   "outputs": [
    {
     "name": "stdout",
     "output_type": "stream",
     "text": [
      "Intercept=[3.89975173], Slope=[[3.05606756]]\n"
     ]
    }
   ],
   "source": [
    "from sklearn.linear_model import LinearRegression\n",
    "lin_reg = LinearRegression()\n",
    "lin_reg.fit(X, y)\n",
    "print(\"Intercept={}, Slope={}\".format(lin_reg.intercept_, lin_reg.coef_))"
   ]
  },
  {
   "cell_type": "code",
   "execution_count": 105,
   "metadata": {
    "id": "quZFqvb2DqVJ"
   },
   "outputs": [
    {
     "data": {
      "text/plain": [
       "array([[ 3.89975173],\n",
       "       [10.01188686]])"
      ]
     },
     "execution_count": 105,
     "metadata": {},
     "output_type": "execute_result"
    }
   ],
   "source": [
    "lin_reg.predict(X_new)"
   ]
  },
  {
   "cell_type": "markdown",
   "metadata": {
    "id": "q9pC3GJpEAF1"
   },
   "source": [
    "The `LinearRegression` class performs a `LeastSquare` optimization task, which can be called directly"
   ]
  },
  {
   "cell_type": "code",
   "execution_count": 106,
   "metadata": {
    "id": "DSliADMtER-Y"
   },
   "outputs": [
    {
     "data": {
      "text/plain": [
       "array([[3.89975173],\n",
       "       [3.05606756]])"
      ]
     },
     "execution_count": 106,
     "metadata": {},
     "output_type": "execute_result"
    }
   ],
   "source": [
    "theta_best_svd, residuals, rank, s = np.linalg.lstsq(X_b, y, rcond=1e-6)\n",
    "theta_best_svd"
   ]
  },
  {
   "cell_type": "markdown",
   "metadata": {
    "id": "Ikwj660V_UiQ"
   },
   "source": [
    "## Batch Gradient Descent"
   ]
  },
  {
   "cell_type": "code",
   "execution_count": 107,
   "metadata": {
    "id": "BjWlRtzp_Xot"
   },
   "outputs": [],
   "source": [
    "eta = 0.1 # learning rate \n",
    "n_iterations = 1000 \n",
    "m=100 #number of samples on the training set\n",
    "\n",
    "theta = np.random.randn(2,1) # random initialization <2x1>\n",
    "\n",
    "for iteration in range(n_iterations):\n",
    "  gradients = 2/m * X_b.T.dot(X_b.dot(theta) - y) \n",
    "  theta = theta - eta * gradients"
   ]
  },
  {
   "cell_type": "code",
   "execution_count": 108,
   "metadata": {
    "id": "am6E2Td__lgE"
   },
   "outputs": [
    {
     "data": {
      "text/plain": [
       "array([[3.89975173],\n",
       "       [3.05606756]])"
      ]
     },
     "execution_count": 108,
     "metadata": {},
     "output_type": "execute_result"
    }
   ],
   "source": [
    "theta"
   ]
  },
  {
   "cell_type": "markdown",
   "metadata": {
    "id": "CudSwlL0HEWL"
   },
   "source": [
    "These values are exactly what the Normal Equation found!"
   ]
  },
  {
   "cell_type": "markdown",
   "metadata": {
    "id": "swJnHJsZIoEj"
   },
   "source": [
    "#### PRACTICE 1\n",
    "\n",
    "Plot the variuos regression lines with the updated thetas at each iteration of the Gradient Descent (reduce the number of iterations to 30)"
   ]
  },
  {
   "cell_type": "code",
   "execution_count": 109,
   "metadata": {
    "id": "ns4rTKgALJ9L"
   },
   "outputs": [
    {
     "data": {
      "image/png": "[encoded data removed]",
      "text/plain": [
       "<Figure size 432x288 with 1 Axes>"
      ]
     },
     "metadata": {
      "needs_background": "light"
     },
     "output_type": "display_data"
    }
   ],
   "source": [
    "eta = 0.1 # learning rate \n",
    "n_iterations = 8 \n",
    "m=100 #number of samples on the training set\n",
    "\n",
    "plt.plot(X, y, \"b.\")\n",
    "plt.axis([0, 2, 0, 15])\n",
    "\n",
    "theta = np.random.randn(2,1) # random initialization <2x1>\n",
    "y_predict = X_new_b.dot(theta)\n",
    "plt.plot(X_new, y_predict, \"b-\")\n",
    "\n",
    "for iteration in range(n_iterations):\n",
    "  gradients = 2/m * X_b.T.dot(X_b.dot(theta) - y) \n",
    "  theta = theta - eta * gradients\n",
    "  #plot the line\n",
    "  y_predict = X_new_b.dot(theta)\n",
    "  plt.plot(X_new, y_predict, \"r-\")\n"
   ]
  },
  {
   "cell_type": "markdown",
   "metadata": {
    "id": "GUYsdGuRJENe"
   },
   "source": [
    "#### PRACTICE 2\n",
    "\n",
    "Repeate Practice 1 with different values of eta (learning rate) and analyse the GD behavior. (Try with $\\eta=0.02$ and $\\eta=0.5$)"
   ]
  },
  {
   "cell_type": "code",
   "execution_count": 110,
   "metadata": {
    "id": "1PcJqpOFvoWv"
   },
   "outputs": [
    {
     "data": {
      "image/png": "[encoded data removed]",
      "text/plain": [
       "<Figure size 432x288 with 1 Axes>"
      ]
     },
     "metadata": {
      "needs_background": "light"
     },
     "output_type": "display_data"
    }
   ],
   "source": [
    "eta = 0.002 # learning rate \n",
    "n_iterations = 50 \n",
    "m=100 #number of samples on the training set\n",
    "\n",
    "plt.plot(X, y, \"b.\")\n",
    "plt.axis([0, 2, 0, 15])\n",
    "\n",
    "theta = np.random.randn(2,1) # random initialization <2x1>\n",
    "y_predict = X_new_b.dot(theta)\n",
    "plt.plot(X_new, y_predict, \"b-\")\n",
    "\n",
    "for iteration in range(n_iterations):\n",
    "  gradients = 2/m * X_b.T.dot(X_b.dot(theta) - y) \n",
    "  theta = theta - eta * gradients\n",
    "  #plot the line\n",
    "  y_predict = X_new_b.dot(theta)\n",
    "  plt.plot(X_new, y_predict, \"r-\")\n"
   ]
  },
  {
   "cell_type": "code",
   "execution_count": 111,
   "metadata": {
    "id": "wfmIbmHTv8dn"
   },
   "outputs": [
    {
     "data": {
      "image/png": "[encoded data removed]",
      "text/plain": [
       "<Figure size 432x288 with 1 Axes>"
      ]
     },
     "metadata": {
      "needs_background": "light"
     },
     "output_type": "display_data"
    }
   ],
   "source": [
    "eta = 0.5 # learning rate \n",
    "n_iterations = 100 \n",
    "m=100 #number of samples on the training set\n",
    "\n",
    "plt.plot(X, y, \"b.\")\n",
    "plt.axis([0, 2, 0, 15])\n",
    "\n",
    "theta = np.random.randn(2,1) # random initialization <2x1>\n",
    "y_predict = X_new_b.dot(theta)\n",
    "plt.plot(X_new, y_predict, \"b-\")\n",
    "\n",
    "for iteration in range(n_iterations):\n",
    "  gradients = 2/m * X_b.T.dot(X_b.dot(theta) - y) \n",
    "  theta = theta - eta * gradients\n",
    "  #plot the line\n",
    "  y_predict = X_new_b.dot(theta)\n",
    "  plt.plot(X_new, y_predict, \"r-\")\n"
   ]
  },
  {
   "cell_type": "markdown",
   "metadata": {
    "id": "t8i1oXolFw_R"
   },
   "source": [
    "## Stochastic Gradient Descent"
   ]
  },
  {
   "cell_type": "markdown",
   "metadata": {
    "id": "lI84qqnDF4b3"
   },
   "source": [
    "### SGD with simple learning schedule"
   ]
  },
  {
   "cell_type": "code",
   "execution_count": 112,
   "metadata": {
    "id": "0pRo77dWAApA"
   },
   "outputs": [],
   "source": [
    "# synthetic linear looking data\n",
    "X = 2 * np.random.rand(100, 1)\n",
    "y = 4 + 3 * X + np.random.randn(100, 1)\n",
    "\n",
    "n_epochs = 50\n",
    "t0, t1 = 5, 50 # learning schedule hyperparameters\n",
    "\n",
    "m=100 #number of samples on the training set\n",
    "\n",
    "def learning_schedule(t): \n",
    "  return t0/(t+t1)\n",
    "\n",
    "theta = np.random.randn(2,1) # random initialization\n",
    "\n",
    "for epoch in range(n_epochs): \n",
    "  for i in range(m):\n",
    "    random_index = np.random.randint(m)\n",
    "    xi = X_b[random_index:random_index+1]\n",
    "    yi = y[random_index:random_index+1]\n",
    "    gradients = 2 * xi.T.dot(xi.dot(theta) - yi)\n",
    "    eta = learning_schedule(epoch * m + i)\n",
    "    theta = theta - eta * gradients"
   ]
  },
  {
   "cell_type": "markdown",
   "metadata": {
    "id": "pxQRTrULHA9B"
   },
   "source": [
    "By convention we iterate by rounds of `m` iterations; each round is called an `epoch`. \n",
    "\n",
    "* Batch Gradient Descent (above) iterated 1,000 times through the whole training set\n",
    "* Stochastic Gradient Descent goes through the training set only 50 times and reaches a fairly good solution"
   ]
  },
  {
   "cell_type": "markdown",
   "metadata": {
    "id": "LNo5ZOEUSVTx"
   },
   "source": [
    "### PRACTIVE 3\n",
    "Which are the first 5 values of the *lerning rate* in the SGD procedure above?"
   ]
  },
  {
   "cell_type": "markdown",
   "metadata": {
    "id": "DnLdsh95UbkT"
   },
   "source": [
    "### PRACTICE 4\n",
    "\n",
    "Plot the first 20 steps of the SDG procedure above (20 predictive line)"
   ]
  },
  {
   "cell_type": "markdown",
   "metadata": {
    "id": "bGCbwoCP8eOg"
   },
   "source": [
    "### Linear Regression wirh SGD using Sklearn"
   ]
  },
  {
   "cell_type": "code",
   "execution_count": 113,
   "metadata": {
    "id": "vMFJP5-kIazL"
   },
   "outputs": [
    {
     "name": "stderr",
     "output_type": "stream",
     "text": [
      "C:\\Users\\chrib\\anaconda3\\lib\\site-packages\\sklearn\\linear_model\\_stochastic_gradient.py:1220: ConvergenceWarning: Maximum number of iteration reached before convergence. Consider increasing max_iter to improve the fit.\n",
      "  warnings.warn(\"Maximum number of iteration reached before \"\n"
     ]
    },
    {
     "data": {
      "text/plain": [
       "SGDRegressor(eta0=0.1, max_iter=10, penalty=None)"
      ]
     },
     "execution_count": 113,
     "metadata": {},
     "output_type": "execute_result"
    }
   ],
   "source": [
    "from sklearn.linear_model import SGDRegressor\n",
    "\n",
    "sgd_reg = SGDRegressor(max_iter=10, tol=1e-3, penalty=None, eta0=0.1) \n",
    "sgd_reg.fit(X, y.ravel())"
   ]
  },
  {
   "cell_type": "markdown",
   "metadata": {
    "id": "DK4YQAnf82oV"
   },
   "source": [
    "The `SGDRegressor` optimizes the **Squared Error cost function**.\n",
    "The code above stops:\n",
    "*  after 1000 iterations (**epochs**)\n",
    "*  if the loss drops by less than `1e-3` during one epoch (**tolerance**) \n",
    "* starting eta is `0.1` (**default learning schedule**)"
   ]
  },
  {
   "cell_type": "code",
   "execution_count": 114,
   "metadata": {
    "id": "MrecNC0281ma"
   },
   "outputs": [
    {
     "data": {
      "text/plain": [
       "(array([3.91478493]), array([2.95805011]))"
      ]
     },
     "execution_count": 114,
     "metadata": {},
     "output_type": "execute_result"
    }
   ],
   "source": [
    "sgd_reg.intercept_, sgd_reg.coef_"
   ]
  },
  {
   "cell_type": "markdown",
   "metadata": {
    "id": "o3Bpr1Py_CPl"
   },
   "source": [
    "### PRACTICE 5\n",
    "Do you get similar values as the ones obtained with the Normal Equation?"
   ]
  },
  {
   "cell_type": "code",
   "execution_count": null,
   "metadata": {
    "id": "uRsBbQrN_FZ2"
   },
   "outputs": [],
   "source": []
  },
  {
   "cell_type": "markdown",
   "metadata": {
    "id": "O8O_TMAd_Trq"
   },
   "source": [
    "## Polynomial Regression"
   ]
  },
  {
   "cell_type": "code",
   "execution_count": 115,
   "metadata": {
    "id": "4fGuTbtF_WcW"
   },
   "outputs": [],
   "source": [
    "# syntetic data generation (quadratic equation + noise)\n",
    "m=100\n",
    "X = 6 * np.random.rand(m, 1) - 3\n",
    "y = 0.5 * X**2 + X + 2 + np.random.randn(m, 1)"
   ]
  },
  {
   "cell_type": "code",
   "execution_count": 116,
   "metadata": {
    "id": "_rGqSpgN_gOo"
   },
   "outputs": [
    {
     "data": {
      "text/plain": [
       "Text(0, 0.5, 'y')"
      ]
     },
     "execution_count": 116,
     "metadata": {},
     "output_type": "execute_result"
    },
    {
     "data": {
      "image/png": "[encoded data removed]",
      "text/plain": [
       "<Figure size 432x288 with 1 Axes>"
      ]
     },
     "metadata": {
      "needs_background": "light"
     },
     "output_type": "display_data"
    }
   ],
   "source": [
    "plt.scatter(X,y)\n",
    "plt.xlabel('X1')\n",
    "plt.ylabel('y')"
   ]
  },
  {
   "cell_type": "markdown",
   "metadata": {
    "id": "pUt18bZ9ACMY"
   },
   "source": [
    "Clearly, a straight line will never fit this data properly. So let’s use Scikit-Learn’s `PolynomialFeatures` class to transform our training data, adding the square (2nd-degree polynomial) of each feature in the training set as new features (in this case there is just one feature)"
   ]
  },
  {
   "cell_type": "code",
   "execution_count": 117,
   "metadata": {
    "id": "fOJElau8_xcU"
   },
   "outputs": [],
   "source": [
    "from sklearn.preprocessing import PolynomialFeatures\n",
    "poly_features = PolynomialFeatures(degree=2, include_bias=False)\n",
    "X_poly = poly_features.fit_transform(X)"
   ]
  },
  {
   "cell_type": "code",
   "execution_count": 118,
   "metadata": {
    "id": "ZPwsHGZ5AQl2"
   },
   "outputs": [
    {
     "data": {
      "text/plain": [
       "array([2.70187577])"
      ]
     },
     "execution_count": 118,
     "metadata": {},
     "output_type": "execute_result"
    }
   ],
   "source": [
    "X[0]"
   ]
  },
  {
   "cell_type": "code",
   "execution_count": 119,
   "metadata": {
    "id": "0NAxwmTMAXdg"
   },
   "outputs": [
    {
     "data": {
      "text/plain": [
       "array([2.70187577, 7.30013265])"
      ]
     },
     "execution_count": 119,
     "metadata": {},
     "output_type": "execute_result"
    }
   ],
   "source": [
    "X_poly[0]"
   ]
  },
  {
   "cell_type": "markdown",
   "metadata": {
    "id": "5ZIGxBZkAenG"
   },
   "source": [
    "`X_poly` now contains the original feature of `X` plus the square of this feature. \n",
    "\n",
    "Now you can fit a LinearRegression model to this extended training data"
   ]
  },
  {
   "cell_type": "code",
   "execution_count": 120,
   "metadata": {
    "id": "vzoLtPo-AZ8z"
   },
   "outputs": [
    {
     "data": {
      "text/plain": [
       "(array([1.80540915]), array([[0.96723667, 0.54552627]]))"
      ]
     },
     "execution_count": 120,
     "metadata": {},
     "output_type": "execute_result"
    }
   ],
   "source": [
    "from sklearn.linear_model import LinearRegression\n",
    "\n",
    "lin_reg = LinearRegression()\n",
    "lin_reg.fit(X_poly, y)\n",
    "lin_reg.intercept_, lin_reg.coef_"
   ]
  },
  {
   "cell_type": "code",
   "execution_count": 121,
   "metadata": {
    "id": "vBrV89bzApFq"
   },
   "outputs": [
    {
     "data": {
      "text/plain": [
       "<matplotlib.collections.PathCollection at 0x2b024897670>"
      ]
     },
     "execution_count": 121,
     "metadata": {},
     "output_type": "execute_result"
    },
    {
     "data": {
      "image/png": "[encoded data removed]",
      "text/plain": [
       "<Figure size 432x288 with 1 Axes>"
      ]
     },
     "metadata": {
      "needs_background": "light"
     },
     "output_type": "display_data"
    }
   ],
   "source": [
    "plt.scatter(X,y)\n",
    "plt.xlabel('X1')\n",
    "plt.ylabel('y')\n",
    "\n",
    "plt.scatter(X, lin_reg.predict(X_poly),label='prediciton')"
   ]
  },
  {
   "cell_type": "markdown",
   "metadata": {
    "id": "dKHlakpzHTTz"
   },
   "source": [
    "the model estimates \n",
    "\n",
    "$𝚢 = 0.47 x^2 +0.89 x + 2.2$\n",
    "\n",
    "when the original function was \n",
    "\n",
    "$y = 0.5x^2 + 1.0x + 2.0 +$ Gaussian noise."
   ]
  },
  {
   "cell_type": "markdown",
   "metadata": {
    "id": "37dsD6anQWUy"
   },
   "source": [
    "#### NOTE \n",
    "When there are multiple features, Polynomial Regression is capable of finding relationships between features (which is something a plain Linear Regression model cannot do). This is made possible by the fact that `PolynomialFeatures` also adds all combinations of features up to the given degree. \n",
    "\n",
    "\n",
    "> For example, if there were two features **a** and **b**, `PolynomialFeatures` with ***degree=3*** would not only add the features $a^2$, $a^3$, $b^2$, and $b^3$, but also the combinations $ab$, $a^2b$, and $ab^2$.\n",
    "\n",
    "Beware of the combinatorial explosion of the number of features!\n",
    "\n"
   ]
  },
  {
   "cell_type": "markdown",
   "metadata": {
    "id": "MvljbW-s3U_p"
   },
   "source": [
    "## Learning Curve"
   ]
  },
  {
   "cell_type": "markdown",
   "metadata": {
    "id": "EFib9dU59Kck"
   },
   "source": [
    "Simple Linear Regression"
   ]
  },
  {
   "cell_type": "code",
   "execution_count": 122,
   "metadata": {
    "id": "WvvkDkJNB9Bo"
   },
   "outputs": [],
   "source": [
    "from sklearn.metrics import mean_squared_error\n",
    "from sklearn.model_selection import train_test_split\n",
    "\n",
    "def plot_learning_curves(model, X, y):\n",
    "  \n",
    "    X_train, X_val, y_train, y_val = train_test_split(X, y, test_size=0.2, random_state=42) \n",
    "    train_errors, val_errors = [], []\n",
    "  \n",
    "    for m in range(1, len(X_train)):\n",
    "\n",
    "        model.fit(X_train[:m], y_train[:m])\n",
    "        y_train_predict = model.predict(X_train[:m])\n",
    "        y_val_predict = model.predict(X_val)\n",
    "\n",
    "        train_errors.append(mean_squared_error(y_train[:m], y_train_predict))\n",
    "        val_errors.append(mean_squared_error(y_val, y_val_predict))\n",
    "  \n",
    "    plt.plot(np.sqrt(train_errors), \"r-+\", linewidth=2, label=\"train\")\n",
    "    plt.plot(np.sqrt(val_errors), \"b-\", linewidth=3, label=\"val\")"
   ]
  },
  {
   "cell_type": "code",
   "execution_count": 123,
   "metadata": {
    "id": "XRxacwJh4CXC"
   },
   "outputs": [
    {
     "data": {
      "text/plain": [
       "<matplotlib.legend.Legend at 0x2b024dcebe0>"
      ]
     },
     "execution_count": 123,
     "metadata": {},
     "output_type": "execute_result"
    },
    {
     "data": {
      "image/png": "[encoded data removed]",
      "text/plain": [
       "<Figure size 432x288 with 1 Axes>"
      ]
     },
     "metadata": {
      "needs_background": "light"
     },
     "output_type": "display_data"
    }
   ],
   "source": [
    "from sklearn.linear_model import LinearRegression\n",
    "lin_reg = LinearRegression()\n",
    "plot_learning_curves(lin_reg, X, y)\n",
    "plt.xlabel('Training set size')\n",
    "plt.ylabel('RMSE')\n",
    "plt.legend()"
   ]
  },
  {
   "cell_type": "markdown",
   "metadata": {
    "id": "9yueJppJ9RR0"
   },
   "source": [
    "$10^{th}$-degree polynomial model on the same data"
   ]
  },
  {
   "cell_type": "code",
   "execution_count": 124,
   "metadata": {
    "id": "5WIiPGjh4Kko"
   },
   "outputs": [
    {
     "data": {
      "image/png": "[encoded data removed]",
      "text/plain": [
       "<Figure size 432x288 with 1 Axes>"
      ]
     },
     "metadata": {
      "needs_background": "light"
     },
     "output_type": "display_data"
    }
   ],
   "source": [
    "from sklearn.pipeline import Pipeline\n",
    "polynomial_regression = Pipeline([\n",
    "                                  (\"poly_features\", PolynomialFeatures(degree=10, include_bias=False)), \n",
    "                                  (\"lin_reg\", LinearRegression()),\n",
    "                                  ])\n",
    "plot_learning_curves(polynomial_regression, X, y)"
   ]
  },
  {
   "cell_type": "markdown",
   "metadata": {
    "id": "WFljQAVPXXrl"
   },
   "source": [
    "## Ridge Regression"
   ]
  },
  {
   "cell_type": "markdown",
   "metadata": {
    "id": "45IR5yRpANcE"
   },
   "source": [
    "Ridge Regression using the closed-form solution (solver, variant using a Matrix Factorization technique)"
   ]
  },
  {
   "cell_type": "code",
   "execution_count": 125,
   "metadata": {
    "id": "JJvWo21MXZTn"
   },
   "outputs": [
    {
     "data": {
      "text/plain": [
       "Ridge(alpha=1, solver='cholesky')"
      ]
     },
     "execution_count": 125,
     "metadata": {},
     "output_type": "execute_result"
    }
   ],
   "source": [
    "from sklearn.linear_model import Ridge\n",
    "ridge_reg = Ridge(alpha=1, solver=\"cholesky\")\n",
    "ridge_reg.fit(X, y)"
   ]
  },
  {
   "cell_type": "code",
   "execution_count": 126,
   "metadata": {
    "id": "Uc-b0_qZXoXR"
   },
   "outputs": [
    {
     "data": {
      "text/plain": [
       "array([[5.0090563]])"
      ]
     },
     "execution_count": 126,
     "metadata": {},
     "output_type": "execute_result"
    }
   ],
   "source": [
    "ridge_reg.predict([[1.5]])"
   ]
  },
  {
   "cell_type": "markdown",
   "metadata": {
    "id": "L-XchPKwAVr7"
   },
   "source": [
    "Ridge Regression using Stochastic Gradient Descent"
   ]
  },
  {
   "cell_type": "code",
   "execution_count": 127,
   "metadata": {
    "id": "YqmfUSzHX6Ot"
   },
   "outputs": [
    {
     "data": {
      "text/plain": [
       "array([4.987433])"
      ]
     },
     "execution_count": 127,
     "metadata": {},
     "output_type": "execute_result"
    }
   ],
   "source": [
    "sgd_reg = SGDRegressor(penalty=\"l2\")\n",
    "sgd_reg.fit(X, y.ravel())\n",
    "\n",
    "sgd_reg.predict([[1.5]])"
   ]
  },
  {
   "cell_type": "markdown",
   "metadata": {
    "id": "TwWfu5dHMqPE"
   },
   "source": [
    "## Lasso Regression"
   ]
  },
  {
   "cell_type": "markdown",
   "metadata": {
    "id": "PsleieyiNdy7"
   },
   "source": [
    "We could instead use an `SGDRegressor(penalty=\"l1\")`"
   ]
  },
  {
   "cell_type": "code",
   "execution_count": 128,
   "metadata": {
    "id": "iCgOEJppMuH2"
   },
   "outputs": [
    {
     "data": {
      "text/plain": [
       "array([4.96989394])"
      ]
     },
     "execution_count": 128,
     "metadata": {},
     "output_type": "execute_result"
    }
   ],
   "source": [
    "from sklearn.linear_model import Lasso \n",
    "lasso_reg = Lasso(alpha=0.1)\n",
    "lasso_reg.fit(X, y)\n",
    "lasso_reg.predict([[1.5]])"
   ]
  },
  {
   "cell_type": "markdown",
   "metadata": {
    "id": "DHZuO0dgRCAX"
   },
   "source": [
    "## Early Stopping\n",
    "Basic implementation of early stopping"
   ]
  },
  {
   "cell_type": "code",
   "execution_count": 130,
   "metadata": {
    "id": "4QTASTGLRDff"
   },
   "outputs": [
    {
     "ename": "NameError",
     "evalue": "name 'X_train' is not defined",
     "output_type": "error",
     "traceback": [
      "\u001b[1;31m---------------------------------------------------------------------------\u001b[0m",
      "\u001b[1;31mNameError\u001b[0m                                 Traceback (most recent call last)",
      "\u001b[1;32m<ipython-input-130-fd31e1037d6a>\u001b[0m in \u001b[0;36m<module>\u001b[1;34m\u001b[0m\n\u001b[0;32m      7\u001b[0m                         \u001b[1;33m(\u001b[0m\u001b[1;34m\"std_scaler\"\u001b[0m\u001b[1;33m,\u001b[0m \u001b[0mStandardScaler\u001b[0m\u001b[1;33m(\u001b[0m\u001b[1;33m)\u001b[0m\u001b[1;33m)\u001b[0m\u001b[1;33m\u001b[0m\u001b[1;33m\u001b[0m\u001b[0m\n\u001b[0;32m      8\u001b[0m                         ])\n\u001b[1;32m----> 9\u001b[1;33m \u001b[0mX_train_poly_scaled\u001b[0m \u001b[1;33m=\u001b[0m \u001b[0mpoly_scaler\u001b[0m\u001b[1;33m.\u001b[0m\u001b[0mfit_transform\u001b[0m\u001b[1;33m(\u001b[0m\u001b[0mX_train\u001b[0m\u001b[1;33m)\u001b[0m\u001b[1;33m\u001b[0m\u001b[1;33m\u001b[0m\u001b[0m\n\u001b[0m\u001b[0;32m     10\u001b[0m \u001b[0mX_val_poly_scaled\u001b[0m \u001b[1;33m=\u001b[0m \u001b[0mpoly_scaler\u001b[0m\u001b[1;33m.\u001b[0m\u001b[0mtransform\u001b[0m\u001b[1;33m(\u001b[0m\u001b[0mX_val\u001b[0m\u001b[1;33m)\u001b[0m\u001b[1;33m\u001b[0m\u001b[1;33m\u001b[0m\u001b[0m\n\u001b[0;32m     11\u001b[0m \u001b[1;33m\u001b[0m\u001b[0m\n",
      "\u001b[1;31mNameError\u001b[0m: name 'X_train' is not defined"
     ]
    }
   ],
   "source": [
    "from sklearn.base import clone\n",
    "from sklearn.preprocessing import StandardScaler\n",
    "\n",
    "# prepare the data\n",
    "poly_scaler = Pipeline([\n",
    "                        (\"poly_features\", PolynomialFeatures(degree=90, include_bias=False)),\n",
    "                        (\"std_scaler\", StandardScaler())\n",
    "                        ])\n",
    "X_train_poly_scaled = poly_scaler.fit_transform(X_train)\n",
    "X_val_poly_scaled = poly_scaler.transform(X_val)\n",
    "\n",
    "sgd_reg = SGDRegressor(max_iter=1, tol=-np.infty, warm_start=True,\n",
    "                       penalty=None, learning_rate=\"constant\", eta0=0.0005)\n",
    "#with warm_start=True, when the fit() method is called, it just continues training \n",
    "#where it left off instead of restarting from scratch\n",
    "\n",
    "minimum_val_error = float(\"inf\") \n",
    "best_epoch = None\n",
    "best_model = None\n",
    "\n",
    "for epoch in range(1000):\n",
    "    sgd_reg.fit(X_train_poly_scaled, y_train) # continues where it left off \n",
    "    y_val_predict = sgd_reg.predict(X_val_poly_scaled)\n",
    "  \n",
    "    val_error = mean_squared_error(y_val, y_val_predict)\n",
    "    if val_error < minimum_val_error:\n",
    "        minimum_val_error = val_error\n",
    "        best_epoch = epoch\n",
    "        best_model = clone(sgd_reg)\n"
   ]
  },
  {
   "cell_type": "code",
   "execution_count": null,
   "metadata": {},
   "outputs": [],
   "source": []
  }
 ],
 "metadata": {
  "colab": {
   "collapsed_sections": [],
   "name": "04_LinearRegression_lesson_09112021.ipynb",
   "provenance": [],
   "toc_visible": true
  },
  "kernelspec": {
   "display_name": "Python 3",
   "language": "python",
   "name": "python3"
  },
  "language_info": {
   "codemirror_mode": {
    "name": "ipython",
    "version": 3
   },
   "file_extension": ".py",
   "mimetype": "text/x-python",
   "name": "python",
   "nbconvert_exporter": "python",
   "pygments_lexer": "ipython3",
   "version": "3.8.8"
  }
 },
 "nbformat": 4,
 "nbformat_minor": 1
}
