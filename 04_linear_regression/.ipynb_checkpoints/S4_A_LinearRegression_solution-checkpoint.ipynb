{
 "cells": [
  {
   "cell_type": "markdown",
   "metadata": {
    "id": "J_p5o2miWusd"
   },
   "source": [
    "# Practice 4A: Linear Regression\n",
    "### Diabetes dataset : regression problem"
   ]
  },
  {
   "cell_type": "code",
   "execution_count": 1,
   "metadata": {
    "id": "SWwSR6qeEWZx"
   },
   "outputs": [],
   "source": [
    "import pandas as pd\n",
    "import numpy as np\n",
    "import matplotlib.pyplot as plt\n",
    "import seaborn as sns"
   ]
  },
  {
   "cell_type": "code",
   "execution_count": 2,
   "metadata": {
    "id": "rlRZeMr5d9cX"
   },
   "outputs": [],
   "source": [
    "from sklearn.datasets import load_diabetes\n",
    "data = load_diabetes()"
   ]
  },
  {
   "cell_type": "markdown",
   "metadata": {
    "id": "12_O8wLKvMdI"
   },
   "source": [
    "# (1) Load explore and preprocess (if needed) the dataset"
   ]
  },
  {
   "cell_type": "code",
   "execution_count": 3,
   "metadata": {
    "colab": {
     "base_uri": "https://localhost:8080/",
     "height": 204
    },
    "id": "50zBMTXnVp7P",
    "outputId": "fbf98fe6-72c5-4b69-96ce-9fac27438ed0"
   },
   "outputs": [
    {
     "data": {
      "text/html": [
       "<div>\n",
       "<style scoped>\n",
       "    .dataframe tbody tr th:only-of-type {\n",
       "        vertical-align: middle;\n",
       "    }\n",
       "\n",
       "    .dataframe tbody tr th {\n",
       "        vertical-align: top;\n",
       "    }\n",
       "\n",
       "    .dataframe thead th {\n",
       "        text-align: right;\n",
       "    }\n",
       "</style>\n",
       "<table border=\"1\" class=\"dataframe\">\n",
       "  <thead>\n",
       "    <tr style=\"text-align: right;\">\n",
       "      <th></th>\n",
       "      <th>age</th>\n",
       "      <th>sex</th>\n",
       "      <th>bmi</th>\n",
       "      <th>bp</th>\n",
       "      <th>s1</th>\n",
       "      <th>s2</th>\n",
       "      <th>s3</th>\n",
       "      <th>s4</th>\n",
       "      <th>s5</th>\n",
       "      <th>s6</th>\n",
       "    </tr>\n",
       "  </thead>\n",
       "  <tbody>\n",
       "    <tr>\n",
       "      <th>0</th>\n",
       "      <td>0.038076</td>\n",
       "      <td>0.050680</td>\n",
       "      <td>0.061696</td>\n",
       "      <td>0.021872</td>\n",
       "      <td>-0.044223</td>\n",
       "      <td>-0.034821</td>\n",
       "      <td>-0.043401</td>\n",
       "      <td>-0.002592</td>\n",
       "      <td>0.019908</td>\n",
       "      <td>-0.017646</td>\n",
       "    </tr>\n",
       "    <tr>\n",
       "      <th>1</th>\n",
       "      <td>-0.001882</td>\n",
       "      <td>-0.044642</td>\n",
       "      <td>-0.051474</td>\n",
       "      <td>-0.026328</td>\n",
       "      <td>-0.008449</td>\n",
       "      <td>-0.019163</td>\n",
       "      <td>0.074412</td>\n",
       "      <td>-0.039493</td>\n",
       "      <td>-0.068330</td>\n",
       "      <td>-0.092204</td>\n",
       "    </tr>\n",
       "    <tr>\n",
       "      <th>2</th>\n",
       "      <td>0.085299</td>\n",
       "      <td>0.050680</td>\n",
       "      <td>0.044451</td>\n",
       "      <td>-0.005671</td>\n",
       "      <td>-0.045599</td>\n",
       "      <td>-0.034194</td>\n",
       "      <td>-0.032356</td>\n",
       "      <td>-0.002592</td>\n",
       "      <td>0.002864</td>\n",
       "      <td>-0.025930</td>\n",
       "    </tr>\n",
       "    <tr>\n",
       "      <th>3</th>\n",
       "      <td>-0.089063</td>\n",
       "      <td>-0.044642</td>\n",
       "      <td>-0.011595</td>\n",
       "      <td>-0.036656</td>\n",
       "      <td>0.012191</td>\n",
       "      <td>0.024991</td>\n",
       "      <td>-0.036038</td>\n",
       "      <td>0.034309</td>\n",
       "      <td>0.022692</td>\n",
       "      <td>-0.009362</td>\n",
       "    </tr>\n",
       "    <tr>\n",
       "      <th>4</th>\n",
       "      <td>0.005383</td>\n",
       "      <td>-0.044642</td>\n",
       "      <td>-0.036385</td>\n",
       "      <td>0.021872</td>\n",
       "      <td>0.003935</td>\n",
       "      <td>0.015596</td>\n",
       "      <td>0.008142</td>\n",
       "      <td>-0.002592</td>\n",
       "      <td>-0.031991</td>\n",
       "      <td>-0.046641</td>\n",
       "    </tr>\n",
       "  </tbody>\n",
       "</table>\n",
       "</div>"
      ],
      "text/plain": [
       "        age       sex       bmi        bp        s1        s2        s3  \\\n",
       "0  0.038076  0.050680  0.061696  0.021872 -0.044223 -0.034821 -0.043401   \n",
       "1 -0.001882 -0.044642 -0.051474 -0.026328 -0.008449 -0.019163  0.074412   \n",
       "2  0.085299  0.050680  0.044451 -0.005671 -0.045599 -0.034194 -0.032356   \n",
       "3 -0.089063 -0.044642 -0.011595 -0.036656  0.012191  0.024991 -0.036038   \n",
       "4  0.005383 -0.044642 -0.036385  0.021872  0.003935  0.015596  0.008142   \n",
       "\n",
       "         s4        s5        s6  \n",
       "0 -0.002592  0.019908 -0.017646  \n",
       "1 -0.039493 -0.068330 -0.092204  \n",
       "2 -0.002592  0.002864 -0.025930  \n",
       "3  0.034309  0.022692 -0.009362  \n",
       "4 -0.002592 -0.031991 -0.046641  "
      ]
     },
     "execution_count": 3,
     "metadata": {},
     "output_type": "execute_result"
    }
   ],
   "source": [
    "df=pd.DataFrame(data=data.data, columns=data.feature_names)\n",
    "df.head()"
   ]
  },
  {
   "cell_type": "code",
   "execution_count": 4,
   "metadata": {
    "colab": {
     "base_uri": "https://localhost:8080/"
    },
    "id": "zwr54iVxE-fU",
    "outputId": "c1178795-32cb-4e8a-9281-50503645a9f4"
   },
   "outputs": [
    {
     "data": {
      "text/plain": [
       "(442, 10)"
      ]
     },
     "execution_count": 4,
     "metadata": {},
     "output_type": "execute_result"
    }
   ],
   "source": [
    "df.shape"
   ]
  },
  {
   "cell_type": "code",
   "execution_count": 5,
   "metadata": {
    "colab": {
     "base_uri": "https://localhost:8080/",
     "height": 385
    },
    "id": "TNocVvJ3Ecmr",
    "outputId": "b02e8ac6-0825-4dcf-d945-8f31e4e23f00"
   },
   "outputs": [
    {
     "data": {
      "text/html": [
       "<div>\n",
       "<style scoped>\n",
       "    .dataframe tbody tr th:only-of-type {\n",
       "        vertical-align: middle;\n",
       "    }\n",
       "\n",
       "    .dataframe tbody tr th {\n",
       "        vertical-align: top;\n",
       "    }\n",
       "\n",
       "    .dataframe thead th {\n",
       "        text-align: right;\n",
       "    }\n",
       "</style>\n",
       "<table border=\"1\" class=\"dataframe\">\n",
       "  <thead>\n",
       "    <tr style=\"text-align: right;\">\n",
       "      <th></th>\n",
       "      <th>age</th>\n",
       "      <th>sex</th>\n",
       "      <th>bmi</th>\n",
       "      <th>bp</th>\n",
       "      <th>s1</th>\n",
       "      <th>s2</th>\n",
       "      <th>s3</th>\n",
       "      <th>s4</th>\n",
       "      <th>s5</th>\n",
       "      <th>s6</th>\n",
       "    </tr>\n",
       "  </thead>\n",
       "  <tbody>\n",
       "    <tr>\n",
       "      <th>count</th>\n",
       "      <td>4.420000e+02</td>\n",
       "      <td>4.420000e+02</td>\n",
       "      <td>4.420000e+02</td>\n",
       "      <td>4.420000e+02</td>\n",
       "      <td>4.420000e+02</td>\n",
       "      <td>4.420000e+02</td>\n",
       "      <td>4.420000e+02</td>\n",
       "      <td>4.420000e+02</td>\n",
       "      <td>4.420000e+02</td>\n",
       "      <td>4.420000e+02</td>\n",
       "    </tr>\n",
       "    <tr>\n",
       "      <th>mean</th>\n",
       "      <td>-3.634285e-16</td>\n",
       "      <td>1.308343e-16</td>\n",
       "      <td>-8.045349e-16</td>\n",
       "      <td>1.281655e-16</td>\n",
       "      <td>-8.835316e-17</td>\n",
       "      <td>1.327024e-16</td>\n",
       "      <td>-4.574646e-16</td>\n",
       "      <td>3.777301e-16</td>\n",
       "      <td>-3.830854e-16</td>\n",
       "      <td>-3.412882e-16</td>\n",
       "    </tr>\n",
       "    <tr>\n",
       "      <th>std</th>\n",
       "      <td>4.761905e-02</td>\n",
       "      <td>4.761905e-02</td>\n",
       "      <td>4.761905e-02</td>\n",
       "      <td>4.761905e-02</td>\n",
       "      <td>4.761905e-02</td>\n",
       "      <td>4.761905e-02</td>\n",
       "      <td>4.761905e-02</td>\n",
       "      <td>4.761905e-02</td>\n",
       "      <td>4.761905e-02</td>\n",
       "      <td>4.761905e-02</td>\n",
       "    </tr>\n",
       "    <tr>\n",
       "      <th>min</th>\n",
       "      <td>-1.072256e-01</td>\n",
       "      <td>-4.464164e-02</td>\n",
       "      <td>-9.027530e-02</td>\n",
       "      <td>-1.123996e-01</td>\n",
       "      <td>-1.267807e-01</td>\n",
       "      <td>-1.156131e-01</td>\n",
       "      <td>-1.023071e-01</td>\n",
       "      <td>-7.639450e-02</td>\n",
       "      <td>-1.260974e-01</td>\n",
       "      <td>-1.377672e-01</td>\n",
       "    </tr>\n",
       "    <tr>\n",
       "      <th>25%</th>\n",
       "      <td>-3.729927e-02</td>\n",
       "      <td>-4.464164e-02</td>\n",
       "      <td>-3.422907e-02</td>\n",
       "      <td>-3.665645e-02</td>\n",
       "      <td>-3.424784e-02</td>\n",
       "      <td>-3.035840e-02</td>\n",
       "      <td>-3.511716e-02</td>\n",
       "      <td>-3.949338e-02</td>\n",
       "      <td>-3.324879e-02</td>\n",
       "      <td>-3.317903e-02</td>\n",
       "    </tr>\n",
       "    <tr>\n",
       "      <th>50%</th>\n",
       "      <td>5.383060e-03</td>\n",
       "      <td>-4.464164e-02</td>\n",
       "      <td>-7.283766e-03</td>\n",
       "      <td>-5.670611e-03</td>\n",
       "      <td>-4.320866e-03</td>\n",
       "      <td>-3.819065e-03</td>\n",
       "      <td>-6.584468e-03</td>\n",
       "      <td>-2.592262e-03</td>\n",
       "      <td>-1.947634e-03</td>\n",
       "      <td>-1.077698e-03</td>\n",
       "    </tr>\n",
       "    <tr>\n",
       "      <th>75%</th>\n",
       "      <td>3.807591e-02</td>\n",
       "      <td>5.068012e-02</td>\n",
       "      <td>3.124802e-02</td>\n",
       "      <td>3.564384e-02</td>\n",
       "      <td>2.835801e-02</td>\n",
       "      <td>2.984439e-02</td>\n",
       "      <td>2.931150e-02</td>\n",
       "      <td>3.430886e-02</td>\n",
       "      <td>3.243323e-02</td>\n",
       "      <td>2.791705e-02</td>\n",
       "    </tr>\n",
       "    <tr>\n",
       "      <th>max</th>\n",
       "      <td>1.107267e-01</td>\n",
       "      <td>5.068012e-02</td>\n",
       "      <td>1.705552e-01</td>\n",
       "      <td>1.320442e-01</td>\n",
       "      <td>1.539137e-01</td>\n",
       "      <td>1.987880e-01</td>\n",
       "      <td>1.811791e-01</td>\n",
       "      <td>1.852344e-01</td>\n",
       "      <td>1.335990e-01</td>\n",
       "      <td>1.356118e-01</td>\n",
       "    </tr>\n",
       "  </tbody>\n",
       "</table>\n",
       "</div>"
      ],
      "text/plain": [
       "                age           sex           bmi            bp            s1  \\\n",
       "count  4.420000e+02  4.420000e+02  4.420000e+02  4.420000e+02  4.420000e+02   \n",
       "mean  -3.634285e-16  1.308343e-16 -8.045349e-16  1.281655e-16 -8.835316e-17   \n",
       "std    4.761905e-02  4.761905e-02  4.761905e-02  4.761905e-02  4.761905e-02   \n",
       "min   -1.072256e-01 -4.464164e-02 -9.027530e-02 -1.123996e-01 -1.267807e-01   \n",
       "25%   -3.729927e-02 -4.464164e-02 -3.422907e-02 -3.665645e-02 -3.424784e-02   \n",
       "50%    5.383060e-03 -4.464164e-02 -7.283766e-03 -5.670611e-03 -4.320866e-03   \n",
       "75%    3.807591e-02  5.068012e-02  3.124802e-02  3.564384e-02  2.835801e-02   \n",
       "max    1.107267e-01  5.068012e-02  1.705552e-01  1.320442e-01  1.539137e-01   \n",
       "\n",
       "                 s2            s3            s4            s5            s6  \n",
       "count  4.420000e+02  4.420000e+02  4.420000e+02  4.420000e+02  4.420000e+02  \n",
       "mean   1.327024e-16 -4.574646e-16  3.777301e-16 -3.830854e-16 -3.412882e-16  \n",
       "std    4.761905e-02  4.761905e-02  4.761905e-02  4.761905e-02  4.761905e-02  \n",
       "min   -1.156131e-01 -1.023071e-01 -7.639450e-02 -1.260974e-01 -1.377672e-01  \n",
       "25%   -3.035840e-02 -3.511716e-02 -3.949338e-02 -3.324879e-02 -3.317903e-02  \n",
       "50%   -3.819065e-03 -6.584468e-03 -2.592262e-03 -1.947634e-03 -1.077698e-03  \n",
       "75%    2.984439e-02  2.931150e-02  3.430886e-02  3.243323e-02  2.791705e-02  \n",
       "max    1.987880e-01  1.811791e-01  1.852344e-01  1.335990e-01  1.356118e-01  "
      ]
     },
     "execution_count": 5,
     "metadata": {},
     "output_type": "execute_result"
    }
   ],
   "source": [
    "df.describe()"
   ]
  },
  {
   "cell_type": "code",
   "execution_count": 6,
   "metadata": {
    "colab": {
     "base_uri": "https://localhost:8080/"
    },
    "id": "EYoIl5TwElk8",
    "outputId": "14ca52fa-6273-4b06-8607-c4cc0b2e4a7f"
   },
   "outputs": [
    {
     "data": {
      "text/plain": [
       "array([151.,  75., 141., 206., 135.,  97., 138.,  63., 110., 310., 101.,\n",
       "        69., 179., 185., 118., 171., 166., 144.,  97., 168.,  68.,  49.,\n",
       "        68., 245., 184., 202., 137.,  85., 131., 283., 129.,  59., 341.,\n",
       "        87.,  65., 102., 265., 276., 252.,  90., 100.,  55.,  61.,  92.,\n",
       "       259.,  53., 190., 142.,  75., 142., 155., 225.,  59., 104., 182.,\n",
       "       128.,  52.,  37., 170., 170.,  61., 144.,  52., 128.,  71., 163.,\n",
       "       150.,  97., 160., 178.,  48., 270., 202., 111.,  85.,  42., 170.,\n",
       "       200., 252., 113., 143.,  51.,  52., 210.,  65., 141.,  55., 134.,\n",
       "        42., 111.,  98., 164.,  48.,  96.,  90., 162., 150., 279.,  92.,\n",
       "        83., 128., 102., 302., 198.,  95.,  53., 134., 144., 232.,  81.,\n",
       "       104.,  59., 246., 297., 258., 229., 275., 281., 179., 200., 200.,\n",
       "       173., 180.,  84., 121., 161.,  99., 109., 115., 268., 274., 158.,\n",
       "       107.,  83., 103., 272.,  85., 280., 336., 281., 118., 317., 235.,\n",
       "        60., 174., 259., 178., 128.,  96., 126., 288.,  88., 292.,  71.,\n",
       "       197., 186.,  25.,  84.,  96., 195.,  53., 217., 172., 131., 214.,\n",
       "        59.,  70., 220., 268., 152.,  47.,  74., 295., 101., 151., 127.,\n",
       "       237., 225.,  81., 151., 107.,  64., 138., 185., 265., 101., 137.,\n",
       "       143., 141.,  79., 292., 178.,  91., 116.,  86., 122.,  72., 129.,\n",
       "       142.,  90., 158.,  39., 196., 222., 277.,  99., 196., 202., 155.,\n",
       "        77., 191.,  70.,  73.,  49.,  65., 263., 248., 296., 214., 185.,\n",
       "        78.,  93., 252., 150.,  77., 208.,  77., 108., 160.,  53., 220.,\n",
       "       154., 259.,  90., 246., 124.,  67.,  72., 257., 262., 275., 177.,\n",
       "        71.,  47., 187., 125.,  78.,  51., 258., 215., 303., 243.,  91.,\n",
       "       150., 310., 153., 346.,  63.,  89.,  50.,  39., 103., 308., 116.,\n",
       "       145.,  74.,  45., 115., 264.,  87., 202., 127., 182., 241.,  66.,\n",
       "        94., 283.,  64., 102., 200., 265.,  94., 230., 181., 156., 233.,\n",
       "        60., 219.,  80.,  68., 332., 248.,  84., 200.,  55.,  85.,  89.,\n",
       "        31., 129.,  83., 275.,  65., 198., 236., 253., 124.,  44., 172.,\n",
       "       114., 142., 109., 180., 144., 163., 147.,  97., 220., 190., 109.,\n",
       "       191., 122., 230., 242., 248., 249., 192., 131., 237.,  78., 135.,\n",
       "       244., 199., 270., 164.,  72.,  96., 306.,  91., 214.,  95., 216.,\n",
       "       263., 178., 113., 200., 139., 139.,  88., 148.,  88., 243.,  71.,\n",
       "        77., 109., 272.,  60.,  54., 221.,  90., 311., 281., 182., 321.,\n",
       "        58., 262., 206., 233., 242., 123., 167.,  63., 197.,  71., 168.,\n",
       "       140., 217., 121., 235., 245.,  40.,  52., 104., 132.,  88.,  69.,\n",
       "       219.,  72., 201., 110.,  51., 277.,  63., 118.,  69., 273., 258.,\n",
       "        43., 198., 242., 232., 175.,  93., 168., 275., 293., 281.,  72.,\n",
       "       140., 189., 181., 209., 136., 261., 113., 131., 174., 257.,  55.,\n",
       "        84.,  42., 146., 212., 233.,  91., 111., 152., 120.,  67., 310.,\n",
       "        94., 183.,  66., 173.,  72.,  49.,  64.,  48., 178., 104., 132.,\n",
       "       220.,  57.])"
      ]
     },
     "execution_count": 6,
     "metadata": {},
     "output_type": "execute_result"
    }
   ],
   "source": [
    "data.target"
   ]
  },
  {
   "cell_type": "code",
   "execution_count": 7,
   "metadata": {
    "colab": {
     "base_uri": "https://localhost:8080/",
     "height": 592
    },
    "id": "MSVqfb5CFRxZ",
    "outputId": "39f80113-2ba1-4ba3-e874-cfa3992e8093"
   },
   "outputs": [
    {
     "data": {
      "image/png": "[encoded data removed]",
      "text/plain": [
       "<Figure size 720x720 with 1 Axes>"
      ]
     },
     "metadata": {
      "needs_background": "light"
     },
     "output_type": "display_data"
    }
   ],
   "source": [
    "plt.figure(figsize=(10,10))\n",
    "ax = sns.boxplot(data=df, orient=\"h\", palette=\"Set2\")"
   ]
  },
  {
   "cell_type": "markdown",
   "metadata": {
    "id": "3hCn94iuEv3Y"
   },
   "source": [
    "The dataset ha 10 features and 442 samples. Features are all numerical, target is also numerical (integer numbers). There are no missing value and features are already scaled. No need for further preprocessing. Features are already scaled, all with zero mean."
   ]
  },
  {
   "cell_type": "markdown",
   "metadata": {
    "id": "XSKvz8xDemvd"
   },
   "source": [
    "#(2) Use the transformed features (do not add interactions or polinomial features at this point) as dataset X. Split the dataset in train and test and use the training set to retrieve the best $\\boldsymbol{\\theta}$ vector by using the closed forms Normal Equation. Evaluate the model with the trained $\\boldsymbol{\\theta}$ on the test set"
   ]
  },
  {
   "cell_type": "code",
   "execution_count": 8,
   "metadata": {
    "id": "5X4bHXDdF5yz"
   },
   "outputs": [],
   "source": [
    "X=df.values\n",
    "y=data.target"
   ]
  },
  {
   "cell_type": "code",
   "execution_count": 9,
   "metadata": {
    "id": "PWyZf77JFtxg"
   },
   "outputs": [],
   "source": [
    "from sklearn.model_selection import train_test_split\n",
    "\n",
    "X_train, X_test, y_train, y_test = train_test_split(X, y, test_size=0.3)"
   ]
  },
  {
   "cell_type": "code",
   "execution_count": 10,
   "metadata": {
    "id": "jiJwmtaSGXBB"
   },
   "outputs": [],
   "source": [
    "X_b_train = np.c_[np.ones((len(X_train), 1)), X_train] # add x0 = 1 to each instance \n",
    "\n",
    "theta_best = np.linalg.inv(X_b_train.T.dot(X_b_train)).dot(X_b_train.T).dot(y_train) # NORMAL EQUATION"
   ]
  },
  {
   "cell_type": "code",
   "execution_count": 11,
   "metadata": {
    "id": "DnSLaUfpGy6T"
   },
   "outputs": [],
   "source": [
    "X_b_test = np.c_[np.ones((len(X_test), 1)), X_test] # add x0 = 1 to each instance \n",
    "y_predict = X_b_test.dot(theta_best)"
   ]
  },
  {
   "cell_type": "code",
   "execution_count": 12,
   "metadata": {
    "colab": {
     "base_uri": "https://localhost:8080/"
    },
    "id": "xiSpt6G1HYWp",
    "outputId": "8716111a-cfd8-46c3-acd8-62bce30ef1c9"
   },
   "outputs": [
    {
     "name": "stdout",
     "output_type": "stream",
     "text": [
      "test RMSE=50.61872861291196\n",
      "test R2=0.5914768183354984\n"
     ]
    }
   ],
   "source": [
    "from sklearn.metrics import r2_score\n",
    "from sklearn.metrics import mean_squared_error\n",
    "\n",
    "print(\"test RMSE={}\".format(np.sqrt(mean_squared_error(y_test, y_predict))))\n",
    "print(\"test R2={}\".format(r2_score(y_test, y_predict)))"
   ]
  },
  {
   "cell_type": "code",
   "execution_count": 13,
   "metadata": {
    "colab": {
     "base_uri": "https://localhost:8080/"
    },
    "id": "9DtpoxqlI0w0",
    "outputId": "94269dd1-dec6-41ae-9e55-f50c212f9c3e"
   },
   "outputs": [
    {
     "name": "stdout",
     "output_type": "stream",
     "text": [
      "train RMSE=54.9949099979267\n",
      "train R2=0.4737972542122503\n"
     ]
    }
   ],
   "source": [
    "print(\"train RMSE={}\".format(np.sqrt(mean_squared_error(y_train, X_b_train.dot(theta_best)))))\n",
    "print(\"train R2={}\".format(r2_score(y_train, X_b_train.dot(theta_best))))"
   ]
  },
  {
   "cell_type": "markdown",
   "metadata": {
    "id": "44iDdxWBIqVh"
   },
   "source": [
    "Both RMSE and R2 are quite high values both on train and on test. This means the model is underfitting. This implies we need some features rtansformation (interaction and polinomials for example) in order to increase its complexity and hence to increase its possibility to actually fit the data. "
   ]
  },
  {
   "cell_type": "markdown",
   "metadata": {
    "id": "MJbsb-8KfZJR"
   },
   "source": [
    "#(3) Use the Sklearn implementation of Linear Regression to find the best $\\boldsymbol{\\theta}$ vector. Evaluate the model with the trained $\\boldsymbol{\\theta}$ on the test set. Compare the results with the previously obtained values."
   ]
  },
  {
   "cell_type": "code",
   "execution_count": 14,
   "metadata": {
    "id": "tPiGOIj6Jl_T"
   },
   "outputs": [],
   "source": [
    "from sklearn.linear_model import LinearRegression\n",
    "\n",
    "lin_reg = LinearRegression()\n",
    "lin_reg.fit(X_train, y_train)\n",
    "y_predict=lin_reg.predict(X_test)"
   ]
  },
  {
   "cell_type": "code",
   "execution_count": 15,
   "metadata": {
    "colab": {
     "base_uri": "https://localhost:8080/"
    },
    "id": "NOEidG1lJ3J1",
    "outputId": "a9c62d33-cbb5-488f-af79-aeedc3698215"
   },
   "outputs": [
    {
     "name": "stdout",
     "output_type": "stream",
     "text": [
      "test RMSE=50.6187286129119\n",
      "test R2=0.5914768183354993\n"
     ]
    }
   ],
   "source": [
    "print(\"test RMSE={}\".format(np.sqrt(mean_squared_error(y_test, y_predict))))\n",
    "print(\"test R2={}\".format(r2_score(y_test, y_predict)))"
   ]
  },
  {
   "cell_type": "code",
   "execution_count": 16,
   "metadata": {
    "colab": {
     "base_uri": "https://localhost:8080/"
    },
    "id": "4BqwxbPrKD0k",
    "outputId": "06c0785b-ea54-4686-d213-925c15d0b88a"
   },
   "outputs": [
    {
     "name": "stdout",
     "output_type": "stream",
     "text": [
      "train RMSE=54.9949099979267\n",
      "train R2=0.4737972542122503\n"
     ]
    }
   ],
   "source": [
    "print(\"train RMSE={}\".format(np.sqrt(mean_squared_error(y_train, lin_reg.predict(X_train)))))\n",
    "print(\"train R2={}\".format(r2_score(y_train, lin_reg.predict(X_train))))"
   ]
  },
  {
   "cell_type": "markdown",
   "metadata": {
    "id": "Q-YJ4I7VK5up"
   },
   "source": [
    "The sklearn implementation of the Linear Regression provides similar results to the ones obtained above. The model is underfitting.  "
   ]
  },
  {
   "cell_type": "markdown",
   "metadata": {
    "id": "C1Pm8r4If1mB"
   },
   "source": [
    "#(4) Use BatchGradientDescent (NOT the sklearn implementation) with $\\eta=0.1$ and *number of iterations* $=100$. Evaluate the model with the trained $\\boldsymbol{\\theta}$ on the test set. Compare the results with the previously obtained values."
   ]
  },
  {
   "cell_type": "code",
   "execution_count": 17,
   "metadata": {
    "id": "GuMH1xS8D8dL"
   },
   "outputs": [],
   "source": [
    "eta = 0.1 # learning rate \n",
    "n_iterations = 100 \n",
    "m=X.shape[0]\n",
    "\n",
    "theta = np.random.randn(X.shape[1]+1,1)  # coefficients random initialization\n",
    "\n",
    "for iteration in range(n_iterations):\n",
    "  gradients = 2/m * X_b_train.T.dot(X_b_train.dot(theta) - y_train.reshape(-1,1)) \n",
    "  theta = theta - eta * gradients"
   ]
  },
  {
   "cell_type": "code",
   "execution_count": 18,
   "metadata": {
    "id": "8zr53UZwE3hx"
   },
   "outputs": [],
   "source": [
    "X_b_test = np.c_[np.ones((len(X_test), 1)), X_test] # add x0 = 1 to each instance \n",
    "y_predict = X_b_test.dot(theta)"
   ]
  },
  {
   "cell_type": "code",
   "execution_count": 19,
   "metadata": {
    "colab": {
     "base_uri": "https://localhost:8080/"
    },
    "id": "oeap2giAFOy5",
    "outputId": "effaf3d7-0bed-453e-fc8a-b45c05ff25c6"
   },
   "outputs": [
    {
     "name": "stdout",
     "output_type": "stream",
     "text": [
      "test RMSE=76.50197609028538\n",
      "test R2=0.06687559800021659\n"
     ]
    }
   ],
   "source": [
    "print(\"test RMSE={}\".format(np.sqrt(mean_squared_error(y_test, y_predict))))\n",
    "print(\"test R2={}\".format(r2_score(y_test, y_predict)))"
   ]
  },
  {
   "cell_type": "code",
   "execution_count": 20,
   "metadata": {
    "colab": {
     "base_uri": "https://localhost:8080/"
    },
    "id": "TDd1I8s2FUJ_",
    "outputId": "517d61cf-fe2f-417f-d9c4-34369c8fe1fa"
   },
   "outputs": [
    {
     "name": "stdout",
     "output_type": "stream",
     "text": [
      "train RMSE=54.9949099979267\n",
      "train R2=0.4737972542122503\n"
     ]
    }
   ],
   "source": [
    "print(\"train RMSE={}\".format(np.sqrt(mean_squared_error(y_train, X_b_train.dot(theta_best)))))\n",
    "print(\"train R2={}\".format(r2_score(y_train, X_b_train.dot(theta_best))))"
   ]
  },
  {
   "cell_type": "markdown",
   "metadata": {
    "id": "-Z9B75QcFWa_"
   },
   "source": [
    "The results are much worst than the previous ones. The model is extremelly underfitting. On the test set, the R2 score is quite small. We saw from the training above that the complexity of this model is too low to be able to fit the data. Here, more than before, we are performing very badly on the test set. A reason for this behavior might be that the learning rate is too low, and in 100 iteration it will not be able to arrive close to the minimum of the cost function. "
   ]
  },
  {
   "cell_type": "markdown",
   "metadata": {
    "id": "qraPATUYhQGo"
   },
   "source": [
    "#(5) GridSearch on diferent values of $\\eta$ and evaluate the best one wich allows to reach the highest test accuracy with BatchGradientDescent over 100 iterations"
   ]
  },
  {
   "cell_type": "code",
   "execution_count": 21,
   "metadata": {
    "colab": {
     "base_uri": "https://localhost:8080/",
     "height": 1000
    },
    "id": "SBM1Xr7UFhQm",
    "outputId": "9cd4ae73-602d-4852-b739-59c7c6477a96"
   },
   "outputs": [
    {
     "name": "stdout",
     "output_type": "stream",
     "text": [
      "eta = 0.0001\n",
      "test RMSE=177.33116384554862\n",
      "test R2=-4.013769554428297\n",
      "train RMSE=166.15436013142377\n",
      "train R2=-3.8032103152375853\n",
      "eta = 0.001\n",
      "test RMSE=161.28736644913826\n",
      "test R2=-3.1475816210225513\n",
      "train RMSE=150.2505323879927\n",
      "train R2=-2.927716722309794\n",
      "eta = 0.005\n",
      "test RMSE=116.15964911843867\n",
      "test R2=-1.1513190502434836\n",
      "train RMSE=106.09106723983224\n",
      "train R2=-0.9582392686898578\n",
      "eta = 0.1\n",
      "test RMSE=76.56090073818112\n",
      "test R2=0.0654375906439072\n",
      "train RMSE=72.83877920515458\n",
      "train R2=0.07693255313694602\n",
      "eta = 0.2\n",
      "test RMSE=73.76645908611842\n",
      "test R2=0.13241484127044645\n",
      "train RMSE=70.45577374430933\n",
      "train R2=0.13634300261962984\n",
      "eta = 0.5\n",
      "test RMSE=67.54382093027135\n",
      "test R2=0.2726130757646148\n",
      "train RMSE=65.36567192794631\n",
      "train R2=0.25662563857732246\n",
      "eta = 1\n",
      "test RMSE=61.78594325383915\n",
      "test R2=0.39134162467753764\n",
      "train RMSE=61.13474482197732\n",
      "train R2=0.34974406276725745\n",
      "eta = 1.2\n",
      "test RMSE=60.29478680107525\n",
      "test R2=0.4203661128472268\n",
      "train RMSE=60.15668344436598\n",
      "train R2=0.370383808287304\n",
      "eta = 1.3\n",
      "test RMSE=59.68647510664202\n",
      "test R2=0.43200291983265915\n",
      "train RMSE=59.7770279785544\n",
      "train R2=0.37830588509552343\n",
      "eta = 1.4\n",
      "test RMSE=59.538488200583465\n",
      "test R2=0.4348160169648444\n",
      "train RMSE=59.48752061650863\n",
      "train R2=0.3843131820348531\n",
      "eta = 1.5\n",
      "test RMSE=1603824.6514840957\n",
      "test R2=-410117222.91401565\n",
      "train RMSE=1603886.1626080659\n",
      "train R2=-447564053.8363202\n"
     ]
    },
    {
     "data": {
      "text/plain": [
       "Text(0.5, 0, 'eta')"
      ]
     },
     "execution_count": 21,
     "metadata": {},
     "output_type": "execute_result"
    },
    {
     "data": {
      "image/png": "[encoded data removed]",
      "text/plain": [
       "<Figure size 432x288 with 1 Axes>"
      ]
     },
     "metadata": {
      "needs_background": "light"
     },
     "output_type": "display_data"
    }
   ],
   "source": [
    "eta_values = [0.0001, 0.001, 0.005, 0.1, 0.2, 0.5, 1, 1.2, 1.3, 1.4, 1.5] # learning rate \n",
    "n_iterations = 100 \n",
    "\n",
    "r2_scores = []\n",
    "rmse_scores = []\n",
    "\n",
    "for eta in eta_values:\n",
    "  print(\"eta = {}\".format(eta))\n",
    "  theta = np.random.randn(X.shape[1]+1,1)  # coefficients random initialization\n",
    "  for iteration in range(n_iterations):\n",
    "    gradients = (2/X.shape[0]) * X_b_train.T.dot(X_b_train.dot(theta) - y_train.reshape(-1,1)) \n",
    "    theta = theta - eta * gradients\n",
    "  X_b_test = np.c_[np.ones((len(X_test), 1)), X_test] # add x0 = 1 to each instance \n",
    "  y_predict = X_b_test.dot(theta)\n",
    "\n",
    "  rmse_scores.append(np.sqrt(mean_squared_error(y_test, y_predict)))\n",
    "  r2_scores.append(r2_score(y_test, y_predict))\n",
    "\n",
    "  print(\"test RMSE={}\".format(np.sqrt(mean_squared_error(y_test, y_predict))))\n",
    "  print(\"test R2={}\".format(r2_score(y_test, y_predict))) \n",
    "  print(\"train RMSE={}\".format(np.sqrt(mean_squared_error(y_train, X_b_train.dot(theta)))))\n",
    "  print(\"train R2={}\".format(r2_score(y_train, X_b_train.dot(theta))))\n",
    "  \n",
    "plt.plot(eta_values,rmse_scores)\n",
    "plt.title(\"RMSE VS eta\")\n",
    "plt.ylabel(\"RMSE\")\n",
    "plt.xlabel(\"eta\")\n"
   ]
  },
  {
   "cell_type": "markdown",
   "metadata": {
    "id": "q1MGmaKeSnZj"
   },
   "source": [
    "The model requires an higher value of $\\eta$ ($\\eta=1.4$) in order to achieve, with 100 epoches of Gradient Descent, a result comparable with the previous ones. Still we are not doing a good job on fitting the data. "
   ]
  },
  {
   "cell_type": "markdown",
   "metadata": {
    "id": "-H5RIR7Th8AT"
   },
   "source": [
    "#(6) Use Stochastic Gradient Descent with an appropriate number of `epoches`  and `learning_schedule` to reach solutions comparable to the previous one"
   ]
  },
  {
   "cell_type": "code",
   "execution_count": 22,
   "metadata": {
    "colab": {
     "base_uri": "https://localhost:8080/"
    },
    "id": "gofmvINSftLk",
    "outputId": "c9f78f8c-a8c2-4fae-c9ab-26412feb4c9e"
   },
   "outputs": [
    {
     "name": "stdout",
     "output_type": "stream",
     "text": [
      "test RMSE=51.31959396349087\n",
      "test R2=0.5800857013324003\n",
      "train RMSE=1603886.1626080659\n",
      "train R2=-447564053.8363202\n"
     ]
    }
   ],
   "source": [
    "from sklearn.linear_model import SGDRegressor\n",
    "\n",
    "sgd_reg = SGDRegressor(max_iter=1000, tol=1e-3, penalty=None, eta0=1.5, learning_rate='invscaling') \n",
    "sgd_reg.fit(X_train, y_train.ravel())\n",
    "\n",
    "y_predict = sgd_reg.predict(X_test)\n",
    "\n",
    "print(\"test RMSE={}\".format(np.sqrt(mean_squared_error(y_test, y_predict))))\n",
    "print(\"test R2={}\".format(r2_score(y_test, y_predict))) \n",
    "print(\"train RMSE={}\".format(np.sqrt(mean_squared_error(y_train, X_b_train.dot(theta)))))\n",
    "print(\"train R2={}\".format(r2_score(y_train, X_b_train.dot(theta))))"
   ]
  },
  {
   "cell_type": "markdown",
   "metadata": {
    "id": "Z-r_8aoBV7Aq"
   },
   "source": [
    "With a number of epoches equal to 1000 and learning schedule set ot *inverse scaling* (take a look at the documentaiton https://scikit-learn.org/stable/modules/generated/sklearn.linear_model.SGDRegressor.html), we can reach similar results as the procedures above. "
   ]
  },
  {
   "cell_type": "markdown",
   "metadata": {
    "id": "3OO27Wq9WtZD"
   },
   "source": [
    "As a general comment, non of the models trained above is satisfactory. We are underfitting the data. Hence, a good approach here is to increase the complexity of the model by adding transformed features (i.e., interactions and polinomials)."
   ]
  }
 ],
 "metadata": {
  "colab": {
   "collapsed_sections": [],
   "name": "S4_A_LinearRegression_solution.ipynb",
   "provenance": [],
   "toc_visible": true
  },
  "kernelspec": {
   "display_name": "Python 3",
   "language": "python",
   "name": "python3"
  },
  "language_info": {
   "codemirror_mode": {
    "name": "ipython",
    "version": 3
   },
   "file_extension": ".py",
   "mimetype": "text/x-python",
   "name": "python",
   "nbconvert_exporter": "python",
   "pygments_lexer": "ipython3",
   "version": "3.8.8"
  }
 },
 "nbformat": 4,
 "nbformat_minor": 1
}
