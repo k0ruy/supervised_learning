{
  "nbformat": 4,
  "nbformat_minor": 0,
  "metadata": {
    "colab": {
      "name": "S4_B_LinearRegression_solution.ipynb",
      "provenance": [],
      "toc_visible": true
    },
    "kernelspec": {
      "name": "python3",
      "display_name": "Python 3"
    },
    "language_info": {
      "name": "python"
    }
  },
  "cells": [
    {
      "cell_type": "markdown",
      "metadata": {
        "id": "E_LJvPXiP3qW"
      },
      "source": [
        "# Practice 4B: Linear Regression\n",
        "### Diabetes dataset : regression problem"
      ]
    },
    {
      "cell_type": "code",
      "metadata": {
        "id": "FmS-lcOWP6P5"
      },
      "source": [
        "import pandas as pd\n",
        "import numpy as np\n",
        "import matplotlib.pyplot as plt\n",
        "import seaborn as sns"
      ],
      "execution_count": null,
      "outputs": []
    },
    {
      "cell_type": "markdown",
      "metadata": {
        "id": "YpzifKOEWxI9"
      },
      "source": [
        "# (1) Continue working on the Diabetes dataset exploited for Practice S_4A. In this case add to the dataset polynomial features of degree 3."
      ]
    },
    {
      "cell_type": "code",
      "metadata": {
        "colab": {
          "base_uri": "https://localhost:8080/",
          "height": 204
        },
        "id": "8KUCspzbWg5V",
        "outputId": "06f946af-7d25-4810-8477-059dc4415dac"
      },
      "source": [
        "from sklearn.datasets import load_diabetes\n",
        "data = load_diabetes()\n",
        "\n",
        "df=pd.DataFrame(data=data.data, columns=data.feature_names)\n",
        "df.head()"
      ],
      "execution_count": null,
      "outputs": [
        {
          "output_type": "execute_result",
          "data": {
            "text/html": [
              "<div>\n",
              "<style scoped>\n",
              "    .dataframe tbody tr th:only-of-type {\n",
              "        vertical-align: middle;\n",
              "    }\n",
              "\n",
              "    .dataframe tbody tr th {\n",
              "        vertical-align: top;\n",
              "    }\n",
              "\n",
              "    .dataframe thead th {\n",
              "        text-align: right;\n",
              "    }\n",
              "</style>\n",
              "<table border=\"1\" class=\"dataframe\">\n",
              "  <thead>\n",
              "    <tr style=\"text-align: right;\">\n",
              "      <th></th>\n",
              "      <th>age</th>\n",
              "      <th>sex</th>\n",
              "      <th>bmi</th>\n",
              "      <th>bp</th>\n",
              "      <th>s1</th>\n",
              "      <th>s2</th>\n",
              "      <th>s3</th>\n",
              "      <th>s4</th>\n",
              "      <th>s5</th>\n",
              "      <th>s6</th>\n",
              "    </tr>\n",
              "  </thead>\n",
              "  <tbody>\n",
              "    <tr>\n",
              "      <th>0</th>\n",
              "      <td>0.038076</td>\n",
              "      <td>0.050680</td>\n",
              "      <td>0.061696</td>\n",
              "      <td>0.021872</td>\n",
              "      <td>-0.044223</td>\n",
              "      <td>-0.034821</td>\n",
              "      <td>-0.043401</td>\n",
              "      <td>-0.002592</td>\n",
              "      <td>0.019908</td>\n",
              "      <td>-0.017646</td>\n",
              "    </tr>\n",
              "    <tr>\n",
              "      <th>1</th>\n",
              "      <td>-0.001882</td>\n",
              "      <td>-0.044642</td>\n",
              "      <td>-0.051474</td>\n",
              "      <td>-0.026328</td>\n",
              "      <td>-0.008449</td>\n",
              "      <td>-0.019163</td>\n",
              "      <td>0.074412</td>\n",
              "      <td>-0.039493</td>\n",
              "      <td>-0.068330</td>\n",
              "      <td>-0.092204</td>\n",
              "    </tr>\n",
              "    <tr>\n",
              "      <th>2</th>\n",
              "      <td>0.085299</td>\n",
              "      <td>0.050680</td>\n",
              "      <td>0.044451</td>\n",
              "      <td>-0.005671</td>\n",
              "      <td>-0.045599</td>\n",
              "      <td>-0.034194</td>\n",
              "      <td>-0.032356</td>\n",
              "      <td>-0.002592</td>\n",
              "      <td>0.002864</td>\n",
              "      <td>-0.025930</td>\n",
              "    </tr>\n",
              "    <tr>\n",
              "      <th>3</th>\n",
              "      <td>-0.089063</td>\n",
              "      <td>-0.044642</td>\n",
              "      <td>-0.011595</td>\n",
              "      <td>-0.036656</td>\n",
              "      <td>0.012191</td>\n",
              "      <td>0.024991</td>\n",
              "      <td>-0.036038</td>\n",
              "      <td>0.034309</td>\n",
              "      <td>0.022692</td>\n",
              "      <td>-0.009362</td>\n",
              "    </tr>\n",
              "    <tr>\n",
              "      <th>4</th>\n",
              "      <td>0.005383</td>\n",
              "      <td>-0.044642</td>\n",
              "      <td>-0.036385</td>\n",
              "      <td>0.021872</td>\n",
              "      <td>0.003935</td>\n",
              "      <td>0.015596</td>\n",
              "      <td>0.008142</td>\n",
              "      <td>-0.002592</td>\n",
              "      <td>-0.031991</td>\n",
              "      <td>-0.046641</td>\n",
              "    </tr>\n",
              "  </tbody>\n",
              "</table>\n",
              "</div>"
            ],
            "text/plain": [
              "        age       sex       bmi  ...        s4        s5        s6\n",
              "0  0.038076  0.050680  0.061696  ... -0.002592  0.019908 -0.017646\n",
              "1 -0.001882 -0.044642 -0.051474  ... -0.039493 -0.068330 -0.092204\n",
              "2  0.085299  0.050680  0.044451  ... -0.002592  0.002864 -0.025930\n",
              "3 -0.089063 -0.044642 -0.011595  ...  0.034309  0.022692 -0.009362\n",
              "4  0.005383 -0.044642 -0.036385  ... -0.002592 -0.031991 -0.046641\n",
              "\n",
              "[5 rows x 10 columns]"
            ]
          },
          "metadata": {},
          "execution_count": 2
        }
      ]
    },
    {
      "cell_type": "code",
      "metadata": {
        "id": "2gYoysdLZ800"
      },
      "source": [
        "from sklearn.preprocessing import PolynomialFeatures\n",
        "\n",
        "# column SEX is the encoding of a boolean, it does not make sense to include it in the polynomials\n",
        "\n",
        "df_reduced = df.drop(columns=['sex'])\n",
        "\n",
        "poly = PolynomialFeatures(3, include_bias=False)\n",
        "df_reduced_poly= poly.fit_transform(df_reduced)"
      ],
      "execution_count": null,
      "outputs": []
    },
    {
      "cell_type": "code",
      "metadata": {
        "colab": {
          "base_uri": "https://localhost:8080/",
          "height": 355
        },
        "id": "lQqvFeKpbSY2",
        "outputId": "090941c2-8b9b-4170-8706-a62eb0d1653e"
      },
      "source": [
        "df_poly = pd.concat([df['sex'], pd.DataFrame(df_reduced_poly, columns=poly.get_feature_names_out())], axis=1)\n",
        "df_poly.head()"
      ],
      "execution_count": null,
      "outputs": [
        {
          "output_type": "execute_result",
          "data": {
            "text/html": [
              "<div>\n",
              "<style scoped>\n",
              "    .dataframe tbody tr th:only-of-type {\n",
              "        vertical-align: middle;\n",
              "    }\n",
              "\n",
              "    .dataframe tbody tr th {\n",
              "        vertical-align: top;\n",
              "    }\n",
              "\n",
              "    .dataframe thead th {\n",
              "        text-align: right;\n",
              "    }\n",
              "</style>\n",
              "<table border=\"1\" class=\"dataframe\">\n",
              "  <thead>\n",
              "    <tr style=\"text-align: right;\">\n",
              "      <th></th>\n",
              "      <th>sex</th>\n",
              "      <th>age</th>\n",
              "      <th>bmi</th>\n",
              "      <th>bp</th>\n",
              "      <th>s1</th>\n",
              "      <th>s2</th>\n",
              "      <th>s3</th>\n",
              "      <th>s4</th>\n",
              "      <th>s5</th>\n",
              "      <th>s6</th>\n",
              "      <th>age^2</th>\n",
              "      <th>age bmi</th>\n",
              "      <th>age bp</th>\n",
              "      <th>age s1</th>\n",
              "      <th>age s2</th>\n",
              "      <th>age s3</th>\n",
              "      <th>age s4</th>\n",
              "      <th>age s5</th>\n",
              "      <th>age s6</th>\n",
              "      <th>bmi^2</th>\n",
              "      <th>bmi bp</th>\n",
              "      <th>bmi s1</th>\n",
              "      <th>bmi s2</th>\n",
              "      <th>bmi s3</th>\n",
              "      <th>bmi s4</th>\n",
              "      <th>bmi s5</th>\n",
              "      <th>bmi s6</th>\n",
              "      <th>bp^2</th>\n",
              "      <th>bp s1</th>\n",
              "      <th>bp s2</th>\n",
              "      <th>bp s3</th>\n",
              "      <th>bp s4</th>\n",
              "      <th>bp s5</th>\n",
              "      <th>bp s6</th>\n",
              "      <th>s1^2</th>\n",
              "      <th>s1 s2</th>\n",
              "      <th>s1 s3</th>\n",
              "      <th>s1 s4</th>\n",
              "      <th>s1 s5</th>\n",
              "      <th>s1 s6</th>\n",
              "      <th>...</th>\n",
              "      <th>s1 s4 s5</th>\n",
              "      <th>s1 s4 s6</th>\n",
              "      <th>s1 s5^2</th>\n",
              "      <th>s1 s5 s6</th>\n",
              "      <th>s1 s6^2</th>\n",
              "      <th>s2^3</th>\n",
              "      <th>s2^2 s3</th>\n",
              "      <th>s2^2 s4</th>\n",
              "      <th>s2^2 s5</th>\n",
              "      <th>s2^2 s6</th>\n",
              "      <th>s2 s3^2</th>\n",
              "      <th>s2 s3 s4</th>\n",
              "      <th>s2 s3 s5</th>\n",
              "      <th>s2 s3 s6</th>\n",
              "      <th>s2 s4^2</th>\n",
              "      <th>s2 s4 s5</th>\n",
              "      <th>s2 s4 s6</th>\n",
              "      <th>s2 s5^2</th>\n",
              "      <th>s2 s5 s6</th>\n",
              "      <th>s2 s6^2</th>\n",
              "      <th>s3^3</th>\n",
              "      <th>s3^2 s4</th>\n",
              "      <th>s3^2 s5</th>\n",
              "      <th>s3^2 s6</th>\n",
              "      <th>s3 s4^2</th>\n",
              "      <th>s3 s4 s5</th>\n",
              "      <th>s3 s4 s6</th>\n",
              "      <th>s3 s5^2</th>\n",
              "      <th>s3 s5 s6</th>\n",
              "      <th>s3 s6^2</th>\n",
              "      <th>s4^3</th>\n",
              "      <th>s4^2 s5</th>\n",
              "      <th>s4^2 s6</th>\n",
              "      <th>s4 s5^2</th>\n",
              "      <th>s4 s5 s6</th>\n",
              "      <th>s4 s6^2</th>\n",
              "      <th>s5^3</th>\n",
              "      <th>s5^2 s6</th>\n",
              "      <th>s5 s6^2</th>\n",
              "      <th>s6^3</th>\n",
              "    </tr>\n",
              "  </thead>\n",
              "  <tbody>\n",
              "    <tr>\n",
              "      <th>0</th>\n",
              "      <td>0.050680</td>\n",
              "      <td>0.038076</td>\n",
              "      <td>0.061696</td>\n",
              "      <td>0.021872</td>\n",
              "      <td>-0.044223</td>\n",
              "      <td>-0.034821</td>\n",
              "      <td>-0.043401</td>\n",
              "      <td>-0.002592</td>\n",
              "      <td>0.019908</td>\n",
              "      <td>-0.017646</td>\n",
              "      <td>0.001450</td>\n",
              "      <td>0.002349</td>\n",
              "      <td>0.000833</td>\n",
              "      <td>-0.001684</td>\n",
              "      <td>-0.001326</td>\n",
              "      <td>-0.001653</td>\n",
              "      <td>-0.000099</td>\n",
              "      <td>0.000758</td>\n",
              "      <td>-0.000672</td>\n",
              "      <td>0.003806</td>\n",
              "      <td>0.001349</td>\n",
              "      <td>-0.002728</td>\n",
              "      <td>-0.002148</td>\n",
              "      <td>-0.002678</td>\n",
              "      <td>-0.000160</td>\n",
              "      <td>0.001228</td>\n",
              "      <td>-0.001089</td>\n",
              "      <td>0.000478</td>\n",
              "      <td>-0.000967</td>\n",
              "      <td>-0.000762</td>\n",
              "      <td>-0.000949</td>\n",
              "      <td>-0.000057</td>\n",
              "      <td>0.000435</td>\n",
              "      <td>-0.000386</td>\n",
              "      <td>0.001956</td>\n",
              "      <td>0.001540</td>\n",
              "      <td>0.001919</td>\n",
              "      <td>0.000115</td>\n",
              "      <td>-0.000880</td>\n",
              "      <td>0.000780</td>\n",
              "      <td>...</td>\n",
              "      <td>2.282279e-06</td>\n",
              "      <td>-2.022932e-06</td>\n",
              "      <td>-1.752777e-05</td>\n",
              "      <td>0.000016</td>\n",
              "      <td>-0.000014</td>\n",
              "      <td>-0.000042</td>\n",
              "      <td>-0.000053</td>\n",
              "      <td>-3.143080e-06</td>\n",
              "      <td>0.000024</td>\n",
              "      <td>-0.000021</td>\n",
              "      <td>-0.000066</td>\n",
              "      <td>-3.917557e-06</td>\n",
              "      <td>0.000030</td>\n",
              "      <td>-0.000027</td>\n",
              "      <td>-2.339893e-07</td>\n",
              "      <td>1.797024e-06</td>\n",
              "      <td>-0.000002</td>\n",
              "      <td>-1.380104e-05</td>\n",
              "      <td>0.000012</td>\n",
              "      <td>-0.000011</td>\n",
              "      <td>-8.175128e-05</td>\n",
              "      <td>-4.882871e-06</td>\n",
              "      <td>0.000038</td>\n",
              "      <td>-0.000033</td>\n",
              "      <td>-2.916460e-07</td>\n",
              "      <td>2.239824e-06</td>\n",
              "      <td>-1.985301e-06</td>\n",
              "      <td>-1.720172e-05</td>\n",
              "      <td>0.000015</td>\n",
              "      <td>-0.000014</td>\n",
              "      <td>-1.741954e-08</td>\n",
              "      <td>1.337810e-07</td>\n",
              "      <td>-1.185788e-07</td>\n",
              "      <td>-1.027431e-06</td>\n",
              "      <td>9.106785e-07</td>\n",
              "      <td>-8.071934e-07</td>\n",
              "      <td>7.890607e-06</td>\n",
              "      <td>-6.993957e-06</td>\n",
              "      <td>0.000006</td>\n",
              "      <td>-5.494752e-06</td>\n",
              "    </tr>\n",
              "    <tr>\n",
              "      <th>1</th>\n",
              "      <td>-0.044642</td>\n",
              "      <td>-0.001882</td>\n",
              "      <td>-0.051474</td>\n",
              "      <td>-0.026328</td>\n",
              "      <td>-0.008449</td>\n",
              "      <td>-0.019163</td>\n",
              "      <td>0.074412</td>\n",
              "      <td>-0.039493</td>\n",
              "      <td>-0.068330</td>\n",
              "      <td>-0.092204</td>\n",
              "      <td>0.000004</td>\n",
              "      <td>0.000097</td>\n",
              "      <td>0.000050</td>\n",
              "      <td>0.000016</td>\n",
              "      <td>0.000036</td>\n",
              "      <td>-0.000140</td>\n",
              "      <td>0.000074</td>\n",
              "      <td>0.000129</td>\n",
              "      <td>0.000174</td>\n",
              "      <td>0.002650</td>\n",
              "      <td>0.001355</td>\n",
              "      <td>0.000435</td>\n",
              "      <td>0.000986</td>\n",
              "      <td>-0.003830</td>\n",
              "      <td>0.002033</td>\n",
              "      <td>0.003517</td>\n",
              "      <td>0.004746</td>\n",
              "      <td>0.000693</td>\n",
              "      <td>0.000222</td>\n",
              "      <td>0.000505</td>\n",
              "      <td>-0.001959</td>\n",
              "      <td>0.001040</td>\n",
              "      <td>0.001799</td>\n",
              "      <td>0.002428</td>\n",
              "      <td>0.000071</td>\n",
              "      <td>0.000162</td>\n",
              "      <td>-0.000629</td>\n",
              "      <td>0.000334</td>\n",
              "      <td>0.000577</td>\n",
              "      <td>0.000779</td>\n",
              "      <td>...</td>\n",
              "      <td>-2.279950e-05</td>\n",
              "      <td>-3.076561e-05</td>\n",
              "      <td>-3.944670e-05</td>\n",
              "      <td>-0.000053</td>\n",
              "      <td>-0.000072</td>\n",
              "      <td>-0.000007</td>\n",
              "      <td>0.000027</td>\n",
              "      <td>-1.450330e-05</td>\n",
              "      <td>-0.000025</td>\n",
              "      <td>-0.000034</td>\n",
              "      <td>-0.000106</td>\n",
              "      <td>5.631654e-05</td>\n",
              "      <td>0.000097</td>\n",
              "      <td>0.000131</td>\n",
              "      <td>-2.988958e-05</td>\n",
              "      <td>-5.171367e-05</td>\n",
              "      <td>-0.000070</td>\n",
              "      <td>-8.947275e-05</td>\n",
              "      <td>-0.000121</td>\n",
              "      <td>-0.000163</td>\n",
              "      <td>4.120228e-04</td>\n",
              "      <td>-2.186781e-04</td>\n",
              "      <td>-0.000378</td>\n",
              "      <td>-0.000511</td>\n",
              "      <td>1.160617e-04</td>\n",
              "      <td>2.008050e-04</td>\n",
              "      <td>2.709660e-04</td>\n",
              "      <td>3.474242e-04</td>\n",
              "      <td>0.000469</td>\n",
              "      <td>0.000633</td>\n",
              "      <td>-6.159891e-05</td>\n",
              "      <td>-1.065758e-04</td>\n",
              "      <td>-1.438132e-04</td>\n",
              "      <td>-1.843928e-04</td>\n",
              "      <td>-2.488193e-04</td>\n",
              "      <td>-3.357564e-04</td>\n",
              "      <td>-3.190284e-04</td>\n",
              "      <td>-4.304965e-04</td>\n",
              "      <td>-0.000581</td>\n",
              "      <td>-7.838807e-04</td>\n",
              "    </tr>\n",
              "    <tr>\n",
              "      <th>2</th>\n",
              "      <td>0.050680</td>\n",
              "      <td>0.085299</td>\n",
              "      <td>0.044451</td>\n",
              "      <td>-0.005671</td>\n",
              "      <td>-0.045599</td>\n",
              "      <td>-0.034194</td>\n",
              "      <td>-0.032356</td>\n",
              "      <td>-0.002592</td>\n",
              "      <td>0.002864</td>\n",
              "      <td>-0.025930</td>\n",
              "      <td>0.007276</td>\n",
              "      <td>0.003792</td>\n",
              "      <td>-0.000484</td>\n",
              "      <td>-0.003890</td>\n",
              "      <td>-0.002917</td>\n",
              "      <td>-0.002760</td>\n",
              "      <td>-0.000221</td>\n",
              "      <td>0.000244</td>\n",
              "      <td>-0.002212</td>\n",
              "      <td>0.001976</td>\n",
              "      <td>-0.000252</td>\n",
              "      <td>-0.002027</td>\n",
              "      <td>-0.001520</td>\n",
              "      <td>-0.001438</td>\n",
              "      <td>-0.000115</td>\n",
              "      <td>0.000127</td>\n",
              "      <td>-0.001153</td>\n",
              "      <td>0.000032</td>\n",
              "      <td>0.000259</td>\n",
              "      <td>0.000194</td>\n",
              "      <td>0.000183</td>\n",
              "      <td>0.000015</td>\n",
              "      <td>-0.000016</td>\n",
              "      <td>0.000147</td>\n",
              "      <td>0.002079</td>\n",
              "      <td>0.001559</td>\n",
              "      <td>0.001475</td>\n",
              "      <td>0.000118</td>\n",
              "      <td>-0.000131</td>\n",
              "      <td>0.001182</td>\n",
              "      <td>...</td>\n",
              "      <td>3.385141e-07</td>\n",
              "      <td>-3.065115e-06</td>\n",
              "      <td>-3.739694e-07</td>\n",
              "      <td>0.000003</td>\n",
              "      <td>-0.000031</td>\n",
              "      <td>-0.000040</td>\n",
              "      <td>-0.000038</td>\n",
              "      <td>-3.031032e-06</td>\n",
              "      <td>0.000003</td>\n",
              "      <td>-0.000030</td>\n",
              "      <td>-0.000036</td>\n",
              "      <td>-2.868063e-06</td>\n",
              "      <td>0.000003</td>\n",
              "      <td>-0.000029</td>\n",
              "      <td>-2.297807e-07</td>\n",
              "      <td>2.538475e-07</td>\n",
              "      <td>-0.000002</td>\n",
              "      <td>-2.804350e-07</td>\n",
              "      <td>0.000003</td>\n",
              "      <td>-0.000023</td>\n",
              "      <td>-3.387363e-05</td>\n",
              "      <td>-2.713856e-06</td>\n",
              "      <td>0.000003</td>\n",
              "      <td>-0.000027</td>\n",
              "      <td>-2.174261e-07</td>\n",
              "      <td>2.401989e-07</td>\n",
              "      <td>-2.174909e-06</td>\n",
              "      <td>-2.653569e-07</td>\n",
              "      <td>0.000002</td>\n",
              "      <td>-0.000022</td>\n",
              "      <td>-1.741954e-08</td>\n",
              "      <td>1.924403e-08</td>\n",
              "      <td>-1.742473e-07</td>\n",
              "      <td>-2.125961e-08</td>\n",
              "      <td>1.924976e-07</td>\n",
              "      <td>-1.742992e-06</td>\n",
              "      <td>2.348630e-08</td>\n",
              "      <td>-2.126594e-07</td>\n",
              "      <td>0.000002</td>\n",
              "      <td>-1.743511e-05</td>\n",
              "    </tr>\n",
              "    <tr>\n",
              "      <th>3</th>\n",
              "      <td>-0.044642</td>\n",
              "      <td>-0.089063</td>\n",
              "      <td>-0.011595</td>\n",
              "      <td>-0.036656</td>\n",
              "      <td>0.012191</td>\n",
              "      <td>0.024991</td>\n",
              "      <td>-0.036038</td>\n",
              "      <td>0.034309</td>\n",
              "      <td>0.022692</td>\n",
              "      <td>-0.009362</td>\n",
              "      <td>0.007932</td>\n",
              "      <td>0.001033</td>\n",
              "      <td>0.003265</td>\n",
              "      <td>-0.001086</td>\n",
              "      <td>-0.002226</td>\n",
              "      <td>0.003210</td>\n",
              "      <td>-0.003056</td>\n",
              "      <td>-0.002021</td>\n",
              "      <td>0.000834</td>\n",
              "      <td>0.000134</td>\n",
              "      <td>0.000425</td>\n",
              "      <td>-0.000141</td>\n",
              "      <td>-0.000290</td>\n",
              "      <td>0.000418</td>\n",
              "      <td>-0.000398</td>\n",
              "      <td>-0.000263</td>\n",
              "      <td>0.000109</td>\n",
              "      <td>0.001344</td>\n",
              "      <td>-0.000447</td>\n",
              "      <td>-0.000916</td>\n",
              "      <td>0.001321</td>\n",
              "      <td>-0.001258</td>\n",
              "      <td>-0.000832</td>\n",
              "      <td>0.000343</td>\n",
              "      <td>0.000149</td>\n",
              "      <td>0.000305</td>\n",
              "      <td>-0.000439</td>\n",
              "      <td>0.000418</td>\n",
              "      <td>0.000277</td>\n",
              "      <td>-0.000114</td>\n",
              "      <td>...</td>\n",
              "      <td>9.490814e-06</td>\n",
              "      <td>-3.915568e-06</td>\n",
              "      <td>6.277264e-06</td>\n",
              "      <td>-0.000003</td>\n",
              "      <td>0.000001</td>\n",
              "      <td>0.000016</td>\n",
              "      <td>-0.000023</td>\n",
              "      <td>2.142690e-05</td>\n",
              "      <td>0.000014</td>\n",
              "      <td>-0.000006</td>\n",
              "      <td>0.000032</td>\n",
              "      <td>-3.089857e-05</td>\n",
              "      <td>-0.000020</td>\n",
              "      <td>0.000008</td>\n",
              "      <td>2.941637e-05</td>\n",
              "      <td>1.945611e-05</td>\n",
              "      <td>-0.000008</td>\n",
              "      <td>1.286835e-05</td>\n",
              "      <td>-0.000005</td>\n",
              "      <td>0.000002</td>\n",
              "      <td>-4.680222e-05</td>\n",
              "      <td>4.455714e-05</td>\n",
              "      <td>0.000029</td>\n",
              "      <td>-0.000012</td>\n",
              "      <td>-4.241974e-05</td>\n",
              "      <td>-2.805660e-05</td>\n",
              "      <td>1.157514e-05</td>\n",
              "      <td>-1.855675e-05</td>\n",
              "      <td>0.000008</td>\n",
              "      <td>-0.000003</td>\n",
              "      <td>4.038488e-05</td>\n",
              "      <td>2.671073e-05</td>\n",
              "      <td>-1.101989e-05</td>\n",
              "      <td>1.766659e-05</td>\n",
              "      <td>-7.288598e-06</td>\n",
              "      <td>3.007013e-06</td>\n",
              "      <td>1.168476e-05</td>\n",
              "      <td>-4.820709e-06</td>\n",
              "      <td>0.000002</td>\n",
              "      <td>-8.205283e-07</td>\n",
              "    </tr>\n",
              "    <tr>\n",
              "      <th>4</th>\n",
              "      <td>-0.044642</td>\n",
              "      <td>0.005383</td>\n",
              "      <td>-0.036385</td>\n",
              "      <td>0.021872</td>\n",
              "      <td>0.003935</td>\n",
              "      <td>0.015596</td>\n",
              "      <td>0.008142</td>\n",
              "      <td>-0.002592</td>\n",
              "      <td>-0.031991</td>\n",
              "      <td>-0.046641</td>\n",
              "      <td>0.000029</td>\n",
              "      <td>-0.000196</td>\n",
              "      <td>0.000118</td>\n",
              "      <td>0.000021</td>\n",
              "      <td>0.000084</td>\n",
              "      <td>0.000044</td>\n",
              "      <td>-0.000014</td>\n",
              "      <td>-0.000172</td>\n",
              "      <td>-0.000251</td>\n",
              "      <td>0.001324</td>\n",
              "      <td>-0.000796</td>\n",
              "      <td>-0.000143</td>\n",
              "      <td>-0.000567</td>\n",
              "      <td>-0.000296</td>\n",
              "      <td>0.000094</td>\n",
              "      <td>0.001164</td>\n",
              "      <td>0.001697</td>\n",
              "      <td>0.000478</td>\n",
              "      <td>0.000086</td>\n",
              "      <td>0.000341</td>\n",
              "      <td>0.000178</td>\n",
              "      <td>-0.000057</td>\n",
              "      <td>-0.000700</td>\n",
              "      <td>-0.001020</td>\n",
              "      <td>0.000015</td>\n",
              "      <td>0.000061</td>\n",
              "      <td>0.000032</td>\n",
              "      <td>-0.000010</td>\n",
              "      <td>-0.000126</td>\n",
              "      <td>-0.000184</td>\n",
              "      <td>...</td>\n",
              "      <td>3.263181e-07</td>\n",
              "      <td>4.757447e-07</td>\n",
              "      <td>4.027134e-06</td>\n",
              "      <td>0.000006</td>\n",
              "      <td>0.000009</td>\n",
              "      <td>0.000004</td>\n",
              "      <td>0.000002</td>\n",
              "      <td>-6.305407e-07</td>\n",
              "      <td>-0.000008</td>\n",
              "      <td>-0.000011</td>\n",
              "      <td>0.000001</td>\n",
              "      <td>-3.291786e-07</td>\n",
              "      <td>-0.000004</td>\n",
              "      <td>-0.000006</td>\n",
              "      <td>1.048033e-07</td>\n",
              "      <td>1.293391e-06</td>\n",
              "      <td>0.000002</td>\n",
              "      <td>1.596191e-05</td>\n",
              "      <td>0.000023</td>\n",
              "      <td>0.000034</td>\n",
              "      <td>5.397674e-07</td>\n",
              "      <td>-1.718502e-07</td>\n",
              "      <td>-0.000002</td>\n",
              "      <td>-0.000003</td>\n",
              "      <td>5.471335e-08</td>\n",
              "      <td>6.752247e-07</td>\n",
              "      <td>9.844216e-07</td>\n",
              "      <td>8.333036e-06</td>\n",
              "      <td>0.000012</td>\n",
              "      <td>0.000018</td>\n",
              "      <td>-1.741954e-08</td>\n",
              "      <td>-2.149768e-07</td>\n",
              "      <td>-3.134184e-07</td>\n",
              "      <td>-2.653057e-06</td>\n",
              "      <td>-3.867937e-06</td>\n",
              "      <td>-5.639132e-06</td>\n",
              "      <td>-3.274173e-05</td>\n",
              "      <td>-4.773472e-05</td>\n",
              "      <td>-0.000070</td>\n",
              "      <td>-1.014612e-04</td>\n",
              "    </tr>\n",
              "  </tbody>\n",
              "</table>\n",
              "<p>5 rows × 220 columns</p>\n",
              "</div>"
            ],
            "text/plain": [
              "        sex       age       bmi  ...       s5^2 s6   s5 s6^2          s6^3\n",
              "0  0.050680  0.038076  0.061696  ... -6.993957e-06  0.000006 -5.494752e-06\n",
              "1 -0.044642 -0.001882 -0.051474  ... -4.304965e-04 -0.000581 -7.838807e-04\n",
              "2  0.050680  0.085299  0.044451  ... -2.126594e-07  0.000002 -1.743511e-05\n",
              "3 -0.044642 -0.089063 -0.011595  ... -4.820709e-06  0.000002 -8.205283e-07\n",
              "4 -0.044642  0.005383 -0.036385  ... -4.773472e-05 -0.000070 -1.014612e-04\n",
              "\n",
              "[5 rows x 220 columns]"
            ]
          },
          "metadata": {},
          "execution_count": 4
        }
      ]
    },
    {
      "cell_type": "code",
      "metadata": {
        "id": "1W6JfhO3cqMU"
      },
      "source": [
        "X=df_poly.values\n",
        "y=data.target"
      ],
      "execution_count": null,
      "outputs": []
    },
    {
      "cell_type": "code",
      "metadata": {
        "id": "OwqpAdBmc69G"
      },
      "source": [
        "from sklearn.model_selection import train_test_split\n",
        "\n",
        "X_train, X_test, y_train, y_test = train_test_split(X, y, test_size=0.3)"
      ],
      "execution_count": null,
      "outputs": []
    },
    {
      "cell_type": "markdown",
      "metadata": {
        "id": "3IAIw64KXRGN"
      },
      "source": [
        "# (2) Use the Sklearn implementation of Linear Regression to find the best $\\theta$ vector. Provide an interpretation of each hypothesis parameter in the trained model."
      ]
    },
    {
      "cell_type": "code",
      "metadata": {
        "id": "SU3sfFUgcvQc"
      },
      "source": [
        "from sklearn.linear_model import LinearRegression\n",
        "from sklearn.metrics import r2_score\n",
        "from sklearn.metrics import mean_squared_error"
      ],
      "execution_count": null,
      "outputs": []
    },
    {
      "cell_type": "code",
      "metadata": {
        "id": "Q9aVb853dp9n"
      },
      "source": [
        "lin_reg = LinearRegression()\n",
        "lin_reg.fit(X_train, y_train)\n",
        "y_predict=lin_reg.predict(X_test)"
      ],
      "execution_count": null,
      "outputs": []
    },
    {
      "cell_type": "code",
      "metadata": {
        "colab": {
          "base_uri": "https://localhost:8080/"
        },
        "id": "Qsalmishc-kc",
        "outputId": "569437ea-faab-45b7-939a-e10537ac7063"
      },
      "source": [
        "print(\"test MSE={}\".format(mean_squared_error(y_test, y_predict)))\n",
        "print(\"test R2={}\".format(r2_score(y_test, y_predict)))\n",
        "\n",
        "print(\"train MSE={}\".format(mean_squared_error(y_train, lin_reg.predict(X_train))))\n",
        "print(\"train R2={}\".format(r2_score(y_train, lin_reg.predict(X_train))))"
      ],
      "execution_count": null,
      "outputs": [
        {
          "output_type": "stream",
          "name": "stdout",
          "text": [
            "test MSE=68755.21542653156\n",
            "test R2=-12.020539931916494\n",
            "train MSE=956.544254583741\n",
            "train R2=0.8453124212116909\n"
          ]
        }
      ]
    },
    {
      "cell_type": "code",
      "metadata": {
        "colab": {
          "base_uri": "https://localhost:8080/"
        },
        "id": "PzbY5aNLdzEo",
        "outputId": "6bf49c23-7375-40ad-ff52-5e68c06bb128"
      },
      "source": [
        "len(lin_reg.coef_)"
      ],
      "execution_count": null,
      "outputs": [
        {
          "output_type": "execute_result",
          "data": {
            "text/plain": [
              "220"
            ]
          },
          "metadata": {},
          "execution_count": 10
        }
      ]
    },
    {
      "cell_type": "markdown",
      "metadata": {
        "id": "W4i3CT-_d7YN"
      },
      "source": [
        "Corfficients are 220, it is quite difficult to understand the trained hypotesis parameters. The model is difficult to interpret. From the $R^2$ score we can see that the model is performing quite well in the training set bu very bad in the test set, this means the model is overfitting the data. This might be given by the complexity of the model (model with high variance). "
      ]
    },
    {
      "cell_type": "markdown",
      "metadata": {
        "id": "kD0-KX6LXYqL"
      },
      "source": [
        "#(3) Train a Linear Regression model with Ridge regularization. Iterate over different values of $\\alpha$ in order to find the value which minimize the test-MSE."
      ]
    },
    {
      "cell_type": "code",
      "metadata": {
        "id": "CXITO61uegMS"
      },
      "source": [
        "from sklearn.linear_model import Ridge\n",
        "import numpy as np"
      ],
      "execution_count": null,
      "outputs": []
    },
    {
      "cell_type": "code",
      "metadata": {
        "colab": {
          "base_uri": "https://localhost:8080/",
          "height": 296
        },
        "id": "Fw2knKhJgrwD",
        "outputId": "4bdb9d40-19f8-4830-96c7-2abb8585302f"
      },
      "source": [
        "alphas=[0.001, 0.002, 0.003, 0.004, 0.005, 0.006, 0.008, 0.1, 0.2]\n",
        "mse_values=[]\n",
        "\n",
        "for alpha in alphas:\n",
        "  ridge_model = Ridge(alpha=alpha)\n",
        "  ridge_model.fit(X_train, y_train)\n",
        "  y_predict=ridge_model.predict(X_test)\n",
        "  mse_values.append(mean_squared_error(y_test, y_predict))\n",
        "\n",
        "plt.scatter(alphas, mse_values)\n",
        "plt.xlabel('alpha')\n",
        "plt.ylabel(\"MSE\")\n",
        "\n",
        "print(\"Minimum test-MSE = {}\".format(np.min(mse_values)))"
      ],
      "execution_count": null,
      "outputs": [
        {
          "output_type": "stream",
          "name": "stdout",
          "text": [
            "Minimum test-MSE = 2756.76243336323\n"
          ]
        },
        {
          "output_type": "display_data",
          "data": {
            "image/png": "[encoded data removed]",
            "text/plain": [
              "<Figure size 432x288 with 1 Axes>"
            ]
          },
          "metadata": {
            "needs_background": "light"
          }
        }
      ]
    },
    {
      "cell_type": "markdown",
      "metadata": {
        "id": "Ngd6HvbciAYO"
      },
      "source": [
        "The value of $\\alpha$ that minimises the MSE on the test set os $\\alpha = 0.005$. The related MSE is $3017$, which is much lower than the value calculated with the Linear Regression without regularization ($9517292$)."
      ]
    },
    {
      "cell_type": "markdown",
      "metadata": {
        "id": "E7UZuFa7XgCH"
      },
      "source": [
        "# (4) Train a Linear Regression model with Lasso regularization. Iterate over different values of $\\alpha$ in order to find the value which minimize the test-MSE. Provide an interpretation of each hypothesis parameter in the trained model."
      ]
    },
    {
      "cell_type": "code",
      "metadata": {
        "id": "g8NJSR_fWkxq"
      },
      "source": [
        "from sklearn.linear_model import Lasso"
      ],
      "execution_count": null,
      "outputs": []
    },
    {
      "cell_type": "code",
      "metadata": {
        "colab": {
          "base_uri": "https://localhost:8080/",
          "height": 387
        },
        "id": "ERx7pzqSjFg9",
        "outputId": "b408b03b-0985-440c-c08d-9fbd8b88077b"
      },
      "source": [
        "alphas=[0.001, 0.002, 0.003, 0.004, 0.005, 0.006, 0.008, 0.1, 0.2]\n",
        "mse_values=[]\n",
        "\n",
        "for alpha in alphas:\n",
        "  lasso_model = Lasso(alpha=alpha)\n",
        "  lasso_model.fit(X_train, y_train)\n",
        "  y_predict=lasso_model.predict(X_test)\n",
        "  mse_values.append(mean_squared_error(y_test, y_predict))\n",
        "\n",
        "plt.scatter(alphas, mse_values)\n",
        "plt.xlabel('alpha')\n",
        "plt.ylabel(\"MSE\")\n",
        "\n",
        "print(\"Minimum test-MSE = {}\".format(np.min(mse_values)))"
      ],
      "execution_count": null,
      "outputs": [
        {
          "output_type": "stream",
          "name": "stderr",
          "text": [
            "/usr/local/lib/python3.7/dist-packages/sklearn/linear_model/_coordinate_descent.py:648: ConvergenceWarning: Objective did not converge. You might want to increase the number of iterations, check the scale of the features or consider increasing regularisation. Duality gap: 2.343e+05, tolerance: 1.911e+02\n",
            "  coef_, l1_reg, l2_reg, X, y, max_iter, tol, rng, random, positive\n",
            "/usr/local/lib/python3.7/dist-packages/sklearn/linear_model/_coordinate_descent.py:648: ConvergenceWarning: Objective did not converge. You might want to increase the number of iterations, check the scale of the features or consider increasing regularisation. Duality gap: 1.661e+04, tolerance: 1.911e+02\n",
            "  coef_, l1_reg, l2_reg, X, y, max_iter, tol, rng, random, positive\n"
          ]
        },
        {
          "output_type": "stream",
          "name": "stdout",
          "text": [
            "Minimum test-MSE = 2751.2081175057997\n"
          ]
        },
        {
          "output_type": "display_data",
          "data": {
            "image/png": "[encoded data removed]",
            "text/plain": [
              "<Figure size 432x288 with 1 Axes>"
            ]
          },
          "metadata": {
            "needs_background": "light"
          }
        }
      ]
    },
    {
      "cell_type": "markdown",
      "metadata": {
        "id": "5t7MaBYpjZIZ"
      },
      "source": [
        "The value of $\\alpha$ that minimises the MSE on the test set os $\\alpha = 0.008$. The related MSE is $2977$, which is slightly lower than the value calculated with the Ridge Regression ($3017$)."
      ]
    },
    {
      "cell_type": "code",
      "metadata": {
        "colab": {
          "base_uri": "https://localhost:8080/"
        },
        "id": "LVBA64QyjYmS",
        "outputId": "7c120553-3362-443b-cf16-8d5fb3536191"
      },
      "source": [
        "best_lasso_model = Lasso(alpha=0.008)\n",
        "best_lasso_model.fit(X_train, y_train)"
      ],
      "execution_count": null,
      "outputs": [
        {
          "output_type": "execute_result",
          "data": {
            "text/plain": [
              "Lasso(alpha=0.008)"
            ]
          },
          "metadata": {},
          "execution_count": 15
        }
      ]
    },
    {
      "cell_type": "code",
      "metadata": {
        "colab": {
          "base_uri": "https://localhost:8080/"
        },
        "id": "uvN9y43AjMZV",
        "outputId": "4f752391-89e8-45fa-9794-b71cec9a044b"
      },
      "source": [
        "sum((best_lasso_model.coef_!=0))"
      ],
      "execution_count": null,
      "outputs": [
        {
          "output_type": "execute_result",
          "data": {
            "text/plain": [
              "14"
            ]
          },
          "metadata": {},
          "execution_count": 16
        }
      ]
    },
    {
      "cell_type": "markdown",
      "metadata": {
        "id": "Nv3T1XtelLvd"
      },
      "source": [
        "The number of non zero features is 18. These features have the highest relevance to the task which we are performing. The model is more interpretable than the model trained on 220 features. "
      ]
    },
    {
      "cell_type": "code",
      "metadata": {
        "id": "6g-ZCAEgkLQT"
      },
      "source": [
        "all_columns = pd.DataFrame(df_poly.columns, columns=[\"columns\"])\n",
        "non_zero_columns=all_columns[best_lasso_model.coef_!=0]\n",
        "#non_zero_columns"
      ],
      "execution_count": null,
      "outputs": []
    },
    {
      "cell_type": "code",
      "metadata": {
        "id": "ofsNxpd5kqoj"
      },
      "source": [
        "all_coeff = pd.DataFrame(best_lasso_model.coef_, columns=[\"coeff\"])\n",
        "non_zero_coeff=all_coeff[best_lasso_model.coef_!=0]\n",
        "#non_zero_coeff"
      ],
      "execution_count": null,
      "outputs": []
    },
    {
      "cell_type": "code",
      "metadata": {
        "colab": {
          "base_uri": "https://localhost:8080/"
        },
        "id": "x9qkFgsTlw0I",
        "outputId": "c61a2253-e42e-442f-dace-f192b08effe4"
      },
      "source": [
        "parameters=pd.concat([non_zero_columns, non_zero_coeff], axis=1)\n",
        "print(parameters)"
      ],
      "execution_count": null,
      "outputs": [
        {
          "output_type": "stream",
          "name": "stdout",
          "text": [
            "   columns        coeff\n",
            "0      sex  -160.457067\n",
            "1      age    87.536472\n",
            "2      bmi   395.050207\n",
            "3       bp   373.117291\n",
            "4       s1  -399.573760\n",
            "5       s2   192.342286\n",
            "6       s3  -112.936934\n",
            "7       s4    80.390203\n",
            "8       s5   657.243019\n",
            "9       s6    17.148102\n",
            "18  age s6    73.083841\n",
            "19   bmi^2  1015.108449\n",
            "20  bmi bp  1402.606838\n",
            "54    s6^2  1151.629896\n"
          ]
        }
      ]
    },
    {
      "cell_type": "code",
      "metadata": {
        "colab": {
          "base_uri": "https://localhost:8080/",
          "height": 483
        },
        "id": "HUV6LAPAl-Vz",
        "outputId": "821b8f0e-1605-4f5f-9b8c-4a044f2b7916"
      },
      "source": [
        "parameters.sort_values(by=[\"coeff\"])"
      ],
      "execution_count": null,
      "outputs": [
        {
          "output_type": "execute_result",
          "data": {
            "text/html": [
              "<div>\n",
              "<style scoped>\n",
              "    .dataframe tbody tr th:only-of-type {\n",
              "        vertical-align: middle;\n",
              "    }\n",
              "\n",
              "    .dataframe tbody tr th {\n",
              "        vertical-align: top;\n",
              "    }\n",
              "\n",
              "    .dataframe thead th {\n",
              "        text-align: right;\n",
              "    }\n",
              "</style>\n",
              "<table border=\"1\" class=\"dataframe\">\n",
              "  <thead>\n",
              "    <tr style=\"text-align: right;\">\n",
              "      <th></th>\n",
              "      <th>columns</th>\n",
              "      <th>coeff</th>\n",
              "    </tr>\n",
              "  </thead>\n",
              "  <tbody>\n",
              "    <tr>\n",
              "      <th>4</th>\n",
              "      <td>s1</td>\n",
              "      <td>-399.573760</td>\n",
              "    </tr>\n",
              "    <tr>\n",
              "      <th>0</th>\n",
              "      <td>sex</td>\n",
              "      <td>-160.457067</td>\n",
              "    </tr>\n",
              "    <tr>\n",
              "      <th>6</th>\n",
              "      <td>s3</td>\n",
              "      <td>-112.936934</td>\n",
              "    </tr>\n",
              "    <tr>\n",
              "      <th>9</th>\n",
              "      <td>s6</td>\n",
              "      <td>17.148102</td>\n",
              "    </tr>\n",
              "    <tr>\n",
              "      <th>18</th>\n",
              "      <td>age s6</td>\n",
              "      <td>73.083841</td>\n",
              "    </tr>\n",
              "    <tr>\n",
              "      <th>7</th>\n",
              "      <td>s4</td>\n",
              "      <td>80.390203</td>\n",
              "    </tr>\n",
              "    <tr>\n",
              "      <th>1</th>\n",
              "      <td>age</td>\n",
              "      <td>87.536472</td>\n",
              "    </tr>\n",
              "    <tr>\n",
              "      <th>5</th>\n",
              "      <td>s2</td>\n",
              "      <td>192.342286</td>\n",
              "    </tr>\n",
              "    <tr>\n",
              "      <th>3</th>\n",
              "      <td>bp</td>\n",
              "      <td>373.117291</td>\n",
              "    </tr>\n",
              "    <tr>\n",
              "      <th>2</th>\n",
              "      <td>bmi</td>\n",
              "      <td>395.050207</td>\n",
              "    </tr>\n",
              "    <tr>\n",
              "      <th>8</th>\n",
              "      <td>s5</td>\n",
              "      <td>657.243019</td>\n",
              "    </tr>\n",
              "    <tr>\n",
              "      <th>19</th>\n",
              "      <td>bmi^2</td>\n",
              "      <td>1015.108449</td>\n",
              "    </tr>\n",
              "    <tr>\n",
              "      <th>54</th>\n",
              "      <td>s6^2</td>\n",
              "      <td>1151.629896</td>\n",
              "    </tr>\n",
              "    <tr>\n",
              "      <th>20</th>\n",
              "      <td>bmi bp</td>\n",
              "      <td>1402.606838</td>\n",
              "    </tr>\n",
              "  </tbody>\n",
              "</table>\n",
              "</div>"
            ],
            "text/plain": [
              "   columns        coeff\n",
              "4       s1  -399.573760\n",
              "0      sex  -160.457067\n",
              "6       s3  -112.936934\n",
              "9       s6    17.148102\n",
              "18  age s6    73.083841\n",
              "7       s4    80.390203\n",
              "1      age    87.536472\n",
              "5       s2   192.342286\n",
              "3       bp   373.117291\n",
              "2      bmi   395.050207\n",
              "8       s5   657.243019\n",
              "19   bmi^2  1015.108449\n",
              "54    s6^2  1151.629896\n",
              "20  bmi bp  1402.606838"
            ]
          },
          "metadata": {},
          "execution_count": 28
        }
      ]
    },
    {
      "cell_type": "markdown",
      "metadata": {
        "id": "EdfhyOfGrnra"
      },
      "source": [
        "Features having highest himpact on the final prediction are `[\"bmi bp\", \"s6^2\", \"bmi^2\", \"s5\"]`"
      ]
    }
  ]
}