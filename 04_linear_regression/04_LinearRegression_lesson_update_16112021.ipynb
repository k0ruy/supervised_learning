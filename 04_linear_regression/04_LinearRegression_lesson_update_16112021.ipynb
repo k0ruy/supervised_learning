{
 "cells": [
  {
   "cell_type": "markdown",
   "metadata": {
    "id": "aIyhquCF_tva"
   },
   "source": [
    "# Linear Regression"
   ]
  },
  {
   "cell_type": "code",
   "execution_count": 1,
   "metadata": {
    "id": "RngG-ZWYAYPK"
   },
   "outputs": [],
   "source": [
    "import numpy as np\n",
    "import matplotlib.pyplot as plt"
   ]
  },
  {
   "cell_type": "markdown",
   "metadata": {
    "id": "WenkyzkvAMcK"
   },
   "source": [
    "## The Normal Equation"
   ]
  },
  {
   "cell_type": "code",
   "execution_count": 2,
   "metadata": {
    "id": "bPJlmO8A_yUB"
   },
   "outputs": [],
   "source": [
    "# synthetic linear looking data\n",
    "X = 2 * np.random.rand(100, 1) #<100x1>\n",
    "y = 4 + 3 * X + np.random.randn(100, 1)"
   ]
  },
  {
   "cell_type": "markdown",
   "metadata": {
    "id": "UjZ5zx5bpXem"
   },
   "source": [
    "$y=3x+4$+noise"
   ]
  },
  {
   "cell_type": "code",
   "execution_count": 3,
   "metadata": {
    "colab": {
     "base_uri": "https://localhost:8080/",
     "height": 284
    },
    "id": "jOrN3Ru6AWzw",
    "outputId": "6e42d9ba-d0ba-42e2-a44f-8d9c4a917b45"
   },
   "outputs": [
    {
     "data": {
      "text/plain": [
       "<matplotlib.collections.PathCollection at 0x7f149a5a98b0>"
      ]
     },
     "execution_count": 3,
     "metadata": {},
     "output_type": "execute_result"
    },
    {
     "data": {
      "image/png": "[encoded data removed]",
      "text/plain": [
       "<Figure size 432x288 with 1 Axes>"
      ]
     },
     "metadata": {
      "needs_background": "light"
     },
     "output_type": "display_data"
    }
   ],
   "source": [
    "plt.scatter(X,y)"
   ]
  },
  {
   "cell_type": "code",
   "execution_count": 4,
   "metadata": {
    "id": "3sLWBkrXAVAb"
   },
   "outputs": [],
   "source": [
    "X_b = np.c_[np.ones((100, 1)), X] # add x0 = 1 to each instance  <100x2>\n",
    "theta_best = np.linalg.inv(X_b.T.dot(X_b)).dot(X_b.T).dot(y) # NORMAL EQUATION"
   ]
  },
  {
   "cell_type": "code",
   "execution_count": 5,
   "metadata": {
    "colab": {
     "base_uri": "https://localhost:8080/"
    },
    "id": "BJ-q2rvsA61m",
    "outputId": "3fd98e2a-b3eb-496e-d757-31a9f10a236b"
   },
   "outputs": [
    {
     "data": {
      "text/plain": [
       "array([[4.14867202],\n",
       "       [3.03127222]])"
      ]
     },
     "execution_count": 5,
     "metadata": {},
     "output_type": "execute_result"
    }
   ],
   "source": [
    "theta_best"
   ]
  },
  {
   "cell_type": "markdown",
   "metadata": {
    "id": "Cdts26xyS5um"
   },
   "source": [
    "**TILL HERE (28/10/2021)**"
   ]
  },
  {
   "cell_type": "markdown",
   "metadata": {
    "id": "qAoIVrWWBWIf"
   },
   "source": [
    "The data was generated by means of `y=4+3x+<gaussian noise>`. \n",
    "The retrieved parameters for theta are close enought but the added noise made it impossible to recover the exact parameters of the original function.\n",
    "\n",
    "The the calculated theta values can be used to make predictions\n",
    "\n"
   ]
  },
  {
   "cell_type": "code",
   "execution_count": 6,
   "metadata": {
    "colab": {
     "base_uri": "https://localhost:8080/"
    },
    "id": "7AWGrOTbCTQx",
    "outputId": "11417acb-6c47-4b03-ae75-c8e619126fcf"
   },
   "outputs": [
    {
     "data": {
      "text/plain": [
       "array([[ 4.14867202],\n",
       "       [10.21121646]])"
      ]
     },
     "execution_count": 6,
     "metadata": {},
     "output_type": "execute_result"
    }
   ],
   "source": [
    "X_new = np.array([[0], [2]])\n",
    "X_new_b = np.c_[np.ones((2, 1)), X_new] # add x0 = 1 to each instance\n",
    "\n",
    "y_predict = X_new_b.dot(theta_best)\n",
    "y_predict"
   ]
  },
  {
   "cell_type": "code",
   "execution_count": 7,
   "metadata": {
    "colab": {
     "base_uri": "https://localhost:8080/",
     "height": 265
    },
    "id": "rg3dHXUmCm1I",
    "outputId": "1f0bcbae-f335-4f4a-9c42-a605458f4e0d"
   },
   "outputs": [
    {
     "data": {
      "image/png": "[encoded data removed]",
      "text/plain": [
       "<Figure size 432x288 with 1 Axes>"
      ]
     },
     "metadata": {
      "needs_background": "light"
     },
     "output_type": "display_data"
    }
   ],
   "source": [
    "#visualization of the model's prediction\n",
    "plt.plot(X_new, y_predict, \"r-\", label=\"predictions\")\n",
    "plt.plot(X, y, \"b.\")\n",
    "plt.axis([0, 2, 0, 15])\n",
    "plt.legend()\n",
    "plt.show()"
   ]
  },
  {
   "cell_type": "markdown",
   "metadata": {
    "id": "mAuvUpgSDOzw"
   },
   "source": [
    "### Linear Regression with sklearn"
   ]
  },
  {
   "cell_type": "code",
   "execution_count": 8,
   "metadata": {
    "colab": {
     "base_uri": "https://localhost:8080/"
    },
    "id": "PD5An2jlDSrc",
    "outputId": "0b98d764-8e1c-439d-de86-ed897cc353ab"
   },
   "outputs": [
    {
     "name": "stdout",
     "output_type": "stream",
     "text": [
      "Intercept=[4.14867202], Slope=[[3.03127222]]\n"
     ]
    }
   ],
   "source": [
    "from sklearn.linear_model import LinearRegression\n",
    "lin_reg = LinearRegression()\n",
    "lin_reg.fit(X, y)\n",
    "print(\"Intercept={}, Slope={}\".format(lin_reg.intercept_, lin_reg.coef_))"
   ]
  },
  {
   "cell_type": "code",
   "execution_count": 9,
   "metadata": {
    "colab": {
     "base_uri": "https://localhost:8080/"
    },
    "id": "quZFqvb2DqVJ",
    "outputId": "09ca7297-c089-41ed-f6b6-82d661ad0f9f"
   },
   "outputs": [
    {
     "data": {
      "text/plain": [
       "array([[ 4.14867202],\n",
       "       [10.21121646]])"
      ]
     },
     "execution_count": 9,
     "metadata": {},
     "output_type": "execute_result"
    }
   ],
   "source": [
    "lin_reg.predict(X_new)"
   ]
  },
  {
   "cell_type": "markdown",
   "metadata": {
    "id": "q9pC3GJpEAF1"
   },
   "source": [
    "The `LinearRegression` class performs a `LeastSquare` optimization task, which can be called directly"
   ]
  },
  {
   "cell_type": "code",
   "execution_count": 10,
   "metadata": {
    "colab": {
     "base_uri": "https://localhost:8080/"
    },
    "id": "DSliADMtER-Y",
    "outputId": "ff03cb9e-a6c7-4474-bbae-dd82077e3668"
   },
   "outputs": [
    {
     "data": {
      "text/plain": [
       "array([[4.14867202],\n",
       "       [3.03127222]])"
      ]
     },
     "execution_count": 10,
     "metadata": {},
     "output_type": "execute_result"
    }
   ],
   "source": [
    "theta_best_svd, residuals, rank, s = np.linalg.lstsq(X_b, y, rcond=1e-6)\n",
    "theta_best_svd"
   ]
  },
  {
   "cell_type": "markdown",
   "metadata": {
    "id": "Ikwj660V_UiQ"
   },
   "source": [
    "## Batch Gradient Descent"
   ]
  },
  {
   "cell_type": "code",
   "execution_count": 11,
   "metadata": {
    "id": "BjWlRtzp_Xot"
   },
   "outputs": [],
   "source": [
    "eta = 0.1 # learning rate \n",
    "n_iterations = 1000 \n",
    "m=100 #number of samples on the training set\n",
    "\n",
    "theta = np.random.randn(2,1) # random initialization <2x1>\n",
    "\n",
    "for iteration in range(n_iterations):\n",
    "  gradients = 2/m * X_b.T.dot(X_b.dot(theta) - y) \n",
    "  theta = theta - eta * gradients"
   ]
  },
  {
   "cell_type": "code",
   "execution_count": 12,
   "metadata": {
    "colab": {
     "base_uri": "https://localhost:8080/"
    },
    "id": "am6E2Td__lgE",
    "outputId": "be407bc6-0bfb-4904-924a-9eb051218d9f"
   },
   "outputs": [
    {
     "data": {
      "text/plain": [
       "array([[4.14867202],\n",
       "       [3.03127222]])"
      ]
     },
     "execution_count": 12,
     "metadata": {},
     "output_type": "execute_result"
    }
   ],
   "source": [
    "theta"
   ]
  },
  {
   "cell_type": "markdown",
   "metadata": {
    "id": "CudSwlL0HEWL"
   },
   "source": [
    "These values are exactly what the Normal Equation found!"
   ]
  },
  {
   "cell_type": "markdown",
   "metadata": {
    "id": "swJnHJsZIoEj"
   },
   "source": [
    "#### PRACTICE 1\n",
    "\n",
    "Plot the variuos regression lines with the updated thetas at each iteration of the Gradient Descent (reduce the number of iterations to 30)"
   ]
  },
  {
   "cell_type": "code",
   "execution_count": 13,
   "metadata": {
    "colab": {
     "base_uri": "https://localhost:8080/",
     "height": 265
    },
    "id": "ns4rTKgALJ9L",
    "outputId": "2362557c-653f-46f3-8d2c-3c013a16c8b6"
   },
   "outputs": [
    {
     "data": {
      "image/png": "[encoded data removed]",
      "text/plain": [
       "<Figure size 432x288 with 1 Axes>"
      ]
     },
     "metadata": {
      "needs_background": "light"
     },
     "output_type": "display_data"
    }
   ],
   "source": [
    "eta = 0.1 # learning rate \n",
    "n_iterations = 8 \n",
    "m=100 #number of samples on the training set\n",
    "\n",
    "plt.plot(X, y, \"b.\")\n",
    "plt.axis([0, 2, 0, 15])\n",
    "\n",
    "theta = np.random.randn(2,1) # random initialization <2x1>\n",
    "y_predict = X_new_b.dot(theta)\n",
    "plt.plot(X_new, y_predict, \"b-\")\n",
    "\n",
    "for iteration in range(n_iterations):\n",
    "  gradients = 2/m * X_b.T.dot(X_b.dot(theta) - y) \n",
    "  theta = theta - eta * gradients\n",
    "  #plot the line\n",
    "  y_predict = X_new_b.dot(theta)\n",
    "  plt.plot(X_new, y_predict, \"r-\")\n"
   ]
  },
  {
   "cell_type": "markdown",
   "metadata": {
    "id": "GUYsdGuRJENe"
   },
   "source": [
    "#### PRACTICE 2\n",
    "\n",
    "Repeate Practice 1 with different values of eta (learning rate) and analyse the GD behavior. (Try with $\\eta=0.02$ and $\\eta=0.5$)"
   ]
  },
  {
   "cell_type": "code",
   "execution_count": 14,
   "metadata": {
    "colab": {
     "base_uri": "https://localhost:8080/",
     "height": 265
    },
    "id": "1PcJqpOFvoWv",
    "outputId": "03ba6aa5-7065-4709-a95d-f5d76d50dcbf"
   },
   "outputs": [
    {
     "data": {
      "image/png": "[encoded data removed]",
      "text/plain": [
       "<Figure size 432x288 with 1 Axes>"
      ]
     },
     "metadata": {
      "needs_background": "light"
     },
     "output_type": "display_data"
    }
   ],
   "source": [
    "eta = 0.002 # learning rate \n",
    "n_iterations = 50 \n",
    "m=100 #number of samples on the training set\n",
    "\n",
    "plt.plot(X, y, \"b.\")\n",
    "plt.axis([0, 2, 0, 15])\n",
    "\n",
    "theta = np.random.randn(2,1) # random initialization <2x1>\n",
    "y_predict = X_new_b.dot(theta)\n",
    "plt.plot(X_new, y_predict, \"b-\")\n",
    "\n",
    "for iteration in range(n_iterations):\n",
    "  gradients = 2/m * X_b.T.dot(X_b.dot(theta) - y) \n",
    "  theta = theta - eta * gradients\n",
    "  #plot the line\n",
    "  y_predict = X_new_b.dot(theta)\n",
    "  plt.plot(X_new, y_predict, \"r-\")\n"
   ]
  },
  {
   "cell_type": "code",
   "execution_count": 15,
   "metadata": {
    "colab": {
     "base_uri": "https://localhost:8080/",
     "height": 265
    },
    "id": "wfmIbmHTv8dn",
    "outputId": "cba59472-cd22-4994-ce2c-13e626b1f01d"
   },
   "outputs": [
    {
     "data": {
      "image/png": "[encoded data removed]",
      "text/plain": [
       "<Figure size 432x288 with 1 Axes>"
      ]
     },
     "metadata": {
      "needs_background": "light"
     },
     "output_type": "display_data"
    }
   ],
   "source": [
    "eta = 0.5 # learning rate \n",
    "n_iterations = 100 \n",
    "m=100 #number of samples on the training set\n",
    "\n",
    "plt.plot(X, y, \"b.\")\n",
    "plt.axis([0, 2, 0, 15])\n",
    "\n",
    "theta = np.random.randn(2,1) # random initialization <2x1>\n",
    "y_predict = X_new_b.dot(theta)\n",
    "plt.plot(X_new, y_predict, \"b-\")\n",
    "\n",
    "for iteration in range(n_iterations):\n",
    "  gradients = 2/m * X_b.T.dot(X_b.dot(theta) - y) \n",
    "  theta = theta - eta * gradients\n",
    "  #plot the line\n",
    "  y_predict = X_new_b.dot(theta)\n",
    "  plt.plot(X_new, y_predict, \"r-\")\n"
   ]
  },
  {
   "cell_type": "markdown",
   "metadata": {
    "id": "t8i1oXolFw_R"
   },
   "source": [
    "## Stochastic Gradient Descent"
   ]
  },
  {
   "cell_type": "markdown",
   "metadata": {
    "id": "lI84qqnDF4b3"
   },
   "source": [
    "### SGD with simple learning schedule"
   ]
  },
  {
   "cell_type": "code",
   "execution_count": 16,
   "metadata": {
    "id": "0pRo77dWAApA"
   },
   "outputs": [],
   "source": [
    "# synthetic linear looking data\n",
    "X = 2 * np.random.rand(100, 1)\n",
    "y = 4 + 3 * X + np.random.randn(100, 1)\n",
    "\n",
    "n_epochs = 50\n",
    "t0, t1 = 5, 50 # learning schedule hyperparameters\n",
    "\n",
    "m=100 #number of samples on the training set\n",
    "\n",
    "def learning_schedule(t): \n",
    "  return t0/(t+t1)\n",
    "\n",
    "theta = np.random.randn(2,1) # random initialization\n",
    "\n",
    "for epoch in range(n_epochs): \n",
    "  for i in range(m):\n",
    "    random_index = np.random.randint(m)\n",
    "    xi = X_b[random_index:random_index+1]\n",
    "    yi = y[random_index:random_index+1]\n",
    "    gradients = 2 * xi.T.dot(xi.dot(theta) - yi)\n",
    "    eta = learning_schedule(epoch * m + i)\n",
    "    theta = theta - eta * gradients\n",
    "    "
   ]
  },
  {
   "cell_type": "markdown",
   "metadata": {
    "id": "pxQRTrULHA9B"
   },
   "source": [
    "By convention we iterate by rounds of `m` iterations; each round is called an `epoch`. \n",
    "\n",
    "* Batch Gradient Descent (above) iterated 1,000 times through the whole training set\n",
    "* Stochastic Gradient Descent goes through the training set only 50 times and reaches a fairly good solution"
   ]
  },
  {
   "cell_type": "markdown",
   "metadata": {
    "id": "LNo5ZOEUSVTx"
   },
   "source": [
    "### PRACTIVE 3\n",
    "Which are the first 5 values of the *lerning rate* in the SGD procedure above?"
   ]
  },
  {
   "cell_type": "markdown",
   "metadata": {
    "id": "DnLdsh95UbkT"
   },
   "source": [
    "### PRACTICE 4\n",
    "\n",
    "Plot the first 20 steps of the SDG procedure above (20 predictive line)"
   ]
  },
  {
   "cell_type": "markdown",
   "metadata": {
    "id": "bGCbwoCP8eOg"
   },
   "source": [
    "### Linear Regression wirh SGD using Sklearn"
   ]
  },
  {
   "cell_type": "code",
   "execution_count": 17,
   "metadata": {
    "colab": {
     "base_uri": "https://localhost:8080/"
    },
    "id": "vMFJP5-kIazL",
    "outputId": "79e80571-9db2-4645-84bc-d8115beb0fa2"
   },
   "outputs": [
    {
     "name": "stderr",
     "output_type": "stream",
     "text": [
      "/home/christian/.local/lib/python3.9/site-packages/sklearn/linear_model/_stochastic_gradient.py:1503: ConvergenceWarning: Maximum number of iteration reached before convergence. Consider increasing max_iter to improve the fit.\n",
      "  warnings.warn(\n"
     ]
    },
    {
     "data": {
      "text/plain": [
       "SGDRegressor(eta0=0.1, max_iter=10, penalty=None)"
      ]
     },
     "execution_count": 17,
     "metadata": {},
     "output_type": "execute_result"
    }
   ],
   "source": [
    "from sklearn.linear_model import SGDRegressor\n",
    "\n",
    "sgd_reg = SGDRegressor(max_iter=10, tol=1e-3, penalty=None, eta0=0.1) \n",
    "sgd_reg.fit(X, y.ravel())"
   ]
  },
  {
   "cell_type": "markdown",
   "metadata": {
    "id": "DK4YQAnf82oV"
   },
   "source": [
    "The `SGDRegressor` optimizes the **Squared Error cost function**.\n",
    "The code above stops:\n",
    "*  after 1000 iterations (**epochs**)\n",
    "*  if the loss drops by less than `1e-3` during one epoch (**tolerance**) \n",
    "* starting eta is `0.1` (**default learning schedule**)"
   ]
  },
  {
   "cell_type": "code",
   "execution_count": 18,
   "metadata": {
    "colab": {
     "base_uri": "https://localhost:8080/"
    },
    "id": "MrecNC0281ma",
    "outputId": "541d9c6c-c33b-4ea3-bb7e-4c863b61c711"
   },
   "outputs": [
    {
     "data": {
      "text/plain": [
       "(array([4.05423265]), array([2.98370639]))"
      ]
     },
     "execution_count": 18,
     "metadata": {},
     "output_type": "execute_result"
    }
   ],
   "source": [
    "sgd_reg.intercept_, sgd_reg.coef_"
   ]
  },
  {
   "cell_type": "markdown",
   "metadata": {
    "id": "o3Bpr1Py_CPl"
   },
   "source": [
    "### PRACTICE 5\n",
    "Do you get similar values as the ones obtained with the Normal Equation?"
   ]
  },
  {
   "cell_type": "code",
   "execution_count": null,
   "metadata": {
    "id": "uRsBbQrN_FZ2"
   },
   "outputs": [],
   "source": []
  },
  {
   "cell_type": "markdown",
   "metadata": {
    "id": "O8O_TMAd_Trq"
   },
   "source": [
    "## Polynomial Regression"
   ]
  },
  {
   "cell_type": "code",
   "execution_count": 19,
   "metadata": {
    "id": "4fGuTbtF_WcW"
   },
   "outputs": [],
   "source": [
    "# syntetic data generation (quadratic equation + noise)\n",
    "m=100\n",
    "X = 6 * np.random.rand(m, 1) - 3\n",
    "y = 0.5 * X**2 + X + 2 + np.random.randn(m, 1)"
   ]
  },
  {
   "cell_type": "code",
   "execution_count": 20,
   "metadata": {
    "colab": {
     "base_uri": "https://localhost:8080/",
     "height": 296
    },
    "id": "_rGqSpgN_gOo",
    "outputId": "8b104f91-b062-44c1-fa42-d408682f45b3"
   },
   "outputs": [
    {
     "data": {
      "text/plain": [
       "Text(0, 0.5, 'y')"
      ]
     },
     "execution_count": 20,
     "metadata": {},
     "output_type": "execute_result"
    },
    {
     "data": {
      "image/png": "[encoded data removed]",
      "text/plain": [
       "<Figure size 432x288 with 1 Axes>"
      ]
     },
     "metadata": {
      "needs_background": "light"
     },
     "output_type": "display_data"
    }
   ],
   "source": [
    "plt.scatter(X,y)\n",
    "plt.xlabel('X1')\n",
    "plt.ylabel('y')"
   ]
  },
  {
   "cell_type": "markdown",
   "metadata": {
    "id": "pUt18bZ9ACMY"
   },
   "source": [
    "Clearly, a straight line will never fit this data properly. So let’s use Scikit-Learn’s `PolynomialFeatures` class to transform our training data, adding the square (2nd-degree polynomial) of each feature in the training set as new features (in this case there is just one feature)"
   ]
  },
  {
   "cell_type": "code",
   "execution_count": 21,
   "metadata": {
    "id": "fOJElau8_xcU"
   },
   "outputs": [],
   "source": [
    "from sklearn.preprocessing import PolynomialFeatures\n",
    "poly_features = PolynomialFeatures(degree=2, include_bias=False)\n",
    "X_poly = poly_features.fit_transform(X)"
   ]
  },
  {
   "cell_type": "code",
   "execution_count": 22,
   "metadata": {
    "colab": {
     "base_uri": "https://localhost:8080/"
    },
    "id": "ZPwsHGZ5AQl2",
    "outputId": "61376434-4b7d-4c34-d67b-1f45c5d510a7"
   },
   "outputs": [
    {
     "data": {
      "text/plain": [
       "array([-0.80883688])"
      ]
     },
     "execution_count": 22,
     "metadata": {},
     "output_type": "execute_result"
    }
   ],
   "source": [
    "X[0]"
   ]
  },
  {
   "cell_type": "code",
   "execution_count": 23,
   "metadata": {
    "colab": {
     "base_uri": "https://localhost:8080/"
    },
    "id": "0NAxwmTMAXdg",
    "outputId": "5bcc9591-5eae-4d5a-c50a-89e52101a249"
   },
   "outputs": [
    {
     "data": {
      "text/plain": [
       "array([-0.80883688,  0.6542171 ])"
      ]
     },
     "execution_count": 23,
     "metadata": {},
     "output_type": "execute_result"
    }
   ],
   "source": [
    "X_poly[0]"
   ]
  },
  {
   "cell_type": "markdown",
   "metadata": {
    "id": "5ZIGxBZkAenG"
   },
   "source": [
    "`X_poly` now contains the original feature of `X` plus the square of this feature. \n",
    "\n",
    "Now you can fit a LinearRegression model to this extended training data"
   ]
  },
  {
   "cell_type": "code",
   "execution_count": 24,
   "metadata": {
    "colab": {
     "base_uri": "https://localhost:8080/"
    },
    "id": "vzoLtPo-AZ8z",
    "outputId": "80a2a45c-2322-40db-c8c0-94ffbfce4a76"
   },
   "outputs": [
    {
     "data": {
      "text/plain": [
       "(array([2.00324176]), array([[1.07781945, 0.52835412]]))"
      ]
     },
     "execution_count": 24,
     "metadata": {},
     "output_type": "execute_result"
    }
   ],
   "source": [
    "from sklearn.linear_model import LinearRegression\n",
    "\n",
    "lin_reg = LinearRegression()\n",
    "lin_reg.fit(X_poly, y)\n",
    "lin_reg.intercept_, lin_reg.coef_"
   ]
  },
  {
   "cell_type": "code",
   "execution_count": 25,
   "metadata": {
    "colab": {
     "base_uri": "https://localhost:8080/",
     "height": 296
    },
    "id": "vBrV89bzApFq",
    "outputId": "e9b5bd3a-2c2f-4c0d-d1e6-6375510b4ffc",
    "scrolled": true
   },
   "outputs": [
    {
     "data": {
      "text/plain": [
       "<matplotlib.collections.PathCollection at 0x7f1480ceea60>"
      ]
     },
     "execution_count": 25,
     "metadata": {},
     "output_type": "execute_result"
    },
    {
     "data": {
      "image/png": "[encoded data removed]",
      "text/plain": [
       "<Figure size 432x288 with 1 Axes>"
      ]
     },
     "metadata": {
      "needs_background": "light"
     },
     "output_type": "display_data"
    }
   ],
   "source": [
    "plt.scatter(X,y)\n",
    "plt.xlabel('X1')\n",
    "plt.ylabel('y')\n",
    "\n",
    "plt.scatter(X, lin_reg.predict(X_poly),label='prediciton')"
   ]
  },
  {
   "cell_type": "markdown",
   "metadata": {
    "id": "dKHlakpzHTTz"
   },
   "source": [
    "the model estimates \n",
    "\n",
    "$𝚢 = 0.47 x^2 +0.89 x + 2.2$\n",
    "\n",
    "when the original function was \n",
    "\n",
    "$y = 0.5x^2 + 1.0x + 2.0 +$ Gaussian noise."
   ]
  },
  {
   "cell_type": "markdown",
   "metadata": {
    "id": "37dsD6anQWUy"
   },
   "source": [
    "#### NOTE \n",
    "When there are multiple features, Polynomial Regression is capable of finding relationships between features (which is something a plain Linear Regression model cannot do). This is made possible by the fact that `PolynomialFeatures` also adds all combinations of features up to the given degree. \n",
    "\n",
    "\n",
    "> For example, if there were two features **a** and **b**, `PolynomialFeatures` with ***degree=3*** would not only add the features $a^2$, $a^3$, $b^2$, and $b^3$, but also the combinations $ab$, $a^2b$, and $ab^2$.\n",
    "\n",
    "Beware of the combinatorial explosion of the number of features!\n",
    "\n"
   ]
  },
  {
   "cell_type": "markdown",
   "metadata": {
    "id": "MvljbW-s3U_p"
   },
   "source": [
    "## Learning Curve"
   ]
  },
  {
   "cell_type": "markdown",
   "metadata": {
    "id": "EFib9dU59Kck"
   },
   "source": [
    "Simple Linear Regression"
   ]
  },
  {
   "cell_type": "code",
   "execution_count": 26,
   "metadata": {
    "id": "WvvkDkJNB9Bo"
   },
   "outputs": [],
   "source": [
    "from sklearn.metrics import mean_squared_error\n",
    "from sklearn.model_selection import train_test_split\n",
    "\n",
    "def plot_learning_curves(model, X, y):\n",
    "  \n",
    "  X_train, X_val, y_train, y_val = train_test_split(X, y, test_size=0.2, random_state=42) \n",
    "  train_errors, val_errors = [], []\n",
    "  \n",
    "  for m in range(1, len(X_train)):\n",
    "\n",
    "    model.fit(X_train[:m], y_train[:m])\n",
    "    y_train_predict = model.predict(X_train[:m])\n",
    "    y_val_predict = model.predict(X_val)\n",
    "\n",
    "    train_errors.append(mean_squared_error(y_train[:m], y_train_predict))\n",
    "    val_errors.append(mean_squared_error(y_val, y_val_predict))\n",
    "  \n",
    "  plt.plot(np.sqrt(train_errors), \"r-+\", linewidth=2, label=\"train\")\n",
    "  plt.plot(np.sqrt(val_errors), \"b-\", linewidth=3, label=\"val\")"
   ]
  },
  {
   "cell_type": "code",
   "execution_count": 27,
   "metadata": {
    "colab": {
     "base_uri": "https://localhost:8080/",
     "height": 296
    },
    "id": "XRxacwJh4CXC",
    "outputId": "97c01d59-703e-427b-c82c-830ada22f5ca"
   },
   "outputs": [
    {
     "data": {
      "text/plain": [
       "<matplotlib.legend.Legend at 0x7f147ec5ea90>"
      ]
     },
     "execution_count": 27,
     "metadata": {},
     "output_type": "execute_result"
    },
    {
     "data": {
      "image/png": "[encoded data removed]",
      "text/plain": [
       "<Figure size 432x288 with 1 Axes>"
      ]
     },
     "metadata": {
      "needs_background": "light"
     },
     "output_type": "display_data"
    }
   ],
   "source": [
    "from sklearn.linear_model import LinearRegression\n",
    "lin_reg = LinearRegression()\n",
    "plot_learning_curves(lin_reg, X, y)\n",
    "plt.xlabel('Training set size')\n",
    "plt.ylabel('RMSE')\n",
    "plt.legend()"
   ]
  },
  {
   "cell_type": "markdown",
   "metadata": {
    "id": "9yueJppJ9RR0"
   },
   "source": [
    "$10^{th}$-degree polynomial model on the same data"
   ]
  },
  {
   "cell_type": "code",
   "execution_count": 28,
   "metadata": {
    "colab": {
     "base_uri": "https://localhost:8080/",
     "height": 265
    },
    "id": "5WIiPGjh4Kko",
    "outputId": "5d4e7a73-3dec-4298-f03f-79acd5fda701"
   },
   "outputs": [
    {
     "data": {
      "image/png": "[encoded data removed]",
      "text/plain": [
       "<Figure size 432x288 with 1 Axes>"
      ]
     },
     "metadata": {
      "needs_background": "light"
     },
     "output_type": "display_data"
    }
   ],
   "source": [
    "from sklearn.pipeline import Pipeline\n",
    "polynomial_regression = Pipeline([\n",
    "                                  (\"poly_features\", PolynomialFeatures(degree=10, include_bias=False)), \n",
    "                                  (\"lin_reg\", LinearRegression()),\n",
    "                                  ])\n",
    "plot_learning_curves(polynomial_regression, X, y)"
   ]
  },
  {
   "cell_type": "markdown",
   "metadata": {
    "id": "WFljQAVPXXrl"
   },
   "source": [
    "## Ridge Regression"
   ]
  },
  {
   "cell_type": "markdown",
   "metadata": {
    "id": "45IR5yRpANcE"
   },
   "source": [
    "Ridge Regression using the closed-form solution (solver, variant using a Matrix Factorization technique)"
   ]
  },
  {
   "cell_type": "code",
   "execution_count": 29,
   "metadata": {
    "colab": {
     "base_uri": "https://localhost:8080/"
    },
    "id": "JJvWo21MXZTn",
    "outputId": "8d1f5e2c-599e-4abb-ec53-809d75f6e3d1"
   },
   "outputs": [
    {
     "data": {
      "text/plain": [
       "Ridge(alpha=1, solver='cholesky')"
      ]
     },
     "execution_count": 29,
     "metadata": {},
     "output_type": "execute_result"
    }
   ],
   "source": [
    "from sklearn.linear_model import Ridge\n",
    "ridge_reg = Ridge(alpha=1, solver=\"cholesky\")\n",
    "ridge_reg.fit(X, y)"
   ]
  },
  {
   "cell_type": "code",
   "execution_count": 30,
   "metadata": {
    "colab": {
     "base_uri": "https://localhost:8080/"
    },
    "id": "Uc-b0_qZXoXR",
    "outputId": "7e3ca821-fecb-4a43-d74c-f6d8c51bcb25"
   },
   "outputs": [
    {
     "data": {
      "text/plain": [
       "array([[5.34595534]])"
      ]
     },
     "execution_count": 30,
     "metadata": {},
     "output_type": "execute_result"
    }
   ],
   "source": [
    "ridge_reg.predict([[1.5]])"
   ]
  },
  {
   "cell_type": "markdown",
   "metadata": {
    "id": "L-XchPKwAVr7"
   },
   "source": [
    "Ridge Regression using Stochastic Gradient Descent"
   ]
  },
  {
   "cell_type": "code",
   "execution_count": 31,
   "metadata": {
    "colab": {
     "base_uri": "https://localhost:8080/"
    },
    "id": "YqmfUSzHX6Ot",
    "outputId": "e2d7eb8e-0d67-4ae8-9be6-ccec0268461e"
   },
   "outputs": [
    {
     "data": {
      "text/plain": [
       "array([5.34722547])"
      ]
     },
     "execution_count": 31,
     "metadata": {},
     "output_type": "execute_result"
    }
   ],
   "source": [
    "sgd_reg = SGDRegressor(penalty=\"l2\")\n",
    "sgd_reg.fit(X, y.ravel())\n",
    "\n",
    "sgd_reg.predict([[1.5]])"
   ]
  },
  {
   "cell_type": "markdown",
   "metadata": {
    "id": "YaCmtWxjO36m"
   },
   "source": [
    "#### PRACTICE 6 \n",
    "Consider the syntetic data generated above and evaluate a LinearRegression model and a RidgeRegression model (with a fixed value of $alpha=1$ on subsets of increasing size. Plot the model performance ($R^2$) as a function of the dataset size. The plot should include:\n",
    "1. train performance for Ridge\n",
    "2. test performance for Ridge\n",
    "3. train performance for Linear Regression\n",
    "4. test performance for Linear Regression\n",
    "\n",
    "What does the plot tell us?"
   ]
  },
  {
   "cell_type": "code",
   "execution_count": 32,
   "metadata": {
    "colab": {
     "base_uri": "https://localhost:8080/",
     "height": 745
    },
    "id": "RKXkhTHBO21A",
    "outputId": "3e077534-6a32-4393-ada7-bf7d185b0fcf"
   },
   "outputs": [
    {
     "name": "stderr",
     "output_type": "stream",
     "text": [
      "/home/christian/.local/lib/python3.9/site-packages/sklearn/metrics/_regression.py:781: UndefinedMetricWarning: R^2 score is not well-defined with less than two samples.\n",
      "  warnings.warn(msg, UndefinedMetricWarning)\n",
      "/tmp/ipykernel_29706/1331013743.py:28: RuntimeWarning: invalid value encountered in sqrt\n",
      "  plt.plot(np.sqrt(val_errors), c+'-', linewidth=3, label=\"test_\"+model_type)\n",
      "/home/christian/.local/lib/python3.9/site-packages/sklearn/metrics/_regression.py:781: UndefinedMetricWarning: R^2 score is not well-defined with less than two samples.\n",
      "  warnings.warn(msg, UndefinedMetricWarning)\n",
      "/tmp/ipykernel_29706/1331013743.py:28: RuntimeWarning: invalid value encountered in sqrt\n",
      "  plt.plot(np.sqrt(val_errors), c+'-', linewidth=3, label=\"test_\"+model_type)\n"
     ]
    },
    {
     "data": {
      "text/plain": [
       "<matplotlib.legend.Legend at 0x7f1480efdeb0>"
      ]
     },
     "execution_count": 32,
     "metadata": {},
     "output_type": "execute_result"
    },
    {
     "data": {
      "image/png": "[encoded data removed]",
      "text/plain": [
       "<Figure size 504x504 with 1 Axes>"
      ]
     },
     "metadata": {
      "needs_background": "light"
     },
     "output_type": "display_data"
    }
   ],
   "source": [
    "#from sklearn.metrics import mean_squared_error\n",
    "from sklearn.metrics import r2_score\n",
    "from sklearn.model_selection import train_test_split\n",
    "from sklearn.linear_model import LinearRegression\n",
    "from sklearn.linear_model import Ridge\n",
    "\n",
    "# synthetic linear looking data\n",
    "X = 2 * np.random.rand(100, 1)\n",
    "y = 4 + 3 * X + np.random.randn(100, 1)\n",
    "\n",
    "plt.figure(figsize=(7,7))\n",
    "\n",
    "def plot_learning_curves(model, X, y, model_type, c):\n",
    "  \n",
    "    X_train, X_val, y_train, y_val = train_test_split(X, y, test_size=0.2, random_state=42) \n",
    "    train_errors, val_errors = [], []\n",
    "  \n",
    "    for m in range(1, len(X_train)):\n",
    "\n",
    "        model.fit(X_train[:m], y_train[:m])\n",
    "        y_train_predict = model.predict(X_train[:m])\n",
    "        y_val_predict = model.predict(X_val)\n",
    "\n",
    "        train_errors.append(r2_score(y_train[:m], y_train_predict))\n",
    "        val_errors.append(r2_score(y_val, y_val_predict))\n",
    "  \n",
    "    plt.plot(np.sqrt(train_errors), c+\"-+\", linewidth=2, label=\"train_\"+model_type)\n",
    "    plt.plot(np.sqrt(val_errors), c+'-', linewidth=3, label=\"test_\"+model_type)\n",
    "\n",
    "\n",
    "lin_reg = LinearRegression()\n",
    "plot_learning_curves(lin_reg, X, y, \"LinearRegression\", 'r')\n",
    "\n",
    "ridge_reg = Ridge(alpha=1, solver=\"cholesky\")\n",
    "plot_learning_curves(ridge_reg, X, y, \"Ridge\", 'b')\n",
    "\n",
    "plt.xlabel('Training set size')\n",
    "plt.ylabel('R2')\n",
    "plt.legend()"
   ]
  },
  {
   "cell_type": "markdown",
   "metadata": {
    "id": "TwWfu5dHMqPE"
   },
   "source": [
    "## Lasso Regression"
   ]
  },
  {
   "cell_type": "markdown",
   "metadata": {
    "id": "PsleieyiNdy7"
   },
   "source": [
    "We could instead use an `SGDRegressor(penalty=\"l1\")`"
   ]
  },
  {
   "cell_type": "code",
   "execution_count": 33,
   "metadata": {
    "colab": {
     "base_uri": "https://localhost:8080/"
    },
    "id": "iCgOEJppMuH2",
    "outputId": "ae74be17-473d-4d07-87e4-d30ef1175a02"
   },
   "outputs": [
    {
     "data": {
      "text/plain": [
       "array([8.35047788])"
      ]
     },
     "execution_count": 33,
     "metadata": {},
     "output_type": "execute_result"
    }
   ],
   "source": [
    "from sklearn.linear_model import Lasso \n",
    "lasso_reg = Lasso(alpha=0.1)\n",
    "lasso_reg.fit(X, y)\n",
    "lasso_reg.predict([[1.5]])"
   ]
  },
  {
   "cell_type": "markdown",
   "metadata": {
    "id": "4-AcfvP9ZH1C"
   },
   "source": [
    "#### PRACTICE 7\n",
    "Consider the diabetes dataset available on sklearn and verify the number of features selected (related coefficient $theta$ different from zero) with different values fo alpha.\n"
   ]
  },
  {
   "cell_type": "code",
   "execution_count": 34,
   "metadata": {
    "colab": {
     "base_uri": "https://localhost:8080/",
     "height": 418
    },
    "id": "2uz1itJSZGok",
    "outputId": "83078f72-8000-4ad2-abf0-7a71f03cd61d"
   },
   "outputs": [
    {
     "name": "stderr",
     "output_type": "stream",
     "text": [
      "/tmp/ipykernel_29706/796226631.py:11: UserWarning: With alpha=0, this algorithm does not converge well. You are advised to use the LinearRegression estimator\n",
      "  lasso = Lasso(alpha=alpha, max_iter=1000).fit(X_train, y_train)\n",
      "/home/christian/.local/lib/python3.9/site-packages/sklearn/linear_model/_coordinate_descent.py:647: UserWarning: Coordinate descent with no regularization may lead to unexpected results and is discouraged.\n",
      "  model = cd_fast.enet_coordinate_descent(\n",
      "/home/christian/.local/lib/python3.9/site-packages/sklearn/linear_model/_coordinate_descent.py:647: ConvergenceWarning: Objective did not converge. You might want to increase the number of iterations, check the scale of the features or consider increasing regularisation. Duality gap: 5.063e+05, tolerance: 2.145e+02 Linear regression models with null weight for the l1 regularization term are more efficiently fitted using one of the solvers implemented in sklearn.linear_model.Ridge/RidgeCV instead.\n",
      "  model = cd_fast.enet_coordinate_descent(\n"
     ]
    },
    {
     "data": {
      "text/plain": [
       "<matplotlib.legend.Legend at 0x7f147e7b2850>"
      ]
     },
     "execution_count": 34,
     "metadata": {},
     "output_type": "execute_result"
    },
    {
     "data": {
      "image/png": "[encoded data removed]",
      "text/plain": [
       "<Figure size 432x288 with 1 Axes>"
      ]
     },
     "metadata": {
      "needs_background": "light"
     },
     "output_type": "display_data"
    }
   ],
   "source": [
    "from sklearn.linear_model import Lasso \n",
    "from sklearn.datasets import load_diabetes\n",
    "\n",
    "data = load_diabetes()\n",
    "\n",
    "X_train, X_test, y_train, y_test = train_test_split(data.data, data.target, test_size=0.2, random_state=42) \n",
    "\n",
    "num_features, train_score, test_score = [],[],[]\n",
    "alpha_values = [0, 0.001,0.01, 0.03, 0.05, 0.06, 0.1, 0.12, 0.15, 0.17, 0.2, 0.3, 0.5]\n",
    "for alpha in alpha_values:\n",
    "    lasso = Lasso(alpha=alpha, max_iter=1000).fit(X_train, y_train) \n",
    "\n",
    "    #print(\"Training set score: {:.2f}\".format(lasso.score(X_train, y_train))) \n",
    "    train_score.append(lasso.score(X_train, y_train))\n",
    "    #print(\"Test set score: {:.2f}\".format(lasso.score(X_test, y_test))) \n",
    "    test_score.append(lasso.score(X_test, y_test))\n",
    "    #print(\"Number of features used: {}\".format(np.sum(lasso.coef_ != 0)))\n",
    "    num_features.append(np.sum(lasso.coef_ != 0)) # [1,0,0,1] <= theta = [0.03, 0, 0, 0.02]\n",
    "\n",
    "plt.plot(alpha_values, num_features, label=\"Number of features\")\n",
    "plt.plot(alpha_values, [element * 10 for element in train_score], label=\"Train Score*10\")\n",
    "plt.plot(alpha_values, [element * 10 for element in test_score], label=\"Test Score*10\")\n",
    "\n",
    "plt.xlabel('alpha')\n",
    "plt.legend()\n"
   ]
  },
  {
   "cell_type": "markdown",
   "metadata": {
    "id": "DHZuO0dgRCAX"
   },
   "source": [
    "## Early Stopping\n",
    "Basic implementation of early stopping"
   ]
  },
  {
   "cell_type": "code",
   "execution_count": 35,
   "metadata": {
    "id": "4QTASTGLRDff"
   },
   "outputs": [
    {
     "ename": "NameError",
     "evalue": "name 'StandardScaler' is not defined",
     "output_type": "error",
     "traceback": [
      "\u001b[0;31m---------------------------------------------------------------------------\u001b[0m",
      "\u001b[0;31mNameError\u001b[0m                                 Traceback (most recent call last)",
      "\u001b[0;32m/tmp/ipykernel_29706/1281836908.py\u001b[0m in \u001b[0;36m<module>\u001b[0;34m\u001b[0m\n\u001b[1;32m      4\u001b[0m poly_scaler = Pipeline([\n\u001b[1;32m      5\u001b[0m                         \u001b[0;34m(\u001b[0m\u001b[0;34m\"poly_features\"\u001b[0m\u001b[0;34m,\u001b[0m \u001b[0mPolynomialFeatures\u001b[0m\u001b[0;34m(\u001b[0m\u001b[0mdegree\u001b[0m\u001b[0;34m=\u001b[0m\u001b[0;36m90\u001b[0m\u001b[0;34m,\u001b[0m \u001b[0minclude_bias\u001b[0m\u001b[0;34m=\u001b[0m\u001b[0;32mFalse\u001b[0m\u001b[0;34m)\u001b[0m\u001b[0;34m)\u001b[0m\u001b[0;34m,\u001b[0m\u001b[0;34m\u001b[0m\u001b[0;34m\u001b[0m\u001b[0m\n\u001b[0;32m----> 6\u001b[0;31m                         \u001b[0;34m(\u001b[0m\u001b[0;34m\"std_scaler\"\u001b[0m\u001b[0;34m,\u001b[0m \u001b[0mStandardScaler\u001b[0m\u001b[0;34m(\u001b[0m\u001b[0;34m)\u001b[0m\u001b[0;34m)\u001b[0m\u001b[0;34m\u001b[0m\u001b[0;34m\u001b[0m\u001b[0m\n\u001b[0m\u001b[1;32m      7\u001b[0m                         ])\n\u001b[1;32m      8\u001b[0m \u001b[0mX_train_poly_scaled\u001b[0m \u001b[0;34m=\u001b[0m \u001b[0mpoly_scaler\u001b[0m\u001b[0;34m.\u001b[0m\u001b[0mfit_transform\u001b[0m\u001b[0;34m(\u001b[0m\u001b[0mX_train\u001b[0m\u001b[0;34m)\u001b[0m\u001b[0;34m\u001b[0m\u001b[0;34m\u001b[0m\u001b[0m\n",
      "\u001b[0;31mNameError\u001b[0m: name 'StandardScaler' is not defined"
     ]
    }
   ],
   "source": [
    "from sklearn.base import clone\n",
    "\n",
    "# prepare the data\n",
    "poly_scaler = Pipeline([\n",
    "                        (\"poly_features\", PolynomialFeatures(degree=90, include_bias=False)),\n",
    "                        (\"std_scaler\", StandardScaler())\n",
    "                        ])\n",
    "X_train_poly_scaled = poly_scaler.fit_transform(X_train)\n",
    "X_val_poly_scaled = poly_scaler.transform(X_val)\n",
    "\n",
    "sgd_reg = SGDRegressor(max_iter=1, tol=-np.infty, warm_start=True,\n",
    "                       penalty=None, learning_rate=\"constant\", eta0=0.0005)\n",
    "#with warm_start=True, when the fit() method is called, it just continues training \n",
    "#where it left off instead of restarting from scratch\n",
    "\n",
    "minimum_val_error = float(\"inf\") \n",
    "best_epoch = None\n",
    "best_model = None\n",
    "\n",
    "for epoch in range(1000):\n",
    "  sgd_reg.fit(X_train_poly_scaled, y_train) # continues where it left off \n",
    "  y_val_predict = sgd_reg.predict(X_val_poly_scaled)\n",
    "  \n",
    "  val_error = mean_squared_error(y_val, y_val_predict)\n",
    "  if val_error < minimum_val_error:\n",
    "    minimum_val_error = val_error\n",
    "    best_epoch = epoch\n",
    "    best_model = clone(sgd_reg)\n"
   ]
  }
 ],
 "metadata": {
  "colab": {
   "collapsed_sections": [],
   "name": "04_LinearRegression_lesson_09112021.ipynb",
   "provenance": [],
   "toc_visible": true
  },
  "kernelspec": {
   "display_name": "Python 3 (ipykernel)",
   "language": "python",
   "name": "python3"
  },
  "language_info": {
   "codemirror_mode": {
    "name": "ipython",
    "version": 3
   },
   "file_extension": ".py",
   "mimetype": "text/x-python",
   "name": "python",
   "nbconvert_exporter": "python",
   "pygments_lexer": "ipython3",
   "version": "3.9.7"
  }
 },
 "nbformat": 4,
 "nbformat_minor": 1
}
