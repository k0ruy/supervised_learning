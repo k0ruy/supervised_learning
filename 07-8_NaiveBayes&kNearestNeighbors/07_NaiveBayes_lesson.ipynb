{
  "nbformat": 4,
  "nbformat_minor": 0,
  "metadata": {
    "colab": {
      "name": "07_NaiveBayes_lesson.ipynb",
      "provenance": [],
      "toc_visible": true
    },
    "kernelspec": {
      "name": "python3",
      "display_name": "Python 3"
    },
    "language_info": {
      "name": "python"
    }
  },
  "cells": [
    {
      "cell_type": "markdown",
      "metadata": {
        "id": "mK-FK0LkqnHH"
      },
      "source": [
        "## Naive Bayes example (binary classification)"
      ]
    },
    {
      "cell_type": "markdown",
      "metadata": {
        "id": "hdMlqIm3mne-"
      },
      "source": [
        "In this example, we are going to use a dummy dataset with three columns:\n",
        "> `weather, temperature,  play`\n",
        "\n",
        "The first two are features(`weather, temperature`) and the other is the label."
      ]
    },
    {
      "cell_type": "code",
      "metadata": {
        "id": "QQEMrDoQmVfV"
      },
      "source": [
        "# Assigning features and label variables\n",
        "weather=['Sunny','Sunny','Overcast','Rainy','Rainy','Rainy','Overcast','Sunny','Sunny',\n",
        "'Rainy','Sunny','Overcast','Rainy']\n",
        "\n",
        "temp=['Hot','Hot','Hot','Mild','Cool','Cool','Cool','Mild','Cool','Mild','Mild','Hot','Mild']\n",
        "\n",
        "play=['No','No','Yes','Yes','Yes','No','Yes','No','Yes','Yes','Yes','Yes','No']"
      ],
      "execution_count": 6,
      "outputs": []
    },
    {
      "cell_type": "code",
      "metadata": {
        "colab": {
          "base_uri": "https://localhost:8080/",
          "height": 452
        },
        "id": "vPvTnDb-VPoJ",
        "outputId": "17f6bca7-338b-4b71-854b-b1ae559f97d5"
      },
      "source": [
        "import pandas as pd\n",
        "df=pd.DataFrame({'weather':weather, 'temp':temp, 'play':play})\n",
        "df\n"
      ],
      "execution_count": 7,
      "outputs": [
        {
          "output_type": "execute_result",
          "data": {
            "text/html": [
              "<div>\n",
              "<style scoped>\n",
              "    .dataframe tbody tr th:only-of-type {\n",
              "        vertical-align: middle;\n",
              "    }\n",
              "\n",
              "    .dataframe tbody tr th {\n",
              "        vertical-align: top;\n",
              "    }\n",
              "\n",
              "    .dataframe thead th {\n",
              "        text-align: right;\n",
              "    }\n",
              "</style>\n",
              "<table border=\"1\" class=\"dataframe\">\n",
              "  <thead>\n",
              "    <tr style=\"text-align: right;\">\n",
              "      <th></th>\n",
              "      <th>weather</th>\n",
              "      <th>temp</th>\n",
              "      <th>play</th>\n",
              "    </tr>\n",
              "  </thead>\n",
              "  <tbody>\n",
              "    <tr>\n",
              "      <th>0</th>\n",
              "      <td>Sunny</td>\n",
              "      <td>Hot</td>\n",
              "      <td>No</td>\n",
              "    </tr>\n",
              "    <tr>\n",
              "      <th>1</th>\n",
              "      <td>Sunny</td>\n",
              "      <td>Hot</td>\n",
              "      <td>No</td>\n",
              "    </tr>\n",
              "    <tr>\n",
              "      <th>2</th>\n",
              "      <td>Overcast</td>\n",
              "      <td>Hot</td>\n",
              "      <td>Yes</td>\n",
              "    </tr>\n",
              "    <tr>\n",
              "      <th>3</th>\n",
              "      <td>Rainy</td>\n",
              "      <td>Mild</td>\n",
              "      <td>Yes</td>\n",
              "    </tr>\n",
              "    <tr>\n",
              "      <th>4</th>\n",
              "      <td>Rainy</td>\n",
              "      <td>Cool</td>\n",
              "      <td>Yes</td>\n",
              "    </tr>\n",
              "    <tr>\n",
              "      <th>5</th>\n",
              "      <td>Rainy</td>\n",
              "      <td>Cool</td>\n",
              "      <td>No</td>\n",
              "    </tr>\n",
              "    <tr>\n",
              "      <th>6</th>\n",
              "      <td>Overcast</td>\n",
              "      <td>Cool</td>\n",
              "      <td>Yes</td>\n",
              "    </tr>\n",
              "    <tr>\n",
              "      <th>7</th>\n",
              "      <td>Sunny</td>\n",
              "      <td>Mild</td>\n",
              "      <td>No</td>\n",
              "    </tr>\n",
              "    <tr>\n",
              "      <th>8</th>\n",
              "      <td>Sunny</td>\n",
              "      <td>Cool</td>\n",
              "      <td>Yes</td>\n",
              "    </tr>\n",
              "    <tr>\n",
              "      <th>9</th>\n",
              "      <td>Rainy</td>\n",
              "      <td>Mild</td>\n",
              "      <td>Yes</td>\n",
              "    </tr>\n",
              "    <tr>\n",
              "      <th>10</th>\n",
              "      <td>Sunny</td>\n",
              "      <td>Mild</td>\n",
              "      <td>Yes</td>\n",
              "    </tr>\n",
              "    <tr>\n",
              "      <th>11</th>\n",
              "      <td>Overcast</td>\n",
              "      <td>Hot</td>\n",
              "      <td>Yes</td>\n",
              "    </tr>\n",
              "    <tr>\n",
              "      <th>12</th>\n",
              "      <td>Rainy</td>\n",
              "      <td>Mild</td>\n",
              "      <td>No</td>\n",
              "    </tr>\n",
              "  </tbody>\n",
              "</table>\n",
              "</div>"
            ],
            "text/plain": [
              "     weather  temp play\n",
              "0      Sunny   Hot   No\n",
              "1      Sunny   Hot   No\n",
              "2   Overcast   Hot  Yes\n",
              "3      Rainy  Mild  Yes\n",
              "4      Rainy  Cool  Yes\n",
              "5      Rainy  Cool   No\n",
              "6   Overcast  Cool  Yes\n",
              "7      Sunny  Mild   No\n",
              "8      Sunny  Cool  Yes\n",
              "9      Rainy  Mild  Yes\n",
              "10     Sunny  Mild  Yes\n",
              "11  Overcast   Hot  Yes\n",
              "12     Rainy  Mild   No"
            ]
          },
          "metadata": {},
          "execution_count": 7
        }
      ]
    },
    {
      "cell_type": "markdown",
      "metadata": {
        "id": "XPrLiIQKnAHt"
      },
      "source": [
        "**Encoding Features**: \n",
        "First, we need to convert these string labels into numbers (es., label encoding)."
      ]
    },
    {
      "cell_type": "code",
      "metadata": {
        "colab": {
          "base_uri": "https://localhost:8080/"
        },
        "id": "OpOIJzX5mW3q",
        "outputId": "f6f068cc-213a-4832-c716-ba68c3bf2d19"
      },
      "source": [
        "from sklearn import preprocessing\n",
        "\n",
        "le = preprocessing.LabelEncoder()\n",
        "weather_encoded=le.fit_transform(weather)\n",
        "\n",
        "print(weather_encoded)"
      ],
      "execution_count": 8,
      "outputs": [
        {
          "output_type": "stream",
          "name": "stdout",
          "text": [
            "[2 2 0 1 1 1 0 2 2 1 2 0 1]\n"
          ]
        }
      ]
    },
    {
      "cell_type": "markdown",
      "metadata": {
        "id": "6kVYVjQYnlZf"
      },
      "source": [
        "We ecode also the features"
      ]
    },
    {
      "cell_type": "code",
      "metadata": {
        "colab": {
          "base_uri": "https://localhost:8080/"
        },
        "id": "gyWc3816nU_U",
        "outputId": "4dc8866d-8a2f-46fc-891e-ad4fe4573019"
      },
      "source": [
        "# Converting string labels into numbers\n",
        "temp_encoded=le.fit_transform(temp)\n",
        "label=le.fit_transform(play)\n",
        "\n",
        "print(\"Temp:{}\".format(temp_encoded))\n",
        "print(\"Play:{}\".format(label))"
      ],
      "execution_count": 9,
      "outputs": [
        {
          "output_type": "stream",
          "name": "stdout",
          "text": [
            "Temp:[1 1 1 2 0 0 0 2 0 2 2 1 2]\n",
            "Play:[0 0 1 1 1 0 1 0 1 1 1 1 0]\n"
          ]
        }
      ]
    },
    {
      "cell_type": "markdown",
      "metadata": {
        "id": "mVcmXz7Mn6Ac"
      },
      "source": [
        "Now we combine both the features (`weather, temp`) in a single variable (list of tuples)."
      ]
    },
    {
      "cell_type": "code",
      "metadata": {
        "colab": {
          "base_uri": "https://localhost:8080/"
        },
        "id": "1Qz9a4F2nzAH",
        "outputId": "ee19be17-fafc-4c2c-f52f-4c195d687495"
      },
      "source": [
        "import pandas as pd \n",
        "\n",
        "features=pd.DataFrame({'weather':weather_encoded, 'temp':temp_encoded})\n",
        "print(features)"
      ],
      "execution_count": 10,
      "outputs": [
        {
          "output_type": "stream",
          "name": "stdout",
          "text": [
            "    weather  temp\n",
            "0         2     1\n",
            "1         2     1\n",
            "2         0     1\n",
            "3         1     2\n",
            "4         1     0\n",
            "5         1     0\n",
            "6         0     0\n",
            "7         2     2\n",
            "8         2     0\n",
            "9         1     2\n",
            "10        2     2\n",
            "11        0     1\n",
            "12        1     2\n"
          ]
        }
      ]
    },
    {
      "cell_type": "markdown",
      "metadata": {
        "id": "ZtJq2cKVoUeK"
      },
      "source": [
        "**Generating Model**: \n",
        "Generate a model using naive bayes classifier."
      ]
    },
    {
      "cell_type": "code",
      "metadata": {
        "colab": {
          "base_uri": "https://localhost:8080/"
        },
        "id": "z4AW5jLLofSw",
        "outputId": "a0501969-f85b-490f-dc9a-78e7b5028368"
      },
      "source": [
        "from sklearn.naive_bayes import GaussianNB\n",
        "\n",
        "#Create a Gaussian Classifier\n",
        "model = GaussianNB()\n",
        "\n",
        "# Train the model using the training sets\n",
        "model.fit(features.values,label)\n",
        "\n",
        "#Predict Output\n",
        "predicted= model.predict([[0,2]]) # 0:Overcast, 2:Mild\n",
        "print(\"Predicted Value:{}\".format(predicted))"
      ],
      "execution_count": 11,
      "outputs": [
        {
          "output_type": "stream",
          "name": "stdout",
          "text": [
            "Predicted Value:[1]\n"
          ]
        }
      ]
    },
    {
      "cell_type": "markdown",
      "metadata": {
        "id": "pcUbrGVBqDJ-"
      },
      "source": [
        "Prediction: players can Play"
      ]
    },
    {
      "cell_type": "markdown",
      "metadata": {
        "id": "0NL1niTWquSM"
      },
      "source": [
        "## Multinomial Naive Bayes classification (Multiple Labels)\n",
        "For this example we are going to use the wine dataset (already seen in a previous practical exercise)"
      ]
    },
    {
      "cell_type": "code",
      "metadata": {
        "id": "ZTCNvdkwqvKU"
      },
      "source": [
        "from sklearn import datasets\n",
        "wine = datasets.load_wine()"
      ],
      "execution_count": null,
      "outputs": []
    },
    {
      "cell_type": "code",
      "metadata": {
        "colab": {
          "base_uri": "https://localhost:8080/"
        },
        "id": "LkqLlGpZrOg7",
        "outputId": "91056a17-db72-4254-da7e-8ea6d067cb01"
      },
      "source": [
        "print(\"Features: {}\".format(wine.feature_names))\n",
        "print(\"Labels: {}\".format(wine.target_names))"
      ],
      "execution_count": null,
      "outputs": [
        {
          "output_type": "stream",
          "name": "stdout",
          "text": [
            "Features: ['alcohol', 'malic_acid', 'ash', 'alcalinity_of_ash', 'magnesium', 'total_phenols', 'flavanoids', 'nonflavanoid_phenols', 'proanthocyanins', 'color_intensity', 'hue', 'od280/od315_of_diluted_wines', 'proline']\n",
            "Labels: ['class_0' 'class_1' 'class_2']\n"
          ]
        }
      ]
    },
    {
      "cell_type": "code",
      "metadata": {
        "id": "tKYAzX6grc9e"
      },
      "source": [
        "from sklearn.model_selection import train_test_split\n",
        "\n",
        "# Split dataset into training set and test set\n",
        "X_train, X_test, y_train, y_test = train_test_split(wine.data, wine.target, test_size=0.5,random_state=109)"
      ],
      "execution_count": null,
      "outputs": []
    },
    {
      "cell_type": "code",
      "metadata": {
        "id": "TOAEmcnhrtNU"
      },
      "source": [
        "from sklearn.naive_bayes import GaussianNB\n",
        "\n",
        "#Create a Gaussian Classifier\n",
        "gnb = GaussianNB()\n",
        "\n",
        "#Train the model using the training sets\n",
        "gnb.fit(X_train, y_train)\n",
        "\n",
        "#Predict the response for test dataset\n",
        "y_pred = gnb.predict(X_test)"
      ],
      "execution_count": null,
      "outputs": []
    },
    {
      "cell_type": "code",
      "metadata": {
        "colab": {
          "base_uri": "https://localhost:8080/"
        },
        "id": "5Z5FtLher-b8",
        "outputId": "7a0f6a24-6afc-4d41-ccea-c34a68d4c6ee"
      },
      "source": [
        "from sklearn.metrics import classification_report\n",
        "\n",
        "print(classification_report(y_test, y_pred, target_names=wine.target_names))"
      ],
      "execution_count": null,
      "outputs": [
        {
          "output_type": "stream",
          "name": "stdout",
          "text": [
            "              precision    recall  f1-score   support\n",
            "\n",
            "     class_0       0.97      0.97      0.97        31\n",
            "     class_1       0.97      0.91      0.94        32\n",
            "     class_2       0.93      1.00      0.96        26\n",
            "\n",
            "    accuracy                           0.96        89\n",
            "   macro avg       0.95      0.96      0.96        89\n",
            "weighted avg       0.96      0.96      0.95        89\n",
            "\n"
          ]
        }
      ]
    },
    {
      "cell_type": "markdown",
      "metadata": {
        "id": "2khQ_2ALs03d"
      },
      "source": [
        "### Zero probability problem\n",
        "\n",
        "Suppose there is no tuple for a `class_2` in the training set, in this scenario, the posterior probability (`P(c|x)`) will be zero, and the model is unable to make a prediction. This problem is known as **Zero Probability** because the occurrence of the particular class is zero.\n",
        "\n",
        "The solution for such an issue is the **Laplacian correction** or **Laplace Transformation**. Laplacian correction is one of the *smoothing* techniques. Here, you can assume that the dataset is large enough that adding one row of each class will not make a difference in the estimated probability. This will overcome the issue of probability values to zero.\n",
        "\n",
        "*For Example*: Suppose that there are 1000 training tuples in the training database. In this database, the label column has \n",
        "- 0 tuples for `class_2`, \n",
        "- 990 tuples for `class_1`, \n",
        "- 10 tuples for `class_0`. \n",
        "\n",
        "The probabilities of these events, without the Laplacian correction, are \n",
        "- $\\frac{0}{1000}=0$ for `class_2`,  \n",
        "- $\\frac{990}{1000}=0.990$ for `class_1`, \n",
        "- $\\frac{11}{1000}=0.010$ for `class_0`\n",
        "\n",
        "Applying a Laplacian correction on the given dataset, we add 1 more tuple for each income-value pair. The probabilities of these events will be:\n",
        "- $\\frac{1}{1003}=0.001$ for `class_2`,  \n",
        "- $\\frac{991}{1003}=0.988$ for `class_1`, \n",
        "- $\\frac{12}{1003}=0.011$ for `class_0`\n",
        "\n"
      ]
    },
    {
      "cell_type": "code",
      "metadata": {
        "id": "JvUYsVq-sLox"
      },
      "source": [
        ""
      ],
      "execution_count": null,
      "outputs": []
    }
  ]
}