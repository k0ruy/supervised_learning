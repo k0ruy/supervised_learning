{
 "cells": [
  {
   "cell_type": "markdown",
   "id": "737c8915",
   "metadata": {},
   "source": [
    "# Naive bayes classifier"
   ]
  },
  {
   "cell_type": "code",
   "execution_count": 24,
   "id": "11edd3bd",
   "metadata": {},
   "outputs": [],
   "source": [
    "import pandas as pd\n",
    "import numpy as np\n",
    "import matplotlib.pyplot as plt"
   ]
  },
  {
   "cell_type": "code",
   "execution_count": 25,
   "id": "653d5e1e",
   "metadata": {
    "scrolled": true
   },
   "outputs": [],
   "source": [
    "X = pd.read_csv('data_naivebayes.csv')\n",
    "y = pd.read_csv('testdata_naivebayes.csv')"
   ]
  },
  {
   "cell_type": "code",
   "execution_count": 26,
   "id": "393f112e",
   "metadata": {},
   "outputs": [
    {
     "data": {
      "text/plain": [
       "0      very_low\n",
       "1          High\n",
       "2           Low\n",
       "3        Middle\n",
       "4           Low\n",
       "         ...   \n",
       "253        High\n",
       "254      Middle\n",
       "255        High\n",
       "256      Middle\n",
       "257        High\n",
       "Name: UNS, Length: 258, dtype: object"
      ]
     },
     "execution_count": 26,
     "metadata": {},
     "output_type": "execute_result"
    }
   ],
   "source": [
    "X['UNS']"
   ]
  },
  {
   "cell_type": "code",
   "execution_count": 29,
   "id": "c031792d",
   "metadata": {},
   "outputs": [
    {
     "data": {
      "text/plain": [
       "0      Very Low\n",
       "1           Low\n",
       "2          High\n",
       "3          High\n",
       "4          High\n",
       "         ...   \n",
       "140        High\n",
       "141        High\n",
       "142         Low\n",
       "143      Middle\n",
       "144      Middle\n",
       "Name: UNS, Length: 145, dtype: object"
      ]
     },
     "execution_count": 29,
     "metadata": {},
     "output_type": "execute_result"
    }
   ],
   "source": [
    "y['UNS']"
   ]
  },
  {
   "cell_type": "code",
   "execution_count": 27,
   "id": "81fa125e",
   "metadata": {},
   "outputs": [
    {
     "name": "stdout",
     "output_type": "stream",
     "text": [
      "[3 0 1 2 1 2 2 3 1 0 0 1 2 0 2 0 3 1 1 2 1 2 2 1 1 0 3 1 0 0 2 1 1 0 0 1 1\n",
      " 1 3 2 1 0 2 2 3 2 2 0 0 2 1 2 1 0 2 1 2 2 0 1 1 2 2 1 2 3 3 2 1 2 2 0 3 2\n",
      " 0 3 1 1 3 1 1 2 2 1 1 3 0 1 1 2 2 2 3 1 0 1 1 0 2 1 1 0 2 1 1 2 2 2 2 0 1\n",
      " 1 0 0 2 2 3 0 2 0 1 1 1 2 0 0 0 1 1 2 1 2 3 0 2 2 1 1 2 1 3 2 2 1 2 0 1 3\n",
      " 1 0 0 1 3 1 2 2 2 0 2 2 1 2 0 0 3 0 2 0 1 0 1 2 0 1 2 1 1 0 2 0 1 0 0 1 1\n",
      " 1 0 2 1 0 2 0 2 0 2 1 3 1 2 3 3 2 3 1 0 1 2 2 3 0 2 2 0 2 2 1 1 0 2 1 1 2\n",
      " 2 2 1 0 2 1 0 0 2 1 1 0 2 1 1 0 2 2 1 0 2 1 2 0 2 1 0 2 2 2 1 0 2 0 2 0]\n"
     ]
    }
   ],
   "source": [
    "from sklearn import preprocessing\n",
    "\n",
    "# encoding training set\n",
    "le = preprocessing.LabelEncoder()\n",
    "uns_encoded = le.fit_transform(X['UNS'])\n",
    "\n",
    "print(uns_encoded)"
   ]
  },
  {
   "cell_type": "code",
   "execution_count": 28,
   "id": "4607703a",
   "metadata": {},
   "outputs": [
    {
     "name": "stdout",
     "output_type": "stream",
     "text": [
      "[3 1 0 0 0 1 2 1 0 3 2 3 0 2 0 3 0 3 1 2 0 1 1 1 2 3 1 2 2 3 1 1 2 0 1 2 1\n",
      " 0 2 2 3 1 0 3 0 3 2 2 0 3 2 3 0 3 0 3 1 0 0 0 1 2 0 1 2 1 2 1 0 3 0 3 0 2\n",
      " 1 0 1 0 0 2 0 3 3 1 2 1 0 3 1 0 1 2 1 3 1 2 0 1 3 1 2 1 2 2 3 1 2 2 1 0 1\n",
      " 1 3 2 2 1 0 1 2 0 0 3 1 2 3 0 1 0 3 0 1 1 0 1 2 1 1 1 1 1 0 0 1 2 2]\n"
     ]
    }
   ],
   "source": [
    "from sklearn import preprocessing\n",
    "\n",
    "# encoding test set\n",
    "le = preprocessing.LabelEncoder()\n",
    "uns_test_encoded = le.fit_transform(y['UNS'])\n",
    "\n",
    "print(uns_test_encoded)"
   ]
  },
  {
   "cell_type": "code",
   "execution_count": 32,
   "id": "6c06991d",
   "metadata": {},
   "outputs": [
    {
     "name": "stdout",
     "output_type": "stream",
     "text": [
      "     train_uns\n",
      "0            3\n",
      "1            0\n",
      "2            1\n",
      "3            2\n",
      "4            1\n",
      "..         ...\n",
      "253          0\n",
      "254          2\n",
      "255          0\n",
      "256          2\n",
      "257          0\n",
      "\n",
      "[258 rows x 1 columns]\n"
     ]
    }
   ],
   "source": [
    "features=pd.DataFrame({'train_uns':uns_encoded})\n",
    "print(features)"
   ]
  },
  {
   "cell_type": "code",
   "execution_count": 205,
   "id": "2a8b0e05",
   "metadata": {},
   "outputs": [
    {
     "name": "stdout",
     "output_type": "stream",
     "text": [
      "Predicted Value:[3]\n"
     ]
    }
   ],
   "source": [
    "from sklearn.naive_bayes import GaussianNB\n",
    "\n",
    "#Create a Gaussian Classifier\n",
    "model = GaussianNB()\n",
    "\n",
    "# Train the model using the training sets\n",
    "model.fit(features.values, uns_encoded)\n",
    "\n",
    "#Predict Output\n",
    "predicted= model.predict([[3]]) # 3: very low ...I don't understand how this works\n",
    "print(\"Predicted Value:{}\".format(predicted))"
   ]
  },
  {
   "cell_type": "markdown",
   "id": "22edf0fe",
   "metadata": {},
   "source": [
    "# kNN classifier"
   ]
  },
  {
   "cell_type": "code",
   "execution_count": null,
   "id": "bf61b398",
   "metadata": {},
   "outputs": [],
   "source": []
  }
 ],
 "metadata": {
  "kernelspec": {
   "display_name": "Python 3 (ipykernel)",
   "language": "python",
   "name": "python3"
  },
  "language_info": {
   "codemirror_mode": {
    "name": "ipython",
    "version": 3
   },
   "file_extension": ".py",
   "mimetype": "text/x-python",
   "name": "python",
   "nbconvert_exporter": "python",
   "pygments_lexer": "ipython3",
   "version": "3.9.7"
  }
 },
 "nbformat": 4,
 "nbformat_minor": 5
}
