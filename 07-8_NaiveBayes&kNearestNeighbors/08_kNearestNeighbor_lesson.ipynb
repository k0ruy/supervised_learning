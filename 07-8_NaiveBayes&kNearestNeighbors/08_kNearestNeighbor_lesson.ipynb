{
  "nbformat": 4,
  "nbformat_minor": 0,
  "metadata": {
    "colab": {
      "name": "08_kNearestNeighbor_lesson.ipynb",
      "provenance": [],
      "toc_visible": true
    },
    "kernelspec": {
      "name": "python3",
      "display_name": "Python 3"
    },
    "language_info": {
      "name": "python"
    }
  },
  "cells": [
    {
      "cell_type": "markdown",
      "metadata": {
        "id": "xB7pe7HilITl"
      },
      "source": [
        "# k-NearestNeighbour classifier"
      ]
    },
    {
      "cell_type": "code",
      "metadata": {
        "id": "trA7W94bRu3x"
      },
      "source": [
        "!pip install mglearn"
      ],
      "execution_count": null,
      "outputs": []
    },
    {
      "cell_type": "markdown",
      "metadata": {
        "id": "9_RH0ps2SDqD"
      },
      "source": [
        "First, we split our data into a training and a test set so we can evaluate general‐ ization performance."
      ]
    },
    {
      "cell_type": "code",
      "metadata": {
        "colab": {
          "base_uri": "https://localhost:8080/"
        },
        "id": "juhKFLf1RoUS",
        "outputId": "22f2374d-a9fe-435a-9f99-d4dcaaa32db4"
      },
      "source": [
        "import mglearn\n",
        "from sklearn.model_selection import train_test_split \n",
        "\n",
        "X, y = mglearn.datasets.make_forge()\n",
        "X_train, X_test, y_train, y_test = train_test_split(X, y, random_state=0)"
      ],
      "execution_count": 3,
      "outputs": [
        {
          "output_type": "stream",
          "name": "stderr",
          "text": [
            "/usr/local/lib/python3.7/dist-packages/sklearn/utils/deprecation.py:87: FutureWarning: Function make_blobs is deprecated; Please import make_blobs directly from scikit-learn\n",
            "  warnings.warn(msg, category=FutureWarning)\n"
          ]
        }
      ]
    },
    {
      "cell_type": "markdown",
      "metadata": {
        "id": "_DoKA_cESLeh"
      },
      "source": [
        "Next, we import and instantiate the classifier. This is when we can set parameters, like the `number of neighbors` to use."
      ]
    },
    {
      "cell_type": "code",
      "metadata": {
        "id": "00yGJAOgR703"
      },
      "source": [
        "from sklearn.neighbors import KNeighborsClassifier \n",
        "clf = KNeighborsClassifier(n_neighbors=3)"
      ],
      "execution_count": 5,
      "outputs": []
    },
    {
      "cell_type": "markdown",
      "metadata": {
        "id": "zx2BoCNiSXU4"
      },
      "source": [
        "We fit the classifier using the training set. \n",
        "\n",
        "For `KNeighborsClassifier` this means storing the dataset, so we can compute neighbors during prediction"
      ]
    },
    {
      "cell_type": "code",
      "metadata": {
        "colab": {
          "base_uri": "https://localhost:8080/"
        },
        "id": "Sx7BbdgoSSrp",
        "outputId": "d3295504-56d9-48b7-b043-d66c57f6aeac"
      },
      "source": [
        "clf.fit(X_train, y_train)"
      ],
      "execution_count": 6,
      "outputs": [
        {
          "output_type": "execute_result",
          "data": {
            "text/plain": [
              "KNeighborsClassifier(n_neighbors=3)"
            ]
          },
          "metadata": {},
          "execution_count": 6
        }
      ]
    },
    {
      "cell_type": "markdown",
      "metadata": {
        "id": "dzXNplbtZDeu"
      },
      "source": [
        "Prediction: for each data point in the test set, it computes its nearest neighbors in the training set and finds the most common class among these."
      ]
    },
    {
      "cell_type": "code",
      "metadata": {
        "colab": {
          "base_uri": "https://localhost:8080/"
        },
        "id": "BswCDScDY--x",
        "outputId": "b117aaba-074f-436b-e023-877da36f8a99"
      },
      "source": [
        "print(\"Test-set predictions: {}\".format(clf.predict(X_test)))"
      ],
      "execution_count": 8,
      "outputs": [
        {
          "output_type": "stream",
          "name": "stdout",
          "text": [
            "Test-set predictions: [1 0 1 0 1 0 0]\n"
          ]
        }
      ]
    },
    {
      "cell_type": "markdown",
      "metadata": {
        "id": "W1Jwx-dZZbYa"
      },
      "source": [
        "To evaluate how well our model generalizes, we can `score` prediction performances on the test-set"
      ]
    },
    {
      "cell_type": "code",
      "metadata": {
        "colab": {
          "base_uri": "https://localhost:8080/"
        },
        "id": "Gs-mQz4yZU0A",
        "outputId": "4cd67277-9586-48b3-caa4-85d6aae26d0c"
      },
      "source": [
        "print(\"Test set accuracy: {:.2f}\".format(clf.score(X_test, y_test)))"
      ],
      "execution_count": 9,
      "outputs": [
        {
          "output_type": "stream",
          "name": "stdout",
          "text": [
            "Test set accuracy: 0.86\n"
          ]
        }
      ]
    },
    {
      "cell_type": "markdown",
      "metadata": {
        "id": "PNJDLW8IdqXO"
      },
      "source": [
        "## Complexity and values of k"
      ]
    },
    {
      "cell_type": "code",
      "metadata": {
        "colab": {
          "base_uri": "https://localhost:8080/",
          "height": 297
        },
        "id": "VO18K2s1dwdv",
        "outputId": "fa1ade99-d7f2-4865-abcf-266f25e3effd"
      },
      "source": [
        "from sklearn.datasets import load_breast_cancer\n",
        "import matplotlib.pyplot as plt\n",
        "\n",
        "cancer = load_breast_cancer()\n",
        "X_train, X_test, y_train, y_test = train_test_split(cancer.data, cancer.target, stratify=cancer.target, random_state=66)\n",
        "training_accuracy = [] \n",
        "test_accuracy = []\n",
        "\n",
        "# try n_neighbors from 1 to 10 \n",
        "neighbors_settings = range(1, 11)\n",
        "for n_neighbors in neighbors_settings:\n",
        "  # build the model\n",
        "  clf = KNeighborsClassifier(n_neighbors=n_neighbors) \n",
        "  clf.fit(X_train, y_train)\n",
        "  # record training set accuracy \n",
        "  training_accuracy.append(clf.score(X_train, y_train)) \n",
        "  # record generalization accuracy \n",
        "  test_accuracy.append(clf.score(X_test, y_test))\n",
        "    \n",
        "plt.plot(neighbors_settings, training_accuracy, label=\"training accuracy\")\n",
        "plt.plot(neighbors_settings, test_accuracy, label=\"test accuracy\")\n",
        "plt.ylabel(\"Accuracy\")\n",
        "plt.xlabel(\"n_neighbors\")\n",
        "plt.legend()"
      ],
      "execution_count": 13,
      "outputs": [
        {
          "output_type": "execute_result",
          "data": {
            "text/plain": [
              "<matplotlib.legend.Legend at 0x7faf66199450>"
            ]
          },
          "metadata": {},
          "execution_count": 13
        },
        {
          "output_type": "display_data",
          "data": {
            "image/png": "[encoded data removed]",
            "text/plain": [
              "<Figure size 432x288 with 1 Axes>"
            ]
          },
          "metadata": {
            "needs_background": "light"
          }
        }
      ]
    },
    {
      "cell_type": "markdown",
      "metadata": {
        "id": "wp5aopTKlQPm"
      },
      "source": [
        "# k-Neighbors Regression"
      ]
    },
    {
      "cell_type": "code",
      "metadata": {
        "colab": {
          "base_uri": "https://localhost:8080/"
        },
        "id": "0ZsbVYSud_MM",
        "outputId": "04d72f6d-6faa-476d-a8fe-7d4e4833ae3b"
      },
      "source": [
        "from sklearn.neighbors import KNeighborsRegressor \n",
        "\n",
        "X, y = mglearn.datasets.make_wave(n_samples=40)\n",
        "    \n",
        "# split the wave dataset into a training and a test set\n",
        "X_train, X_test, y_train, y_test = train_test_split(X, y, random_state=0)\n",
        "\n",
        "# instantiate the model and set the number of neighbors to consider to 3\n",
        "reg = KNeighborsRegressor(n_neighbors=3)\n",
        "\n",
        "# fit the model using the training data and training targets \n",
        "reg.fit(X_train, y_train)\n",
        "\n",
        "print(\"Test set R^2: {:.2f}\".format(reg.score(X_test, y_test)))"
      ],
      "execution_count": 15,
      "outputs": [
        {
          "output_type": "stream",
          "name": "stdout",
          "text": [
            "Test set R^2: 0.83\n"
          ]
        }
      ]
    },
    {
      "cell_type": "code",
      "metadata": {
        "id": "A7gjv_jHeJ0g"
      },
      "source": [
        ""
      ],
      "execution_count": null,
      "outputs": []
    }
  ]
}