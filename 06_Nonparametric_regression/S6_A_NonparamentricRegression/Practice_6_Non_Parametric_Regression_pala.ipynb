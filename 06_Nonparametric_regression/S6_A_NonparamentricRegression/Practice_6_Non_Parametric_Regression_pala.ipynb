{
 "cells": [
  {
   "cell_type": "markdown",
   "source": [
    "## Non parametric regression practical exercise"
   ],
   "metadata": {
    "collapsed": false
   }
  },
  {
   "cell_type": "markdown",
   "source": [
    "Load explore and preprocess (if needed) the dataset. The dataset is accessible also\n",
    "through sklearn"
   ],
   "metadata": {
    "collapsed": false
   }
  },
  {
   "cell_type": "code",
   "execution_count": 12,
   "outputs": [],
   "source": [
    "from sklearn.datasets import load_diabetes\n",
    "import numpy as np\n",
    "df = load_diabetes()\n",
    "X = df.data\n",
    "y = df.target"
   ],
   "metadata": {
    "collapsed": false,
    "pycharm": {
     "name": "#%%\n"
    }
   }
  },
  {
   "cell_type": "markdown",
   "source": [
    "Select one of the features f for the consecutive analysis. Split the dataset in train\n",
    "and test and use the training set to fit a piecewise step function. Evaluate the model\n",
    "on the test set."
   ],
   "metadata": {
    "collapsed": false
   }
  },
  {
   "cell_type": "code",
   "execution_count": 13,
   "outputs": [
    {
     "data": {
      "text/plain": "<Figure size 432x288 with 1 Axes>",
      "image/png": "[encoded data removed]"
     },
     "metadata": {},
     "output_type": "display_data"
    }
   ],
   "source": [
    "from sklearn.linear_model import LassoCV\n",
    "import matplotlib.pyplot as plt\n",
    "plt.style.use(\"dark_background\")\n",
    "\n",
    "lasso = LassoCV().fit(X, y)\n",
    "importance = np.abs(lasso.coef_)\n",
    "feature_names = np.array(load_diabetes().feature_names)\n",
    "plt.bar(height=importance, x=feature_names)\n",
    "plt.title(\"Feature importance via coefficients\")\n",
    "plt.show()"
   ],
   "metadata": {
    "collapsed": false,
    "pycharm": {
     "name": "#%%\n"
    }
   }
  },
  {
   "cell_type": "markdown",
   "source": [
    "Since we have to pick one, I chose the most important based on lasso regression."
   ],
   "metadata": {
    "collapsed": false,
    "pycharm": {
     "name": "#%% md\n"
    }
   }
  },
  {
   "cell_type": "code",
   "execution_count": 14,
   "outputs": [],
   "source": [
    "from sklearn.model_selection import train_test_split\n",
    "import pandas as pd\n",
    "X = np.array(load_diabetes(as_frame=True)['data']['s5'])"
   ],
   "metadata": {
    "collapsed": false,
    "pycharm": {
     "name": "#%%\n"
    }
   }
  },
  {
   "cell_type": "markdown",
   "source": [
    "Splitting in training and testing"
   ],
   "metadata": {
    "collapsed": false,
    "pycharm": {
     "name": "#%% md\n"
    }
   }
  },
  {
   "cell_type": "code",
   "execution_count": 15,
   "outputs": [],
   "source": [
    "X_train, X_test, y_train, y_test = train_test_split(\n",
    "    X, y, random_state=0)"
   ],
   "metadata": {
    "collapsed": false,
    "pycharm": {
     "name": "#%%\n"
    }
   }
  },
  {
   "cell_type": "markdown",
   "source": [
    "Visualizing the problem"
   ],
   "metadata": {
    "collapsed": false,
    "pycharm": {
     "name": "#%% md\n"
    }
   }
  },
  {
   "cell_type": "code",
   "execution_count": 16,
   "outputs": [
    {
     "data": {
      "text/plain": "<Figure size 432x288 with 1 Axes>",
      "image/png": "[encoded data removed]"
     },
     "metadata": {},
     "output_type": "display_data"
    }
   ],
   "source": [
    "import matplotlib.pyplot as plt\n",
    "plt.scatter(X_train, y_train)\n",
    "plt.show()"
   ],
   "metadata": {
    "collapsed": false,
    "pycharm": {
     "name": "#%%\n"
    }
   }
  },
  {
   "cell_type": "code",
   "execution_count": 17,
   "outputs": [
    {
     "data": {
      "text/plain": "(-0.126, -0.0612]      36\n(-0.0612, 0.00375]    149\n(0.00375, 0.0687]     115\n(0.0687, 0.134]        31\ndtype: int64"
     },
     "execution_count": 17,
     "metadata": {},
     "output_type": "execute_result"
    }
   ],
   "source": [
    "# Dividing the data into 4 bins\n",
    "df_cut, bins = pd.cut(X_train, 4, retbins=True, right=True)\n",
    "df_cut.value_counts()"
   ],
   "metadata": {
    "collapsed": false,
    "pycharm": {
     "name": "#%%\n"
    }
   }
  },
  {
   "cell_type": "code",
   "execution_count": 18,
   "outputs": [
    {
     "data": {
      "text/plain": "   (-0.126, -0.0612]  (-0.0612, 0.00375]  (0.00375, 0.0687]  (0.0687, 0.134]\n0                  0                   1                  0                0\n1                  0                   0                  0                1\n2                  0                   0                  1                0\n3                  0                   1                  0                0\n4                  0                   0                  1                0",
      "text/html": "<div>\n<style scoped>\n    .dataframe tbody tr th:only-of-type {\n        vertical-align: middle;\n    }\n\n    .dataframe tbody tr th {\n        vertical-align: top;\n    }\n\n    .dataframe thead th {\n        text-align: right;\n    }\n</style>\n<table border=\"1\" class=\"dataframe\">\n  <thead>\n    <tr style=\"text-align: right;\">\n      <th></th>\n      <th>(-0.126, -0.0612]</th>\n      <th>(-0.0612, 0.00375]</th>\n      <th>(0.00375, 0.0687]</th>\n      <th>(0.0687, 0.134]</th>\n    </tr>\n  </thead>\n  <tbody>\n    <tr>\n      <th>0</th>\n      <td>0</td>\n      <td>1</td>\n      <td>0</td>\n      <td>0</td>\n    </tr>\n    <tr>\n      <th>1</th>\n      <td>0</td>\n      <td>0</td>\n      <td>0</td>\n      <td>1</td>\n    </tr>\n    <tr>\n      <th>2</th>\n      <td>0</td>\n      <td>0</td>\n      <td>1</td>\n      <td>0</td>\n    </tr>\n    <tr>\n      <th>3</th>\n      <td>0</td>\n      <td>1</td>\n      <td>0</td>\n      <td>0</td>\n    </tr>\n    <tr>\n      <th>4</th>\n      <td>0</td>\n      <td>0</td>\n      <td>1</td>\n      <td>0</td>\n    </tr>\n  </tbody>\n</table>\n</div>"
     },
     "execution_count": 18,
     "metadata": {},
     "output_type": "execute_result"
    }
   ],
   "source": [
    "df_steps = pd.concat([pd.DataFrame(X_train), pd.DataFrame(df_cut), pd.DataFrame(y_train)], keys=['s5','s5_cuts','target'], axis=1)\n",
    "\n",
    "# Create dummy variables for the target groups\n",
    "df_steps_dummies = pd.get_dummies(df_cut)\n",
    "df_steps_dummies.head()"
   ],
   "metadata": {
    "collapsed": false,
    "pycharm": {
     "name": "#%%\n"
    }
   }
  },
  {
   "cell_type": "code",
   "execution_count": 19,
   "outputs": [],
   "source": [
    "import statsmodels.api as sm\n",
    "# Fitting Generalised linear models\n",
    "piecewise_fit = sm.GLM(df_steps.s5, df_steps_dummies).fit()\n",
    "\n",
    "# Binning test set into same 4 bins\n",
    "bin_mapping = np.digitize(X_test, bins)\n",
    "X_test_mapped = pd.get_dummies(bin_mapping)\n",
    "# Prediction\n",
    "piecewise_prediction = piecewise_fit.predict(np.array(X_test_mapped))"
   ],
   "metadata": {
    "collapsed": false,
    "pycharm": {
     "name": "#%%\n"
    }
   }
  },
  {
   "cell_type": "code",
   "execution_count": 20,
   "outputs": [
    {
     "name": "stdout",
     "output_type": "stream",
     "text": [
      "The root mean square error is: 168.22388710914868\n"
     ]
    }
   ],
   "source": [
    "# Calculating RMSE\n",
    "from sklearn.metrics import mean_squared_error\n",
    "from math import sqrt\n",
    "\n",
    "rms = sqrt(mean_squared_error(y_test, piecewise_prediction))\n",
    "print(f'The root mean square error is: {rms}')"
   ],
   "metadata": {
    "collapsed": false,
    "pycharm": {
     "name": "#%%\n"
    }
   }
  },
  {
   "cell_type": "markdown",
   "source": [
    "Exploit the same feature selected above, and the same train and test sets to train\n",
    "and validate a Piecewise polynomial degree 3 with 5 knots (arbitrarily chosen)."
   ],
   "metadata": {
    "collapsed": false
   }
  },
  {
   "cell_type": "code",
   "execution_count": 21,
   "outputs": [
    {
     "name": "stdout",
     "output_type": "stream",
     "text": [
      "The root mean square error is: 63.80624807934038\n"
     ]
    }
   ],
   "source": [
    "from patsy import dmatrix\n",
    "import statsmodels.api as sm\n",
    "\n",
    "# Generating cubic spline with 5 knots at 25, 40 and 60 (basis spline)\n",
    "transformed_x = dmatrix(\"bs(train, knots=(-0.09,-0.05,0,0.05,0.1), degree=3, include_intercept=False)\",\n",
    "                        {\"train\": X_train},return_type='dataframe')\n",
    "\n",
    "# Fitting Generalised linear model on transformed dataset\n",
    "fit_poly = sm.GLM(y_train, transformed_x).fit()\n",
    "\n",
    "# Predictions\n",
    "prediction_poly = fit_poly.predict(dmatrix(\"bs(test, knots=(-0.09,-0.05,0,0.05,0.1), degree=3, include_intercept=False)\",\n",
    "                                           {\"test\": X_test},return_type='dataframe'))\n",
    "\n",
    "# Calculating RMSE values\n",
    "rms_poly = sqrt(mean_squared_error(y_test, prediction_poly))\n",
    "print(f'The root mean square error is: {rms_poly}')\n"
   ],
   "metadata": {
    "collapsed": false,
    "pycharm": {
     "name": "#%%\n"
    }
   }
  },
  {
   "cell_type": "markdown",
   "source": [
    "Use the same data exploited above to train a Natural Spline, degree 3 and 5 knots.\n",
    "Evaluate the model on the test set, and compare the evaluation with both the\n",
    "piecewise step function and the piecewise polynomial trained above."
   ],
   "metadata": {
    "collapsed": false,
    "pycharm": {
     "name": "#%% md\n"
    }
   }
  },
  {
   "cell_type": "code",
   "execution_count": 22,
   "outputs": [
    {
     "name": "stdout",
     "output_type": "stream",
     "text": [
      "63.09139981460205\n"
     ]
    }
   ],
   "source": [
    "# Generating natural cubic spline (cubic regression)\n",
    "transformed_x3 = dmatrix(\"cr(train,df = 3)\", {\"train\": X_train}, return_type='dataframe')\n",
    "fit_natural_spline = sm.GLM(y_train, transformed_x3).fit()\n",
    "\n",
    "# Prediction on validation set\n",
    "prediction_nat = fit_natural_spline.predict(dmatrix(\"cr(valid, df=3)\", {\"valid\": X_test}, return_type='dataframe'))\n",
    "# Calculating RMSE value\n",
    "rms = sqrt(mean_squared_error(y_test, prediction_nat))\n",
    "print(rms)"
   ],
   "metadata": {
    "collapsed": false,
    "pycharm": {
     "name": "#%%\n"
    }
   }
  },
  {
   "cell_type": "markdown",
   "source": [
    "The evaluation is similar between the natural spline and the polynomial, it's quite worse for the piecewise function\n",
    "since the way the bins were created does not account for the distribution of the points."
   ],
   "metadata": {
    "collapsed": false,
    "pycharm": {
     "name": "#%% md\n"
    }
   }
  },
  {
   "cell_type": "markdown",
   "source": [
    "Is there any si+gnificant difference in the performances of the three models? Which\n",
    "is the reason for this difference? Visualize the data (selected feature f versus target\n",
    "variable) and the trained models. The performances results are also visible in this\n",
    "graph?"
   ],
   "metadata": {
    "collapsed": false,
    "pycharm": {
     "name": "#%% md\n"
    }
   }
  },
  {
   "cell_type": "code",
   "execution_count": 23,
   "outputs": [
    {
     "data": {
      "text/plain": "<Figure size 432x288 with 1 Axes>",
      "image/png": "[encoded data removed]"
     },
     "metadata": {},
     "output_type": "display_data"
    }
   ],
   "source": [
    "# Plot the splines and error bands\n",
    "plt.scatter(X_test, y_test)\n",
    "plt.plot(X_test, piecewise_prediction, color='y', label='Piecewise')\n",
    "plt.plot(X_test, prediction_poly, color='r', label='Specifying degree =3 with 5 knots')\n",
    "plt.plot(X_test, prediction_nat, color='b', label='Specifying degree =3 with natural spline')\n",
    "plt.legend()\n",
    "plt.xlabel('s5')\n",
    "plt.ylabel('target')\n",
    "plt.show()\n"
   ],
   "metadata": {
    "collapsed": false,
    "pycharm": {
     "name": "#%%\n"
    }
   }
  }
 ],
 "metadata": {
  "kernelspec": {
   "display_name": "Python 3",
   "language": "python",
   "name": "python3"
  },
  "language_info": {
   "codemirror_mode": {
    "name": "ipython",
    "version": 2
   },
   "file_extension": ".py",
   "mimetype": "text/x-python",
   "name": "python",
   "nbconvert_exporter": "python",
   "pygments_lexer": "ipython2",
   "version": "2.7.6"
  }
 },
 "nbformat": 4,
 "nbformat_minor": 0
}