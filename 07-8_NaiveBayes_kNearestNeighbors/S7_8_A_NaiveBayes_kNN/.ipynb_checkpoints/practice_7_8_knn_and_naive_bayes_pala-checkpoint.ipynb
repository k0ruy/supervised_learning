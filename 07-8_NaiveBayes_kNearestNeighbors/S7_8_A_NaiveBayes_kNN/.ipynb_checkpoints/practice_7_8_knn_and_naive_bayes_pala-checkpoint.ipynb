{
 "cells": [
  {
   "cell_type": "markdown",
   "metadata": {
    "collapsed": true,
    "pycharm": {
     "name": "#%% md\n"
    }
   },
   "source": [
    "### Naive Bayes and K-Nearest Neighbour"
   ]
  },
  {
   "cell_type": "markdown",
   "metadata": {
    "pycharm": {
     "name": "#%% md\n"
    }
   },
   "source": [
    "Load, explore and pre-process (if needed) the dataset. Consider we are going to train a Naive\n",
    "Bayes classifier, and a k-Nearest Neighbour classifier: which kind of pre-processing is\n",
    "required for the two models?"
   ]
  },
  {
   "cell_type": "code",
   "execution_count": 62,
   "metadata": {
    "pycharm": {
     "name": "#%%\n"
    }
   },
   "outputs": [],
   "source": [
    "import pandas as pd\n",
    "import numpy as np\n",
    "df_data = pd.read_excel(\"https://archive.ics.uci.edu/ml/machine-learning-databases/00257/Data_User_Modeling_Dataset_Hamdi%20Tolga%20KAHRAMAN.xls\"\n",
    "                        , sheet_name=\"Training_Data\")\n",
    "df_data = df_data.loc[:, ~df_data.columns.str.contains('^Unnamed')]\n",
    "df_data.drop(columns=[\"Attribute Information:\"], inplace=True)\n",
    "\n",
    "data = df_data.loc[:, df_data.columns != ' UNS']\n",
    "target =pd.DataFrame(df_data[' UNS'])"
   ]
  },
  {
   "cell_type": "markdown",
   "metadata": {
    "pycharm": {
     "name": "#%% md\n"
    }
   },
   "source": [
    "Since the target label is a string it needs to be encoded to a numerical value:"
   ]
  },
  {
   "cell_type": "code",
   "execution_count": 63,
   "metadata": {
    "pycharm": {
     "name": "#%%\n"
    }
   },
   "outputs": [
    {
     "name": "stdout",
     "output_type": "stream",
     "text": [
      "        UNS\n",
      "0  very_low\n",
      "1      High\n",
      "2       Low\n",
      "3    Middle\n",
      "4       Low\n"
     ]
    }
   ],
   "source": [
    "from sklearn.preprocessing import LabelEncoder\n",
    "\n",
    "print(target.head())\n",
    "label_encoder = LabelEncoder()\n",
    "target = pd.DataFrame(label_encoder.fit_transform(np.ravel(target)))"
   ]
  },
  {
   "cell_type": "code",
   "execution_count": 64,
   "metadata": {
    "pycharm": {
     "name": "#%%\n"
    }
   },
   "outputs": [
    {
     "data": {
      "text/html": [
       "<div>\n",
       "<style scoped>\n",
       "    .dataframe tbody tr th:only-of-type {\n",
       "        vertical-align: middle;\n",
       "    }\n",
       "\n",
       "    .dataframe tbody tr th {\n",
       "        vertical-align: top;\n",
       "    }\n",
       "\n",
       "    .dataframe thead th {\n",
       "        text-align: right;\n",
       "    }\n",
       "</style>\n",
       "<table border=\"1\" class=\"dataframe\">\n",
       "  <thead>\n",
       "    <tr style=\"text-align: right;\">\n",
       "      <th></th>\n",
       "      <th>STG</th>\n",
       "      <th>SCG</th>\n",
       "      <th>STR</th>\n",
       "      <th>LPR</th>\n",
       "      <th>PEG</th>\n",
       "    </tr>\n",
       "  </thead>\n",
       "  <tbody>\n",
       "    <tr>\n",
       "      <th>count</th>\n",
       "      <td>258.000000</td>\n",
       "      <td>258.000000</td>\n",
       "      <td>258.000000</td>\n",
       "      <td>258.000000</td>\n",
       "      <td>258.000000</td>\n",
       "    </tr>\n",
       "    <tr>\n",
       "      <th>mean</th>\n",
       "      <td>0.371147</td>\n",
       "      <td>0.355674</td>\n",
       "      <td>0.468004</td>\n",
       "      <td>0.432713</td>\n",
       "      <td>0.458539</td>\n",
       "    </tr>\n",
       "    <tr>\n",
       "      <th>std</th>\n",
       "      <td>0.210271</td>\n",
       "      <td>0.211962</td>\n",
       "      <td>0.245940</td>\n",
       "      <td>0.248108</td>\n",
       "      <td>0.255211</td>\n",
       "    </tr>\n",
       "    <tr>\n",
       "      <th>min</th>\n",
       "      <td>0.000000</td>\n",
       "      <td>0.000000</td>\n",
       "      <td>0.000000</td>\n",
       "      <td>0.000000</td>\n",
       "      <td>0.000000</td>\n",
       "    </tr>\n",
       "    <tr>\n",
       "      <th>25%</th>\n",
       "      <td>0.240750</td>\n",
       "      <td>0.210000</td>\n",
       "      <td>0.291250</td>\n",
       "      <td>0.250000</td>\n",
       "      <td>0.250000</td>\n",
       "    </tr>\n",
       "    <tr>\n",
       "      <th>50%</th>\n",
       "      <td>0.327000</td>\n",
       "      <td>0.302500</td>\n",
       "      <td>0.490000</td>\n",
       "      <td>0.330000</td>\n",
       "      <td>0.500000</td>\n",
       "    </tr>\n",
       "    <tr>\n",
       "      <th>75%</th>\n",
       "      <td>0.495000</td>\n",
       "      <td>0.497500</td>\n",
       "      <td>0.690000</td>\n",
       "      <td>0.647500</td>\n",
       "      <td>0.660000</td>\n",
       "    </tr>\n",
       "    <tr>\n",
       "      <th>max</th>\n",
       "      <td>0.990000</td>\n",
       "      <td>0.900000</td>\n",
       "      <td>0.950000</td>\n",
       "      <td>0.990000</td>\n",
       "      <td>0.930000</td>\n",
       "    </tr>\n",
       "  </tbody>\n",
       "</table>\n",
       "</div>"
      ],
      "text/plain": [
       "              STG         SCG         STR         LPR         PEG\n",
       "count  258.000000  258.000000  258.000000  258.000000  258.000000\n",
       "mean     0.371147    0.355674    0.468004    0.432713    0.458539\n",
       "std      0.210271    0.211962    0.245940    0.248108    0.255211\n",
       "min      0.000000    0.000000    0.000000    0.000000    0.000000\n",
       "25%      0.240750    0.210000    0.291250    0.250000    0.250000\n",
       "50%      0.327000    0.302500    0.490000    0.330000    0.500000\n",
       "75%      0.495000    0.497500    0.690000    0.647500    0.660000\n",
       "max      0.990000    0.900000    0.950000    0.990000    0.930000"
      ]
     },
     "execution_count": 64,
     "metadata": {},
     "output_type": "execute_result"
    }
   ],
   "source": [
    "data.describe()"
   ]
  },
  {
   "cell_type": "code",
   "execution_count": 65,
   "metadata": {
    "pycharm": {
     "name": "#%%\n"
    }
   },
   "outputs": [
    {
     "data": {
      "text/plain": [
       "STG    float64\n",
       "SCG    float64\n",
       "STR    float64\n",
       "LPR    float64\n",
       "PEG    float64\n",
       "dtype: object"
      ]
     },
     "execution_count": 65,
     "metadata": {},
     "output_type": "execute_result"
    }
   ],
   "source": [
    "data.dtypes"
   ]
  },
  {
   "cell_type": "code",
   "execution_count": 66,
   "metadata": {
    "pycharm": {
     "name": "#%%\n"
    }
   },
   "outputs": [
    {
     "data": {
      "image/png": "[encoded data removed]",
      "text/plain": [
       "<Figure size 432x288 with 1 Axes>"
      ]
     },
     "metadata": {},
     "output_type": "display_data"
    },
    {
     "data": {
      "image/png": "[encoded data removed]",
      "text/plain": [
       "<Figure size 432x288 with 1 Axes>"
      ]
     },
     "metadata": {},
     "output_type": "display_data"
    },
    {
     "data": {
      "image/png": "[encoded data removed]",
      "text/plain": [
       "<Figure size 432x288 with 1 Axes>"
      ]
     },
     "metadata": {},
     "output_type": "display_data"
    },
    {
     "data": {
      "image/png": "[encoded data removed]",
      "text/plain": [
       "<Figure size 432x288 with 1 Axes>"
      ]
     },
     "metadata": {},
     "output_type": "display_data"
    },
    {
     "data": {
      "image/png": "[encoded data removed]",
      "text/plain": [
       "<Figure size 432x288 with 1 Axes>"
      ]
     },
     "metadata": {},
     "output_type": "display_data"
    }
   ],
   "source": [
    "from matplotlib import pyplot as plt\n",
    "\n",
    "plt.style.use('dark_background')\n",
    "for column in data.columns:\n",
    "    data.hist(column = column)"
   ]
  },
  {
   "cell_type": "markdown",
   "metadata": {},
   "source": [
    "We already have scaled and non missing values, we do not need other pre-processing steps.\n",
    "Since we have continuous values we will use a Gaussian Naive Bayes model."
   ]
  },
  {
   "cell_type": "markdown",
   "metadata": {
    "pycharm": {
     "name": "#%% md\n"
    }
   },
   "source": [
    "Train a Naive Bayes classifier (identify the correct classifier to train, according to the data\n",
    "types). Access the generalization performances of the model by means of a cross fold\n",
    "validation methodology, with k=4 folds."
   ]
  },
  {
   "cell_type": "code",
   "execution_count": 81,
   "metadata": {
    "pycharm": {
     "name": "#%%\n"
    }
   },
   "outputs": [
    {
     "name": "stdout",
     "output_type": "stream",
     "text": [
      "Cross-validation training scores:[0.90769231 0.81538462 0.90625    0.71875   ]\n",
      "Average cross-validation training score: 0.8370192307692308\n"
     ]
    }
   ],
   "source": [
    "from sklearn.model_selection import cross_val_score, StratifiedKFold\n",
    "from sklearn.naive_bayes import GaussianNB\n",
    "gnb = GaussianNB()\n",
    "skf = StratifiedKFold(n_splits=4)\n",
    "scores = cross_val_score(gnb, data, np.ravel(target), cv = skf, scoring='accuracy')\n",
    "print('Cross-validation training scores:{}'.format(scores))\n",
    "print('Average cross-validation training score: {}'.format(scores.mean()))"
   ]
  },
  {
   "cell_type": "markdown",
   "metadata": {},
   "source": [
    "Split the dataset in train and test sets and train a single Naive Bayes classifier on the train\n",
    "set. Evaluate it on the test set (accuracy, precision, recall, f1-score) and calculate a confusion\n",
    "matrix."
   ]
  },
  {
   "cell_type": "code",
   "execution_count": 68,
   "metadata": {
    "pycharm": {
     "name": "#%%\n"
    }
   },
   "outputs": [
    {
     "data": {
      "text/plain": [
       "(array([1.        , 0.68852459, 0.86206897, 1.        ]),\n",
       " array([1.        , 0.91304348, 0.73529412, 0.61538462]),\n",
       " array([1.        , 0.78504673, 0.79365079, 0.76190476]),\n",
       " array([39, 46, 34, 26], dtype=int64))"
      ]
     },
     "execution_count": 68,
     "metadata": {},
     "output_type": "execute_result"
    }
   ],
   "source": [
    "from sklearn.metrics import precision_recall_fscore_support\n",
    "\n",
    "df_test = pd.read_excel(\"https://archive.ics.uci.edu/ml/machine-learning-databases/00257/Data_User_Modeling_Dataset_Hamdi%20Tolga%20KAHRAMAN.xls\"\n",
    "                        , sheet_name=\"Test_Data\")\n",
    "df_test = df_test.loc[:, ~df_test.columns.str.contains('^Unnamed')]\n",
    "df_test.drop(columns=[\"Attribute Information:\"], inplace=True)\n",
    "\n",
    "test_data = df_test.loc[:, df_test.columns != ' UNS']\n",
    "test_target =pd.DataFrame(df_test[' UNS'])\n",
    "test_target = pd.DataFrame(label_encoder.fit_transform(np.ravel(test_target)))\n",
    "gnb = GaussianNB().fit(data, np.ravel(target))\n",
    "predictions = gnb.predict(test_data)\n",
    "\n",
    "precision_recall_fscore_support(test_target, predictions)"
   ]
  },
  {
   "cell_type": "code",
   "execution_count": 69,
   "metadata": {
    "pycharm": {
     "name": "#%%\n"
    }
   },
   "outputs": [
    {
     "data": {
      "text/plain": [
       "array([[39,  0,  0,  0],\n",
       "       [ 0, 42,  9, 10],\n",
       "       [ 0,  4, 25,  0],\n",
       "       [ 0,  0,  0, 16]], dtype=int64)"
      ]
     },
     "execution_count": 69,
     "metadata": {},
     "output_type": "execute_result"
    }
   ],
   "source": [
    "from sklearn.metrics import confusion_matrix\n",
    "\n",
    "confusion_matrix(predictions, test_target)\n"
   ]
  },
  {
   "cell_type": "markdown",
   "metadata": {},
   "source": [
    "Train a k-Nearest Neighbour classifier (identifying the best value of k) on the previously\n",
    "selected training set. Evaluate it on the test set (accuracy, precision, recall, f1-score) and\n",
    "calculate a confusion matrix."
   ]
  },
  {
   "cell_type": "code",
   "execution_count": 75,
   "metadata": {
    "pycharm": {
     "name": "#%%\n"
    }
   },
   "outputs": [
    {
     "data": {
      "text/plain": [
       "{'n_neighbors': 4}"
      ]
     },
     "execution_count": 75,
     "metadata": {},
     "output_type": "execute_result"
    }
   ],
   "source": [
    "from sklearn.neighbors import KNeighborsClassifier\n",
    "from sklearn.model_selection import GridSearchCV\n",
    "\n",
    "param = {'n_neighbors': [2, 3, 4, 5, 6, 7, 8]}\n",
    "grid_search = GridSearchCV(KNeighborsClassifier(), param, cv=5)\n",
    "grid_search_results = grid_search.fit(data, np.ravel(target))\n",
    "grid_search_results.best_params_\n"
   ]
  },
  {
   "cell_type": "markdown",
   "metadata": {},
   "source": [
    "Compare the results obtained by the two models."
   ]
  },
  {
   "cell_type": "code",
   "execution_count": 78,
   "metadata": {
    "pycharm": {
     "name": "#%%\n"
    }
   },
   "outputs": [
    {
     "data": {
      "text/plain": [
       "array([[39,  0,  1,  0],\n",
       "       [ 0, 45,  6, 19],\n",
       "       [ 0,  1, 27,  0],\n",
       "       [ 0,  0,  0,  7]], dtype=int64)"
      ]
     },
     "execution_count": 78,
     "metadata": {},
     "output_type": "execute_result"
    }
   ],
   "source": [
    "knn = KNeighborsClassifier(n_neighbors=4)\n",
    "knn.fit(data, np.ravel(target))\n",
    "knn_predictions = knn.predict(test_data)\n",
    "confusion_matrix(knn_predictions, test_target)\n"
   ]
  },
  {
   "cell_type": "code",
   "execution_count": 79,
   "metadata": {
    "pycharm": {
     "name": "#%%\n"
    }
   },
   "outputs": [
    {
     "data": {
      "text/plain": [
       "(array([0.975     , 0.64285714, 0.96428571, 1.        ]),\n",
       " array([1.        , 0.97826087, 0.79411765, 0.26923077]),\n",
       " array([0.98734177, 0.77586207, 0.87096774, 0.42424242]),\n",
       " array([39, 46, 34, 26], dtype=int64))"
      ]
     },
     "execution_count": 79,
     "metadata": {},
     "output_type": "execute_result"
    }
   ],
   "source": [
    "precision_recall_fscore_support(test_target, knn_predictions)"
   ]
  },
  {
   "cell_type": "code",
   "execution_count": 86,
   "metadata": {
    "pycharm": {
     "name": "#%%\n"
    }
   },
   "outputs": [
    {
     "name": "stdout",
     "output_type": "stream",
     "text": [
      "Knn average cross-validation test score: 0.7931681681681682\n",
      "Gaussian naive bayes average cross-validation test score: 0.8134384384384384\n"
     ]
    }
   ],
   "source": [
    "knn_scores = cross_val_score(knn, test_data, np.ravel(test_target), cv = skf, scoring='accuracy')\n",
    "gnb_scores = cross_val_score(gnb, test_data, np.ravel(test_target), cv = skf, scoring='accuracy')\n",
    "print('Knn average cross-validation test score: {}'.format(knn_scores.mean()))\n",
    "print('Gaussian naive bayes average cross-validation test score: {}'.format(gnb_scores.mean()))"
   ]
  },
  {
   "cell_type": "markdown",
   "metadata": {},
   "source": [
    "In general the gaussian naive bayes model seems slightly superior in this case."
   ]
  }
 ],
 "metadata": {
  "kernelspec": {
   "display_name": "Python 3 (ipykernel)",
   "language": "python",
   "name": "python3"
  },
  "language_info": {
   "codemirror_mode": {
    "name": "ipython",
    "version": 3
   },
   "file_extension": ".py",
   "mimetype": "text/x-python",
   "name": "python",
   "nbconvert_exporter": "python",
   "pygments_lexer": "ipython3",
   "version": "3.9.7"
  }
 },
 "nbformat": 4,
 "nbformat_minor": 1
}
