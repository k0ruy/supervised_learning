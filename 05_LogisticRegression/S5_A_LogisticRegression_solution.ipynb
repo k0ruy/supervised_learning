{
  "nbformat": 4,
  "nbformat_minor": 0,
  "metadata": {
    "colab": {
      "name": "S5_A_LogisticRegression_solution.ipynb",
      "provenance": [],
      "toc_visible": true,
      "collapsed_sections": []
    },
    "kernelspec": {
      "name": "python3",
      "display_name": "Python 3"
    },
    "language_info": {
      "name": "python"
    }
  },
  "cells": [
    {
      "cell_type": "markdown",
      "metadata": {
        "id": "b-klypJ0oDmX"
      },
      "source": [
        "# Practice 5A: Logistic Regression\n",
        "#### wine dataset : classification problem"
      ]
    },
    {
      "cell_type": "markdown",
      "source": [
        "## (1) Load explore and preprocess (if needed) the dataset. The dataset is accessible also through sklearn"
      ],
      "metadata": {
        "id": "mnYstEmfzNkx"
      }
    },
    {
      "cell_type": "code",
      "source": [
        "from sklearn.datasets import load_wine\n",
        "data = load_wine()"
      ],
      "metadata": {
        "id": "Kl7U-nAlzVJz"
      },
      "execution_count": 1,
      "outputs": []
    },
    {
      "cell_type": "code",
      "source": [
        "## import all necessary libraries\n",
        "import pandas as pd\n",
        "import numpy as np\n",
        "from sklearn.model_selection import train_test_split \n",
        "from sklearn.linear_model import LogisticRegression \n",
        "from sklearn.metrics import confusion_matrix\n",
        "from sklearn.metrics import roc_curve\n",
        "import matplotlib.pyplot as plt\n",
        "from sklearn.model_selection import cross_val_score\n",
        "from sklearn.preprocessing import RobustScaler\n",
        "from sklearn.metrics import confusion_matrix \n",
        "from sklearn.metrics import plot_confusion_matrix\n",
        "from sklearn.metrics import classification_report "
      ],
      "metadata": {
        "id": "Oz5JSFmH0kSW"
      },
      "execution_count": 42,
      "outputs": []
    },
    {
      "cell_type": "markdown",
      "source": [
        "## (2) Create a binary attribute Class0 that contains a 1 if target contains the value 0, and a 0 otherwise."
      ],
      "metadata": {
        "id": "QAJYvGFczf4w"
      }
    },
    {
      "cell_type": "code",
      "source": [
        "df_target_new = pd.DataFrame(np.zeros(len(data.target)), columns=[\"target\"])\n",
        "df_target_new[data.target==0]=1"
      ],
      "metadata": {
        "id": "8Z4w1moHzl4c"
      },
      "execution_count": 4,
      "outputs": []
    },
    {
      "cell_type": "markdown",
      "source": [
        "## (3) Split the data into training set and test set 80 : 20"
      ],
      "metadata": {
        "id": "XBYVNad72DR9"
      }
    },
    {
      "cell_type": "code",
      "source": [
        "X_train, X_test, y_train, y_test = train_test_split(data.data, df_target_new.values, random_state=0)"
      ],
      "metadata": {
        "id": "g7hRPCN82CTk"
      },
      "execution_count": 5,
      "outputs": []
    },
    {
      "cell_type": "markdown",
      "source": [
        "## (4) Perform Logistic Regression on the training set in order to predict Class0 using all the features."
      ],
      "metadata": {
        "id": "6Ev7yB4e2dXZ"
      }
    },
    {
      "cell_type": "code",
      "source": [
        "log_reg = LogisticRegression()\n",
        "log_reg.fit(X_train, y_train)"
      ],
      "metadata": {
        "colab": {
          "base_uri": "https://localhost:8080/"
        },
        "id": "UhPV7URL19qr",
        "outputId": "55bb1902-dbe6-4ea8-b916-841eed90c08e"
      },
      "execution_count": 6,
      "outputs": [
        {
          "output_type": "stream",
          "name": "stderr",
          "text": [
            "/usr/local/lib/python3.7/dist-packages/sklearn/utils/validation.py:985: DataConversionWarning: A column-vector y was passed when a 1d array was expected. Please change the shape of y to (n_samples, ), for example using ravel().\n",
            "  y = column_or_1d(y, warn=True)\n",
            "/usr/local/lib/python3.7/dist-packages/sklearn/linear_model/_logistic.py:818: ConvergenceWarning: lbfgs failed to converge (status=1):\n",
            "STOP: TOTAL NO. of ITERATIONS REACHED LIMIT.\n",
            "\n",
            "Increase the number of iterations (max_iter) or scale the data as shown in:\n",
            "    https://scikit-learn.org/stable/modules/preprocessing.html\n",
            "Please also refer to the documentation for alternative solver options:\n",
            "    https://scikit-learn.org/stable/modules/linear_model.html#logistic-regression\n",
            "  extra_warning_msg=_LOGISTIC_SOLVER_CONVERGENCE_MSG,\n"
          ]
        },
        {
          "output_type": "execute_result",
          "data": {
            "text/plain": [
              "LogisticRegression()"
            ]
          },
          "metadata": {},
          "execution_count": 6
        }
      ]
    },
    {
      "cell_type": "markdown",
      "source": [
        "## (5) Compute the training error rate of the model."
      ],
      "metadata": {
        "id": "oT19hebP2078"
      }
    },
    {
      "cell_type": "code",
      "source": [
        "y_pred = log_reg.predict(X_train)\n",
        "confusion_matrix(y_train, y_pred)"
      ],
      "metadata": {
        "colab": {
          "base_uri": "https://localhost:8080/"
        },
        "id": "R5jBf9RH26Fp",
        "outputId": "514d1978-fe1f-4fc5-be0d-4e82d63d186c"
      },
      "execution_count": 7,
      "outputs": [
        {
          "output_type": "execute_result",
          "data": {
            "text/plain": [
              "array([[90,  0],\n",
              "       [ 1, 42]])"
            ]
          },
          "metadata": {},
          "execution_count": 7
        }
      ]
    },
    {
      "cell_type": "markdown",
      "source": [
        "The model make 1 error over 133 samples in the training set."
      ],
      "metadata": {
        "id": "WaGoXfaU6b6-"
      }
    },
    {
      "cell_type": "markdown",
      "source": [
        "## (6) Produce a confusion matrix comparing the true target test values to the predicted target values."
      ],
      "metadata": {
        "id": "YkbZLy_25V_6"
      }
    },
    {
      "cell_type": "code",
      "source": [
        "y_pred = log_reg.predict(X_test)\n",
        "confusion_matrix(y_test, y_pred)"
      ],
      "metadata": {
        "colab": {
          "base_uri": "https://localhost:8080/"
        },
        "id": "URLqDCNp5pOY",
        "outputId": "43ca257a-629e-4926-a180-ddfc79d27477"
      },
      "execution_count": 8,
      "outputs": [
        {
          "output_type": "execute_result",
          "data": {
            "text/plain": [
              "array([[29,  0],\n",
              "       [ 1, 15]])"
            ]
          },
          "metadata": {},
          "execution_count": 8
        }
      ]
    },
    {
      "cell_type": "markdown",
      "source": [
        "## (7) Compute the test error rate."
      ],
      "metadata": {
        "id": "KtJJ3Hrb6nOU"
      }
    },
    {
      "cell_type": "markdown",
      "source": [
        "On the test set, the model makes 1 error over 45 predictions"
      ],
      "metadata": {
        "id": "DVlGf1ju6qgC"
      }
    },
    {
      "cell_type": "markdown",
      "source": [
        "## (8) Calculate and plot the ROC curve of the trained model and calculate and print the ROC AUC of the model."
      ],
      "metadata": {
        "id": "P6G8gSdX62eT"
      }
    },
    {
      "cell_type": "code",
      "source": [
        "fpr, tpr, thresholds = roc_curve(y_test, log_reg.decision_function(X_test))\n",
        "\n",
        "plt.plot(fpr, tpr, label=\"ROC Curve\")\n",
        "plt.xlabel(\"FPR\")\n",
        "plt.ylabel(\"TPR (recall)\")"
      ],
      "metadata": {
        "colab": {
          "base_uri": "https://localhost:8080/",
          "height": 296
        },
        "id": "-mHyjgR6644F",
        "outputId": "8112cb69-e8ab-442e-eacf-57df620abcb9"
      },
      "execution_count": 9,
      "outputs": [
        {
          "output_type": "execute_result",
          "data": {
            "text/plain": [
              "Text(0, 0.5, 'TPR (recall)')"
            ]
          },
          "metadata": {},
          "execution_count": 9
        },
        {
          "output_type": "display_data",
          "data": {
            "image/png": "[encoded data removed]",
            "text/plain": [
              "<Figure size 432x288 with 1 Axes>"
            ]
          },
          "metadata": {
            "needs_background": "light"
          }
        }
      ]
    },
    {
      "cell_type": "code",
      "source": [
        "from sklearn.metrics import roc_auc_score\n",
        "\n",
        "auc = roc_auc_score(y_test, log_reg.decision_function(X_test)) \n",
        "\n",
        "print(\"AUC: {:.3f}\".format(rf_auc)) "
      ],
      "metadata": {
        "colab": {
          "base_uri": "https://localhost:8080/"
        },
        "id": "wkyUiNEe7kew",
        "outputId": "bbebf61e-118b-4f70-9e8a-0f703b683edb"
      },
      "execution_count": null,
      "outputs": [
        {
          "output_type": "stream",
          "name": "stdout",
          "text": [
            "AUC: 0.996\n"
          ]
        }
      ]
    },
    {
      "cell_type": "markdown",
      "source": [
        "The model performs quite well, and the AUC is very near to 1"
      ],
      "metadata": {
        "id": "ICBQ4fT1EdTy"
      }
    },
    {
      "cell_type": "markdown",
      "source": [
        "## (9) Perform a 3-fold Cross Validation (choose an appropriate cross-validation strategy) in order to reliably estimate the performances of the model."
      ],
      "metadata": {
        "id": "yaCznYZAEmNk"
      }
    },
    {
      "cell_type": "code",
      "source": [
        "from sklearn.model_selection import StratifiedKFold \n",
        "kfold = StratifiedKFold(n_splits=3)\n",
        "cv_scores = cross_val_score(log_reg, data.data, df_target_new.values, cv=kfold)\n",
        "\n",
        "print(\"Cross-validation scores:\\n{}\".format(cv_scores))\n",
        "print(\"average score: {}\".format(np.mean(cv_scores)))"
      ],
      "metadata": {
        "colab": {
          "base_uri": "https://localhost:8080/"
        },
        "id": "zh86xLUZEsJm",
        "outputId": "f1483dbb-6744-4887-9624-77669d8e481d"
      },
      "execution_count": 14,
      "outputs": [
        {
          "output_type": "stream",
          "name": "stdout",
          "text": [
            "Cross-validation scores:\n",
            "[0.88333333 0.96610169 0.94915254]\n",
            "average score: 0.9328625235404897\n"
          ]
        },
        {
          "output_type": "stream",
          "name": "stderr",
          "text": [
            "/usr/local/lib/python3.7/dist-packages/sklearn/utils/validation.py:985: DataConversionWarning: A column-vector y was passed when a 1d array was expected. Please change the shape of y to (n_samples, ), for example using ravel().\n",
            "  y = column_or_1d(y, warn=True)\n",
            "/usr/local/lib/python3.7/dist-packages/sklearn/linear_model/_logistic.py:818: ConvergenceWarning: lbfgs failed to converge (status=1):\n",
            "STOP: TOTAL NO. of ITERATIONS REACHED LIMIT.\n",
            "\n",
            "Increase the number of iterations (max_iter) or scale the data as shown in:\n",
            "    https://scikit-learn.org/stable/modules/preprocessing.html\n",
            "Please also refer to the documentation for alternative solver options:\n",
            "    https://scikit-learn.org/stable/modules/linear_model.html#logistic-regression\n",
            "  extra_warning_msg=_LOGISTIC_SOLVER_CONVERGENCE_MSG,\n",
            "/usr/local/lib/python3.7/dist-packages/sklearn/utils/validation.py:985: DataConversionWarning: A column-vector y was passed when a 1d array was expected. Please change the shape of y to (n_samples, ), for example using ravel().\n",
            "  y = column_or_1d(y, warn=True)\n",
            "/usr/local/lib/python3.7/dist-packages/sklearn/linear_model/_logistic.py:818: ConvergenceWarning: lbfgs failed to converge (status=1):\n",
            "STOP: TOTAL NO. of ITERATIONS REACHED LIMIT.\n",
            "\n",
            "Increase the number of iterations (max_iter) or scale the data as shown in:\n",
            "    https://scikit-learn.org/stable/modules/preprocessing.html\n",
            "Please also refer to the documentation for alternative solver options:\n",
            "    https://scikit-learn.org/stable/modules/linear_model.html#logistic-regression\n",
            "  extra_warning_msg=_LOGISTIC_SOLVER_CONVERGENCE_MSG,\n",
            "/usr/local/lib/python3.7/dist-packages/sklearn/utils/validation.py:985: DataConversionWarning: A column-vector y was passed when a 1d array was expected. Please change the shape of y to (n_samples, ), for example using ravel().\n",
            "  y = column_or_1d(y, warn=True)\n",
            "/usr/local/lib/python3.7/dist-packages/sklearn/linear_model/_logistic.py:818: ConvergenceWarning: lbfgs failed to converge (status=1):\n",
            "STOP: TOTAL NO. of ITERATIONS REACHED LIMIT.\n",
            "\n",
            "Increase the number of iterations (max_iter) or scale the data as shown in:\n",
            "    https://scikit-learn.org/stable/modules/preprocessing.html\n",
            "Please also refer to the documentation for alternative solver options:\n",
            "    https://scikit-learn.org/stable/modules/linear_model.html#logistic-regression\n",
            "  extra_warning_msg=_LOGISTIC_SOLVER_CONVERGENCE_MSG,\n"
          ]
        }
      ]
    },
    {
      "cell_type": "markdown",
      "source": [
        "The average accuracy of the model with a stratified 3-fold cross validation strategy is 93\\%"
      ],
      "metadata": {
        "id": "FJND9_3qGH73"
      }
    },
    {
      "cell_type": "markdown",
      "source": [
        "## (10) Train a Softmax Regression model on the training set in order to predict the original target class, using all the features."
      ],
      "metadata": {
        "id": "N-IIuHDWGRr3"
      }
    },
    {
      "cell_type": "code",
      "source": [
        "X_train, X_test, y_train, y_test = train_test_split(data.data, data.target, random_state=0)"
      ],
      "metadata": {
        "id": "DEBcI8Z1G4bW"
      },
      "execution_count": 16,
      "outputs": []
    },
    {
      "cell_type": "code",
      "source": [
        "softmax_reg = LogisticRegression(multi_class=\"multinomial\",solver=\"lbfgs\", C=10)\n",
        "softmax_reg.fit(X_train, y_train)"
      ],
      "metadata": {
        "colab": {
          "base_uri": "https://localhost:8080/"
        },
        "id": "5104Z22hGcqf",
        "outputId": "db2f0e84-832d-4991-c0e9-bf4255630c72"
      },
      "execution_count": 17,
      "outputs": [
        {
          "output_type": "stream",
          "name": "stderr",
          "text": [
            "/usr/local/lib/python3.7/dist-packages/sklearn/linear_model/_logistic.py:818: ConvergenceWarning: lbfgs failed to converge (status=1):\n",
            "STOP: TOTAL NO. of ITERATIONS REACHED LIMIT.\n",
            "\n",
            "Increase the number of iterations (max_iter) or scale the data as shown in:\n",
            "    https://scikit-learn.org/stable/modules/preprocessing.html\n",
            "Please also refer to the documentation for alternative solver options:\n",
            "    https://scikit-learn.org/stable/modules/linear_model.html#logistic-regression\n",
            "  extra_warning_msg=_LOGISTIC_SOLVER_CONVERGENCE_MSG,\n"
          ]
        },
        {
          "output_type": "execute_result",
          "data": {
            "text/plain": [
              "LogisticRegression(C=10, multi_class='multinomial')"
            ]
          },
          "metadata": {},
          "execution_count": 17
        }
      ]
    },
    {
      "cell_type": "markdown",
      "source": [
        "The algorithm does not converge, with the default number of iterations. We might try to increment the number of iterations. However, the features in our dataset are not scaled to the same range of values, hence a good idea would be to preprocess the features first."
      ],
      "metadata": {
        "id": "OgQvrWvIIRMu"
      }
    },
    {
      "cell_type": "code",
      "source": [
        "df=pd.DataFrame(data=data.data, columns=data.feature_names)\n",
        "\n",
        "transformer = RobustScaler().fit(df.values)\n",
        "scaled_data = transformer.transform(df.values)\n",
        "\n",
        "X_train, X_test, y_train, y_test = train_test_split(scaled_data, data.target, random_state=0, test_size=0.4)"
      ],
      "metadata": {
        "id": "D5MFinWVIinv"
      },
      "execution_count": 34,
      "outputs": []
    },
    {
      "cell_type": "code",
      "source": [
        "softmax_reg = LogisticRegression(multi_class=\"multinomial\",solver=\"lbfgs\", C=10)\n",
        "softmax_reg.fit(X_train, y_train)"
      ],
      "metadata": {
        "colab": {
          "base_uri": "https://localhost:8080/"
        },
        "id": "vKyOS676Iv7O",
        "outputId": "54a82499-7bb3-4333-97e4-6b5e787c33a5"
      },
      "execution_count": 35,
      "outputs": [
        {
          "output_type": "execute_result",
          "data": {
            "text/plain": [
              "LogisticRegression(C=10, multi_class='multinomial')"
            ]
          },
          "metadata": {},
          "execution_count": 35
        }
      ]
    },
    {
      "cell_type": "markdown",
      "source": [
        "The features scaling helped the algorithm to converge without incrementing the number of iterations. \n",
        "\n",
        "!! IMPORTANT: we should consider scaling the features also for the model built at question 4 (Logistic Regression)"
      ],
      "metadata": {
        "id": "LkRjzp8pIzma"
      }
    },
    {
      "cell_type": "markdown",
      "source": [
        "## (11) Produce a confusion matrix comparing the true target test values to the predicted target values. Calculate Precision, Recall and f-score for each class.\n"
      ],
      "metadata": {
        "id": "dK8aLIoizJr7"
      }
    },
    {
      "cell_type": "code",
      "source": [
        "# prediciton on the test set\n",
        "pred_softmax = softmax_reg.predict(X_test)\n",
        "\n",
        "#calculation of the confusion matrix\n",
        "confusion = confusion_matrix(y_test, pred_softmax)"
      ],
      "metadata": {
        "id": "R5zktPqiJGP3"
      },
      "execution_count": 36,
      "outputs": []
    },
    {
      "cell_type": "code",
      "metadata": {
        "id": "K3WXWKJ-oLEA",
        "colab": {
          "base_uri": "https://localhost:8080/"
        },
        "outputId": "35275062-4525-4c2f-de6c-a715a067c758"
      },
      "source": [
        "print(confusion)"
      ],
      "execution_count": 37,
      "outputs": [
        {
          "output_type": "stream",
          "name": "stdout",
          "text": [
            "[[22  0  0]\n",
            " [ 0 30  1]\n",
            " [ 0  1 18]]\n"
          ]
        }
      ]
    },
    {
      "cell_type": "code",
      "source": [
        "plot_confusion_matrix(softmax_reg, X_test, y_test)  \n",
        "plt.show()"
      ],
      "metadata": {
        "colab": {
          "base_uri": "https://localhost:8080/",
          "height": 337
        },
        "id": "xXetY8V5Kkib",
        "outputId": "f8b8a607-14b9-4a1d-bbc1-8e6387cb0e30"
      },
      "execution_count": 39,
      "outputs": [
        {
          "output_type": "stream",
          "name": "stderr",
          "text": [
            "/usr/local/lib/python3.7/dist-packages/sklearn/utils/deprecation.py:87: FutureWarning: Function plot_confusion_matrix is deprecated; Function `plot_confusion_matrix` is deprecated in 1.0 and will be removed in 1.2. Use one of the class methods: ConfusionMatrixDisplay.from_predictions or ConfusionMatrixDisplay.from_estimator.\n",
            "  warnings.warn(msg, category=FutureWarning)\n"
          ]
        },
        {
          "output_type": "display_data",
          "data": {
            "image/png": "[encoded data removed]",
            "text/plain": [
              "<Figure size 432x288 with 2 Axes>"
            ]
          },
          "metadata": {
            "needs_background": "light"
          }
        }
      ]
    },
    {
      "cell_type": "code",
      "source": [
        "print(classification_report(y_test, pred_softmax, target_names=data.target_names))"
      ],
      "metadata": {
        "colab": {
          "base_uri": "https://localhost:8080/"
        },
        "id": "novRXQTlJ38O",
        "outputId": "aa72958d-7ccd-4433-b4ab-6c493ca1572e"
      },
      "execution_count": 38,
      "outputs": [
        {
          "output_type": "stream",
          "name": "stdout",
          "text": [
            "              precision    recall  f1-score   support\n",
            "\n",
            "     class_0       1.00      1.00      1.00        22\n",
            "     class_1       0.97      0.97      0.97        31\n",
            "     class_2       0.95      0.95      0.95        19\n",
            "\n",
            "    accuracy                           0.97        72\n",
            "   macro avg       0.97      0.97      0.97        72\n",
            "weighted avg       0.97      0.97      0.97        72\n",
            "\n"
          ]
        }
      ]
    },
    {
      "cell_type": "markdown",
      "source": [
        "The model is performing quite well on the test set. It is just malking 2 mistake:\n",
        "1. predicting class 2 for a test sample belonging to class 1\n",
        "2. predicting class 1 for a test sample belonging to class 2\n",
        "\n",
        "This justify the precision of class 1 to be 97%, infact we have 1 FP over 31 predicted positives (precision = 30/(30+1)); and the recall of class 1 is 97% because we have 1 FN over 31 real positive samples (recall = 30/(30+1)). "
      ],
      "metadata": {
        "id": "um8HGO70LWts"
      }
    },
    {
      "cell_type": "code",
      "source": [
        ""
      ],
      "metadata": {
        "id": "fWZacSB1MscS"
      },
      "execution_count": null,
      "outputs": []
    }
  ]
}