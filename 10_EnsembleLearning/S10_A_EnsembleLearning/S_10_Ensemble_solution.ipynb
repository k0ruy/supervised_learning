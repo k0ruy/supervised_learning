{
  "nbformat": 4,
  "nbformat_minor": 0,
  "metadata": {
    "colab": {
      "name": "S_10_Ensemble_solution.ipynb",
      "provenance": [],
      "toc_visible": true
    },
    "kernelspec": {
      "name": "python3",
      "display_name": "Python 3"
    },
    "language_info": {
      "name": "python"
    }
  },
  "cells": [
    {
      "cell_type": "markdown",
      "source": [
        "# Practice 10A: Ensemble Learning\n",
        "Ref: Aurélien Géron. \"Hands-on Machine Learning with Scikit-Learn, Keras, and TensorFlow\""
      ],
      "metadata": {
        "id": "6OGxFsRzedAs"
      }
    },
    {
      "cell_type": "code",
      "source": [
        "import numpy as np\n",
        "from sklearn.model_selection import train_test_split\n",
        "from sklearn.ensemble import RandomForestClassifier\n",
        "from sklearn.ensemble import ExtraTreesClassifier\n",
        "from sklearn.linear_model import LogisticRegression \n",
        "from sklearn.svm import LinearSVC\n",
        "from sklearn.neural_network import MLPClassifier"
      ],
      "metadata": {
        "id": "bQepejx2fFTX"
      },
      "execution_count": 12,
      "outputs": []
    },
    {
      "cell_type": "markdown",
      "source": [
        "# (1) Voting Classifier."
      ],
      "metadata": {
        "id": "X_sJMlvZembn"
      }
    },
    {
      "cell_type": "markdown",
      "source": [
        "### (a) Load the MNIST dataset, \n",
        "which is a set of 70,000 small images (28x28 pixels) of digits handwritten. Each image is labeled with the digit it represents."
      ],
      "metadata": {
        "id": "j83eJ9rFfczJ"
      }
    },
    {
      "cell_type": "code",
      "source": [
        "from sklearn.datasets import fetch_openml\n",
        "mnist = fetch_openml('mnist_784', version=1)\n",
        "X, y = mnist[\"data\"], mnist[\"target\"]\n",
        "y = y.astype(np.uint8)"
      ],
      "metadata": {
        "id": "zwRGdJ57evos"
      },
      "execution_count": 2,
      "outputs": []
    },
    {
      "cell_type": "markdown",
      "source": [
        "### (b) Split the dataset into a training set, a validation set, and a test set \n",
        "(e.g., use first 50,000 instances for training, subsequent 10,000 for validation, and last 10,000 for testing)."
      ],
      "metadata": {
        "id": "R8-WPsQEfQxa"
      }
    },
    {
      "cell_type": "code",
      "source": [
        "X_train_val, X_test, y_train_val, y_test = X[:60000], X[60000:], y[:60000], y[60000:]"
      ],
      "metadata": {
        "id": "DQrfY7RvfJK9"
      },
      "execution_count": 3,
      "outputs": []
    },
    {
      "cell_type": "code",
      "source": [
        "X_train, X_val, y_train, y_val = train_test_split(X_train_val, y_train_val, test_size=10000, random_state=42) "
      ],
      "metadata": {
        "id": "mPATepESfjTz"
      },
      "execution_count": 4,
      "outputs": []
    },
    {
      "cell_type": "markdown",
      "source": [
        "### (c) Then train various classifiers, such as a Random Forest classifier, an Extra- Trees classifier, a Softmax Regression."
      ],
      "metadata": {
        "id": "O9KPxl7GiqxS"
      }
    },
    {
      "cell_type": "code",
      "source": [
        "#Random forest\n",
        "rnd_forest_clf = RandomForestClassifier(n_estimators=10, random_state=42)\n",
        "rnd_forest_clf.fit(X_train, y_train)"
      ],
      "metadata": {
        "colab": {
          "base_uri": "https://localhost:8080/"
        },
        "id": "xWVEMgHKisz9",
        "outputId": "a289124a-aeae-491b-f6c7-1acd1afa17d4"
      },
      "execution_count": 6,
      "outputs": [
        {
          "output_type": "execute_result",
          "data": {
            "text/plain": [
              "RandomForestClassifier(n_estimators=10, random_state=42)"
            ]
          },
          "metadata": {},
          "execution_count": 6
        }
      ]
    },
    {
      "cell_type": "code",
      "source": [
        "#Extra Tree\n",
        "# we might increase the number of trees\n",
        "ext_clf = ExtraTreesClassifier(n_estimators=10, random_state=42)\n",
        "ext_clf.fit(X_train, y_train)\n"
      ],
      "metadata": {
        "colab": {
          "base_uri": "https://localhost:8080/"
        },
        "id": "rQl0GOjvjbL7",
        "outputId": "697365d7-8313-48e2-84cd-48e36964846f"
      },
      "execution_count": 7,
      "outputs": [
        {
          "output_type": "execute_result",
          "data": {
            "text/plain": [
              "ExtraTreesClassifier(n_estimators=10, random_state=42)"
            ]
          },
          "metadata": {},
          "execution_count": 7
        }
      ]
    },
    {
      "cell_type": "code",
      "source": [
        "## SoftMax\n",
        "## consider scaling the features\n",
        "softmax_clf = LogisticRegression(multi_class=\"multinomial\",solver=\"lbfgs\", C=10)\n",
        "softmax_clf.fit(X_train, y_train)"
      ],
      "metadata": {
        "colab": {
          "base_uri": "https://localhost:8080/"
        },
        "id": "ld1BynGjjvI-",
        "outputId": "9d49e4f3-cd82-4959-cb99-7bf803787173"
      },
      "execution_count": 8,
      "outputs": [
        {
          "output_type": "stream",
          "name": "stderr",
          "text": [
            "/usr/local/lib/python3.7/dist-packages/sklearn/linear_model/_logistic.py:818: ConvergenceWarning: lbfgs failed to converge (status=1):\n",
            "STOP: TOTAL NO. of ITERATIONS REACHED LIMIT.\n",
            "\n",
            "Increase the number of iterations (max_iter) or scale the data as shown in:\n",
            "    https://scikit-learn.org/stable/modules/preprocessing.html\n",
            "Please also refer to the documentation for alternative solver options:\n",
            "    https://scikit-learn.org/stable/modules/linear_model.html#logistic-regression\n",
            "  extra_warning_msg=_LOGISTIC_SOLVER_CONVERGENCE_MSG,\n"
          ]
        },
        {
          "output_type": "execute_result",
          "data": {
            "text/plain": [
              "LogisticRegression(C=10, multi_class='multinomial')"
            ]
          },
          "metadata": {},
          "execution_count": 8
        }
      ]
    },
    {
      "cell_type": "code",
      "source": [
        "# Support Vector Classifier\n",
        "svm_clf = LinearSVC(random_state=42)\n",
        "svm_clf.fit(X_train, y_train)"
      ],
      "metadata": {
        "colab": {
          "base_uri": "https://localhost:8080/"
        },
        "id": "DRtSb5xYu8w5",
        "outputId": "d2feff33-4a65-4646-9a8f-d9539f353c49"
      },
      "execution_count": 13,
      "outputs": [
        {
          "output_type": "stream",
          "name": "stderr",
          "text": [
            "/usr/local/lib/python3.7/dist-packages/sklearn/svm/_base.py:1208: ConvergenceWarning: Liblinear failed to converge, increase the number of iterations.\n",
            "  ConvergenceWarning,\n"
          ]
        },
        {
          "output_type": "execute_result",
          "data": {
            "text/plain": [
              "LinearSVC(random_state=42)"
            ]
          },
          "metadata": {},
          "execution_count": 13
        }
      ]
    },
    {
      "cell_type": "code",
      "source": [
        "mlp_clf = MLPClassifier(random_state=42)\n",
        "mlp_clf.fit(X_train, y_train)"
      ],
      "metadata": {
        "colab": {
          "base_uri": "https://localhost:8080/"
        },
        "id": "z3S8s-W-vGZo",
        "outputId": "12318192-36ee-44f0-dbba-45ee667fadf4"
      },
      "execution_count": 14,
      "outputs": [
        {
          "output_type": "execute_result",
          "data": {
            "text/plain": [
              "MLPClassifier(random_state=42)"
            ]
          },
          "metadata": {},
          "execution_count": 14
        }
      ]
    },
    {
      "cell_type": "code",
      "source": [
        "estimators = [rnd_forest_clf, ext_clf, softmax_clf, svm_clf, mlp_clf]\n",
        "for estimator in estimators:\n",
        "  print(estimator.score(X_val, y_val))"
      ],
      "metadata": {
        "colab": {
          "base_uri": "https://localhost:8080/"
        },
        "id": "N03BDuCEuWjh",
        "outputId": "bdefd308-9941-4db4-ec02-a384a929ebb5"
      },
      "execution_count": 15,
      "outputs": [
        {
          "output_type": "stream",
          "name": "stdout",
          "text": [
            "0.9446\n",
            "0.9507\n",
            "0.9219\n",
            "0.8639\n",
            "0.9621\n"
          ]
        }
      ]
    },
    {
      "cell_type": "markdown",
      "source": [
        "The linear SVM is far outperformed by the other classifiers. However, let's keep it for now since it may improve the voting classifier's performance."
      ],
      "metadata": {
        "id": "eNFoft6vw2JW"
      }
    },
    {
      "cell_type": "markdown",
      "source": [
        "### (d) Next, try to combine them into an ensemble that outperforms them all on the validation set, using a soft or hard voting classifier."
      ],
      "metadata": {
        "id": "0d5FqAOBuUkH"
      }
    },
    {
      "cell_type": "code",
      "source": [
        "from sklearn.ensemble import VotingClassifier\n",
        "\n",
        "named_estimators = [\n",
        "    (\"random_forest_clf\", rnd_forest_clf),\n",
        "    (\"extra_trees_clf\", ext_clf),\n",
        "    (\"softmax_clf\", softmax_clf),\n",
        "    (\"svm_clf\", svm_clf),\n",
        "    (\"mlp_clf\", mlp_clf),\n",
        "]"
      ],
      "metadata": {
        "id": "I5FpmnJjvnUt"
      },
      "execution_count": 16,
      "outputs": []
    },
    {
      "cell_type": "code",
      "source": [
        "voting_clf = VotingClassifier(named_estimators)"
      ],
      "metadata": {
        "id": "vqGd_ME7wOSq"
      },
      "execution_count": 17,
      "outputs": []
    },
    {
      "cell_type": "code",
      "source": [
        "voting_clf.fit(X_train, y_train)"
      ],
      "metadata": {
        "colab": {
          "base_uri": "https://localhost:8080/"
        },
        "id": "erONbta4wPl4",
        "outputId": "fdbdc462-a195-4b0c-beb4-594e785a80eb"
      },
      "execution_count": 18,
      "outputs": [
        {
          "output_type": "stream",
          "name": "stderr",
          "text": [
            "/usr/local/lib/python3.7/dist-packages/sklearn/linear_model/_logistic.py:818: ConvergenceWarning: lbfgs failed to converge (status=1):\n",
            "STOP: TOTAL NO. of ITERATIONS REACHED LIMIT.\n",
            "\n",
            "Increase the number of iterations (max_iter) or scale the data as shown in:\n",
            "    https://scikit-learn.org/stable/modules/preprocessing.html\n",
            "Please also refer to the documentation for alternative solver options:\n",
            "    https://scikit-learn.org/stable/modules/linear_model.html#logistic-regression\n",
            "  extra_warning_msg=_LOGISTIC_SOLVER_CONVERGENCE_MSG,\n",
            "/usr/local/lib/python3.7/dist-packages/sklearn/svm/_base.py:1208: ConvergenceWarning: Liblinear failed to converge, increase the number of iterations.\n",
            "  ConvergenceWarning,\n"
          ]
        },
        {
          "output_type": "execute_result",
          "data": {
            "text/plain": [
              "VotingClassifier(estimators=[('random_forest_clf',\n",
              "                              RandomForestClassifier(n_estimators=10,\n",
              "                                                     random_state=42)),\n",
              "                             ('extra_trees_clf',\n",
              "                              ExtraTreesClassifier(n_estimators=10,\n",
              "                                                   random_state=42)),\n",
              "                             ('softmax_clf',\n",
              "                              LogisticRegression(C=10,\n",
              "                                                 multi_class='multinomial')),\n",
              "                             ('svm_clf', LinearSVC(random_state=42)),\n",
              "                             ('mlp_clf', MLPClassifier(random_state=42))])"
            ]
          },
          "metadata": {},
          "execution_count": 18
        }
      ]
    },
    {
      "cell_type": "code",
      "source": [
        "voting_clf.score(X_val, y_val)"
      ],
      "metadata": {
        "colab": {
          "base_uri": "https://localhost:8080/"
        },
        "id": "4Rd94FeYwxDa",
        "outputId": "466c60d7-864f-4c8a-bc30-76aef16f2165"
      },
      "execution_count": 19,
      "outputs": [
        {
          "output_type": "execute_result",
          "data": {
            "text/plain": [
              "0.9608"
            ]
          },
          "metadata": {},
          "execution_count": 19
        }
      ]
    },
    {
      "cell_type": "markdown",
      "source": [
        "The Hard Voting classifier is performing as the best classifier in the ensamble. "
      ],
      "metadata": {
        "id": "euz_buT60uJ1"
      }
    },
    {
      "cell_type": "code",
      "source": [
        "voting_clf.set_params(svm_clf=None)\n",
        "voting_clf.score(X_val, y_val)"
      ],
      "metadata": {
        "colab": {
          "base_uri": "https://localhost:8080/"
        },
        "id": "45mCc-iJ0aiw",
        "outputId": "0c537722-1688-403a-e970-21ad38e895b4"
      },
      "execution_count": 20,
      "outputs": [
        {
          "output_type": "execute_result",
          "data": {
            "text/plain": [
              "0.9608"
            ]
          },
          "metadata": {},
          "execution_count": 20
        }
      ]
    },
    {
      "cell_type": "markdown",
      "source": [
        "Excluding the SVM for the Ensamble, does not change the performances of the model."
      ],
      "metadata": {
        "id": "48rRmADp0rk2"
      }
    },
    {
      "cell_type": "code",
      "source": [
        "voting_clf.set_params(softmax_clf=None)\n",
        "voting_clf.set_params(svm_clf=None)\n",
        "voting_clf.estimators_"
      ],
      "metadata": {
        "colab": {
          "base_uri": "https://localhost:8080/"
        },
        "id": "nkZgbYIZ1F7s",
        "outputId": "19c9e96d-3bc6-415f-9050-f5700074549f"
      },
      "execution_count": 25,
      "outputs": [
        {
          "output_type": "execute_result",
          "data": {
            "text/plain": [
              "[('random_forest_clf',\n",
              "  RandomForestClassifier(n_estimators=10, random_state=42)),\n",
              " ('extra_trees_clf', ExtraTreesClassifier(n_estimators=10, random_state=42)),\n",
              " ('softmax_clf', None),\n",
              " ('svm_clf', None),\n",
              " ('mlp_clf', MLPClassifier(random_state=42))]"
            ]
          },
          "metadata": {},
          "execution_count": 25
        }
      ]
    },
    {
      "cell_type": "code",
      "source": [
        "del voting_clf.estimators_[2]\n",
        "del voting_clf.estimators_[3]\n",
        "voting_clf.estimators_"
      ],
      "metadata": {
        "colab": {
          "base_uri": "https://localhost:8080/"
        },
        "id": "-5RJAcn82xbT",
        "outputId": "2aa11bed-e44a-426c-be1e-8a47fc154229"
      },
      "execution_count": 28,
      "outputs": [
        {
          "output_type": "execute_result",
          "data": {
            "text/plain": [
              "[RandomForestClassifier(n_estimators=10, random_state=42),\n",
              " ExtraTreesClassifier(n_estimators=10, random_state=42),\n",
              " MLPClassifier(random_state=42)]"
            ]
          },
          "metadata": {},
          "execution_count": 28
        }
      ]
    },
    {
      "cell_type": "code",
      "source": [
        "voting_clf.voting = \"soft\"\n",
        "voting_clf.score(X_val, y_val)"
      ],
      "metadata": {
        "colab": {
          "base_uri": "https://localhost:8080/"
        },
        "id": "pY7P11m42SNe",
        "outputId": "d985ace1-85cb-411b-a583-f924ba4787db"
      },
      "execution_count": 29,
      "outputs": [
        {
          "output_type": "execute_result",
          "data": {
            "text/plain": [
              "0.9718"
            ]
          },
          "metadata": {},
          "execution_count": 29
        }
      ]
    },
    {
      "cell_type": "markdown",
      "source": [
        "That's a significant improvement, and it's much better than each of the individual classifiers."
      ],
      "metadata": {
        "id": "LCCgpIe83W1L"
      }
    },
    {
      "cell_type": "markdown",
      "source": [
        "### (e) Once you have found one, try it on the test set. How much better does it perform compared to the individual classifiers?"
      ],
      "metadata": {
        "id": "kl2zS--TxDKY"
      }
    },
    {
      "cell_type": "code",
      "source": [
        "voting_clf.score(X_test, y_test)"
      ],
      "metadata": {
        "colab": {
          "base_uri": "https://localhost:8080/"
        },
        "id": "TfK5M7DryUzw",
        "outputId": "38fb97eb-ef38-4958-d2a7-cda6b731ed42"
      },
      "execution_count": 30,
      "outputs": [
        {
          "output_type": "execute_result",
          "data": {
            "text/plain": [
              "0.971"
            ]
          },
          "metadata": {},
          "execution_count": 30
        }
      ]
    },
    {
      "cell_type": "code",
      "source": [
        "for estimator in voting_clf.estimators_:\n",
        "  print(estimator.score(X_test, y_test))"
      ],
      "metadata": {
        "colab": {
          "base_uri": "https://localhost:8080/"
        },
        "id": "qHUsT9Ab3f1f",
        "outputId": "acc5fef9-87c9-48f5-b414-f93b335da30b"
      },
      "execution_count": 33,
      "outputs": [
        {
          "output_type": "stream",
          "name": "stdout",
          "text": [
            "0.9432\n",
            "0.9467\n",
            "0.9626\n"
          ]
        }
      ]
    },
    {
      "cell_type": "markdown",
      "source": [
        "The voting classifier reduced the error rate of each single model, and of the hard voting classifier. "
      ],
      "metadata": {
        "id": "AuX642-k3q0q"
      }
    },
    {
      "cell_type": "markdown",
      "source": [
        "# (2)Stacking."
      ],
      "metadata": {
        "id": "u7f4IO8QeY_n"
      }
    },
    {
      "cell_type": "markdown",
      "source": [
        "### (a) Run the individual classifiers from the previous exercise to make predictions on the validation set, and create a new training set with the resulting predictions: each training instance is a vector containing the set of predictions from all your classifiers for an image, and the target is the image’s class.\n"
      ],
      "metadata": {
        "id": "-G54o9F_4S9c"
      }
    },
    {
      "cell_type": "code",
      "source": [
        "X_val_predictions = np.empty((len(X_val), len(estimators)), dtype=np.float32)\n",
        "\n",
        "for index, estimator in enumerate(estimators):\n",
        "    X_val_predictions[:, index] = estimator.predict(X_val)"
      ],
      "metadata": {
        "id": "al9iqvXk4lQy"
      },
      "execution_count": 34,
      "outputs": []
    },
    {
      "cell_type": "code",
      "source": [
        "X_val_predictions"
      ],
      "metadata": {
        "colab": {
          "base_uri": "https://localhost:8080/"
        },
        "id": "HXm6uq3o4u1Q",
        "outputId": "3957b68f-f310-4125-d87e-900121852413"
      },
      "execution_count": 35,
      "outputs": [
        {
          "output_type": "execute_result",
          "data": {
            "text/plain": [
              "array([[7., 7., 7., 7., 7.],\n",
              "       [3., 3., 3., 3., 3.],\n",
              "       [8., 8., 8., 8., 8.],\n",
              "       ...,\n",
              "       [9., 9., 9., 9., 9.],\n",
              "       [8., 8., 8., 8., 8.],\n",
              "       [2., 3., 3., 8., 1.]], dtype=float32)"
            ]
          },
          "metadata": {},
          "execution_count": 35
        }
      ]
    },
    {
      "cell_type": "markdown",
      "source": [
        "### (b) Train a classifier on this new training set. You have just trained a blender, and together with the classifiers they form a stacking ensemble!"
      ],
      "metadata": {
        "id": "7FLbs8Ir4YAW"
      }
    },
    {
      "cell_type": "code",
      "source": [
        "rnd_forest_blender = RandomForestClassifier(n_estimators=200, oob_score=True, random_state=42)\n",
        "rnd_forest_blender.fit(X_val_predictions, y_val)"
      ],
      "metadata": {
        "colab": {
          "base_uri": "https://localhost:8080/"
        },
        "id": "wgdlkn9b45TA",
        "outputId": "0fe8ca4c-6a03-4fa4-9cfe-03d99699d8e9"
      },
      "execution_count": 36,
      "outputs": [
        {
          "output_type": "execute_result",
          "data": {
            "text/plain": [
              "RandomForestClassifier(n_estimators=200, oob_score=True, random_state=42)"
            ]
          },
          "metadata": {},
          "execution_count": 36
        }
      ]
    },
    {
      "cell_type": "code",
      "source": [
        "rnd_forest_blender.oob_score_"
      ],
      "metadata": {
        "colab": {
          "base_uri": "https://localhost:8080/"
        },
        "id": "SsOrLgzn5ADP",
        "outputId": "3f30fe7f-e525-4589-9446-9f16304f167f"
      },
      "execution_count": 37,
      "outputs": [
        {
          "output_type": "execute_result",
          "data": {
            "text/plain": [
              "0.963"
            ]
          },
          "metadata": {},
          "execution_count": 37
        }
      ]
    },
    {
      "cell_type": "markdown",
      "source": [
        "We might fine-tune this blender or try other types of blenders, then select the best one using cross-validation, as always."
      ],
      "metadata": {
        "id": "V_lTlRtn5PkW"
      }
    },
    {
      "cell_type": "markdown",
      "source": [
        "### (c) Now let’s evaluate the ensemble on the test set. For each image in the test set, make predictions with all your classifiers, then feed the predictions to the blender to get the ensemble’s predictions. How does it compare to the voting classifier you trained earlier?"
      ],
      "metadata": {
        "id": "v-U7XbLZ4cEo"
      }
    },
    {
      "cell_type": "code",
      "execution_count": 38,
      "metadata": {
        "id": "VdRcKJgIeUsD"
      },
      "outputs": [],
      "source": [
        "X_test_predictions = np.empty((len(X_test), len(estimators)), dtype=np.float32)\n",
        "\n",
        "for index, estimator in enumerate(estimators):\n",
        "    X_test_predictions[:, index] = estimator.predict(X_test)"
      ]
    },
    {
      "cell_type": "code",
      "source": [
        "y_pred = rnd_forest_blender.predict(X_test_predictions)"
      ],
      "metadata": {
        "id": "va7vp9BQ5Zle"
      },
      "execution_count": 39,
      "outputs": []
    },
    {
      "cell_type": "code",
      "source": [
        "from sklearn.metrics import accuracy_score\n",
        "accuracy_score(y_test, y_pred)"
      ],
      "metadata": {
        "colab": {
          "base_uri": "https://localhost:8080/"
        },
        "id": "CS_sGcXB5cMH",
        "outputId": "3f34b082-04c1-4754-a036-3a3f4f2f0010"
      },
      "execution_count": 40,
      "outputs": [
        {
          "output_type": "execute_result",
          "data": {
            "text/plain": [
              "0.9607"
            ]
          },
          "metadata": {},
          "execution_count": 40
        }
      ]
    },
    {
      "cell_type": "markdown",
      "source": [
        "This stacking ensemble does not perform as well as the soft voting classifier we trained earlier, it's just as good as the best individual classifier."
      ],
      "metadata": {
        "id": "7DMGdMBm5n87"
      }
    }
  ]
}